{
 "cells": [
  {
   "cell_type": "code",
   "execution_count": 1,
   "metadata": {},
   "outputs": [],
   "source": [
    "import pandas as pd\n",
    "import numpy as np\n",
    "\n",
    "import rdkit\n",
    "from rdkit.Chem import AllChem, rdFingerprintGenerator, MACCSkeys\n",
    "from rdkit import Chem, DataStructs"
   ]
  },
  {
   "cell_type": "code",
   "execution_count": 2,
   "metadata": {},
   "outputs": [],
   "source": [
    "train = pd.read_csv(\"../data/train.csv\")\n",
    "test = pd.read_csv(\"../data/test.csv\") "
   ]
  },
  {
   "cell_type": "code",
   "execution_count": 3,
   "metadata": {},
   "outputs": [],
   "source": [
    "train[\"mol\"] = train[\"SMILES\"].apply(lambda x: Chem.MolFromSmiles(x))"
   ]
  },
  {
   "cell_type": "code",
   "execution_count": 14,
   "metadata": {},
   "outputs": [],
   "source": [
    "maccs = train[\"mol\"].apply(lambda x: list(MACCSkeys.GenMACCSKeys(x).ToBitString()))"
   ]
  },
  {
   "cell_type": "code",
   "execution_count": 16,
   "metadata": {},
   "outputs": [
    {
     "data": {
      "text/plain": [
       "(3498, 167)"
      ]
     },
     "execution_count": 16,
     "metadata": {},
     "output_type": "execute_result"
    }
   ],
   "source": [
    "np.stack(maccs).shape"
   ]
  },
  {
   "cell_type": "code",
   "execution_count": 7,
   "metadata": {},
   "outputs": [
    {
     "name": "stdout",
     "output_type": "stream",
     "text": [
      "RDkitFP 2048\n",
      "AtomPair 2048\n",
      "TopologicalTorsion 2048\n",
      "MorganFP 2048\n",
      "167\n"
     ]
    }
   ],
   "source": [
    "rdkgen = rdFingerprintGenerator.GetRDKitFPGenerator()\n",
    "apgen = rdFingerprintGenerator.GetAtomPairGenerator()\n",
    "ttgen = rdFingerprintGenerator.GetTopologicalTorsionGenerator()\n",
    "fmgen = rdFingerprintGenerator.GetMorganGenerator()\n",
    "\n",
    "for _, row in train.iterrows():\n",
    "  fp_rdkit = rdkgen.GetFingerprintAsNumPy(row[\"mol\"])\n",
    "  fp_ap = apgen.GetFingerprintAsNumPy(row[\"mol\"])\n",
    "  fp_tt = ttgen.GetFingerprintAsNumPy(row[\"mol\"])\n",
    "  fp_morgan = fmgen.GetFingerprintAsNumPy(row[\"mol\"])\n",
    "  \n",
    "  print(\"RDkitFP\", len(fp_rdkit))\n",
    "  print(\"AtomPair\", len(fp_ap))\n",
    "  print(\"TopologicalTorsion\", len(fp_tt))\n",
    "  print(\"MorganFP\", len(fp_morgan))\n",
    "  print(len(row[\"MACCS\"]))\n",
    "  break"
   ]
  },
  {
   "cell_type": "code",
   "execution_count": null,
   "metadata": {},
   "outputs": [],
   "source": []
  }
 ],
 "metadata": {
  "kernelspec": {
   "display_name": "Python 3.8.17 ('chemprop')",
   "language": "python",
   "name": "python3"
  },
  "language_info": {
   "codemirror_mode": {
    "name": "ipython",
    "version": 3
   },
   "file_extension": ".py",
   "mimetype": "text/x-python",
   "name": "python",
   "nbconvert_exporter": "python",
   "pygments_lexer": "ipython3",
   "version": "3.8.17"
  },
  "orig_nbformat": 4,
  "vscode": {
   "interpreter": {
    "hash": "4bdd13f4d8c36e95766f2c98710505d33213c71d1b35c8a2d6b81b74b942bd74"
   }
  }
 },
 "nbformat": 4,
 "nbformat_minor": 2
}
