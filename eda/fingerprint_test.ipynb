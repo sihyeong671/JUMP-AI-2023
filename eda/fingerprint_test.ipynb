{
 "cells": [
  {
   "cell_type": "code",
   "execution_count": 1,
   "metadata": {},
   "outputs": [],
   "source": [
    "import pandas as pd\n",
    "import numpy as np\n",
    "\n",
    "import rdkit\n",
    "from rdkit.Chem import AllChem, rdFingerprintGenerator, MACCSkeys\n",
    "from rdkit import Chem, DataStructs"
   ]
  },
  {
   "cell_type": "code",
   "execution_count": 2,
   "metadata": {},
   "outputs": [],
   "source": [
    "train = pd.read_csv(\"../data/train.csv\")\n",
    "test = pd.read_csv(\"../data/test.csv\") "
   ]
  },
  {
   "cell_type": "code",
   "execution_count": 3,
   "metadata": {},
   "outputs": [],
   "source": [
    "train[\"mol\"] = train[\"SMILES\"].apply(lambda x: Chem.MolFromSmiles(x))"
   ]
  },
  {
   "cell_type": "code",
   "execution_count": 4,
   "metadata": {},
   "outputs": [],
   "source": [
    "train[\"MACCS\"] = train[\"mol\"].apply(lambda x: MACCSkeys.GenMACCSKeys(x).ToBitString())"
   ]
  },
  {
   "cell_type": "code",
   "execution_count": 18,
   "metadata": {},
   "outputs": [
    {
     "name": "stdout",
     "output_type": "stream",
     "text": [
      "RDkitFP [1 0 0 ... 1 0 1] <class 'numpy.ndarray'>\n",
      "AtomPair [0 0 0 ... 0 0 0]\n",
      "TopologicalTorsion [0 0 0 ... 0 0 0]\n",
      "MorganFP [0 0 0 ... 0 0 0]\n"
     ]
    }
   ],
   "source": [
    "rdkgen = rdFingerprintGenerator.GetRDKitFPGenerator()\n",
    "apgen = rdFingerprintGenerator.GetAtomPairGenerator()\n",
    "ttgen = rdFingerprintGenerator.GetTopologicalTorsionGenerator()\n",
    "fmgen = rdFingerprintGenerator.GetMorganGenerator()\n",
    "\n",
    "for _, row in train.iterrows():\n",
    "  fp_rdkit = rdkgen.GetFingerprintAsNumPy(row[\"mol\"])\n",
    "  fp_ap = apgen.GetFingerprintAsNumPy(row[\"mol\"])\n",
    "  fp_tt = ttgen.GetFingerprintAsNumPy(row[\"mol\"])\n",
    "  fp_morgan = fmgen.GetFingerprintAsNumPy(row[\"mol\"])\n",
    "  \n",
    "  print(\"RDkitFP\", fp_rdkit)\n",
    "  print(\"AtomPair\", fp_ap)\n",
    "  print(\"TopologicalTorsion\", fp_tt)\n",
    "  print(\"MorganFP\", fp_morgan)\n",
    "  break"
   ]
  },
  {
   "cell_type": "code",
   "execution_count": null,
   "metadata": {},
   "outputs": [],
   "source": []
  }
 ],
 "metadata": {
  "kernelspec": {
   "display_name": "신약개발-mImSxWNo",
   "language": "python",
   "name": "python3"
  },
  "language_info": {
   "codemirror_mode": {
    "name": "ipython",
    "version": 3
   },
   "file_extension": ".py",
   "mimetype": "text/x-python",
   "name": "python",
   "nbconvert_exporter": "python",
   "pygments_lexer": "ipython3",
   "version": "3.10.11"
  },
  "orig_nbformat": 4
 },
 "nbformat": 4,
 "nbformat_minor": 2
}
