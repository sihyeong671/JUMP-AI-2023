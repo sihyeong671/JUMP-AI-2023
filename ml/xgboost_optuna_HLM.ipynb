{
 "cells": [
  {
   "cell_type": "code",
   "execution_count": 1,
   "metadata": {},
   "outputs": [
    {
     "name": "stderr",
     "output_type": "stream",
     "text": [
      "c:\\Users\\BSH\\.virtualenvs\\신약개발-mImSxWNo\\lib\\site-packages\\tqdm\\auto.py:21: TqdmWarning: IProgress not found. Please update jupyter and ipywidgets. See https://ipywidgets.readthedocs.io/en/stable/user_install.html\n",
      "  from .autonotebook import tqdm as notebook_tqdm\n"
     ]
    }
   ],
   "source": [
    "import pandas as pd\n",
    "import numpy as np\n",
    "import random\n",
    "\n",
    "import optuna\n",
    "from optuna.samplers import TPESampler\n",
    "from optuna.pruners import HyperbandPruner\n",
    "\n",
    "import rdkit\n",
    "from rdkit.Chem import AllChem, rdFingerprintGenerator, MACCSkeys\n",
    "from rdkit import Chem, DataStructs\n",
    "\n",
    "from sklearn.model_selection import train_test_split, StratifiedKFold, KFold\n",
    "from sklearn.metrics import mean_absolute_error, mean_squared_error\n",
    "from sklearn.preprocessing import StandardScaler, MinMaxScaler, LabelEncoder\n",
    "\n",
    "import matplotlib.pyplot as plt\n",
    "\n",
    "import xgboost as xgb"
   ]
  },
  {
   "cell_type": "code",
   "execution_count": 2,
   "metadata": {},
   "outputs": [],
   "source": [
    "RANDOM_SEED = 999"
   ]
  },
  {
   "cell_type": "code",
   "execution_count": 5,
   "metadata": {},
   "outputs": [],
   "source": [
    "def create_model(param):\n",
    "  return xgb.XGBRegressor(\n",
    "    random_state=RANDOM_SEED,\n",
    "    tree_method=\"gpu_hist\",\n",
    "    eval_metric=\"rmse\",\n",
    "    early_stopping_rounds=50,\n",
    "    **param\n",
    "  )"
   ]
  },
  {
   "cell_type": "code",
   "execution_count": null,
   "metadata": {},
   "outputs": [],
   "source": [
    "def feature_engineer():\n",
    "  train_df = pd.read_csv(\"../data/train.csv\")\n",
    "  test_df = pd.read_csv(\"../data/test.csv\")\n",
    "  # 결측치 수정\n",
    "  train_df = train_df.dropna()\n",
    "  test_df[\"AlogP\"] = np.where(pd.isna(test_df[\"AlogP\"]), test_df[\"LogD\"], test_df[\"AlogP\"])\n",
    "  \n",
    "  train_df[\"mol\"] = train_df[\"SMILES\"].apply(lambda x: Chem.MolFromSmiles(x))\n",
    "  test_df[\"mol\"] = test_df[\"SMILES\"].apply(lambda x: Chem.MolFromSmiles(x))\n",
    "  \n",
    "  train_df['mol'] = train_df['mol'].apply(lambda x: Chem.AddHs(x))\n",
    "  train_df['num_of_atoms'] = train_df['mol'].apply(lambda x: x.GetNumAtoms())\n",
    "  train_df['num_of_heavy_atoms'] = train_df['mol'].apply(lambda x: x.GetNumHeavyAtoms())\n",
    "  \n",
    "  test_df['mol'] = test_df['mol'].apply(lambda x: Chem.AddHs(x))\n",
    "  test_df['num_of_atoms'] = test_df['mol'].apply(lambda x: x.GetNumAtoms())\n",
    "  test_df['num_of_heavy_atoms'] = test_df['mol'].apply(lambda x: x.GetNumHeavyAtoms())\n",
    "  \n",
    "  # 중복제거\n",
    "  def canonize(mol):\n",
    "    return Chem.MolToSmiles(Chem.MolFromSmiles(mol), isomericSmiles=True, canonical=True)\n",
    "\n",
    "  canon_smile = []\n",
    "  for molecule in train_df['SMILES']:\n",
    "      canon_smile.append(canonize(molecule))\n",
    "  \n",
    "  train_df['canon_smiles'] = canon_smile\n",
    "  \n",
    "  ind = train_df.index[train_df['canon_smiles'].duplicated()]\n",
    "  train_df = train_df.drop(ind)\n",
    "  \n",
    "  # MLM, HLM 100 이상 제거 코드 추가 예정\n",
    "  \n",
    "  train_df.drop(columns=[\"id\", \"SMILES\"], inplace=True)\n",
    "  test_df.drop(columns=[\"id\", \"SMILES\"], inplace=True)\n",
    "  \n",
    "  \n",
    "  fmgen = rdFingerprintGenerator.GetMorganGenerator()\n",
    "  \n",
    "  train_fps = train_df[\"mol\"].apply(lambda x: fmgen.GetFingerprintAsNumPy(x))\n",
    "  train_fps = np.stack(train_fps)\n",
    "  \n",
    "  train_maccs = train_df[\"mol\"].apply(lambda x: list(MACCSkeys.GenMACCSKeys(x).ToBitString()))\n",
    "  train_maccs = np.stack(train_maccs, dtype=object)\n",
    "  \n",
    "  test_fps = test_df[\"mol\"].apply(lambda x: fmgen.GetFingerprintAsNumPy(x))\n",
    "  test_fps = np.stack(test_fps)\n",
    "  \n",
    "  test_maccs = test_df[\"mol\"].apply(lambda x: list(MACCSkeys.GenMACCSKeys(x).ToBitString()))\n",
    "  test_maccs = np.stack(test_maccs, dtype=object)\n",
    "  \n",
    "  origin_train_features = train_df[[\"AlogP\", \"Molecular_Weight\", \"Num_H_Acceptors\", \"Num_H_Donors\", \"Num_RotatableBonds\", \"LogD\", \"Molecular_PolarSurfaceArea\", \"num_of_atoms\", \"num_of_heavy_atoms\"]].values\n",
    "  origin_test_features = test_df[[\"AlogP\", \"Molecular_Weight\", \"Num_H_Acceptors\", \"Num_H_Donors\", \"Num_RotatableBonds\", \"LogD\", \"Molecular_PolarSurfaceArea\", \"num_of_atoms\", \"num_of_heavy_atoms\"]].values\n",
    "  \n",
    "  train_features = np.append(np.append(origin_train_features, train_fps, axis=1), train_maccs, axis=1)\n",
    "  test_features = np.append(np.append(origin_test_features, test_fps, axis=1), test_maccs, axis=1)\n",
    "  target = train_df[\"HLM\"].values\n",
    "  \n",
    "  return train_features, target, test_features\n",
    "  "
   ]
  },
  {
   "cell_type": "code",
   "execution_count": 4,
   "metadata": {},
   "outputs": [],
   "source": [
    "train_x, train_y, test_x = feature_engineer()"
   ]
  },
  {
   "cell_type": "code",
   "execution_count": 6,
   "metadata": {},
   "outputs": [],
   "source": [
    "def train_model(param, X, y, X_test, trial=None):\n",
    "    skf = KFold(n_splits=5, shuffle=True, random_state=RANDOM_SEED)\n",
    "\n",
    "    val_scores = []\n",
    "    y_tests = []\n",
    "    models = []\n",
    "\n",
    "    for idx, (train_idx, val_idx) in enumerate(skf.split(X, y)):\n",
    "\n",
    "        X_train, y_train = X[train_idx], y[train_idx]\n",
    "        X_val, y_val = X[val_idx], y[val_idx]\n",
    "\n",
    "        model = create_model(param)\n",
    "        model.fit(X_train, y_train, eval_set=[(X_train, y_train), (X_val, y_val)], verbose=1000)\n",
    "\n",
    "        y_hat_val = model.predict(X_val)\n",
    "        score = mean_squared_error(y_val, y_hat_val, squared=True)\n",
    "        val_scores.append(score)\n",
    "        print(f'Fold: {idx+1}/5 score = {score:.5f}')\n",
    "\n",
    "        y_tests.append(model.predict(X_test))\n",
    "        models.append(model)\n",
    "\n",
    "        if trial:\n",
    "            trial.report(score, idx)\n",
    "\n",
    "            if trial.should_prune():\n",
    "                raise optuna.TrialPruned()\n",
    "\n",
    "    return val_scores, y_tests, models"
   ]
  },
  {
   "cell_type": "code",
   "execution_count": 7,
   "metadata": {},
   "outputs": [],
   "source": [
    "def objective_xgb(trial):\n",
    "    param = {\n",
    "        \"booster\": trial.suggest_categorical(\"booster\", [\"gbtree\", \"dart\"]),\n",
    "        \"lambda\": trial.suggest_float(\"lambda\", 1e-8, 1.0, log=True),\n",
    "        \"alpha\": trial.suggest_float(\"alpha\", 1e-8, 1.0, log=True),\n",
    "        \"subsample\": trial.suggest_float(\"subsample\", 0.05, 1.0),\n",
    "        \"colsample_bytree\": trial.suggest_float(\"colsample_bytree\", 0.05, 1.0),\n",
    "        \"n_estimators\": trial.suggest_int(\"n_estimators\", 100, 1000, step=100),\n",
    "        \"max_depth\": trial.suggest_int(\"max_depth\", 3, 9),\n",
    "        \"min_child_weight\": trial.suggest_int(\"min_child_weight\", 2, 10),\n",
    "        \"eta\": trial.suggest_float(\"eta\", 1e-8, 1.0, log=True),\n",
    "        \"gamma\": trial.suggest_float(\"gamma\", 1e-8, 1.0, log=True),\n",
    "        \"grow_policy\": trial.suggest_categorical(\"grow_policy\", [\"depthwise\", \"lossguide\"])\n",
    "    }\n",
    "\n",
    "    if param[\"booster\"] == \"dart\":\n",
    "        param['sample_type'] = trial.suggest_categorical('sample_type', ['uniform', 'weighted'])\n",
    "        param['normalize_type'] = trial.suggest_categorical('normalize_type', ['tree', 'forest'])\n",
    "        param['rate_drop'] = trial.suggest_float('rate_drop', 1e-8, 1.0, log=True)\n",
    "        param['skip_drop'] = trial.suggest_float('skip_drop', 1e-8, 1.0, log=True)\n",
    "\n",
    "    val_scores, y_tests, models = train_model(param, train_x, train_y, test_x, trial)\n",
    "\n",
    "    return sum(val_scores) / len(val_scores)"
   ]
  },
  {
   "cell_type": "code",
   "execution_count": 8,
   "metadata": {},
   "outputs": [
    {
     "name": "stderr",
     "output_type": "stream",
     "text": [
      "[I 2023-08-31 22:46:02,294] A new study created in memory with name: xgb_tuning\n"
     ]
    },
    {
     "name": "stdout",
     "output_type": "stream",
     "text": [
      "[0]\tvalidation_0-rmse:63.61827\tvalidation_1-rmse:63.84710\n",
      "[499]\tvalidation_0-rmse:31.22052\tvalidation_1-rmse:33.58610\n",
      "Fold: 1/5 score = 1128.02624\n",
      "[0]\tvalidation_0-rmse:63.87043\tvalidation_1-rmse:62.81111\n",
      "[499]\tvalidation_0-rmse:31.36714\tvalidation_1-rmse:32.76503\n",
      "Fold: 2/5 score = 1073.54732\n",
      "[0]\tvalidation_0-rmse:63.51620\tvalidation_1-rmse:64.27481\n",
      "[499]\tvalidation_0-rmse:31.23230\tvalidation_1-rmse:33.78512\n",
      "Fold: 3/5 score = 1141.43462\n",
      "[0]\tvalidation_0-rmse:63.49981\tvalidation_1-rmse:64.29958\n",
      "[499]\tvalidation_0-rmse:31.30504\tvalidation_1-rmse:33.05501\n",
      "Fold: 4/5 score = 1092.63378\n",
      "[0]\tvalidation_0-rmse:63.80953\tvalidation_1-rmse:63.08478\n",
      "[499]\tvalidation_0-rmse:31.39291\tvalidation_1-rmse:32.44681\n"
     ]
    },
    {
     "name": "stderr",
     "output_type": "stream",
     "text": [
      "[I 2023-08-31 22:46:27,932] Trial 0 finished with value: 1097.6875297159982 and parameters: {'booster': 'gbtree', 'lambda': 8.972050723983975e-08, 'alpha': 0.0013105438415021338, 'subsample': 0.13637899963537597, 'colsample_bytree': 0.36561439675336166, 'n_estimators': 500, 'max_depth': 6, 'min_child_weight': 7, 'eta': 0.0037944038609466855, 'gamma': 0.02087360741176864, 'grow_policy': 'lossguide'}. Best is trial 0 with value: 1097.6875297159982.\n"
     ]
    },
    {
     "name": "stdout",
     "output_type": "stream",
     "text": [
      "Fold: 5/5 score = 1052.79569\n",
      "[0]\tvalidation_0-rmse:63.79702\tvalidation_1-rmse:64.01726\n",
      "[499]\tvalidation_0-rmse:63.79558\tvalidation_1-rmse:64.01586\n",
      "Fold: 1/5 score = 4098.03054\n",
      "[0]\tvalidation_0-rmse:64.05330\tvalidation_1-rmse:62.98567\n",
      "[499]\tvalidation_0-rmse:64.05186\tvalidation_1-rmse:62.98429\n",
      "Fold: 2/5 score = 3967.02021\n",
      "[0]\tvalidation_0-rmse:63.68925\tvalidation_1-rmse:64.44491\n",
      "[499]\tvalidation_0-rmse:63.68782\tvalidation_1-rmse:64.44350\n",
      "Fold: 3/5 score = 4152.96418\n",
      "[0]\tvalidation_0-rmse:63.68050\tvalidation_1-rmse:64.47949\n",
      "[499]\tvalidation_0-rmse:63.67907\tvalidation_1-rmse:64.47807\n",
      "Fold: 4/5 score = 4157.42146\n",
      "[0]\tvalidation_0-rmse:63.98468\tvalidation_1-rmse:63.26291\n",
      "[499]\tvalidation_0-rmse:63.98324\tvalidation_1-rmse:63.26147\n",
      "Fold: 5/5 score = 4002.01423\n"
     ]
    },
    {
     "name": "stderr",
     "output_type": "stream",
     "text": [
      "[I 2023-08-31 23:02:02,182] Trial 1 finished with value: 4075.4901236091473 and parameters: {'booster': 'dart', 'lambda': 1.8500953639202822e-08, 'alpha': 0.18793183264405056, 'subsample': 0.43490263163831816, 'colsample_bytree': 0.7724136968223454, 'n_estimators': 500, 'max_depth': 5, 'min_child_weight': 8, 'eta': 5.98025286065864e-08, 'gamma': 1.990042294039164e-05, 'grow_policy': 'lossguide', 'sample_type': 'uniform', 'normalize_type': 'tree', 'rate_drop': 4.545948976815658e-06, 'skip_drop': 0.6111537885501571}. Best is trial 0 with value: 1097.6875297159982.\n"
     ]
    },
    {
     "name": "stdout",
     "output_type": "stream",
     "text": [
      "[0]\tvalidation_0-rmse:40.76483\tvalidation_1-rmse:42.02851\n",
      "[52]\tvalidation_0-rmse:17.23085\tvalidation_1-rmse:38.28051\n",
      "Fold: 1/5 score = 1260.29895\n",
      "[0]\tvalidation_0-rmse:40.88470\tvalidation_1-rmse:40.81121\n",
      "[81]\tvalidation_0-rmse:13.74929\tvalidation_1-rmse:36.02014\n",
      "Fold: 2/5 score = 1214.95760\n",
      "[0]\tvalidation_0-rmse:40.66262\tvalidation_1-rmse:42.11151\n",
      "[67]\tvalidation_0-rmse:16.50080\tvalidation_1-rmse:36.51450\n",
      "Fold: 3/5 score = 1244.56644\n",
      "[0]\tvalidation_0-rmse:40.47986\tvalidation_1-rmse:41.94411\n",
      "[57]\tvalidation_0-rmse:16.79706\tvalidation_1-rmse:36.50907\n",
      "Fold: 4/5 score = 1163.21273\n",
      "[0]\tvalidation_0-rmse:40.73602\tvalidation_1-rmse:41.33228\n",
      "[55]\tvalidation_0-rmse:17.84202\tvalidation_1-rmse:37.84133\n"
     ]
    },
    {
     "name": "stderr",
     "output_type": "stream",
     "text": [
      "[I 2023-08-31 23:02:30,541] Trial 2 finished with value: 1225.3510305717539 and parameters: {'booster': 'dart', 'lambda': 1.5261804552001799e-07, 'alpha': 3.7279654462632545e-07, 'subsample': 0.8487790101988947, 'colsample_bytree': 0.05356554303232386, 'n_estimators': 800, 'max_depth': 8, 'min_child_weight': 10, 'eta': 0.6036890604298032, 'gamma': 0.045981627141615085, 'grow_policy': 'lossguide', 'sample_type': 'weighted', 'normalize_type': 'tree', 'rate_drop': 3.164681095485503e-07, 'skip_drop': 0.003840475114570203}. Best is trial 0 with value: 1097.6875297159982.\n"
     ]
    },
    {
     "name": "stdout",
     "output_type": "stream",
     "text": [
      "Fold: 5/5 score = 1243.71944\n",
      "[0]\tvalidation_0-rmse:54.27846\tvalidation_1-rmse:54.95211\n",
      "[78]\tvalidation_0-rmse:18.30780\tvalidation_1-rmse:33.33734\n",
      "Fold: 1/5 score = 1109.77937\n",
      "[0]\tvalidation_0-rmse:54.41107\tvalidation_1-rmse:53.81514\n",
      "[141]\tvalidation_0-rmse:14.43115\tvalidation_1-rmse:32.65683\n",
      "Fold: 2/5 score = 1043.11982\n",
      "[0]\tvalidation_0-rmse:54.02250\tvalidation_1-rmse:55.27335\n",
      "[76]\tvalidation_0-rmse:18.40397\tvalidation_1-rmse:32.58316\n",
      "Fold: 3/5 score = 1093.75028\n",
      "[0]\tvalidation_0-rmse:54.09694\tvalidation_1-rmse:55.18714\n",
      "[115]\tvalidation_0-rmse:16.00154\tvalidation_1-rmse:32.27462\n",
      "Fold: 4/5 score = 1029.55718\n",
      "[0]\tvalidation_0-rmse:54.23286\tvalidation_1-rmse:54.20658\n",
      "[70]\tvalidation_0-rmse:18.67275\tvalidation_1-rmse:32.64984\n",
      "Fold: 5/5 score = 1038.89341\n"
     ]
    },
    {
     "name": "stderr",
     "output_type": "stream",
     "text": [
      "[I 2023-08-31 23:03:20,806] Trial 3 finished with value: 1063.0200102397755 and parameters: {'booster': 'dart', 'lambda': 7.261883626741908e-05, 'alpha': 0.00699425411070259, 'subsample': 0.8054232386280807, 'colsample_bytree': 0.29832209651750474, 'n_estimators': 200, 'max_depth': 7, 'min_child_weight': 10, 'eta': 0.2095293896502066, 'gamma': 3.159309114349565e-06, 'grow_policy': 'depthwise', 'sample_type': 'weighted', 'normalize_type': 'forest', 'rate_drop': 0.008682715408188789, 'skip_drop': 3.802131231001989e-07}. Best is trial 3 with value: 1063.0200102397755.\n"
     ]
    },
    {
     "name": "stdout",
     "output_type": "stream",
     "text": [
      "[0]\tvalidation_0-rmse:63.79528\tvalidation_1-rmse:64.01560\n",
      "[599]\tvalidation_0-rmse:62.77152\tvalidation_1-rmse:63.02244\n",
      "Fold: 1/5 score = 3971.82769\n",
      "[0]\tvalidation_0-rmse:64.05156\tvalidation_1-rmse:62.98399\n",
      "[599]\tvalidation_0-rmse:63.02476\tvalidation_1-rmse:62.00063\n",
      "Fold: 2/5 score = 3844.07773\n",
      "[0]\tvalidation_0-rmse:63.68752\tvalidation_1-rmse:64.44320\n",
      "[599]\tvalidation_0-rmse:62.66680\tvalidation_1-rmse:63.44508\n",
      "Fold: 3/5 score = 4025.27800\n",
      "[0]\tvalidation_0-rmse:63.67879\tvalidation_1-rmse:64.47776\n",
      "[599]\tvalidation_0-rmse:62.66389\tvalidation_1-rmse:63.46857\n"
     ]
    },
    {
     "name": "stderr",
     "output_type": "stream",
     "text": [
      "[I 2023-08-31 23:03:41,412] Trial 4 pruned. \n"
     ]
    },
    {
     "name": "stdout",
     "output_type": "stream",
     "text": [
      "Fold: 4/5 score = 4028.25962\n",
      "[0]\tvalidation_0-rmse:63.76168\tvalidation_1-rmse:63.98400\n",
      "[199]\tvalidation_0-rmse:63.30555\tvalidation_1-rmse:63.54289\n",
      "Fold: 1/5 score = 4037.69921\n",
      "[0]\tvalidation_0-rmse:64.01903\tvalidation_1-rmse:62.95270\n",
      "[199]\tvalidation_0-rmse:63.55883\tvalidation_1-rmse:62.51450\n",
      "Fold: 2/5 score = 3908.06253\n"
     ]
    },
    {
     "name": "stderr",
     "output_type": "stream",
     "text": [
      "[I 2023-08-31 23:04:44,669] Trial 5 pruned. \n"
     ]
    },
    {
     "name": "stdout",
     "output_type": "stream",
     "text": [
      "[0]\tvalidation_0-rmse:44.41822\tvalidation_1-rmse:45.92193\n",
      "[53]\tvalidation_0-rmse:27.05695\tvalidation_1-rmse:45.92998\n",
      "Fold: 1/5 score = 1224.25573\n",
      "[0]\tvalidation_0-rmse:45.25951\tvalidation_1-rmse:45.57689\n",
      "[54]\tvalidation_0-rmse:26.18139\tvalidation_1-rmse:45.36549\n"
     ]
    },
    {
     "name": "stderr",
     "output_type": "stream",
     "text": [
      "[I 2023-08-31 23:04:48,614] Trial 6 pruned. \n"
     ]
    },
    {
     "name": "stdout",
     "output_type": "stream",
     "text": [
      "Fold: 2/5 score = 1190.83237\n",
      "[0]\tvalidation_0-rmse:63.78922\tvalidation_1-rmse:64.00976\n",
      "[199]\tvalidation_0-rmse:62.25694\tvalidation_1-rmse:62.55953\n",
      "Fold: 1/5 score = 3913.69526\n",
      "[0]\tvalidation_0-rmse:64.04549\tvalidation_1-rmse:62.97832\n",
      "[199]\tvalidation_0-rmse:62.50217\tvalidation_1-rmse:61.53384\n",
      "Fold: 2/5 score = 3786.41331\n"
     ]
    },
    {
     "name": "stderr",
     "output_type": "stream",
     "text": [
      "[I 2023-08-31 23:06:04,012] Trial 7 pruned. \n"
     ]
    },
    {
     "name": "stdout",
     "output_type": "stream",
     "text": [
      "[0]\tvalidation_0-rmse:63.79243\tvalidation_1-rmse:64.01277\n",
      "[299]\tvalidation_0-rmse:62.46146\tvalidation_1-rmse:62.71173\n",
      "Fold: 1/5 score = 3932.76069\n",
      "[0]\tvalidation_0-rmse:64.04872\tvalidation_1-rmse:62.98123\n",
      "[299]\tvalidation_0-rmse:62.71271\tvalidation_1-rmse:61.68973\n",
      "Fold: 2/5 score = 3805.62333\n",
      "[0]\tvalidation_0-rmse:63.68468\tvalidation_1-rmse:64.44041\n",
      "[299]\tvalidation_0-rmse:62.35646\tvalidation_1-rmse:63.12975\n",
      "Fold: 3/5 score = 3985.36556\n",
      "[0]\tvalidation_0-rmse:63.67598\tvalidation_1-rmse:64.47493\n",
      "[299]\tvalidation_0-rmse:62.35494\tvalidation_1-rmse:63.15234\n"
     ]
    },
    {
     "name": "stderr",
     "output_type": "stream",
     "text": [
      "[I 2023-08-31 23:06:15,153] Trial 8 pruned. \n"
     ]
    },
    {
     "name": "stdout",
     "output_type": "stream",
     "text": [
      "Fold: 4/5 score = 3988.21860\n",
      "[0]\tvalidation_0-rmse:38.03860\tvalidation_1-rmse:39.26238\n",
      "[51]\tvalidation_0-rmse:27.63066\tvalidation_1-rmse:41.77454\n",
      "Fold: 1/5 score = 1136.06087\n",
      "[0]\tvalidation_0-rmse:38.50989\tvalidation_1-rmse:38.62809\n",
      "[51]\tvalidation_0-rmse:28.01539\tvalidation_1-rmse:43.38533\n"
     ]
    },
    {
     "name": "stderr",
     "output_type": "stream",
     "text": [
      "[I 2023-08-31 23:06:22,859] Trial 9 pruned. \n"
     ]
    },
    {
     "name": "stdout",
     "output_type": "stream",
     "text": [
      "Fold: 2/5 score = 1117.04500\n",
      "[0]\tvalidation_0-rmse:63.24594\tvalidation_1-rmse:63.48216\n",
      "[666]\tvalidation_0-rmse:19.63796\tvalidation_1-rmse:31.86386\n",
      "Fold: 1/5 score = 1014.59134\n",
      "[0]\tvalidation_0-rmse:63.49956\tvalidation_1-rmse:62.44581\n",
      "[850]\tvalidation_0-rmse:17.86430\tvalidation_1-rmse:31.04798\n",
      "Fold: 2/5 score = 963.07028\n",
      "[0]\tvalidation_0-rmse:63.14105\tvalidation_1-rmse:63.90782\n",
      "[696]\tvalidation_0-rmse:19.28699\tvalidation_1-rmse:31.95620\n",
      "Fold: 3/5 score = 1020.94251\n",
      "[0]\tvalidation_0-rmse:63.12851\tvalidation_1-rmse:63.95114\n",
      "[999]\tvalidation_0-rmse:16.87422\tvalidation_1-rmse:30.98116\n",
      "Fold: 4/5 score = 959.46101\n",
      "[0]\tvalidation_0-rmse:63.42978\tvalidation_1-rmse:62.72703\n",
      "[678]\tvalidation_0-rmse:19.43006\tvalidation_1-rmse:31.27484\n",
      "Fold: 5/5 score = 973.86505\n"
     ]
    },
    {
     "name": "stderr",
     "output_type": "stream",
     "text": [
      "[I 2023-08-31 23:49:59,865] Trial 10 finished with value: 986.386040068661 and parameters: {'booster': 'dart', 'lambda': 0.003292448094217143, 'alpha': 0.5399831090778422, 'subsample': 0.6361479945618551, 'colsample_bytree': 0.15846098856444935, 'n_estimators': 1000, 'max_depth': 7, 'min_child_weight': 3, 'eta': 0.012135813737259865, 'gamma': 0.7175512940648905, 'grow_policy': 'depthwise', 'sample_type': 'weighted', 'normalize_type': 'forest', 'rate_drop': 0.0037544324904710924, 'skip_drop': 3.48593046480131e-07}. Best is trial 10 with value: 986.386040068661.\n"
     ]
    },
    {
     "name": "stdout",
     "output_type": "stream",
     "text": [
      "[0]\tvalidation_0-rmse:62.99166\tvalidation_1-rmse:63.24090\n",
      "[435]\tvalidation_0-rmse:19.91886\tvalidation_1-rmse:31.95139\n",
      "Fold: 1/5 score = 1019.00550\n",
      "[0]\tvalidation_0-rmse:63.24204\tvalidation_1-rmse:62.20327\n",
      "[642]\tvalidation_0-rmse:17.16204\tvalidation_1-rmse:31.26401\n",
      "Fold: 2/5 score = 977.49998\n",
      "[0]\tvalidation_0-rmse:62.88796\tvalidation_1-rmse:63.66254\n",
      "[511]\tvalidation_0-rmse:18.85730\tvalidation_1-rmse:32.01528\n",
      "Fold: 3/5 score = 1024.46041\n",
      "[0]\tvalidation_0-rmse:62.87064\tvalidation_1-rmse:63.69514\n",
      "[565]\tvalidation_0-rmse:18.23892\tvalidation_1-rmse:30.85902\n",
      "Fold: 4/5 score = 951.98348\n",
      "[0]\tvalidation_0-rmse:63.17650\tvalidation_1-rmse:62.47660\n",
      "[488]\tvalidation_0-rmse:19.10985\tvalidation_1-rmse:31.54758\n",
      "Fold: 5/5 score = 992.59902\n"
     ]
    },
    {
     "name": "stderr",
     "output_type": "stream",
     "text": [
      "[I 2023-09-01 00:10:37,499] Trial 11 finished with value: 993.1096772195942 and parameters: {'booster': 'dart', 'lambda': 0.003701807570633501, 'alpha': 0.5902608074311196, 'subsample': 0.6908298302804118, 'colsample_bytree': 0.1400986023629685, 'n_estimators': 1000, 'max_depth': 7, 'min_child_weight': 3, 'eta': 0.017715276703609215, 'gamma': 0.898989489620065, 'grow_policy': 'depthwise', 'sample_type': 'weighted', 'normalize_type': 'forest', 'rate_drop': 0.005718531192413961, 'skip_drop': 2.303168469529175e-07}. Best is trial 10 with value: 986.386040068661.\n"
     ]
    },
    {
     "name": "stdout",
     "output_type": "stream",
     "text": [
      "[0]\tvalidation_0-rmse:63.27224\tvalidation_1-rmse:63.50224\n",
      "[764]\tvalidation_0-rmse:19.99319\tvalidation_1-rmse:32.08231\n",
      "Fold: 1/5 score = 1028.54313\n",
      "[0]\tvalidation_0-rmse:63.53271\tvalidation_1-rmse:62.48527\n",
      "[872]\tvalidation_0-rmse:19.11971\tvalidation_1-rmse:31.26897\n",
      "Fold: 2/5 score = 976.48775\n",
      "[0]\tvalidation_0-rmse:63.16532\tvalidation_1-rmse:63.92749\n",
      "[999]\tvalidation_0-rmse:17.99865\tvalidation_1-rmse:31.99186\n",
      "Fold: 3/5 score = 1023.47926\n",
      "[0]\tvalidation_0-rmse:63.15374\tvalidation_1-rmse:63.97485\n",
      "[999]\tvalidation_0-rmse:18.19728\tvalidation_1-rmse:30.99095\n",
      "Fold: 4/5 score = 960.43882\n",
      "[0]\tvalidation_0-rmse:63.45549\tvalidation_1-rmse:62.74478\n",
      "[761]\tvalidation_0-rmse:19.93573\tvalidation_1-rmse:31.70280\n",
      "Fold: 5/5 score = 1004.32469\n"
     ]
    },
    {
     "name": "stderr",
     "output_type": "stream",
     "text": [
      "[I 2023-09-01 01:04:00,609] Trial 12 finished with value: 998.654731686577 and parameters: {'booster': 'dart', 'lambda': 0.006375918382873091, 'alpha': 0.8705514055324155, 'subsample': 0.6593269696364071, 'colsample_bytree': 0.08959524547771827, 'n_estimators': 1000, 'max_depth': 7, 'min_child_weight': 3, 'eta': 0.011683049198189773, 'gamma': 0.6934864420775779, 'grow_policy': 'depthwise', 'sample_type': 'weighted', 'normalize_type': 'forest', 'rate_drop': 0.0011507531781228925, 'skip_drop': 2.7694143540998833e-06}. Best is trial 10 with value: 986.386040068661.\n"
     ]
    },
    {
     "name": "stdout",
     "output_type": "stream",
     "text": [
      "[0]\tvalidation_0-rmse:62.45178\tvalidation_1-rmse:62.71473\n",
      "[280]\tvalidation_0-rmse:20.72602\tvalidation_1-rmse:32.06276\n",
      "Fold: 1/5 score = 1022.56426\n",
      "[0]\tvalidation_0-rmse:62.69360\tvalidation_1-rmse:61.66100\n",
      "[339]\tvalidation_0-rmse:19.41993\tvalidation_1-rmse:31.26464\n",
      "Fold: 2/5 score = 976.07629\n",
      "[0]\tvalidation_0-rmse:62.31908\tvalidation_1-rmse:63.08122\n",
      "[299]\tvalidation_0-rmse:20.08573\tvalidation_1-rmse:32.02728\n",
      "Fold: 3/5 score = 1022.17787\n",
      "[0]\tvalidation_0-rmse:62.31796\tvalidation_1-rmse:63.18582\n",
      "[379]\tvalidation_0-rmse:18.90107\tvalidation_1-rmse:31.17426\n",
      "Fold: 4/5 score = 969.89866\n"
     ]
    },
    {
     "name": "stderr",
     "output_type": "stream",
     "text": [
      "[I 2023-09-01 01:09:18,342] Trial 13 pruned. \n"
     ]
    },
    {
     "name": "stdout",
     "output_type": "stream",
     "text": [
      "[0]\tvalidation_0-rmse:62.89687\tvalidation_1-rmse:63.16524\n",
      "[436]\tvalidation_0-rmse:17.92652\tvalidation_1-rmse:31.91635\n",
      "Fold: 1/5 score = 1018.61681\n",
      "[0]\tvalidation_0-rmse:63.14148\tvalidation_1-rmse:62.10124\n",
      "[439]\tvalidation_0-rmse:17.79986\tvalidation_1-rmse:31.16434\n",
      "Fold: 2/5 score = 971.63769\n",
      "[0]\tvalidation_0-rmse:62.77345\tvalidation_1-rmse:63.57079\n",
      "[434]\tvalidation_0-rmse:17.87662\tvalidation_1-rmse:31.90151\n",
      "Fold: 3/5 score = 1018.52498\n",
      "[0]\tvalidation_0-rmse:62.76383\tvalidation_1-rmse:63.61126\n",
      "[559]\tvalidation_0-rmse:16.42818\tvalidation_1-rmse:30.89438\n",
      "Fold: 4/5 score = 955.43558\n",
      "[0]\tvalidation_0-rmse:63.06496\tvalidation_1-rmse:62.37025\n",
      "[282]\tvalidation_0-rmse:20.52515\tvalidation_1-rmse:31.34743\n",
      "Fold: 5/5 score = 980.16002\n"
     ]
    },
    {
     "name": "stderr",
     "output_type": "stream",
     "text": [
      "[I 2023-09-01 01:20:59,484] Trial 14 finished with value: 988.8750173042812 and parameters: {'booster': 'dart', 'lambda': 0.03070180781435647, 'alpha': 0.07393939177149328, 'subsample': 0.704655672004614, 'colsample_bytree': 0.17779139011366363, 'n_estimators': 800, 'max_depth': 8, 'min_child_weight': 4, 'eta': 0.019815461625069544, 'gamma': 0.009073153716105585, 'grow_policy': 'depthwise', 'sample_type': 'weighted', 'normalize_type': 'forest', 'rate_drop': 0.01724823500762515, 'skip_drop': 3.5379560517368963e-08}. Best is trial 10 with value: 986.386040068661.\n"
     ]
    },
    {
     "name": "stdout",
     "output_type": "stream",
     "text": [
      "[0]\tvalidation_0-rmse:63.75310\tvalidation_1-rmse:63.97470\n",
      "[799]\tvalidation_0-rmse:39.59232\tvalidation_1-rmse:41.88366\n",
      "Fold: 1/5 score = 1754.24084\n",
      "[0]\tvalidation_0-rmse:64.00984\tvalidation_1-rmse:62.94405\n",
      "[799]\tvalidation_0-rmse:39.77276\tvalidation_1-rmse:40.97486\n",
      "Fold: 2/5 score = 1678.93893\n",
      "[0]\tvalidation_0-rmse:63.64441\tvalidation_1-rmse:64.40120\n",
      "[799]\tvalidation_0-rmse:39.50798\tvalidation_1-rmse:42.10729\n",
      "Fold: 3/5 score = 1773.02376\n",
      "[0]\tvalidation_0-rmse:63.63589\tvalidation_1-rmse:64.43679\n",
      "[799]\tvalidation_0-rmse:39.58311\tvalidation_1-rmse:41.82289\n",
      "Fold: 4/5 score = 1749.15415\n"
     ]
    },
    {
     "name": "stderr",
     "output_type": "stream",
     "text": [
      "[I 2023-09-01 01:49:26,000] Trial 15 pruned. \n"
     ]
    },
    {
     "name": "stdout",
     "output_type": "stream",
     "text": [
      "[0]\tvalidation_0-rmse:61.91090\tvalidation_1-rmse:62.20166\n",
      "[201]\tvalidation_0-rmse:17.47784\tvalidation_1-rmse:32.26577\n",
      "Fold: 1/5 score = 1033.52513\n",
      "[0]\tvalidation_0-rmse:62.15769\tvalidation_1-rmse:61.17555\n",
      "[242]\tvalidation_0-rmse:16.12174\tvalidation_1-rmse:31.00492\n",
      "Fold: 2/5 score = 958.77060\n",
      "[0]\tvalidation_0-rmse:61.76136\tvalidation_1-rmse:62.56114\n",
      "[289]\tvalidation_0-rmse:15.02570\tvalidation_1-rmse:31.87469\n",
      "Fold: 3/5 score = 1014.73859\n",
      "[0]\tvalidation_0-rmse:61.77525\tvalidation_1-rmse:62.67607\n",
      "[220]\tvalidation_0-rmse:16.98109\tvalidation_1-rmse:31.18868\n",
      "Fold: 4/5 score = 970.67075\n"
     ]
    },
    {
     "name": "stderr",
     "output_type": "stream",
     "text": [
      "[I 2023-09-01 01:52:21,912] Trial 16 pruned. \n"
     ]
    },
    {
     "name": "stdout",
     "output_type": "stream",
     "text": [
      "[0]\tvalidation_0-rmse:60.18002\tvalidation_1-rmse:60.52572\n",
      "[141]\tvalidation_0-rmse:18.58430\tvalidation_1-rmse:32.35950\n",
      "Fold: 1/5 score = 1079.68651\n",
      "[0]\tvalidation_0-rmse:60.47690\tvalidation_1-rmse:59.54757\n",
      "[123]\tvalidation_0-rmse:19.20020\tvalidation_1-rmse:31.74838\n",
      "Fold: 2/5 score = 1042.89120\n",
      "[0]\tvalidation_0-rmse:60.08336\tvalidation_1-rmse:60.93736\n",
      "[260]\tvalidation_0-rmse:15.19964\tvalidation_1-rmse:32.49492\n",
      "Fold: 3/5 score = 1090.71574\n",
      "[0]\tvalidation_0-rmse:60.07594\tvalidation_1-rmse:60.97020\n",
      "[249]\tvalidation_0-rmse:15.47775\tvalidation_1-rmse:31.36984\n",
      "Fold: 4/5 score = 1040.44650\n"
     ]
    },
    {
     "name": "stderr",
     "output_type": "stream",
     "text": [
      "[I 2023-09-01 01:54:20,957] Trial 17 pruned. \n"
     ]
    },
    {
     "name": "stdout",
     "output_type": "stream",
     "text": [
      "[0]\tvalidation_0-rmse:63.65780\tvalidation_1-rmse:63.88080\n",
      "[699]\tvalidation_0-rmse:32.03046\tvalidation_1-rmse:33.65053\n",
      "Fold: 1/5 score = 1132.35800\n",
      "[0]\tvalidation_0-rmse:63.91462\tvalidation_1-rmse:62.85212\n",
      "[699]\tvalidation_0-rmse:32.18944\tvalidation_1-rmse:33.05166\n",
      "Fold: 2/5 score = 1092.41248\n",
      "[0]\tvalidation_0-rmse:63.55231\tvalidation_1-rmse:64.30760\n",
      "[699]\tvalidation_0-rmse:31.99215\tvalidation_1-rmse:33.84191\n",
      "Fold: 3/5 score = 1145.27472\n",
      "[0]\tvalidation_0-rmse:63.54473\tvalidation_1-rmse:64.34296\n",
      "[699]\tvalidation_0-rmse:32.21930\tvalidation_1-rmse:33.16898\n"
     ]
    },
    {
     "name": "stderr",
     "output_type": "stream",
     "text": [
      "[I 2023-09-01 01:54:33,729] Trial 18 pruned. \n"
     ]
    },
    {
     "name": "stdout",
     "output_type": "stream",
     "text": [
      "Fold: 4/5 score = 1100.18151\n",
      "[0]\tvalidation_0-rmse:60.31529\tvalidation_1-rmse:60.68401\n",
      "[99]\tvalidation_0-rmse:30.67127\tvalidation_1-rmse:33.90911\n",
      "Fold: 1/5 score = 3840.04774\n",
      "[0]\tvalidation_0-rmse:60.57781\tvalidation_1-rmse:59.63391\n",
      "[140]\tvalidation_0-rmse:30.68261\tvalidation_1-rmse:33.42387\n",
      "Fold: 2/5 score = 3701.24563\n"
     ]
    },
    {
     "name": "stderr",
     "output_type": "stream",
     "text": [
      "[I 2023-09-01 01:54:51,914] Trial 19 pruned. \n"
     ]
    },
    {
     "name": "stdout",
     "output_type": "stream",
     "text": [
      "[0]\tvalidation_0-rmse:63.53882\tvalidation_1-rmse:63.76190\n",
      "[699]\tvalidation_0-rmse:26.17211\tvalidation_1-rmse:32.01157\n",
      "Fold: 1/5 score = 1024.74036\n",
      "[0]\tvalidation_0-rmse:63.79791\tvalidation_1-rmse:62.73322\n",
      "[699]\tvalidation_0-rmse:26.32648\tvalidation_1-rmse:31.42996\n",
      "Fold: 2/5 score = 987.77729\n",
      "[0]\tvalidation_0-rmse:63.42874\tvalidation_1-rmse:64.18859\n",
      "[699]\tvalidation_0-rmse:26.12575\tvalidation_1-rmse:32.24220\n",
      "Fold: 3/5 score = 1039.81959\n",
      "[0]\tvalidation_0-rmse:63.42302\tvalidation_1-rmse:64.23070\n",
      "[699]\tvalidation_0-rmse:26.32851\tvalidation_1-rmse:31.23990\n",
      "Fold: 4/5 score = 975.93120\n"
     ]
    },
    {
     "name": "stderr",
     "output_type": "stream",
     "text": [
      "[I 2023-09-01 02:18:07,256] Trial 20 pruned. \n"
     ]
    },
    {
     "name": "stdout",
     "output_type": "stream",
     "text": [
      "[0]\tvalidation_0-rmse:62.34768\tvalidation_1-rmse:62.60363\n",
      "[188]\tvalidation_0-rmse:20.90453\tvalidation_1-rmse:31.99435\n",
      "Fold: 1/5 score = 1022.54469\n",
      "[0]\tvalidation_0-rmse:62.59117\tvalidation_1-rmse:61.56915\n",
      "[386]\tvalidation_0-rmse:16.22070\tvalidation_1-rmse:31.24349\n",
      "Fold: 2/5 score = 972.38707\n",
      "[0]\tvalidation_0-rmse:62.23511\tvalidation_1-rmse:63.04018\n",
      "[250]\tvalidation_0-rmse:19.12402\tvalidation_1-rmse:31.95900\n",
      "Fold: 3/5 score = 1020.32736\n",
      "[0]\tvalidation_0-rmse:62.21446\tvalidation_1-rmse:63.07437\n",
      "[387]\tvalidation_0-rmse:16.22969\tvalidation_1-rmse:30.82243\n",
      "Fold: 4/5 score = 947.94294\n",
      "[0]\tvalidation_0-rmse:62.51596\tvalidation_1-rmse:61.82912\n",
      "[207]\tvalidation_0-rmse:20.44155\tvalidation_1-rmse:31.52261\n",
      "Fold: 5/5 score = 990.01831\n"
     ]
    },
    {
     "name": "stderr",
     "output_type": "stream",
     "text": [
      "[I 2023-09-01 02:23:48,195] Trial 21 finished with value: 990.6440740332631 and parameters: {'booster': 'dart', 'lambda': 0.0163976575991046, 'alpha': 0.8753302997354155, 'subsample': 0.7060581824887676, 'colsample_bytree': 0.166229395995645, 'n_estimators': 1000, 'max_depth': 7, 'min_child_weight': 3, 'eta': 0.03217525890675302, 'gamma': 0.9228268197794973, 'grow_policy': 'depthwise', 'sample_type': 'weighted', 'normalize_type': 'forest', 'rate_drop': 0.0045075591573016365, 'skip_drop': 1.593926951556569e-07}. Best is trial 10 with value: 986.386040068661.\n"
     ]
    },
    {
     "name": "stdout",
     "output_type": "stream",
     "text": [
      "[0]\tvalidation_0-rmse:60.67621\tvalidation_1-rmse:60.95460\n",
      "[140]\tvalidation_0-rmse:18.59161\tvalidation_1-rmse:32.33063\n",
      "Fold: 1/5 score = 1037.37610\n",
      "[0]\tvalidation_0-rmse:60.90498\tvalidation_1-rmse:59.94342\n",
      "[208]\tvalidation_0-rmse:15.61323\tvalidation_1-rmse:31.26584\n",
      "Fold: 2/5 score = 968.97932\n",
      "[0]\tvalidation_0-rmse:60.52131\tvalidation_1-rmse:61.35735\n",
      "[176]\tvalidation_0-rmse:16.97593\tvalidation_1-rmse:32.41827\n",
      "Fold: 3/5 score = 1039.98406\n",
      "[0]\tvalidation_0-rmse:60.53755\tvalidation_1-rmse:61.46127\n",
      "[212]\tvalidation_0-rmse:15.44626\tvalidation_1-rmse:31.45508\n",
      "Fold: 4/5 score = 984.89027\n"
     ]
    },
    {
     "name": "stderr",
     "output_type": "stream",
     "text": [
      "[I 2023-09-01 02:25:39,461] Trial 22 pruned. \n"
     ]
    },
    {
     "name": "stdout",
     "output_type": "stream",
     "text": [
      "[0]\tvalidation_0-rmse:63.28416\tvalidation_1-rmse:63.51990\n",
      "[556]\tvalidation_0-rmse:20.38177\tvalidation_1-rmse:32.11890\n",
      "Fold: 1/5 score = 1033.94785\n",
      "[0]\tvalidation_0-rmse:63.54514\tvalidation_1-rmse:62.49039\n",
      "[850]\tvalidation_0-rmse:17.51062\tvalidation_1-rmse:31.27447\n",
      "Fold: 2/5 score = 978.83074\n"
     ]
    },
    {
     "name": "stderr",
     "output_type": "stream",
     "text": [
      "[I 2023-09-01 02:37:39,738] Trial 23 pruned. \n"
     ]
    },
    {
     "name": "stdout",
     "output_type": "stream",
     "text": [
      "[0]\tvalidation_0-rmse:56.32533\tvalidation_1-rmse:56.84639\n",
      "[72]\tvalidation_0-rmse:18.15608\tvalidation_1-rmse:32.86940\n",
      "Fold: 1/5 score = 1059.32665\n",
      "[0]\tvalidation_0-rmse:56.53339\tvalidation_1-rmse:55.98263\n",
      "[73]\tvalidation_0-rmse:17.94136\tvalidation_1-rmse:33.36798\n",
      "Fold: 2/5 score = 1085.57045\n"
     ]
    },
    {
     "name": "stderr",
     "output_type": "stream",
     "text": [
      "[I 2023-09-01 02:37:49,848] Trial 24 pruned. \n"
     ]
    },
    {
     "name": "stdout",
     "output_type": "stream",
     "text": [
      "[0]\tvalidation_0-rmse:36.06028\tvalidation_1-rmse:37.34608\n",
      "[52]\tvalidation_0-rmse:20.26395\tvalidation_1-rmse:42.11044\n",
      "Fold: 1/5 score = 1304.27614\n",
      "[0]\tvalidation_0-rmse:36.26841\tvalidation_1-rmse:36.86930\n",
      "[50]\tvalidation_0-rmse:20.48481\tvalidation_1-rmse:40.71616\n"
     ]
    },
    {
     "name": "stderr",
     "output_type": "stream",
     "text": [
      "[I 2023-09-01 02:37:57,173] Trial 25 pruned. \n"
     ]
    },
    {
     "name": "stdout",
     "output_type": "stream",
     "text": [
      "Fold: 2/5 score = 1316.31199\n",
      "[0]\tvalidation_0-rmse:63.72486\tvalidation_1-rmse:63.94657\n",
      "[799]\tvalidation_0-rmse:34.17174\tvalidation_1-rmse:37.11512\n",
      "Fold: 1/5 score = 1377.53182\n",
      "[0]\tvalidation_0-rmse:63.98153\tvalidation_1-rmse:62.91712\n",
      "[799]\tvalidation_0-rmse:34.30976\tvalidation_1-rmse:36.22008\n"
     ]
    },
    {
     "name": "stderr",
     "output_type": "stream",
     "text": [
      "[I 2023-09-01 02:38:08,434] Trial 26 pruned. \n"
     ]
    },
    {
     "name": "stdout",
     "output_type": "stream",
     "text": [
      "Fold: 2/5 score = 1311.89387\n",
      "[0]\tvalidation_0-rmse:62.81979\tvalidation_1-rmse:63.06268\n",
      "[272]\tvalidation_0-rmse:19.28678\tvalidation_1-rmse:32.07740\n",
      "Fold: 1/5 score = 1027.30439\n",
      "[0]\tvalidation_0-rmse:63.07183\tvalidation_1-rmse:62.08476\n",
      "[306]\tvalidation_0-rmse:18.39904\tvalidation_1-rmse:31.18740\n",
      "Fold: 2/5 score = 971.39811\n",
      "[0]\tvalidation_0-rmse:62.71241\tvalidation_1-rmse:63.50711\n",
      "[364]\tvalidation_0-rmse:17.37681\tvalidation_1-rmse:31.74122\n",
      "Fold: 3/5 score = 1007.66453\n",
      "[0]\tvalidation_0-rmse:62.72771\tvalidation_1-rmse:63.58483\n",
      "[530]\tvalidation_0-rmse:14.93382\tvalidation_1-rmse:30.59298\n",
      "Fold: 4/5 score = 936.16650\n",
      "[0]\tvalidation_0-rmse:63.02401\tvalidation_1-rmse:62.33640\n",
      "[283]\tvalidation_0-rmse:18.97246\tvalidation_1-rmse:31.14064\n",
      "Fold: 5/5 score = 964.45839\n"
     ]
    },
    {
     "name": "stderr",
     "output_type": "stream",
     "text": [
      "[I 2023-09-01 02:45:49,209] Trial 27 finished with value: 981.3983846204034 and parameters: {'booster': 'dart', 'lambda': 0.012102537549041692, 'alpha': 0.9285576337382045, 'subsample': 0.6342752404482414, 'colsample_bytree': 0.4190813823902724, 'n_estimators': 1000, 'max_depth': 8, 'min_child_weight': 3, 'eta': 0.0194744278303459, 'gamma': 0.018445479989423166, 'grow_policy': 'depthwise', 'sample_type': 'weighted', 'normalize_type': 'forest', 'rate_drop': 0.01057178477341178, 'skip_drop': 5.940432756394423e-08}. Best is trial 27 with value: 981.3983846204034.\n"
     ]
    },
    {
     "name": "stdout",
     "output_type": "stream",
     "text": [
      "[0]\tvalidation_0-rmse:63.42714\tvalidation_1-rmse:63.66301\n",
      "[399]\tvalidation_0-rmse:51.80733\tvalidation_1-rmse:52.91629\n",
      "Fold: 1/5 score = 2800.13414\n",
      "[0]\tvalidation_0-rmse:63.68258\tvalidation_1-rmse:62.64226\n",
      "[399]\tvalidation_0-rmse:52.01091\tvalidation_1-rmse:51.91092\n",
      "Fold: 2/5 score = 2694.74404\n"
     ]
    },
    {
     "name": "stderr",
     "output_type": "stream",
     "text": [
      "[I 2023-09-01 02:49:19,185] Trial 28 pruned. \n"
     ]
    },
    {
     "name": "stdout",
     "output_type": "stream",
     "text": [
      "[0]\tvalidation_0-rmse:63.68014\tvalidation_1-rmse:63.90714\n",
      "[899]\tvalidation_0-rmse:26.16657\tvalidation_1-rmse:32.96006\n",
      "Fold: 1/5 score = 1086.36584\n",
      "[0]\tvalidation_0-rmse:63.93751\tvalidation_1-rmse:62.87763\n",
      "[899]\tvalidation_0-rmse:26.23313\tvalidation_1-rmse:32.16021\n",
      "Fold: 2/5 score = 1034.27891\n",
      "[0]\tvalidation_0-rmse:63.57436\tvalidation_1-rmse:64.33461\n",
      "[899]\tvalidation_0-rmse:26.09071\tvalidation_1-rmse:33.04028\n",
      "Fold: 3/5 score = 1091.66019\n",
      "[0]\tvalidation_0-rmse:63.56647\tvalidation_1-rmse:64.37067\n",
      "[899]\tvalidation_0-rmse:26.29975\tvalidation_1-rmse:32.29660\n"
     ]
    },
    {
     "name": "stderr",
     "output_type": "stream",
     "text": [
      "[I 2023-09-01 02:50:27,292] Trial 29 pruned. \n"
     ]
    },
    {
     "name": "stdout",
     "output_type": "stream",
     "text": [
      "Fold: 4/5 score = 1043.07065\n",
      "[0]\tvalidation_0-rmse:56.60298\tvalidation_1-rmse:57.38828\n",
      "[147]\tvalidation_0-rmse:11.24260\tvalidation_1-rmse:33.18598\n",
      "Fold: 1/5 score = 1122.05818\n",
      "[0]\tvalidation_0-rmse:56.78065\tvalidation_1-rmse:56.18164\n",
      "[93]\tvalidation_0-rmse:14.24258\tvalidation_1-rmse:32.37612\n",
      "Fold: 2/5 score = 1081.25641\n",
      "[0]\tvalidation_0-rmse:56.34926\tvalidation_1-rmse:57.56067\n",
      "[116]\tvalidation_0-rmse:12.50636\tvalidation_1-rmse:33.32263\n",
      "Fold: 3/5 score = 1109.69854\n",
      "[0]\tvalidation_0-rmse:56.45240\tvalidation_1-rmse:57.84534\n",
      "[85]\tvalidation_0-rmse:15.58945\tvalidation_1-rmse:32.00412\n",
      "Fold: 4/5 score = 1079.82674\n"
     ]
    },
    {
     "name": "stderr",
     "output_type": "stream",
     "text": [
      "[I 2023-09-01 02:51:08,711] Trial 30 pruned. \n"
     ]
    },
    {
     "name": "stdout",
     "output_type": "stream",
     "text": [
      "[0]\tvalidation_0-rmse:61.93215\tvalidation_1-rmse:62.22235\n",
      "[277]\tvalidation_0-rmse:16.85132\tvalidation_1-rmse:32.14793\n",
      "Fold: 1/5 score = 1030.05989\n",
      "[0]\tvalidation_0-rmse:62.16039\tvalidation_1-rmse:61.16211\n",
      "[264]\tvalidation_0-rmse:16.88085\tvalidation_1-rmse:30.98929\n",
      "Fold: 2/5 score = 958.37894\n",
      "[0]\tvalidation_0-rmse:61.78661\tvalidation_1-rmse:62.58256\n",
      "[166]\tvalidation_0-rmse:19.87467\tvalidation_1-rmse:32.37038\n",
      "Fold: 3/5 score = 1046.75844\n",
      "[0]\tvalidation_0-rmse:61.79632\tvalidation_1-rmse:62.69296\n",
      "[238]\tvalidation_0-rmse:17.67810\tvalidation_1-rmse:31.20928\n",
      "Fold: 4/5 score = 974.30798\n"
     ]
    },
    {
     "name": "stderr",
     "output_type": "stream",
     "text": [
      "[I 2023-09-01 02:54:03,934] Trial 31 pruned. \n"
     ]
    },
    {
     "name": "stdout",
     "output_type": "stream",
     "text": [
      "[0]\tvalidation_0-rmse:62.95701\tvalidation_1-rmse:63.20835\n",
      "[536]\tvalidation_0-rmse:18.55941\tvalidation_1-rmse:32.08927\n",
      "Fold: 1/5 score = 1028.55073\n",
      "[0]\tvalidation_0-rmse:63.22465\tvalidation_1-rmse:62.17855\n",
      "[575]\tvalidation_0-rmse:17.96739\tvalidation_1-rmse:31.16418\n",
      "Fold: 2/5 score = 970.44024\n",
      "[0]\tvalidation_0-rmse:62.85867\tvalidation_1-rmse:63.63341\n",
      "[613]\tvalidation_0-rmse:17.45211\tvalidation_1-rmse:32.13825\n",
      "Fold: 3/5 score = 1030.55619\n",
      "[0]\tvalidation_0-rmse:62.84827\tvalidation_1-rmse:63.68363\n",
      "[625]\tvalidation_0-rmse:17.42464\tvalidation_1-rmse:30.98772\n",
      "Fold: 4/5 score = 960.11829\n",
      "[0]\tvalidation_0-rmse:63.14276\tvalidation_1-rmse:62.44327\n",
      "[485]\tvalidation_0-rmse:19.17051\tvalidation_1-rmse:31.35351\n",
      "Fold: 5/5 score = 979.58057\n"
     ]
    },
    {
     "name": "stderr",
     "output_type": "stream",
     "text": [
      "[I 2023-09-01 03:13:54,086] Trial 32 finished with value: 993.8492045969375 and parameters: {'booster': 'dart', 'lambda': 0.042711296125948255, 'alpha': 0.3017515566681502, 'subsample': 0.6490896948271149, 'colsample_bytree': 0.1268556274218031, 'n_estimators': 1000, 'max_depth': 7, 'min_child_weight': 3, 'eta': 0.018490162595566736, 'gamma': 0.05439120818804447, 'grow_policy': 'depthwise', 'sample_type': 'weighted', 'normalize_type': 'forest', 'rate_drop': 0.0009280157321038572, 'skip_drop': 3.7271604703384395e-08}. Best is trial 27 with value: 981.3983846204034.\n"
     ]
    },
    {
     "name": "stdout",
     "output_type": "stream",
     "text": [
      "[0]\tvalidation_0-rmse:63.51113\tvalidation_1-rmse:63.74840\n",
      "[799]\tvalidation_0-rmse:19.36063\tvalidation_1-rmse:31.75056\n",
      "Fold: 1/5 score = 1008.09835\n",
      "[0]\tvalidation_0-rmse:63.76033\tvalidation_1-rmse:62.71595\n",
      "[799]\tvalidation_0-rmse:19.38778\tvalidation_1-rmse:31.13616\n",
      "Fold: 2/5 score = 969.28381\n",
      "[0]\tvalidation_0-rmse:63.39670\tvalidation_1-rmse:64.17136\n",
      "[799]\tvalidation_0-rmse:19.23887\tvalidation_1-rmse:31.84208\n",
      "Fold: 3/5 score = 1013.91787\n",
      "[0]\tvalidation_0-rmse:63.39001\tvalidation_1-rmse:64.19948\n",
      "[799]\tvalidation_0-rmse:19.32770\tvalidation_1-rmse:30.94897\n",
      "Fold: 4/5 score = 957.83862\n",
      "[0]\tvalidation_0-rmse:63.69312\tvalidation_1-rmse:62.98915\n",
      "[776]\tvalidation_0-rmse:19.48711\tvalidation_1-rmse:31.26601\n",
      "Fold: 5/5 score = 977.35939\n"
     ]
    },
    {
     "name": "stderr",
     "output_type": "stream",
     "text": [
      "[I 2023-09-01 03:48:56,207] Trial 33 finished with value: 985.2996077780756 and parameters: {'booster': 'dart', 'lambda': 0.011440556083970668, 'alpha': 0.19433999236176994, 'subsample': 0.8662448723011636, 'colsample_bytree': 0.3446529084646785, 'n_estimators': 800, 'max_depth': 8, 'min_child_weight': 4, 'eta': 0.005739649291079039, 'gamma': 0.2165505559124881, 'grow_policy': 'depthwise', 'sample_type': 'weighted', 'normalize_type': 'forest', 'rate_drop': 0.011392390299914075, 'skip_drop': 4.981498014834543e-07}. Best is trial 27 with value: 981.3983846204034.\n"
     ]
    },
    {
     "name": "stdout",
     "output_type": "stream",
     "text": [
      "[0]\tvalidation_0-rmse:63.56622\tvalidation_1-rmse:63.80088\n",
      "[699]\tvalidation_0-rmse:21.91979\tvalidation_1-rmse:32.06756\n",
      "Fold: 1/5 score = 1028.32840\n",
      "[0]\tvalidation_0-rmse:63.81878\tvalidation_1-rmse:62.77431\n",
      "[699]\tvalidation_0-rmse:21.84815\tvalidation_1-rmse:31.34750\n",
      "Fold: 2/5 score = 982.66559\n"
     ]
    },
    {
     "name": "stderr",
     "output_type": "stream",
     "text": [
      "[I 2023-09-01 03:59:55,631] Trial 34 pruned. \n"
     ]
    },
    {
     "name": "stdout",
     "output_type": "stream",
     "text": [
      "[0]\tvalidation_0-rmse:63.76837\tvalidation_1-rmse:63.99099\n",
      "[499]\tvalidation_0-rmse:51.52467\tvalidation_1-rmse:52.88002\n",
      "Fold: 1/5 score = 2796.29616\n",
      "[0]\tvalidation_0-rmse:64.02417\tvalidation_1-rmse:62.95914\n",
      "[499]\tvalidation_0-rmse:51.70571\tvalidation_1-rmse:51.85731\n",
      "Fold: 2/5 score = 2689.18029\n",
      "[0]\tvalidation_0-rmse:63.66030\tvalidation_1-rmse:64.41756\n",
      "[499]\tvalidation_0-rmse:51.41381\tvalidation_1-rmse:53.22563\n",
      "Fold: 3/5 score = 2832.96731\n",
      "[0]\tvalidation_0-rmse:63.65198\tvalidation_1-rmse:64.45206\n",
      "[499]\tvalidation_0-rmse:51.47349\tvalidation_1-rmse:53.14550\n",
      "Fold: 4/5 score = 2824.44388\n"
     ]
    },
    {
     "name": "stderr",
     "output_type": "stream",
     "text": [
      "[I 2023-09-01 04:11:01,293] Trial 35 pruned. \n"
     ]
    },
    {
     "name": "stdout",
     "output_type": "stream",
     "text": [
      "[0]\tvalidation_0-rmse:63.54365\tvalidation_1-rmse:63.78521\n",
      "[799]\tvalidation_0-rmse:22.84684\tvalidation_1-rmse:32.05873\n",
      "Fold: 1/5 score = 1032.83991\n",
      "[0]\tvalidation_0-rmse:63.79866\tvalidation_1-rmse:62.74991\n",
      "[799]\tvalidation_0-rmse:22.74302\tvalidation_1-rmse:31.35714\n",
      "Fold: 2/5 score = 984.32479\n",
      "[0]\tvalidation_0-rmse:63.43274\tvalidation_1-rmse:64.20597\n",
      "[799]\tvalidation_0-rmse:22.67933\tvalidation_1-rmse:32.13587\n",
      "Fold: 3/5 score = 1034.88759\n",
      "[0]\tvalidation_0-rmse:63.42632\tvalidation_1-rmse:64.24010\n",
      "[799]\tvalidation_0-rmse:22.74559\tvalidation_1-rmse:31.20254\n",
      "Fold: 4/5 score = 973.59848\n"
     ]
    },
    {
     "name": "stderr",
     "output_type": "stream",
     "text": [
      "[I 2023-09-01 04:37:38,594] Trial 36 pruned. \n"
     ]
    },
    {
     "name": "stdout",
     "output_type": "stream",
     "text": [
      "[0]\tvalidation_0-rmse:63.79651\tvalidation_1-rmse:64.01678\n",
      "[599]\tvalidation_0-rmse:63.48689\tvalidation_1-rmse:63.73368\n",
      "Fold: 1/5 score = 4061.98246\n",
      "[0]\tvalidation_0-rmse:64.05278\tvalidation_1-rmse:62.98521\n",
      "[599]\tvalidation_0-rmse:63.74144\tvalidation_1-rmse:62.70219\n",
      "Fold: 2/5 score = 3931.56504\n",
      "[0]\tvalidation_0-rmse:63.68873\tvalidation_1-rmse:64.44443\n",
      "[599]\tvalidation_0-rmse:63.37926\tvalidation_1-rmse:64.15875\n",
      "Fold: 3/5 score = 4116.34511\n",
      "[0]\tvalidation_0-rmse:63.67998\tvalidation_1-rmse:64.47901\n",
      "[599]\tvalidation_0-rmse:63.37195\tvalidation_1-rmse:64.19115\n",
      "Fold: 4/5 score = 4120.50426\n"
     ]
    },
    {
     "name": "stderr",
     "output_type": "stream",
     "text": [
      "[I 2023-09-01 04:54:36,277] Trial 37 pruned. \n"
     ]
    },
    {
     "name": "stdout",
     "output_type": "stream",
     "text": [
      "[0]\tvalidation_0-rmse:51.02618\tvalidation_1-rmse:52.26660\n",
      "[63]\tvalidation_0-rmse:10.84710\tvalidation_1-rmse:34.07439\n",
      "Fold: 1/5 score = 1091.72680\n",
      "[0]\tvalidation_0-rmse:51.45574\tvalidation_1-rmse:51.56258\n",
      "[77]\tvalidation_0-rmse:8.96112\tvalidation_1-rmse:33.71686\n"
     ]
    },
    {
     "name": "stderr",
     "output_type": "stream",
     "text": [
      "[I 2023-09-01 04:54:40,215] Trial 38 pruned. \n"
     ]
    },
    {
     "name": "stdout",
     "output_type": "stream",
     "text": [
      "Fold: 2/5 score = 1078.32965\n",
      "[0]\tvalidation_0-rmse:63.77529\tvalidation_1-rmse:63.99722\n",
      "[799]\tvalidation_0-rmse:49.58641\tvalidation_1-rmse:51.38396\n",
      "Fold: 1/5 score = 2640.31143\n",
      "[0]\tvalidation_0-rmse:64.03146\tvalidation_1-rmse:62.96618\n",
      "[799]\tvalidation_0-rmse:49.76575\tvalidation_1-rmse:50.32971\n",
      "Fold: 2/5 score = 2533.07923\n"
     ]
    },
    {
     "name": "stderr",
     "output_type": "stream",
     "text": [
      "[I 2023-09-01 05:08:31,444] Trial 39 pruned. \n"
     ]
    },
    {
     "name": "stdout",
     "output_type": "stream",
     "text": [
      "[0]\tvalidation_0-rmse:63.69969\tvalidation_1-rmse:63.92380\n",
      "[599]\tvalidation_0-rmse:44.28950\tvalidation_1-rmse:46.17657\n",
      "Fold: 1/5 score = 2132.27586\n",
      "[0]\tvalidation_0-rmse:63.95577\tvalidation_1-rmse:62.89443\n",
      "[599]\tvalidation_0-rmse:44.42882\tvalidation_1-rmse:45.20398\n",
      "Fold: 2/5 score = 2043.40002\n"
     ]
    },
    {
     "name": "stderr",
     "output_type": "stream",
     "text": [
      "[I 2023-09-01 05:16:47,400] Trial 40 pruned. \n"
     ]
    },
    {
     "name": "stdout",
     "output_type": "stream",
     "text": [
      "[0]\tvalidation_0-rmse:62.41510\tvalidation_1-rmse:62.69850\n",
      "[265]\tvalidation_0-rmse:18.66866\tvalidation_1-rmse:32.13487\n",
      "Fold: 1/5 score = 1027.09080\n",
      "[0]\tvalidation_0-rmse:62.63701\tvalidation_1-rmse:61.64851\n",
      "[424]\tvalidation_0-rmse:15.10617\tvalidation_1-rmse:31.16931\n",
      "Fold: 2/5 score = 970.23429\n",
      "[0]\tvalidation_0-rmse:62.28604\tvalidation_1-rmse:63.10408\n",
      "[433]\tvalidation_0-rmse:15.24233\tvalidation_1-rmse:31.87161\n",
      "Fold: 3/5 score = 1014.34278\n",
      "[0]\tvalidation_0-rmse:62.29360\tvalidation_1-rmse:63.14338\n",
      "[215]\tvalidation_0-rmse:20.03419\tvalidation_1-rmse:31.18827\n",
      "Fold: 4/5 score = 973.56799\n"
     ]
    },
    {
     "name": "stderr",
     "output_type": "stream",
     "text": [
      "[I 2023-09-01 05:22:40,453] Trial 41 pruned. \n"
     ]
    },
    {
     "name": "stdout",
     "output_type": "stream",
     "text": [
      "[0]\tvalidation_0-rmse:63.14760\tvalidation_1-rmse:63.39987\n",
      "[659]\tvalidation_0-rmse:16.54183\tvalidation_1-rmse:31.98304\n",
      "Fold: 1/5 score = 1022.22336\n",
      "[0]\tvalidation_0-rmse:63.40281\tvalidation_1-rmse:62.36621\n",
      "[870]\tvalidation_0-rmse:14.27497\tvalidation_1-rmse:31.18163\n",
      "Fold: 2/5 score = 969.88501\n",
      "[0]\tvalidation_0-rmse:63.02847\tvalidation_1-rmse:63.79495\n",
      "[630]\tvalidation_0-rmse:16.84639\tvalidation_1-rmse:32.13410\n",
      "Fold: 3/5 score = 1032.76852\n",
      "[0]\tvalidation_0-rmse:63.02438\tvalidation_1-rmse:63.85699\n",
      "[839]\tvalidation_0-rmse:14.73324\tvalidation_1-rmse:30.90376\n",
      "Fold: 4/5 score = 955.38505\n",
      "[0]\tvalidation_0-rmse:63.32006\tvalidation_1-rmse:62.63643\n",
      "[554]\tvalidation_0-rmse:17.76734\tvalidation_1-rmse:31.69263\n",
      "Fold: 5/5 score = 1001.05056\n"
     ]
    },
    {
     "name": "stderr",
     "output_type": "stream",
     "text": [
      "[I 2023-09-01 05:52:41,055] Trial 42 finished with value: 996.2625009411265 and parameters: {'booster': 'dart', 'lambda': 0.004479223010351017, 'alpha': 0.3601777068620389, 'subsample': 0.7794221105279273, 'colsample_bytree': 0.10898639842271161, 'n_estimators': 900, 'max_depth': 8, 'min_child_weight': 3, 'eta': 0.014387811315375669, 'gamma': 0.11314668796766332, 'grow_policy': 'depthwise', 'sample_type': 'weighted', 'normalize_type': 'forest', 'rate_drop': 0.007163190465023271, 'skip_drop': 1.7451703001241886e-07}. Best is trial 27 with value: 981.3983846204034.\n"
     ]
    },
    {
     "name": "stdout",
     "output_type": "stream",
     "text": [
      "[0]\tvalidation_0-rmse:49.76318\tvalidation_1-rmse:50.53033\n",
      "[167]\tvalidation_0-rmse:16.67354\tvalidation_1-rmse:33.09543\n",
      "Fold: 1/5 score = 1529.59657\n",
      "[0]\tvalidation_0-rmse:49.87504\tvalidation_1-rmse:49.54093\n",
      "[60]\tvalidation_0-rmse:19.07141\tvalidation_1-rmse:33.18737\n",
      "Fold: 2/5 score = 1587.25610\n",
      "[0]\tvalidation_0-rmse:49.54836\tvalidation_1-rmse:51.28973\n",
      "[145]\tvalidation_0-rmse:17.08970\tvalidation_1-rmse:33.28552\n",
      "Fold: 3/5 score = 1593.17044\n",
      "[0]\tvalidation_0-rmse:49.72787\tvalidation_1-rmse:51.25834\n",
      "[297]\tvalidation_0-rmse:18.69545\tvalidation_1-rmse:31.05046\n",
      "Fold: 4/5 score = 1780.88597\n"
     ]
    },
    {
     "name": "stderr",
     "output_type": "stream",
     "text": [
      "[I 2023-09-01 05:54:28,211] Trial 43 pruned. \n"
     ]
    },
    {
     "name": "stdout",
     "output_type": "stream",
     "text": [
      "[0]\tvalidation_0-rmse:63.41883\tvalidation_1-rmse:63.64664\n",
      "[399]\tvalidation_0-rmse:24.20143\tvalidation_1-rmse:32.27202\n",
      "Fold: 1/5 score = 1041.41152\n",
      "[0]\tvalidation_0-rmse:63.67250\tvalidation_1-rmse:62.61688\n",
      "[399]\tvalidation_0-rmse:24.20763\tvalidation_1-rmse:31.45317\n",
      "Fold: 2/5 score = 989.30210\n"
     ]
    },
    {
     "name": "stderr",
     "output_type": "stream",
     "text": [
      "[I 2023-09-01 05:58:20,153] Trial 44 pruned. \n"
     ]
    },
    {
     "name": "stdout",
     "output_type": "stream",
     "text": [
      "[0]\tvalidation_0-rmse:62.28895\tvalidation_1-rmse:62.53434\n",
      "[450]\tvalidation_0-rmse:21.37636\tvalidation_1-rmse:32.02527\n",
      "Fold: 1/5 score = 1021.81466\n",
      "[0]\tvalidation_0-rmse:62.51320\tvalidation_1-rmse:61.48347\n",
      "[409]\tvalidation_0-rmse:21.84140\tvalidation_1-rmse:31.18780\n",
      "Fold: 2/5 score = 971.61863\n",
      "[0]\tvalidation_0-rmse:62.15678\tvalidation_1-rmse:62.93111\n",
      "[484]\tvalidation_0-rmse:21.14553\tvalidation_1-rmse:31.90120\n",
      "Fold: 3/5 score = 1016.92435\n",
      "[0]\tvalidation_0-rmse:62.15036\tvalidation_1-rmse:62.98865\n",
      "[338]\tvalidation_0-rmse:22.79574\tvalidation_1-rmse:31.12615\n",
      "Fold: 4/5 score = 968.34261\n"
     ]
    },
    {
     "name": "stderr",
     "output_type": "stream",
     "text": [
      "[I 2023-09-01 06:07:04,170] Trial 45 pruned. \n"
     ]
    },
    {
     "name": "stdout",
     "output_type": "stream",
     "text": [
      "[0]\tvalidation_0-rmse:63.63693\tvalidation_1-rmse:63.86050\n",
      "[999]\tvalidation_0-rmse:28.99913\tvalidation_1-rmse:33.13164\n",
      "Fold: 1/5 score = 1097.70543\n",
      "[0]\tvalidation_0-rmse:63.89239\tvalidation_1-rmse:62.82813\n",
      "[999]\tvalidation_0-rmse:29.10733\tvalidation_1-rmse:32.46680\n"
     ]
    },
    {
     "name": "stderr",
     "output_type": "stream",
     "text": [
      "[I 2023-09-01 06:07:15,699] Trial 46 pruned. \n"
     ]
    },
    {
     "name": "stdout",
     "output_type": "stream",
     "text": [
      "Fold: 2/5 score = 1054.09286\n",
      "[0]\tvalidation_0-rmse:57.87460\tvalidation_1-rmse:58.53179\n",
      "[92]\tvalidation_0-rmse:13.33156\tvalidation_1-rmse:32.45054\n",
      "Fold: 1/5 score = 1077.36292\n",
      "[0]\tvalidation_0-rmse:58.01923\tvalidation_1-rmse:57.61776\n",
      "[81]\tvalidation_0-rmse:14.27009\tvalidation_1-rmse:32.23406\n",
      "Fold: 2/5 score = 1051.31744\n",
      "[0]\tvalidation_0-rmse:57.74627\tvalidation_1-rmse:58.92680\n",
      "[101]\tvalidation_0-rmse:12.80503\tvalidation_1-rmse:32.71747\n",
      "Fold: 3/5 score = 1068.10841\n",
      "[0]\tvalidation_0-rmse:57.73102\tvalidation_1-rmse:59.04784\n",
      "[141]\tvalidation_0-rmse:10.52579\tvalidation_1-rmse:31.60301\n",
      "Fold: 4/5 score = 1006.04986\n"
     ]
    },
    {
     "name": "stderr",
     "output_type": "stream",
     "text": [
      "[I 2023-09-01 06:07:52,756] Trial 47 pruned. \n"
     ]
    },
    {
     "name": "stdout",
     "output_type": "stream",
     "text": [
      "[0]\tvalidation_0-rmse:43.13027\tvalidation_1-rmse:44.32072\n",
      "[58]\tvalidation_0-rmse:13.16849\tvalidation_1-rmse:38.15275\n",
      "Fold: 1/5 score = 1364.87411\n",
      "[0]\tvalidation_0-rmse:43.11331\tvalidation_1-rmse:43.41679\n",
      "[52]\tvalidation_0-rmse:13.96162\tvalidation_1-rmse:37.90445\n",
      "Fold: 2/5 score = 1329.44564\n",
      "[0]\tvalidation_0-rmse:42.85391\tvalidation_1-rmse:44.52361\n",
      "[56]\tvalidation_0-rmse:13.46578\tvalidation_1-rmse:37.16570\n",
      "Fold: 3/5 score = 1267.99507\n",
      "[0]\tvalidation_0-rmse:42.73389\tvalidation_1-rmse:44.44757\n",
      "[56]\tvalidation_0-rmse:13.53333\tvalidation_1-rmse:37.60978\n"
     ]
    },
    {
     "name": "stderr",
     "output_type": "stream",
     "text": [
      "[I 2023-09-01 06:08:09,009] Trial 48 pruned. \n"
     ]
    },
    {
     "name": "stdout",
     "output_type": "stream",
     "text": [
      "Fold: 4/5 score = 1318.35370\n",
      "[0]\tvalidation_0-rmse:62.94408\tvalidation_1-rmse:63.18308\n",
      "[453]\tvalidation_0-rmse:22.33306\tvalidation_1-rmse:31.99877\n",
      "Fold: 1/5 score = 1040.63520\n",
      "[0]\tvalidation_0-rmse:63.20259\tvalidation_1-rmse:62.14809\n",
      "[634]\tvalidation_0-rmse:21.36984\tvalidation_1-rmse:30.95356\n",
      "Fold: 2/5 score = 971.45150\n",
      "[0]\tvalidation_0-rmse:62.83245\tvalidation_1-rmse:63.59176\n",
      "[440]\tvalidation_0-rmse:22.35569\tvalidation_1-rmse:31.94626\n",
      "Fold: 3/5 score = 1038.66275\n",
      "[0]\tvalidation_0-rmse:62.82311\tvalidation_1-rmse:63.67448\n",
      "[630]\tvalidation_0-rmse:21.25573\tvalidation_1-rmse:30.90054\n",
      "Fold: 4/5 score = 979.30623\n"
     ]
    },
    {
     "name": "stderr",
     "output_type": "stream",
     "text": [
      "[I 2023-09-01 06:22:11,460] Trial 49 pruned. \n"
     ]
    },
    {
     "name": "stdout",
     "output_type": "stream",
     "text": [
      "[0]\tvalidation_0-rmse:61.51822\tvalidation_1-rmse:61.84991\n",
      "[999]\tvalidation_0-rmse:33.10475\tvalidation_1-rmse:37.11887\n",
      "Fold: 1/5 score = 1377.81016\n",
      "[0]\tvalidation_0-rmse:61.77278\tvalidation_1-rmse:60.81113\n",
      "[999]\tvalidation_0-rmse:33.29156\tvalidation_1-rmse:36.28846\n",
      "Fold: 2/5 score = 1316.85239\n",
      "[0]\tvalidation_0-rmse:61.43391\tvalidation_1-rmse:62.28081\n",
      "[999]\tvalidation_0-rmse:33.07355\tvalidation_1-rmse:37.32932\n",
      "Fold: 3/5 score = 1393.47795\n",
      "[0]\tvalidation_0-rmse:61.39657\tvalidation_1-rmse:62.33060\n",
      "[999]\tvalidation_0-rmse:33.12385\tvalidation_1-rmse:36.83374\n",
      "Fold: 4/5 score = 1356.72449\n"
     ]
    },
    {
     "name": "stderr",
     "output_type": "stream",
     "text": [
      "[I 2023-09-01 07:02:30,947] Trial 50 pruned. \n"
     ]
    },
    {
     "name": "stdout",
     "output_type": "stream",
     "text": [
      "[0]\tvalidation_0-rmse:62.78649\tvalidation_1-rmse:63.05875\n",
      "[422]\tvalidation_0-rmse:18.60236\tvalidation_1-rmse:31.89163\n",
      "Fold: 1/5 score = 1014.40348\n",
      "[0]\tvalidation_0-rmse:63.04391\tvalidation_1-rmse:62.00565\n",
      "[440]\tvalidation_0-rmse:18.35961\tvalidation_1-rmse:31.23824\n",
      "Fold: 2/5 score = 974.67894\n",
      "[0]\tvalidation_0-rmse:62.68238\tvalidation_1-rmse:63.45512\n",
      "[614]\tvalidation_0-rmse:15.87884\tvalidation_1-rmse:31.99949\n",
      "Fold: 3/5 score = 1021.45891\n",
      "[0]\tvalidation_0-rmse:62.67275\tvalidation_1-rmse:63.52597\n",
      "[736]\tvalidation_0-rmse:14.72975\tvalidation_1-rmse:30.86770\n",
      "Fold: 4/5 score = 952.20074\n",
      "[0]\tvalidation_0-rmse:62.96961\tvalidation_1-rmse:62.26835\n",
      "[342]\tvalidation_0-rmse:20.11468\tvalidation_1-rmse:31.47464\n",
      "Fold: 5/5 score = 987.48399\n"
     ]
    },
    {
     "name": "stderr",
     "output_type": "stream",
     "text": [
      "[I 2023-09-01 07:19:45,144] Trial 51 finished with value: 990.0452123169198 and parameters: {'booster': 'dart', 'lambda': 0.0030916712168979447, 'alpha': 0.5373268308228915, 'subsample': 0.6975986644150701, 'colsample_bytree': 0.13140856655783373, 'n_estimators': 1000, 'max_depth': 7, 'min_child_weight': 3, 'eta': 0.022299816257290318, 'gamma': 0.7533893581099751, 'grow_policy': 'depthwise', 'sample_type': 'weighted', 'normalize_type': 'forest', 'rate_drop': 0.005461996058771673, 'skip_drop': 2.5088203883868503e-07}. Best is trial 27 with value: 981.3983846204034.\n"
     ]
    },
    {
     "name": "stdout",
     "output_type": "stream",
     "text": [
      "[0]\tvalidation_0-rmse:59.89849\tvalidation_1-rmse:60.30710\n",
      "[167]\tvalidation_0-rmse:15.19452\tvalidation_1-rmse:32.32087\n",
      "Fold: 1/5 score = 1034.85807\n",
      "[0]\tvalidation_0-rmse:60.10921\tvalidation_1-rmse:59.24111\n",
      "[193]\tvalidation_0-rmse:14.07471\tvalidation_1-rmse:31.72048\n",
      "Fold: 2/5 score = 1001.06404\n"
     ]
    },
    {
     "name": "stderr",
     "output_type": "stream",
     "text": [
      "[I 2023-09-01 07:20:35,214] Trial 52 pruned. \n"
     ]
    },
    {
     "name": "stdout",
     "output_type": "stream",
     "text": [
      "[0]\tvalidation_0-rmse:62.87781\tvalidation_1-rmse:63.12869\n",
      "[460]\tvalidation_0-rmse:20.46514\tvalidation_1-rmse:32.08060\n",
      "Fold: 1/5 score = 1030.59249\n",
      "[0]\tvalidation_0-rmse:63.14050\tvalidation_1-rmse:62.10902\n",
      "[576]\tvalidation_0-rmse:19.03907\tvalidation_1-rmse:31.32085\n",
      "Fold: 2/5 score = 983.20400\n"
     ]
    },
    {
     "name": "stderr",
     "output_type": "stream",
     "text": [
      "[I 2023-09-01 07:27:11,264] Trial 53 pruned. \n"
     ]
    },
    {
     "name": "stdout",
     "output_type": "stream",
     "text": [
      "[0]\tvalidation_0-rmse:63.28715\tvalidation_1-rmse:63.54817\n",
      "[555]\tvalidation_0-rmse:19.03708\tvalidation_1-rmse:31.84489\n",
      "Fold: 1/5 score = 1012.47272\n",
      "[0]\tvalidation_0-rmse:63.53014\tvalidation_1-rmse:62.48849\n",
      "[812]\tvalidation_0-rmse:16.50735\tvalidation_1-rmse:30.92536\n",
      "Fold: 2/5 score = 955.46085\n",
      "[0]\tvalidation_0-rmse:63.17493\tvalidation_1-rmse:63.96594\n",
      "[673]\tvalidation_0-rmse:17.83198\tvalidation_1-rmse:32.01542\n",
      "Fold: 3/5 score = 1024.39476\n",
      "[0]\tvalidation_0-rmse:63.16508\tvalidation_1-rmse:63.98727\n",
      "[885]\tvalidation_0-rmse:15.88810\tvalidation_1-rmse:30.76573\n",
      "Fold: 4/5 score = 946.02395\n",
      "[0]\tvalidation_0-rmse:63.46735\tvalidation_1-rmse:62.76939\n",
      "[442]\tvalidation_0-rmse:20.49745\tvalidation_1-rmse:31.27912\n",
      "Fold: 5/5 score = 977.29135\n"
     ]
    },
    {
     "name": "stderr",
     "output_type": "stream",
     "text": [
      "[I 2023-09-01 07:54:38,041] Trial 54 finished with value: 983.128725214919 and parameters: {'booster': 'dart', 'lambda': 0.0008785708493054807, 'alpha': 0.5694946785798438, 'subsample': 0.7201181121383341, 'colsample_bytree': 0.2636612336174427, 'n_estimators': 900, 'max_depth': 8, 'min_child_weight': 4, 'eta': 0.010562608280348551, 'gamma': 0.1760736900533762, 'grow_policy': 'depthwise', 'sample_type': 'weighted', 'normalize_type': 'forest', 'rate_drop': 0.001718990745800265, 'skip_drop': 3.8369440367835025e-07}. Best is trial 27 with value: 981.3983846204034.\n"
     ]
    },
    {
     "name": "stdout",
     "output_type": "stream",
     "text": [
      "[0]\tvalidation_0-rmse:63.41641\tvalidation_1-rmse:63.64645\n",
      "[669]\tvalidation_0-rmse:20.66957\tvalidation_1-rmse:31.90838\n",
      "Fold: 1/5 score = 1017.12271\n",
      "[0]\tvalidation_0-rmse:63.66860\tvalidation_1-rmse:62.63672\n",
      "[746]\tvalidation_0-rmse:19.99190\tvalidation_1-rmse:31.04553\n",
      "Fold: 2/5 score = 963.40981\n",
      "[0]\tvalidation_0-rmse:63.30070\tvalidation_1-rmse:64.07767\n",
      "[766]\tvalidation_0-rmse:19.80641\tvalidation_1-rmse:31.85394\n",
      "Fold: 3/5 score = 1014.09328\n",
      "[0]\tvalidation_0-rmse:63.30065\tvalidation_1-rmse:64.11031\n",
      "[799]\tvalidation_0-rmse:19.56886\tvalidation_1-rmse:30.64276\n",
      "Fold: 4/5 score = 938.97883\n",
      "[0]\tvalidation_0-rmse:63.59649\tvalidation_1-rmse:62.89846\n",
      "[562]\tvalidation_0-rmse:21.57405\tvalidation_1-rmse:31.13016\n",
      "Fold: 5/5 score = 967.84393\n"
     ]
    },
    {
     "name": "stderr",
     "output_type": "stream",
     "text": [
      "[I 2023-09-01 08:23:56,510] Trial 55 finished with value: 980.2897129856863 and parameters: {'booster': 'dart', 'lambda': 0.0013832402932569302, 'alpha': 0.49645463869129147, 'subsample': 0.6302138957394344, 'colsample_bytree': 0.31542226177643606, 'n_estimators': 800, 'max_depth': 8, 'min_child_weight': 5, 'eta': 0.007909167949062632, 'gamma': 0.1965310637628225, 'grow_policy': 'depthwise', 'sample_type': 'weighted', 'normalize_type': 'forest', 'rate_drop': 0.0011687069248622537, 'skip_drop': 2.3699561905435337e-06}. Best is trial 55 with value: 980.2897129856863.\n"
     ]
    },
    {
     "name": "stdout",
     "output_type": "stream",
     "text": [
      "[0]\tvalidation_0-rmse:63.28460\tvalidation_1-rmse:63.53028\n",
      "[459]\tvalidation_0-rmse:21.30626\tvalidation_1-rmse:31.78328\n",
      "Fold: 1/5 score = 1009.72825\n",
      "[0]\tvalidation_0-rmse:63.54317\tvalidation_1-rmse:62.52411\n",
      "[621]\tvalidation_0-rmse:19.58206\tvalidation_1-rmse:30.99438\n",
      "Fold: 2/5 score = 959.54939\n",
      "[0]\tvalidation_0-rmse:63.17613\tvalidation_1-rmse:63.94971\n",
      "[779]\tvalidation_0-rmse:18.23370\tvalidation_1-rmse:31.75090\n",
      "Fold: 3/5 score = 1007.60739\n",
      "[0]\tvalidation_0-rmse:63.17739\tvalidation_1-rmse:63.99992\n",
      "[799]\tvalidation_0-rmse:18.02780\tvalidation_1-rmse:30.60664\n",
      "Fold: 4/5 score = 936.70668\n",
      "[0]\tvalidation_0-rmse:63.48545\tvalidation_1-rmse:62.77043\n",
      "[475]\tvalidation_0-rmse:21.11732\tvalidation_1-rmse:31.09265\n",
      "Fold: 5/5 score = 965.37927\n"
     ]
    },
    {
     "name": "stderr",
     "output_type": "stream",
     "text": [
      "[I 2023-09-01 08:47:58,404] Trial 56 finished with value: 975.7941976397976 and parameters: {'booster': 'dart', 'lambda': 0.0009972244704848491, 'alpha': 0.0381416134631245, 'subsample': 0.6231084404211927, 'colsample_bytree': 0.3226943242082506, 'n_estimators': 800, 'max_depth': 8, 'min_child_weight': 5, 'eta': 0.01022472982071, 'gamma': 0.15978872137516043, 'grow_policy': 'depthwise', 'sample_type': 'weighted', 'normalize_type': 'forest', 'rate_drop': 0.0015720690597045533, 'skip_drop': 2.1804840024710726e-06}. Best is trial 56 with value: 975.7941976397976.\n"
     ]
    },
    {
     "name": "stdout",
     "output_type": "stream",
     "text": [
      "[0]\tvalidation_0-rmse:63.32303\tvalidation_1-rmse:63.58706\n",
      "[525]\tvalidation_0-rmse:20.04750\tvalidation_1-rmse:31.89625\n",
      "Fold: 1/5 score = 1016.20777\n",
      "[0]\tvalidation_0-rmse:63.58385\tvalidation_1-rmse:62.55238\n",
      "[799]\tvalidation_0-rmse:17.55117\tvalidation_1-rmse:30.88106\n",
      "Fold: 2/5 score = 953.23058\n",
      "[0]\tvalidation_0-rmse:63.22980\tvalidation_1-rmse:64.00090\n",
      "[742]\tvalidation_0-rmse:17.99927\tvalidation_1-rmse:31.90582\n",
      "Fold: 3/5 score = 1016.59705\n",
      "[0]\tvalidation_0-rmse:63.21131\tvalidation_1-rmse:64.03038\n",
      "[799]\tvalidation_0-rmse:17.63704\tvalidation_1-rmse:30.63269\n",
      "Fold: 4/5 score = 938.36156\n",
      "[0]\tvalidation_0-rmse:63.51797\tvalidation_1-rmse:62.81350\n",
      "[502]\tvalidation_0-rmse:20.52897\tvalidation_1-rmse:31.22017\n"
     ]
    },
    {
     "name": "stderr",
     "output_type": "stream",
     "text": [
      "[I 2023-09-01 08:48:32,580] Trial 57 finished with value: 979.3903688220311 and parameters: {'booster': 'gbtree', 'lambda': 0.0008509275657239065, 'alpha': 0.19097475000344746, 'subsample': 0.5677923253766696, 'colsample_bytree': 0.3212377727759821, 'n_estimators': 800, 'max_depth': 9, 'min_child_weight': 5, 'eta': 0.00926062677493094, 'gamma': 0.17437700824455443, 'grow_policy': 'depthwise'}. Best is trial 56 with value: 975.7941976397976.\n"
     ]
    },
    {
     "name": "stdout",
     "output_type": "stream",
     "text": [
      "Fold: 5/5 score = 972.55489\n",
      "[0]\tvalidation_0-rmse:63.37445\tvalidation_1-rmse:63.62379\n",
      "[597]\tvalidation_0-rmse:20.11880\tvalidation_1-rmse:31.81868\n",
      "Fold: 1/5 score = 1012.34003\n",
      "[0]\tvalidation_0-rmse:63.63418\tvalidation_1-rmse:62.59610\n",
      "[699]\tvalidation_0-rmse:19.31917\tvalidation_1-rmse:31.14118\n",
      "Fold: 2/5 score = 969.12286\n",
      "[0]\tvalidation_0-rmse:63.27550\tvalidation_1-rmse:64.04752\n",
      "[699]\tvalidation_0-rmse:19.07169\tvalidation_1-rmse:31.95485\n",
      "Fold: 3/5 score = 1020.56823\n",
      "[0]\tvalidation_0-rmse:63.26118\tvalidation_1-rmse:64.08238\n",
      "[699]\tvalidation_0-rmse:19.21591\tvalidation_1-rmse:30.57390\n",
      "Fold: 4/5 score = 934.72231\n",
      "[0]\tvalidation_0-rmse:63.56324\tvalidation_1-rmse:62.86184\n",
      "[474]\tvalidation_0-rmse:21.62261\tvalidation_1-rmse:31.29594\n"
     ]
    },
    {
     "name": "stderr",
     "output_type": "stream",
     "text": [
      "[I 2023-09-01 08:49:05,535] Trial 58 finished with value: 983.1962158193434 and parameters: {'booster': 'gbtree', 'lambda': 0.0009625607820988266, 'alpha': 0.050705218956218406, 'subsample': 0.5582024762395661, 'colsample_bytree': 0.3189224888093246, 'n_estimators': 700, 'max_depth': 9, 'min_child_weight': 5, 'eta': 0.008325205794535127, 'gamma': 0.1753138214666424, 'grow_policy': 'depthwise'}. Best is trial 56 with value: 975.7941976397976.\n"
     ]
    },
    {
     "name": "stdout",
     "output_type": "stream",
     "text": [
      "Fold: 5/5 score = 979.22765\n",
      "[0]\tvalidation_0-rmse:63.73785\tvalidation_1-rmse:63.96094\n",
      "[699]\tvalidation_0-rmse:37.80045\tvalidation_1-rmse:40.84732\n",
      "Fold: 1/5 score = 1668.50316\n",
      "[0]\tvalidation_0-rmse:63.99411\tvalidation_1-rmse:62.93134\n",
      "[699]\tvalidation_0-rmse:37.88324\tvalidation_1-rmse:39.86567\n",
      "Fold: 2/5 score = 1589.27135\n",
      "[0]\tvalidation_0-rmse:63.63115\tvalidation_1-rmse:64.38880\n",
      "[699]\tvalidation_0-rmse:37.67663\tvalidation_1-rmse:41.04980\n",
      "Fold: 3/5 score = 1685.08610\n",
      "[0]\tvalidation_0-rmse:63.62073\tvalidation_1-rmse:64.42239\n",
      "[699]\tvalidation_0-rmse:37.78920\tvalidation_1-rmse:40.74723\n"
     ]
    },
    {
     "name": "stderr",
     "output_type": "stream",
     "text": [
      "[I 2023-09-01 08:49:41,054] Trial 59 pruned. \n"
     ]
    },
    {
     "name": "stdout",
     "output_type": "stream",
     "text": [
      "Fold: 4/5 score = 1660.33690\n",
      "[0]\tvalidation_0-rmse:63.31199\tvalidation_1-rmse:63.57167\n",
      "[514]\tvalidation_0-rmse:20.84053\tvalidation_1-rmse:31.79974\n",
      "Fold: 1/5 score = 1009.16693\n",
      "[0]\tvalidation_0-rmse:63.57809\tvalidation_1-rmse:62.52967\n",
      "[676]\tvalidation_0-rmse:19.37916\tvalidation_1-rmse:31.01911\n",
      "Fold: 2/5 score = 961.48029\n",
      "[0]\tvalidation_0-rmse:63.21643\tvalidation_1-rmse:63.99242\n",
      "[549]\tvalidation_0-rmse:20.52958\tvalidation_1-rmse:31.95563\n",
      "Fold: 3/5 score = 1020.16580\n",
      "[0]\tvalidation_0-rmse:63.20330\tvalidation_1-rmse:64.02153\n",
      "[732]\tvalidation_0-rmse:18.89608\tvalidation_1-rmse:30.69047\n",
      "Fold: 4/5 score = 940.98750\n",
      "[0]\tvalidation_0-rmse:63.50822\tvalidation_1-rmse:62.79560\n",
      "[479]\tvalidation_0-rmse:21.29376\tvalidation_1-rmse:31.26179\n"
     ]
    },
    {
     "name": "stderr",
     "output_type": "stream",
     "text": [
      "[I 2023-09-01 08:50:12,219] Trial 60 finished with value: 981.6250914723043 and parameters: {'booster': 'gbtree', 'lambda': 0.00024836067835835407, 'alpha': 0.006651348839759771, 'subsample': 0.5228007829467657, 'colsample_bytree': 0.3959696274501084, 'n_estimators': 800, 'max_depth': 9, 'min_child_weight': 6, 'eta': 0.009500422179196548, 'gamma': 0.05191385360096287, 'grow_policy': 'depthwise'}. Best is trial 56 with value: 975.7941976397976.\n"
     ]
    },
    {
     "name": "stdout",
     "output_type": "stream",
     "text": [
      "Fold: 5/5 score = 976.32493\n",
      "[0]\tvalidation_0-rmse:63.36946\tvalidation_1-rmse:63.61049\n",
      "[799]\tvalidation_0-rmse:19.36296\tvalidation_1-rmse:31.71829\n",
      "Fold: 1/5 score = 1005.81343\n",
      "[0]\tvalidation_0-rmse:63.63409\tvalidation_1-rmse:62.58896\n",
      "[799]\tvalidation_0-rmse:19.40321\tvalidation_1-rmse:31.19297\n",
      "Fold: 2/5 score = 972.15324\n",
      "[0]\tvalidation_0-rmse:63.26955\tvalidation_1-rmse:64.03972\n",
      "[799]\tvalidation_0-rmse:19.26965\tvalidation_1-rmse:31.74600\n",
      "Fold: 3/5 score = 1006.66934\n",
      "[0]\tvalidation_0-rmse:63.25489\tvalidation_1-rmse:64.07542\n",
      "[799]\tvalidation_0-rmse:19.45010\tvalidation_1-rmse:30.65524\n",
      "Fold: 4/5 score = 939.74391\n",
      "[0]\tvalidation_0-rmse:63.56717\tvalidation_1-rmse:62.85447\n",
      "[548]\tvalidation_0-rmse:21.63024\tvalidation_1-rmse:31.11571\n"
     ]
    },
    {
     "name": "stderr",
     "output_type": "stream",
     "text": [
      "[I 2023-09-01 08:50:48,705] Trial 61 finished with value: 978.2212670647295 and parameters: {'booster': 'gbtree', 'lambda': 0.00031915564312226324, 'alpha': 0.013298146427535485, 'subsample': 0.49019221623221443, 'colsample_bytree': 0.389509081124486, 'n_estimators': 800, 'max_depth': 9, 'min_child_weight': 6, 'eta': 0.008436275781790051, 'gamma': 0.05707773191955978, 'grow_policy': 'depthwise'}. Best is trial 56 with value: 975.7941976397976.\n"
     ]
    },
    {
     "name": "stdout",
     "output_type": "stream",
     "text": [
      "Fold: 5/5 score = 966.72641\n",
      "[0]\tvalidation_0-rmse:63.66660\tvalidation_1-rmse:63.89468\n",
      "[799]\tvalidation_0-rmse:26.32438\tvalidation_1-rmse:32.90426\n",
      "Fold: 1/5 score = 1082.69062\n",
      "[0]\tvalidation_0-rmse:63.92497\tvalidation_1-rmse:62.86176\n",
      "[799]\tvalidation_0-rmse:26.39906\tvalidation_1-rmse:32.11437\n"
     ]
    },
    {
     "name": "stderr",
     "output_type": "stream",
     "text": [
      "[I 2023-09-01 08:51:06,880] Trial 62 pruned. \n"
     ]
    },
    {
     "name": "stdout",
     "output_type": "stream",
     "text": [
      "Fold: 2/5 score = 1031.33251\n",
      "[0]\tvalidation_0-rmse:63.36640\tvalidation_1-rmse:63.60241\n",
      "[619]\tvalidation_0-rmse:21.52581\tvalidation_1-rmse:31.93197\n",
      "Fold: 1/5 score = 1018.68227\n",
      "[0]\tvalidation_0-rmse:63.62466\tvalidation_1-rmse:62.58414\n",
      "[681]\tvalidation_0-rmse:21.12447\tvalidation_1-rmse:31.07155\n",
      "Fold: 2/5 score = 964.37776\n",
      "[0]\tvalidation_0-rmse:63.25681\tvalidation_1-rmse:64.03442\n",
      "[600]\tvalidation_0-rmse:21.66125\tvalidation_1-rmse:31.92054\n",
      "Fold: 3/5 score = 1018.26001\n",
      "[0]\tvalidation_0-rmse:63.24078\tvalidation_1-rmse:64.06439\n",
      "[799]\tvalidation_0-rmse:20.19517\tvalidation_1-rmse:30.69801\n",
      "Fold: 4/5 score = 942.33142\n",
      "[0]\tvalidation_0-rmse:63.56136\tvalidation_1-rmse:62.85246\n",
      "[543]\tvalidation_0-rmse:22.25304\tvalidation_1-rmse:31.16479\n"
     ]
    },
    {
     "name": "stderr",
     "output_type": "stream",
     "text": [
      "[I 2023-09-01 08:51:38,461] Trial 63 finished with value: 982.6079800016154 and parameters: {'booster': 'gbtree', 'lambda': 0.0002926787973184153, 'alpha': 0.009374991383775734, 'subsample': 0.4517118144830595, 'colsample_bytree': 0.39299078339888477, 'n_estimators': 800, 'max_depth': 9, 'min_child_weight': 7, 'eta': 0.008735411131568999, 'gamma': 0.02051570766101738, 'grow_policy': 'depthwise'}. Best is trial 56 with value: 975.7941976397976.\n"
     ]
    },
    {
     "name": "stdout",
     "output_type": "stream",
     "text": [
      "Fold: 5/5 score = 969.38844\n",
      "[0]\tvalidation_0-rmse:63.62803\tvalidation_1-rmse:63.86164\n",
      "[599]\tvalidation_0-rmse:27.11261\tvalidation_1-rmse:33.06322\n",
      "Fold: 1/5 score = 1093.17640\n",
      "[0]\tvalidation_0-rmse:63.89049\tvalidation_1-rmse:62.83458\n",
      "[599]\tvalidation_0-rmse:27.21345\tvalidation_1-rmse:32.22115\n",
      "Fold: 2/5 score = 1038.20263\n",
      "[0]\tvalidation_0-rmse:63.52506\tvalidation_1-rmse:64.28572\n",
      "[599]\tvalidation_0-rmse:27.00975\tvalidation_1-rmse:33.10993\n",
      "Fold: 3/5 score = 1096.26773\n",
      "[0]\tvalidation_0-rmse:63.51376\tvalidation_1-rmse:64.31717\n",
      "[599]\tvalidation_0-rmse:27.18360\tvalidation_1-rmse:32.47422\n"
     ]
    },
    {
     "name": "stderr",
     "output_type": "stream",
     "text": [
      "[I 2023-09-01 08:52:06,257] Trial 64 pruned. \n"
     ]
    },
    {
     "name": "stdout",
     "output_type": "stream",
     "text": [
      "Fold: 4/5 score = 1054.57503\n",
      "[0]\tvalidation_0-rmse:61.17812\tvalidation_1-rmse:61.50864\n",
      "[154]\tvalidation_0-rmse:19.63609\tvalidation_1-rmse:32.31388\n",
      "Fold: 1/5 score = 1039.91043\n",
      "[0]\tvalidation_0-rmse:61.52594\tvalidation_1-rmse:60.58674\n",
      "[220]\tvalidation_0-rmse:17.18331\tvalidation_1-rmse:31.88766\n"
     ]
    },
    {
     "name": "stderr",
     "output_type": "stream",
     "text": [
      "[I 2023-09-01 08:52:11,674] Trial 65 pruned. \n"
     ]
    },
    {
     "name": "stdout",
     "output_type": "stream",
     "text": [
      "Fold: 2/5 score = 1011.35593\n",
      "[0]\tvalidation_0-rmse:63.16694\tvalidation_1-rmse:63.43154\n",
      "[406]\tvalidation_0-rmse:21.21019\tvalidation_1-rmse:31.80118\n",
      "Fold: 1/5 score = 1010.72088\n",
      "[0]\tvalidation_0-rmse:63.43913\tvalidation_1-rmse:62.38801\n",
      "[526]\tvalidation_0-rmse:19.80765\tvalidation_1-rmse:30.88359\n",
      "Fold: 2/5 score = 952.89555\n",
      "[0]\tvalidation_0-rmse:63.07778\tvalidation_1-rmse:63.85988\n",
      "[513]\tvalidation_0-rmse:19.89090\tvalidation_1-rmse:31.78454\n",
      "Fold: 3/5 score = 1009.74741\n",
      "[0]\tvalidation_0-rmse:63.05931\tvalidation_1-rmse:63.88565\n",
      "[577]\tvalidation_0-rmse:19.18721\tvalidation_1-rmse:30.77415\n",
      "Fold: 4/5 score = 945.03754\n",
      "[0]\tvalidation_0-rmse:63.36325\tvalidation_1-rmse:62.66165\n",
      "[337]\tvalidation_0-rmse:22.15197\tvalidation_1-rmse:31.20328\n"
     ]
    },
    {
     "name": "stderr",
     "output_type": "stream",
     "text": [
      "[I 2023-09-01 08:52:37,745] Trial 66 finished with value: 978.0665576555497 and parameters: {'booster': 'gbtree', 'lambda': 0.0003317627299438403, 'alpha': 0.0030955475234675594, 'subsample': 0.5231752562498693, 'colsample_bytree': 0.45292473372687225, 'n_estimators': 700, 'max_depth': 9, 'min_child_weight': 7, 'eta': 0.012357344080294048, 'gamma': 0.040005239172626834, 'grow_policy': 'depthwise'}. Best is trial 56 with value: 975.7941976397976.\n"
     ]
    },
    {
     "name": "stdout",
     "output_type": "stream",
     "text": [
      "Fold: 5/5 score = 971.93140\n",
      "[0]\tvalidation_0-rmse:63.72991\tvalidation_1-rmse:63.95492\n",
      "[699]\tvalidation_0-rmse:36.03971\tvalidation_1-rmse:39.20025\n",
      "Fold: 1/5 score = 1536.65950\n",
      "[0]\tvalidation_0-rmse:63.98671\tvalidation_1-rmse:62.92195\n",
      "[699]\tvalidation_0-rmse:36.12749\tvalidation_1-rmse:38.22680\n",
      "Fold: 2/5 score = 1461.28815\n",
      "[0]\tvalidation_0-rmse:63.62452\tvalidation_1-rmse:64.38408\n",
      "[699]\tvalidation_0-rmse:35.93038\tvalidation_1-rmse:39.34741\n",
      "Fold: 3/5 score = 1548.21873\n",
      "[0]\tvalidation_0-rmse:63.61406\tvalidation_1-rmse:64.41587\n",
      "[699]\tvalidation_0-rmse:36.02193\tvalidation_1-rmse:39.09752\n"
     ]
    },
    {
     "name": "stderr",
     "output_type": "stream",
     "text": [
      "[I 2023-09-01 08:53:15,248] Trial 67 pruned. \n"
     ]
    },
    {
     "name": "stdout",
     "output_type": "stream",
     "text": [
      "Fold: 4/5 score = 1528.61617\n",
      "[0]\tvalidation_0-rmse:57.96675\tvalidation_1-rmse:58.65788\n",
      "[105]\tvalidation_0-rmse:15.26745\tvalidation_1-rmse:32.96171\n",
      "Fold: 1/5 score = 1062.68114\n",
      "[0]\tvalidation_0-rmse:58.20545\tvalidation_1-rmse:57.47657\n",
      "[148]\tvalidation_0-rmse:12.62555\tvalidation_1-rmse:32.37783\n"
     ]
    },
    {
     "name": "stderr",
     "output_type": "stream",
     "text": [
      "[I 2023-09-01 08:53:20,926] Trial 68 pruned. \n"
     ]
    },
    {
     "name": "stdout",
     "output_type": "stream",
     "text": [
      "Fold: 2/5 score = 1019.53911\n",
      "[0]\tvalidation_0-rmse:63.58998\tvalidation_1-rmse:63.81433\n",
      "[699]\tvalidation_0-rmse:30.58625\tvalidation_1-rmse:32.65012\n",
      "Fold: 1/5 score = 1066.03052\n",
      "[0]\tvalidation_0-rmse:63.84664\tvalidation_1-rmse:62.78605\n",
      "[699]\tvalidation_0-rmse:30.78506\tvalidation_1-rmse:32.10988\n",
      "Fold: 2/5 score = 1031.04463\n",
      "[0]\tvalidation_0-rmse:63.48694\tvalidation_1-rmse:64.24257\n",
      "[699]\tvalidation_0-rmse:30.54474\tvalidation_1-rmse:32.77707\n",
      "Fold: 3/5 score = 1074.33627\n",
      "[0]\tvalidation_0-rmse:63.47850\tvalidation_1-rmse:64.27600\n",
      "[699]\tvalidation_0-rmse:30.77291\tvalidation_1-rmse:31.93972\n"
     ]
    },
    {
     "name": "stderr",
     "output_type": "stream",
     "text": [
      "[I 2023-09-01 08:53:33,285] Trial 69 pruned. \n"
     ]
    },
    {
     "name": "stdout",
     "output_type": "stream",
     "text": [
      "Fold: 4/5 score = 1020.14558\n",
      "[0]\tvalidation_0-rmse:63.07195\tvalidation_1-rmse:63.30725\n",
      "[472]\tvalidation_0-rmse:19.61156\tvalidation_1-rmse:31.90305\n",
      "Fold: 1/5 score = 1014.96168\n",
      "[0]\tvalidation_0-rmse:63.33491\tvalidation_1-rmse:62.29216\n",
      "[520]\tvalidation_0-rmse:19.12697\tvalidation_1-rmse:30.85719\n",
      "Fold: 2/5 score = 950.96647\n",
      "[0]\tvalidation_0-rmse:62.97673\tvalidation_1-rmse:63.76874\n",
      "[399]\tvalidation_0-rmse:20.61785\tvalidation_1-rmse:31.90494\n",
      "Fold: 3/5 score = 1015.80236\n",
      "[0]\tvalidation_0-rmse:62.96769\tvalidation_1-rmse:63.79877\n",
      "[461]\tvalidation_0-rmse:19.88962\tvalidation_1-rmse:30.85745\n",
      "Fold: 4/5 score = 951.17050\n",
      "[0]\tvalidation_0-rmse:63.27244\tvalidation_1-rmse:62.56459\n",
      "[353]\tvalidation_0-rmse:21.37307\tvalidation_1-rmse:31.17024\n"
     ]
    },
    {
     "name": "stderr",
     "output_type": "stream",
     "text": [
      "[I 2023-09-01 08:53:57,406] Trial 70 finished with value: 980.7244366097926 and parameters: {'booster': 'gbtree', 'lambda': 0.001523530802118312, 'alpha': 0.03701624985632569, 'subsample': 0.506218374271686, 'colsample_bytree': 0.4384754933866269, 'n_estimators': 800, 'max_depth': 9, 'min_child_weight': 7, 'eta': 0.014369706087111767, 'gamma': 0.03576081721251322, 'grow_policy': 'depthwise'}. Best is trial 56 with value: 975.7941976397976.\n"
     ]
    },
    {
     "name": "stdout",
     "output_type": "stream",
     "text": [
      "Fold: 5/5 score = 970.72116\n",
      "[0]\tvalidation_0-rmse:63.25769\tvalidation_1-rmse:63.51992\n",
      "[578]\tvalidation_0-rmse:19.93770\tvalidation_1-rmse:31.77164\n",
      "Fold: 1/5 score = 1007.93075\n",
      "[0]\tvalidation_0-rmse:63.52238\tvalidation_1-rmse:62.48203\n",
      "[709]\tvalidation_0-rmse:18.66970\tvalidation_1-rmse:31.06415\n",
      "Fold: 2/5 score = 963.07233\n",
      "[0]\tvalidation_0-rmse:63.16745\tvalidation_1-rmse:63.94733\n",
      "[650]\tvalidation_0-rmse:19.10869\tvalidation_1-rmse:31.97070\n",
      "Fold: 3/5 score = 1020.76661\n",
      "[0]\tvalidation_0-rmse:63.14470\tvalidation_1-rmse:63.97114\n",
      "[713]\tvalidation_0-rmse:18.67475\tvalidation_1-rmse:30.71368\n",
      "Fold: 4/5 score = 941.16254\n",
      "[0]\tvalidation_0-rmse:63.44530\tvalidation_1-rmse:62.73238\n",
      "[401]\tvalidation_0-rmse:21.99899\tvalidation_1-rmse:31.01919\n"
     ]
    },
    {
     "name": "stderr",
     "output_type": "stream",
     "text": [
      "[I 2023-09-01 08:54:28,742] Trial 71 finished with value: 978.6842529066944 and parameters: {'booster': 'gbtree', 'lambda': 0.0014535676940343513, 'alpha': 0.016521820469951515, 'subsample': 0.5469196849685934, 'colsample_bytree': 0.4154491670902751, 'n_estimators': 800, 'max_depth': 9, 'min_child_weight': 7, 'eta': 0.010652911667287941, 'gamma': 0.03187176214455174, 'grow_policy': 'depthwise'}. Best is trial 56 with value: 975.7941976397976.\n"
     ]
    },
    {
     "name": "stdout",
     "output_type": "stream",
     "text": [
      "Fold: 5/5 score = 960.48903\n",
      "[0]\tvalidation_0-rmse:63.01455\tvalidation_1-rmse:63.29327\n",
      "[380]\tvalidation_0-rmse:20.68868\tvalidation_1-rmse:31.81509\n",
      "Fold: 1/5 score = 1011.55643\n",
      "[0]\tvalidation_0-rmse:63.26914\tvalidation_1-rmse:62.24771\n",
      "[530]\tvalidation_0-rmse:18.91941\tvalidation_1-rmse:30.95645\n",
      "Fold: 2/5 score = 955.82561\n",
      "[0]\tvalidation_0-rmse:62.92573\tvalidation_1-rmse:63.70917\n",
      "[574]\tvalidation_0-rmse:18.35376\tvalidation_1-rmse:31.83346\n",
      "Fold: 3/5 score = 1010.69171\n",
      "[0]\tvalidation_0-rmse:62.91593\tvalidation_1-rmse:63.75012\n",
      "[511]\tvalidation_0-rmse:19.05193\tvalidation_1-rmse:30.74347\n",
      "Fold: 4/5 score = 943.77356\n",
      "[0]\tvalidation_0-rmse:63.20507\tvalidation_1-rmse:62.50908\n",
      "[336]\tvalidation_0-rmse:21.36469\tvalidation_1-rmse:31.14517\n"
     ]
    },
    {
     "name": "stderr",
     "output_type": "stream",
     "text": [
      "[I 2023-09-01 08:54:53,227] Trial 72 finished with value: 978.2028102009206 and parameters: {'booster': 'gbtree', 'lambda': 0.0014820071605469766, 'alpha': 0.035954179608404156, 'subsample': 0.5351052652165543, 'colsample_bytree': 0.4296142480608039, 'n_estimators': 800, 'max_depth': 9, 'min_child_weight': 8, 'eta': 0.015475469262568004, 'gamma': 0.035476927215808154, 'grow_policy': 'depthwise'}. Best is trial 56 with value: 975.7941976397976.\n"
     ]
    },
    {
     "name": "stdout",
     "output_type": "stream",
     "text": [
      "Fold: 5/5 score = 969.16675\n",
      "[0]\tvalidation_0-rmse:63.07881\tvalidation_1-rmse:63.32968\n",
      "[357]\tvalidation_0-rmse:21.77202\tvalidation_1-rmse:31.83289\n",
      "Fold: 1/5 score = 1011.64667\n",
      "[0]\tvalidation_0-rmse:63.35021\tvalidation_1-rmse:62.31300\n",
      "[440]\tvalidation_0-rmse:20.76659\tvalidation_1-rmse:30.93550\n",
      "Fold: 2/5 score = 955.30357\n",
      "[0]\tvalidation_0-rmse:62.98463\tvalidation_1-rmse:63.75421\n",
      "[404]\tvalidation_0-rmse:21.16578\tvalidation_1-rmse:31.87712\n",
      "Fold: 3/5 score = 1015.11872\n",
      "[0]\tvalidation_0-rmse:62.97256\tvalidation_1-rmse:63.82031\n",
      "[452]\tvalidation_0-rmse:20.60785\tvalidation_1-rmse:30.77095\n",
      "Fold: 4/5 score = 944.79482\n",
      "[0]\tvalidation_0-rmse:63.27817\tvalidation_1-rmse:62.58318\n",
      "[285]\tvalidation_0-rmse:22.91951\tvalidation_1-rmse:31.02739\n"
     ]
    },
    {
     "name": "stderr",
     "output_type": "stream",
     "text": [
      "[I 2023-09-01 08:55:15,612] Trial 73 finished with value: 977.588950161144 and parameters: {'booster': 'gbtree', 'lambda': 0.0008618985023190942, 'alpha': 0.01865548834068965, 'subsample': 0.49518181878361966, 'colsample_bytree': 0.47459695289883996, 'n_estimators': 800, 'max_depth': 9, 'min_child_weight': 8, 'eta': 0.014198046092071454, 'gamma': 0.031948046689840054, 'grow_policy': 'depthwise'}. Best is trial 56 with value: 975.7941976397976.\n"
     ]
    },
    {
     "name": "stdout",
     "output_type": "stream",
     "text": [
      "Fold: 5/5 score = 961.08096\n",
      "[0]\tvalidation_0-rmse:60.77441\tvalidation_1-rmse:61.20095\n",
      "[149]\tvalidation_0-rmse:19.23862\tvalidation_1-rmse:32.54852\n",
      "Fold: 1/5 score = 1042.24883\n",
      "[0]\tvalidation_0-rmse:61.13655\tvalidation_1-rmse:60.24055\n",
      "[123]\tvalidation_0-rmse:20.55538\tvalidation_1-rmse:31.44853\n",
      "Fold: 2/5 score = 986.07336\n",
      "[0]\tvalidation_0-rmse:60.76753\tvalidation_1-rmse:61.63069\n",
      "[154]\tvalidation_0-rmse:19.15559\tvalidation_1-rmse:32.15229\n",
      "Fold: 3/5 score = 1025.63289\n",
      "[0]\tvalidation_0-rmse:60.73556\tvalidation_1-rmse:61.69323\n",
      "[124]\tvalidation_0-rmse:20.16770\tvalidation_1-rmse:30.93694\n",
      "Fold: 4/5 score = 948.42100\n",
      "[0]\tvalidation_0-rmse:61.09728\tvalidation_1-rmse:60.45874\n",
      "[105]\tvalidation_0-rmse:21.05721\tvalidation_1-rmse:31.26627\n"
     ]
    },
    {
     "name": "stderr",
     "output_type": "stream",
     "text": [
      "[I 2023-09-01 08:55:27,159] Trial 74 finished with value: 992.5457617339613 and parameters: {'booster': 'gbtree', 'lambda': 0.00045939000944238844, 'alpha': 0.019085851984915126, 'subsample': 0.4676400442623549, 'colsample_bytree': 0.4775880777734803, 'n_estimators': 700, 'max_depth': 9, 'min_child_weight': 8, 'eta': 0.0596615860199002, 'gamma': 0.10521745942981175, 'grow_policy': 'depthwise'}. Best is trial 56 with value: 975.7941976397976.\n"
     ]
    },
    {
     "name": "stdout",
     "output_type": "stream",
     "text": [
      "Fold: 5/5 score = 960.35273\n",
      "[0]\tvalidation_0-rmse:63.53338\tvalidation_1-rmse:63.75665\n",
      "[699]\tvalidation_0-rmse:23.91582\tvalidation_1-rmse:31.95252\n",
      "Fold: 1/5 score = 1020.96351\n",
      "[0]\tvalidation_0-rmse:63.79768\tvalidation_1-rmse:62.74296\n",
      "[699]\tvalidation_0-rmse:24.04142\tvalidation_1-rmse:31.10355\n",
      "Fold: 2/5 score = 967.43102\n",
      "[0]\tvalidation_0-rmse:63.43556\tvalidation_1-rmse:64.19524\n",
      "[699]\tvalidation_0-rmse:23.90026\tvalidation_1-rmse:31.91111\n",
      "Fold: 3/5 score = 1018.10770\n",
      "[0]\tvalidation_0-rmse:63.42207\tvalidation_1-rmse:64.23205\n",
      "[699]\tvalidation_0-rmse:23.94422\tvalidation_1-rmse:31.03876\n"
     ]
    },
    {
     "name": "stderr",
     "output_type": "stream",
     "text": [
      "[I 2023-09-01 08:55:57,234] Trial 75 pruned. \n"
     ]
    },
    {
     "name": "stdout",
     "output_type": "stream",
     "text": [
      "Fold: 4/5 score = 963.40463\n",
      "[0]\tvalidation_0-rmse:62.19128\tvalidation_1-rmse:62.52541\n",
      "[185]\tvalidation_0-rmse:20.83870\tvalidation_1-rmse:32.25017\n",
      "Fold: 1/5 score = 1035.38066\n",
      "[0]\tvalidation_0-rmse:62.46672\tvalidation_1-rmse:61.46744\n",
      "[253]\tvalidation_0-rmse:19.11904\tvalidation_1-rmse:30.84217\n",
      "Fold: 2/5 score = 944.38043\n",
      "[0]\tvalidation_0-rmse:62.14392\tvalidation_1-rmse:62.94708\n",
      "[274]\tvalidation_0-rmse:18.60724\tvalidation_1-rmse:31.88022\n",
      "Fold: 3/5 score = 1013.77600\n",
      "[0]\tvalidation_0-rmse:62.08668\tvalidation_1-rmse:62.94956\n",
      "[259]\tvalidation_0-rmse:18.90627\tvalidation_1-rmse:30.50813\n",
      "Fold: 4/5 score = 930.45926\n",
      "[0]\tvalidation_0-rmse:62.41943\tvalidation_1-rmse:61.70933\n",
      "[175]\tvalidation_0-rmse:21.10682\tvalidation_1-rmse:31.34168\n"
     ]
    },
    {
     "name": "stderr",
     "output_type": "stream",
     "text": [
      "[I 2023-09-01 08:56:12,231] Trial 76 finished with value: 979.4216194899203 and parameters: {'booster': 'gbtree', 'lambda': 0.002027338838246757, 'alpha': 0.014634633769785117, 'subsample': 0.553218195350663, 'colsample_bytree': 0.36789236779694123, 'n_estimators': 800, 'max_depth': 9, 'min_child_weight': 8, 'eta': 0.03176251435163293, 'gamma': 0.4576007749297851, 'grow_policy': 'depthwise'}. Best is trial 56 with value: 975.7941976397976.\n"
     ]
    },
    {
     "name": "stdout",
     "output_type": "stream",
     "text": [
      "Fold: 5/5 score = 973.11175\n",
      "[0]\tvalidation_0-rmse:62.42566\tvalidation_1-rmse:62.74705\n",
      "[325]\tvalidation_0-rmse:18.61277\tvalidation_1-rmse:32.48133\n",
      "Fold: 1/5 score = 1049.06262\n",
      "[0]\tvalidation_0-rmse:62.67707\tvalidation_1-rmse:61.67603\n",
      "[236]\tvalidation_0-rmse:20.37518\tvalidation_1-rmse:30.99639\n",
      "Fold: 2/5 score = 958.08822\n",
      "[0]\tvalidation_0-rmse:62.35697\tvalidation_1-rmse:63.16137\n",
      "[275]\tvalidation_0-rmse:19.51350\tvalidation_1-rmse:31.95896\n",
      "Fold: 3/5 score = 1019.52274\n",
      "[0]\tvalidation_0-rmse:62.31959\tvalidation_1-rmse:63.16149\n",
      "[305]\tvalidation_0-rmse:19.14391\tvalidation_1-rmse:30.60604\n",
      "Fold: 4/5 score = 935.93944\n",
      "[0]\tvalidation_0-rmse:62.61894\tvalidation_1-rmse:61.93313\n",
      "[190]\tvalidation_0-rmse:21.59283\tvalidation_1-rmse:31.55555\n"
     ]
    },
    {
     "name": "stderr",
     "output_type": "stream",
     "text": [
      "[I 2023-09-01 08:56:28,428] Trial 77 finished with value: 990.8804993934707 and parameters: {'booster': 'gbtree', 'lambda': 0.00045602318637572004, 'alpha': 0.017073914608668316, 'subsample': 0.5420158090346088, 'colsample_bytree': 0.3623470502637905, 'n_estimators': 800, 'max_depth': 9, 'min_child_weight': 8, 'eta': 0.027278238028565157, 'gamma': 0.49443972530597413, 'grow_policy': 'depthwise'}. Best is trial 56 with value: 975.7941976397976.\n"
     ]
    },
    {
     "name": "stdout",
     "output_type": "stream",
     "text": [
      "Fold: 5/5 score = 991.78947\n",
      "[0]\tvalidation_0-rmse:55.17599\tvalidation_1-rmse:55.97875\n",
      "[75]\tvalidation_0-rmse:18.29403\tvalidation_1-rmse:33.70752\n",
      "Fold: 1/5 score = 1086.73778\n",
      "[0]\tvalidation_0-rmse:55.66829\tvalidation_1-rmse:55.02630\n",
      "[71]\tvalidation_0-rmse:18.58736\tvalidation_1-rmse:33.31996\n"
     ]
    },
    {
     "name": "stderr",
     "output_type": "stream",
     "text": [
      "[I 2023-09-01 08:56:32,129] Trial 78 pruned. \n"
     ]
    },
    {
     "name": "stdout",
     "output_type": "stream",
     "text": [
      "Fold: 2/5 score = 1045.85675\n",
      "[0]\tvalidation_0-rmse:61.98911\tvalidation_1-rmse:62.24845\n",
      "[319]\tvalidation_0-rmse:24.73510\tvalidation_1-rmse:32.11044\n",
      "Fold: 1/5 score = 1028.85755\n",
      "[0]\tvalidation_0-rmse:62.24706\tvalidation_1-rmse:61.25343\n",
      "[342]\tvalidation_0-rmse:24.53282\tvalidation_1-rmse:31.32707\n"
     ]
    },
    {
     "name": "stderr",
     "output_type": "stream",
     "text": [
      "[I 2023-09-01 08:56:36,875] Trial 79 pruned. \n"
     ]
    },
    {
     "name": "stdout",
     "output_type": "stream",
     "text": [
      "Fold: 2/5 score = 980.17118\n",
      "[0]\tvalidation_0-rmse:63.69932\tvalidation_1-rmse:63.92458\n",
      "[799]\tvalidation_0-rmse:28.97237\tvalidation_1-rmse:34.35146\n",
      "Fold: 1/5 score = 1180.02254\n",
      "[0]\tvalidation_0-rmse:63.95530\tvalidation_1-rmse:62.89409\n",
      "[799]\tvalidation_0-rmse:29.01759\tvalidation_1-rmse:33.45909\n"
     ]
    },
    {
     "name": "stderr",
     "output_type": "stream",
     "text": [
      "[I 2023-09-01 08:57:12,270] Trial 80 pruned. \n"
     ]
    },
    {
     "name": "stdout",
     "output_type": "stream",
     "text": [
      "Fold: 2/5 score = 1119.51076\n",
      "[0]\tvalidation_0-rmse:63.14753\tvalidation_1-rmse:63.42231\n",
      "[562]\tvalidation_0-rmse:19.70413\tvalidation_1-rmse:31.88792\n",
      "Fold: 1/5 score = 1015.91282\n",
      "[0]\tvalidation_0-rmse:63.40197\tvalidation_1-rmse:62.37360\n",
      "[528]\tvalidation_0-rmse:20.21360\tvalidation_1-rmse:30.99883\n",
      "Fold: 2/5 score = 960.44518\n",
      "[0]\tvalidation_0-rmse:63.05546\tvalidation_1-rmse:63.82981\n",
      "[551]\tvalidation_0-rmse:19.86951\tvalidation_1-rmse:31.83375\n",
      "Fold: 3/5 score = 1011.79994\n",
      "[0]\tvalidation_0-rmse:63.03977\tvalidation_1-rmse:63.85541\n",
      "[510]\tvalidation_0-rmse:20.23598\tvalidation_1-rmse:30.79917\n"
     ]
    },
    {
     "name": "stderr",
     "output_type": "stream",
     "text": [
      "[I 2023-09-01 08:57:33,206] Trial 81 pruned. \n"
     ]
    },
    {
     "name": "stdout",
     "output_type": "stream",
     "text": [
      "Fold: 4/5 score = 947.44864\n",
      "[0]\tvalidation_0-rmse:63.47260\tvalidation_1-rmse:63.71726\n",
      "[799]\tvalidation_0-rmse:21.59961\tvalidation_1-rmse:31.73122\n",
      "Fold: 1/5 score = 1006.61101\n",
      "[0]\tvalidation_0-rmse:63.73034\tvalidation_1-rmse:62.68061\n",
      "[799]\tvalidation_0-rmse:21.76879\tvalidation_1-rmse:31.03619\n",
      "Fold: 2/5 score = 963.17333\n",
      "[0]\tvalidation_0-rmse:63.37213\tvalidation_1-rmse:64.13538\n",
      "[749]\tvalidation_0-rmse:21.92841\tvalidation_1-rmse:31.88723\n",
      "Fold: 3/5 score = 1016.72241\n",
      "[0]\tvalidation_0-rmse:63.36132\tvalidation_1-rmse:64.17235\n",
      "[799]\tvalidation_0-rmse:21.69702\tvalidation_1-rmse:30.70658\n",
      "Fold: 4/5 score = 942.89385\n",
      "[0]\tvalidation_0-rmse:63.67055\tvalidation_1-rmse:62.95489\n",
      "[608]\tvalidation_0-rmse:22.98839\tvalidation_1-rmse:31.04315\n"
     ]
    },
    {
     "name": "stderr",
     "output_type": "stream",
     "text": [
      "[I 2023-09-01 08:58:08,244] Trial 82 finished with value: 978.5401543441501 and parameters: {'booster': 'gbtree', 'lambda': 0.0019772408527654922, 'alpha': 0.07665753493258981, 'subsample': 0.599200256250269, 'colsample_bytree': 0.41056343908807186, 'n_estimators': 800, 'max_depth': 8, 'min_child_weight': 7, 'eta': 0.006418943623115257, 'gamma': 0.03225255754633654, 'grow_policy': 'depthwise'}. Best is trial 56 with value: 975.7941976397976.\n"
     ]
    },
    {
     "name": "stdout",
     "output_type": "stream",
     "text": [
      "Fold: 5/5 score = 963.30018\n",
      "[0]\tvalidation_0-rmse:63.62068\tvalidation_1-rmse:63.85082\n",
      "[799]\tvalidation_0-rmse:24.56329\tvalidation_1-rmse:32.12798\n",
      "Fold: 1/5 score = 1032.20699\n",
      "[0]\tvalidation_0-rmse:63.88028\tvalidation_1-rmse:62.82091\n",
      "[799]\tvalidation_0-rmse:24.61447\tvalidation_1-rmse:31.48565\n",
      "Fold: 2/5 score = 991.34633\n",
      "[0]\tvalidation_0-rmse:63.51771\tvalidation_1-rmse:64.27749\n",
      "[799]\tvalidation_0-rmse:24.42060\tvalidation_1-rmse:32.22535\n",
      "Fold: 3/5 score = 1038.47324\n",
      "[0]\tvalidation_0-rmse:63.50828\tvalidation_1-rmse:64.31523\n",
      "[799]\tvalidation_0-rmse:24.59188\tvalidation_1-rmse:31.25692\n"
     ]
    },
    {
     "name": "stderr",
     "output_type": "stream",
     "text": [
      "[I 2023-09-01 08:58:43,233] Trial 83 pruned. \n"
     ]
    },
    {
     "name": "stdout",
     "output_type": "stream",
     "text": [
      "Fold: 4/5 score = 976.99512\n",
      "[0]\tvalidation_0-rmse:62.41180\tvalidation_1-rmse:62.73606\n",
      "[257]\tvalidation_0-rmse:18.72286\tvalidation_1-rmse:32.06418\n",
      "Fold: 1/5 score = 1024.31703\n",
      "[0]\tvalidation_0-rmse:62.67024\tvalidation_1-rmse:61.72558\n",
      "[245]\tvalidation_0-rmse:18.94512\tvalidation_1-rmse:31.11020\n",
      "Fold: 2/5 score = 966.27028\n",
      "[0]\tvalidation_0-rmse:62.35570\tvalidation_1-rmse:63.15557\n",
      "[275]\tvalidation_0-rmse:18.27264\tvalidation_1-rmse:32.03176\n",
      "Fold: 3/5 score = 1024.25341\n",
      "[0]\tvalidation_0-rmse:62.32011\tvalidation_1-rmse:63.18166\n",
      "[298]\tvalidation_0-rmse:17.74461\tvalidation_1-rmse:30.95671\n"
     ]
    },
    {
     "name": "stderr",
     "output_type": "stream",
     "text": [
      "[I 2023-09-01 08:58:57,214] Trial 84 pruned. \n"
     ]
    },
    {
     "name": "stdout",
     "output_type": "stream",
     "text": [
      "Fold: 4/5 score = 955.25283\n",
      "[0]\tvalidation_0-rmse:63.45338\tvalidation_1-rmse:63.69175\n",
      "[699]\tvalidation_0-rmse:22.42570\tvalidation_1-rmse:31.83782\n",
      "Fold: 1/5 score = 1012.52503\n",
      "[0]\tvalidation_0-rmse:63.71043\tvalidation_1-rmse:62.66427\n",
      "[699]\tvalidation_0-rmse:22.56443\tvalidation_1-rmse:30.82465\n",
      "Fold: 2/5 score = 950.15910\n",
      "[0]\tvalidation_0-rmse:63.35345\tvalidation_1-rmse:64.12165\n",
      "[699]\tvalidation_0-rmse:22.38911\tvalidation_1-rmse:31.79765\n",
      "Fold: 3/5 score = 1010.57593\n",
      "[0]\tvalidation_0-rmse:63.34294\tvalidation_1-rmse:64.14646\n",
      "[699]\tvalidation_0-rmse:22.41343\tvalidation_1-rmse:30.72075\n",
      "Fold: 4/5 score = 943.76466\n",
      "[0]\tvalidation_0-rmse:63.64251\tvalidation_1-rmse:62.93098\n",
      "[699]\tvalidation_0-rmse:22.46194\tvalidation_1-rmse:31.00025\n"
     ]
    },
    {
     "name": "stderr",
     "output_type": "stream",
     "text": [
      "[I 2023-09-01 08:59:31,402] Trial 85 finished with value: 975.4777243045952 and parameters: {'booster': 'gbtree', 'lambda': 0.0004765481568976222, 'alpha': 0.12415583410758738, 'subsample': 0.5632111334907796, 'colsample_bytree': 0.5172928782547614, 'n_estimators': 700, 'max_depth': 8, 'min_child_weight': 8, 'eta': 0.0068054260738828485, 'gamma': 0.028544481456365057, 'grow_policy': 'depthwise'}. Best is trial 85 with value: 975.4777243045952.\n"
     ]
    },
    {
     "name": "stdout",
     "output_type": "stream",
     "text": [
      "Fold: 5/5 score = 960.36390\n",
      "[0]\tvalidation_0-rmse:63.51099\tvalidation_1-rmse:63.74870\n",
      "[699]\tvalidation_0-rmse:23.23756\tvalidation_1-rmse:31.84801\n",
      "Fold: 1/5 score = 1014.14019\n",
      "[0]\tvalidation_0-rmse:63.77011\tvalidation_1-rmse:62.71755\n",
      "[699]\tvalidation_0-rmse:23.37311\tvalidation_1-rmse:31.02767\n",
      "Fold: 2/5 score = 962.71602\n",
      "[0]\tvalidation_0-rmse:63.41260\tvalidation_1-rmse:64.18020\n",
      "[699]\tvalidation_0-rmse:23.13626\tvalidation_1-rmse:31.84007\n",
      "Fold: 3/5 score = 1013.71738\n",
      "[0]\tvalidation_0-rmse:63.39820\tvalidation_1-rmse:64.21169\n",
      "[699]\tvalidation_0-rmse:23.28716\tvalidation_1-rmse:30.82295\n"
     ]
    },
    {
     "name": "stderr",
     "output_type": "stream",
     "text": [
      "[I 2023-09-01 08:59:59,960] Trial 86 pruned. \n"
     ]
    },
    {
     "name": "stdout",
     "output_type": "stream",
     "text": [
      "Fold: 4/5 score = 950.05434\n",
      "[0]\tvalidation_0-rmse:63.04120\tvalidation_1-rmse:63.29690\n",
      "[400]\tvalidation_0-rmse:22.07707\tvalidation_1-rmse:31.91950\n",
      "Fold: 1/5 score = 1018.39752\n",
      "[0]\tvalidation_0-rmse:63.30603\tvalidation_1-rmse:62.26148\n",
      "[499]\tvalidation_0-rmse:21.00038\tvalidation_1-rmse:30.99637\n",
      "Fold: 2/5 score = 958.28528\n",
      "[0]\tvalidation_0-rmse:62.94640\tvalidation_1-rmse:63.72204\n",
      "[401]\tvalidation_0-rmse:22.14882\tvalidation_1-rmse:31.84016\n",
      "Fold: 3/5 score = 1011.72175\n",
      "[0]\tvalidation_0-rmse:62.92923\tvalidation_1-rmse:63.74899\n",
      "[526]\tvalidation_0-rmse:20.63500\tvalidation_1-rmse:30.86181\n",
      "Fold: 4/5 score = 951.01751\n",
      "[0]\tvalidation_0-rmse:63.23451\tvalidation_1-rmse:62.53469\n",
      "[340]\tvalidation_0-rmse:22.86020\tvalidation_1-rmse:31.15851\n"
     ]
    },
    {
     "name": "stderr",
     "output_type": "stream",
     "text": [
      "[I 2023-09-01 09:00:21,281] Trial 87 finished with value: 981.0308278517539 and parameters: {'booster': 'gbtree', 'lambda': 0.0006008109579989651, 'alpha': 0.07843559854064039, 'subsample': 0.5226833265609536, 'colsample_bytree': 0.49603012546051184, 'n_estimators': 700, 'max_depth': 8, 'min_child_weight': 9, 'eta': 0.015130626606363818, 'gamma': 0.013380938163621852, 'grow_policy': 'depthwise'}. Best is trial 85 with value: 975.4777243045952.\n"
     ]
    },
    {
     "name": "stdout",
     "output_type": "stream",
     "text": [
      "Fold: 5/5 score = 965.73208\n",
      "[0]\tvalidation_0-rmse:63.67776\tvalidation_1-rmse:63.90383\n",
      "[499]\tvalidation_0-rmse:33.14304\tvalidation_1-rmse:36.62351\n",
      "Fold: 1/5 score = 1341.28146\n",
      "[0]\tvalidation_0-rmse:63.93706\tvalidation_1-rmse:62.87628\n",
      "[499]\tvalidation_0-rmse:33.21407\tvalidation_1-rmse:35.80542\n"
     ]
    },
    {
     "name": "stderr",
     "output_type": "stream",
     "text": [
      "[I 2023-09-01 09:00:33,111] Trial 88 pruned. \n"
     ]
    },
    {
     "name": "stdout",
     "output_type": "stream",
     "text": [
      "Fold: 2/5 score = 1282.02811\n",
      "[0]\tvalidation_0-rmse:63.75812\tvalidation_1-rmse:63.97959\n",
      "[599]\tvalidation_0-rmse:46.26059\tvalidation_1-rmse:47.71476\n",
      "Fold: 1/5 score = 2276.69819\n",
      "[0]\tvalidation_0-rmse:64.01567\tvalidation_1-rmse:62.94991\n",
      "[599]\tvalidation_0-rmse:46.41682\tvalidation_1-rmse:46.76494\n",
      "Fold: 2/5 score = 2186.96004\n",
      "[0]\tvalidation_0-rmse:63.65117\tvalidation_1-rmse:64.40682\n",
      "[599]\tvalidation_0-rmse:46.14744\tvalidation_1-rmse:47.98683\n",
      "Fold: 3/5 score = 2302.73606\n",
      "[0]\tvalidation_0-rmse:63.64225\tvalidation_1-rmse:64.44278\n",
      "[599]\tvalidation_0-rmse:46.21407\tvalidation_1-rmse:47.86920\n"
     ]
    },
    {
     "name": "stderr",
     "output_type": "stream",
     "text": [
      "[I 2023-09-01 09:01:04,953] Trial 89 pruned. \n"
     ]
    },
    {
     "name": "stdout",
     "output_type": "stream",
     "text": [
      "Fold: 4/5 score = 2291.46004\n",
      "[0]\tvalidation_0-rmse:63.52579\tvalidation_1-rmse:63.76133\n",
      "[799]\tvalidation_0-rmse:21.17948\tvalidation_1-rmse:31.90162\n",
      "Fold: 1/5 score = 1017.33661\n",
      "[0]\tvalidation_0-rmse:63.78246\tvalidation_1-rmse:62.73645\n",
      "[799]\tvalidation_0-rmse:21.19419\tvalidation_1-rmse:31.00658\n",
      "Fold: 2/5 score = 961.40790\n",
      "[0]\tvalidation_0-rmse:63.42852\tvalidation_1-rmse:64.19314\n",
      "[799]\tvalidation_0-rmse:21.04050\tvalidation_1-rmse:31.79696\n",
      "Fold: 3/5 score = 1010.95621\n",
      "[0]\tvalidation_0-rmse:63.41706\tvalidation_1-rmse:64.22788\n",
      "[799]\tvalidation_0-rmse:21.06222\tvalidation_1-rmse:30.70094\n",
      "Fold: 4/5 score = 942.54750\n",
      "[0]\tvalidation_0-rmse:63.71888\tvalidation_1-rmse:63.00781\n",
      "[729]\tvalidation_0-rmse:21.54185\tvalidation_1-rmse:31.16455\n"
     ]
    },
    {
     "name": "stderr",
     "output_type": "stream",
     "text": [
      "[I 2023-09-01 09:01:50,513] Trial 90 finished with value: 980.5227511898083 and parameters: {'booster': 'gbtree', 'lambda': 0.0010334058901254667, 'alpha': 0.09879767059148936, 'subsample': 0.6166675154127158, 'colsample_bytree': 0.505877798713416, 'n_estimators': 800, 'max_depth': 9, 'min_child_weight': 7, 'eta': 0.005276995186274266, 'gamma': 0.03565743526682906, 'grow_policy': 'depthwise'}. Best is trial 85 with value: 975.4777243045952.\n"
     ]
    },
    {
     "name": "stdout",
     "output_type": "stream",
     "text": [
      "Fold: 5/5 score = 970.36553\n",
      "[0]\tvalidation_0-rmse:63.18846\tvalidation_1-rmse:63.44314\n",
      "[443]\tvalidation_0-rmse:21.07270\tvalidation_1-rmse:31.88447\n",
      "Fold: 1/5 score = 1015.00307\n",
      "[0]\tvalidation_0-rmse:63.44688\tvalidation_1-rmse:62.40402\n",
      "[531]\tvalidation_0-rmse:20.30041\tvalidation_1-rmse:30.99535\n",
      "Fold: 2/5 score = 960.26095\n",
      "[0]\tvalidation_0-rmse:63.09534\tvalidation_1-rmse:63.87592\n",
      "[673]\tvalidation_0-rmse:18.81263\tvalidation_1-rmse:31.89549\n",
      "Fold: 3/5 score = 1015.50836\n",
      "[0]\tvalidation_0-rmse:63.08012\tvalidation_1-rmse:63.90761\n",
      "[583]\tvalidation_0-rmse:19.61726\tvalidation_1-rmse:30.64511\n",
      "Fold: 4/5 score = 938.59431\n",
      "[0]\tvalidation_0-rmse:63.38040\tvalidation_1-rmse:62.67362\n",
      "[416]\tvalidation_0-rmse:21.48209\tvalidation_1-rmse:31.08426\n"
     ]
    },
    {
     "name": "stderr",
     "output_type": "stream",
     "text": [
      "[I 2023-09-01 09:02:17,297] Trial 91 finished with value: 978.8424656110467 and parameters: {'booster': 'gbtree', 'lambda': 0.003361600891584542, 'alpha': 0.017124844220850192, 'subsample': 0.5577607491731866, 'colsample_bytree': 0.3701075077720715, 'n_estimators': 800, 'max_depth': 9, 'min_child_weight': 8, 'eta': 0.012059764092878398, 'gamma': 0.2503033338805785, 'grow_policy': 'depthwise'}. Best is trial 85 with value: 975.4777243045952.\n"
     ]
    },
    {
     "name": "stdout",
     "output_type": "stream",
     "text": [
      "Fold: 5/5 score = 964.84563\n",
      "[0]\tvalidation_0-rmse:63.23989\tvalidation_1-rmse:63.49847\n",
      "[504]\tvalidation_0-rmse:21.31099\tvalidation_1-rmse:31.97002\n",
      "Fold: 1/5 score = 1018.95809\n",
      "[0]\tvalidation_0-rmse:63.50272\tvalidation_1-rmse:62.47284\n",
      "[565]\tvalidation_0-rmse:20.85808\tvalidation_1-rmse:31.03203\n",
      "Fold: 2/5 score = 962.60321\n",
      "[0]\tvalidation_0-rmse:63.15612\tvalidation_1-rmse:63.93718\n",
      "[571]\tvalidation_0-rmse:20.80656\tvalidation_1-rmse:31.79131\n",
      "Fold: 3/5 score = 1008.88816\n",
      "[0]\tvalidation_0-rmse:63.13663\tvalidation_1-rmse:63.95189\n",
      "[699]\tvalidation_0-rmse:19.70982\tvalidation_1-rmse:30.69362\n",
      "Fold: 4/5 score = 940.71427\n",
      "[0]\tvalidation_0-rmse:63.44450\tvalidation_1-rmse:62.73132\n",
      "[416]\tvalidation_0-rmse:22.43624\tvalidation_1-rmse:31.02458\n"
     ]
    },
    {
     "name": "stderr",
     "output_type": "stream",
     "text": [
      "[I 2023-09-01 09:02:43,853] Trial 92 finished with value: 978.5959866379441 and parameters: {'booster': 'gbtree', 'lambda': 0.0006424495102595124, 'alpha': 0.019547916797463545, 'subsample': 0.5745177962765478, 'colsample_bytree': 0.3353086811642949, 'n_estimators': 700, 'max_depth': 9, 'min_child_weight': 9, 'eta': 0.010933859382521777, 'gamma': 0.07067516619053911, 'grow_policy': 'depthwise'}. Best is trial 85 with value: 975.4777243045952.\n"
     ]
    },
    {
     "name": "stdout",
     "output_type": "stream",
     "text": [
      "Fold: 5/5 score = 961.81620\n",
      "[0]\tvalidation_0-rmse:63.03352\tvalidation_1-rmse:63.27907\n",
      "[373]\tvalidation_0-rmse:21.17585\tvalidation_1-rmse:31.92811\n",
      "Fold: 1/5 score = 1017.94575\n",
      "[0]\tvalidation_0-rmse:63.28390\tvalidation_1-rmse:62.27116\n",
      "[449]\tvalidation_0-rmse:20.30968\tvalidation_1-rmse:30.98505\n",
      "Fold: 2/5 score = 959.34581\n",
      "[0]\tvalidation_0-rmse:62.94855\tvalidation_1-rmse:63.72630\n",
      "[448]\tvalidation_0-rmse:20.35217\tvalidation_1-rmse:31.76471\n",
      "Fold: 3/5 score = 1008.67126\n",
      "[0]\tvalidation_0-rmse:62.91981\tvalidation_1-rmse:63.75317\n",
      "[472]\tvalidation_0-rmse:19.93780\tvalidation_1-rmse:30.80866\n"
     ]
    },
    {
     "name": "stderr",
     "output_type": "stream",
     "text": [
      "[I 2023-09-01 09:03:02,947] Trial 93 pruned. \n"
     ]
    },
    {
     "name": "stdout",
     "output_type": "stream",
     "text": [
      "Fold: 4/5 score = 947.43518\n",
      "[0]\tvalidation_0-rmse:61.02100\tvalidation_1-rmse:61.42444\n",
      "[152]\tvalidation_0-rmse:19.48151\tvalidation_1-rmse:32.13873\n",
      "Fold: 1/5 score = 1024.47312\n",
      "[0]\tvalidation_0-rmse:61.29824\tvalidation_1-rmse:60.39420\n",
      "[174]\tvalidation_0-rmse:19.16512\tvalidation_1-rmse:31.41852\n",
      "Fold: 2/5 score = 983.03123\n",
      "[0]\tvalidation_0-rmse:60.98384\tvalidation_1-rmse:61.82275\n",
      "[204]\tvalidation_0-rmse:18.09089\tvalidation_1-rmse:32.10930\n",
      "Fold: 3/5 score = 1020.91482\n",
      "[0]\tvalidation_0-rmse:60.96068\tvalidation_1-rmse:61.80726\n",
      "[172]\tvalidation_0-rmse:19.16578\tvalidation_1-rmse:30.98852\n"
     ]
    },
    {
     "name": "stderr",
     "output_type": "stream",
     "text": [
      "[I 2023-09-01 09:03:12,335] Trial 94 pruned. \n"
     ]
    },
    {
     "name": "stdout",
     "output_type": "stream",
     "text": [
      "Fold: 4/5 score = 958.65786\n",
      "[0]\tvalidation_0-rmse:62.76687\tvalidation_1-rmse:63.05194\n",
      "[253]\tvalidation_0-rmse:21.51007\tvalidation_1-rmse:31.92819\n",
      "Fold: 1/5 score = 1018.72578\n",
      "[0]\tvalidation_0-rmse:63.02067\tvalidation_1-rmse:62.01175\n",
      "[235]\tvalidation_0-rmse:21.77162\tvalidation_1-rmse:31.22696\n"
     ]
    },
    {
     "name": "stderr",
     "output_type": "stream",
     "text": [
      "[I 2023-09-01 09:03:19,222] Trial 95 pruned. \n"
     ]
    },
    {
     "name": "stdout",
     "output_type": "stream",
     "text": [
      "Fold: 2/5 score = 973.87349\n",
      "[0]\tvalidation_0-rmse:63.59576\tvalidation_1-rmse:63.82811\n",
      "[899]\tvalidation_0-rmse:23.73281\tvalidation_1-rmse:31.90087\n",
      "Fold: 1/5 score = 1017.66549\n",
      "[0]\tvalidation_0-rmse:63.85276\tvalidation_1-rmse:62.79677\n",
      "[899]\tvalidation_0-rmse:23.73982\tvalidation_1-rmse:31.11240\n",
      "Fold: 2/5 score = 967.98100\n",
      "[0]\tvalidation_0-rmse:63.49326\tvalidation_1-rmse:64.25518\n",
      "[899]\tvalidation_0-rmse:23.56807\tvalidation_1-rmse:31.86022\n",
      "Fold: 3/5 score = 1015.07333\n",
      "[0]\tvalidation_0-rmse:63.48193\tvalidation_1-rmse:64.28666\n",
      "[899]\tvalidation_0-rmse:23.81369\tvalidation_1-rmse:30.98698\n"
     ]
    },
    {
     "name": "stderr",
     "output_type": "stream",
     "text": [
      "[I 2023-09-01 09:03:54,377] Trial 96 pruned. \n"
     ]
    },
    {
     "name": "stdout",
     "output_type": "stream",
     "text": [
      "Fold: 4/5 score = 960.19277\n",
      "[0]\tvalidation_0-rmse:63.24083\tvalidation_1-rmse:63.49517\n",
      "[599]\tvalidation_0-rmse:21.20967\tvalidation_1-rmse:31.75373\n",
      "Fold: 1/5 score = 1006.25681\n",
      "[0]\tvalidation_0-rmse:63.50041\tvalidation_1-rmse:62.46868\n",
      "[599]\tvalidation_0-rmse:21.21330\tvalidation_1-rmse:30.96800\n",
      "Fold: 2/5 score = 958.32868\n",
      "[0]\tvalidation_0-rmse:63.14466\tvalidation_1-rmse:63.92825\n",
      "[599]\tvalidation_0-rmse:21.15751\tvalidation_1-rmse:31.90462\n",
      "Fold: 3/5 score = 1017.83495\n",
      "[0]\tvalidation_0-rmse:63.12723\tvalidation_1-rmse:63.95205\n",
      "[510]\tvalidation_0-rmse:21.94502\tvalidation_1-rmse:30.80344\n",
      "Fold: 4/5 score = 948.17821\n",
      "[0]\tvalidation_0-rmse:63.43553\tvalidation_1-rmse:62.72648\n",
      "[392]\tvalidation_0-rmse:23.32215\tvalidation_1-rmse:31.01571\n"
     ]
    },
    {
     "name": "stderr",
     "output_type": "stream",
     "text": [
      "[I 2023-09-01 09:04:30,761] Trial 97 finished with value: 978.2950894668975 and parameters: {'booster': 'gbtree', 'lambda': 0.00019725197151747645, 'alpha': 0.010413552909741896, 'subsample': 0.5448503527108608, 'colsample_bytree': 0.42312606464111646, 'n_estimators': 600, 'max_depth': 8, 'min_child_weight': 8, 'eta': 0.01110745615217319, 'gamma': 0.11548530661388873, 'grow_policy': 'lossguide'}. Best is trial 85 with value: 975.4777243045952.\n"
     ]
    },
    {
     "name": "stdout",
     "output_type": "stream",
     "text": [
      "Fold: 5/5 score = 960.87680\n",
      "[0]\tvalidation_0-rmse:63.40523\tvalidation_1-rmse:63.63947\n",
      "[599]\tvalidation_0-rmse:23.45440\tvalidation_1-rmse:31.83331\n",
      "Fold: 1/5 score = 1012.80693\n",
      "[0]\tvalidation_0-rmse:63.67224\tvalidation_1-rmse:62.62104\n",
      "[599]\tvalidation_0-rmse:23.56315\tvalidation_1-rmse:31.05668\n",
      "Fold: 2/5 score = 964.34822\n",
      "[0]\tvalidation_0-rmse:63.30626\tvalidation_1-rmse:64.07084\n",
      "[599]\tvalidation_0-rmse:23.52066\tvalidation_1-rmse:32.01228\n",
      "Fold: 3/5 score = 1024.78044\n",
      "[0]\tvalidation_0-rmse:63.28887\tvalidation_1-rmse:64.11472\n",
      "[599]\tvalidation_0-rmse:23.53599\tvalidation_1-rmse:30.78796\n"
     ]
    },
    {
     "name": "stderr",
     "output_type": "stream",
     "text": [
      "[I 2023-09-01 09:05:02,822] Trial 98 pruned. \n"
     ]
    },
    {
     "name": "stdout",
     "output_type": "stream",
     "text": [
      "Fold: 4/5 score = 947.89865\n",
      "[0]\tvalidation_0-rmse:62.59802\tvalidation_1-rmse:62.90124\n",
      "[323]\tvalidation_0-rmse:20.22965\tvalidation_1-rmse:31.91719\n",
      "Fold: 1/5 score = 1015.25333\n",
      "[0]\tvalidation_0-rmse:62.85187\tvalidation_1-rmse:61.84914\n",
      "[251]\tvalidation_0-rmse:21.48039\tvalidation_1-rmse:30.98253\n",
      "Fold: 2/5 score = 958.55456\n",
      "[0]\tvalidation_0-rmse:62.51167\tvalidation_1-rmse:63.31077\n",
      "[274]\tvalidation_0-rmse:21.14614\tvalidation_1-rmse:31.95900\n",
      "Fold: 3/5 score = 1021.07247\n",
      "[0]\tvalidation_0-rmse:62.49717\tvalidation_1-rmse:63.33233\n",
      "[314]\tvalidation_0-rmse:20.39717\tvalidation_1-rmse:30.98527\n",
      "Fold: 4/5 score = 956.67894\n",
      "[0]\tvalidation_0-rmse:62.81341\tvalidation_1-rmse:62.10223\n",
      "[203]\tvalidation_0-rmse:22.39387\tvalidation_1-rmse:31.02541\n"
     ]
    },
    {
     "name": "stderr",
     "output_type": "stream",
     "text": [
      "[I 2023-09-01 09:05:24,657] Trial 99 finished with value: 981.8861432280189 and parameters: {'booster': 'gbtree', 'lambda': 0.0002581879649280224, 'alpha': 0.010460479819974144, 'subsample': 0.579515446829102, 'colsample_bytree': 0.4222441323783493, 'n_estimators': 500, 'max_depth': 8, 'min_child_weight': 8, 'eta': 0.02396202036881423, 'gamma': 0.03663420935757014, 'grow_policy': 'lossguide'}. Best is trial 85 with value: 975.4777243045952.\n"
     ]
    },
    {
     "name": "stdout",
     "output_type": "stream",
     "text": [
      "Fold: 5/5 score = 957.87141\n"
     ]
    }
   ],
   "source": [
    "study = optuna.create_study(\n",
    "    sampler=TPESampler(seed=RANDOM_SEED),\n",
    "    direction='minimize',\n",
    "    study_name='xgb_tuning',\n",
    "    pruner=HyperbandPruner(\n",
    "        min_resource=1, max_resource=8, reduction_factor=3\n",
    "    ),\n",
    ")\n",
    "\n",
    "study.optimize(objective_xgb, n_trials=100)"
   ]
  },
  {
   "cell_type": "code",
   "execution_count": 9,
   "metadata": {},
   "outputs": [],
   "source": [
    "trial = study.best_trial"
   ]
  },
  {
   "cell_type": "code",
   "execution_count": 10,
   "metadata": {},
   "outputs": [
    {
     "name": "stdout",
     "output_type": "stream",
     "text": [
      "{'booster': 'gbtree', 'lambda': 0.0004765481568976222, 'alpha': 0.12415583410758738, 'subsample': 0.5632111334907796, 'colsample_bytree': 0.5172928782547614, 'n_estimators': 700, 'max_depth': 8, 'min_child_weight': 8, 'eta': 0.0068054260738828485, 'gamma': 0.028544481456365057, 'grow_policy': 'depthwise'}\n"
     ]
    }
   ],
   "source": [
    "print(trial.params)"
   ]
  },
  {
   "cell_type": "code",
   "execution_count": 11,
   "metadata": {},
   "outputs": [
    {
     "name": "stdout",
     "output_type": "stream",
     "text": [
      "[0]\tvalidation_0-rmse:63.45338\tvalidation_1-rmse:63.69175\n",
      "[699]\tvalidation_0-rmse:22.42570\tvalidation_1-rmse:31.83782\n",
      "Fold: 1/5 score = 1012.52503\n",
      "[0]\tvalidation_0-rmse:63.71043\tvalidation_1-rmse:62.66427\n",
      "[699]\tvalidation_0-rmse:22.56443\tvalidation_1-rmse:30.82465\n",
      "Fold: 2/5 score = 950.15910\n",
      "[0]\tvalidation_0-rmse:63.35345\tvalidation_1-rmse:64.12165\n",
      "[699]\tvalidation_0-rmse:22.38911\tvalidation_1-rmse:31.79765\n",
      "Fold: 3/5 score = 1010.57593\n",
      "[0]\tvalidation_0-rmse:63.34294\tvalidation_1-rmse:64.14646\n",
      "[699]\tvalidation_0-rmse:22.41343\tvalidation_1-rmse:30.72075\n",
      "Fold: 4/5 score = 943.76466\n",
      "[0]\tvalidation_0-rmse:63.64251\tvalidation_1-rmse:62.93098\n",
      "[699]\tvalidation_0-rmse:22.46194\tvalidation_1-rmse:31.00025\n",
      "Fold: 5/5 score = 960.36390\n"
     ]
    }
   ],
   "source": [
    "best_param = {\n",
    "  'booster': 'gbtree',\n",
    "  'lambda': 0.0004765481568976222,\n",
    "  'alpha': 0.12415583410758738,\n",
    "  'subsample': 0.5632111334907796,\n",
    "  'colsample_bytree': 0.5172928782547614,\n",
    "  'n_estimators': 700,\n",
    "  'max_depth': 8,\n",
    "  'min_child_weight': 8,\n",
    "  'eta': 0.0068054260738828485,\n",
    "  'gamma': 0.028544481456365057,\n",
    "  'grow_policy': 'depthwise'\n",
    "}\n",
    "\n",
    "val_scores, y_tests, models = train_model(best_param, train_x, train_y, test_x)"
   ]
  },
  {
   "cell_type": "code",
   "execution_count": 13,
   "metadata": {},
   "outputs": [
    {
     "data": {
      "text/plain": [
       "5"
      ]
     },
     "execution_count": 13,
     "metadata": {},
     "output_type": "execute_result"
    }
   ],
   "source": [
    "len(models)"
   ]
  },
  {
   "cell_type": "code",
   "execution_count": 14,
   "metadata": {},
   "outputs": [],
   "source": [
    "for idx, model in enumerate(models):\n",
    "  model.save_model(f\"xgboost_HLM_fold_{idx}.model\")"
   ]
  },
  {
   "cell_type": "code",
   "execution_count": null,
   "metadata": {},
   "outputs": [],
   "source": [
    "# importance = models[-1].get_booster().get_score(importance_type=\"weight\")\n",
    "# tuples = [(k, importance[k]) for k in importance]\n",
    "# tuples.sort(key=lambda x: x[1])\n",
    "\n",
    "# label, values = zip(*tuples)\n",
    "\n",
    "# plt.rcParams[\"font.family\"] = \"MalGun Gothic\"\n",
    "# plt.figure(figsize=(10, 12))\n",
    "# plt.barh(label[:100], values[:100])\n",
    "# plt.show()"
   ]
  },
  {
   "cell_type": "code",
   "execution_count": 24,
   "metadata": {},
   "outputs": [],
   "source": [
    "submit = pd.read_csv(\"../data/sample_submission.csv\")\n",
    "submit[\"HLM\"] = np.mean(y_tests, axis=0)\n",
    "submit.to_csv(\"xgboost_optuna_v1.csv\", index=False)"
   ]
  },
  {
   "cell_type": "code",
   "execution_count": null,
   "metadata": {},
   "outputs": [],
   "source": []
  }
 ],
 "metadata": {
  "kernelspec": {
   "display_name": "신약개발-mImSxWNo",
   "language": "python",
   "name": "python3"
  },
  "language_info": {
   "codemirror_mode": {
    "name": "ipython",
    "version": 3
   },
   "file_extension": ".py",
   "mimetype": "text/x-python",
   "name": "python",
   "nbconvert_exporter": "python",
   "pygments_lexer": "ipython3",
   "version": "3.10.11"
  },
  "orig_nbformat": 4
 },
 "nbformat": 4,
 "nbformat_minor": 2
}
