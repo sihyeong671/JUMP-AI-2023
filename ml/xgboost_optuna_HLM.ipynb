{
 "cells": [
  {
   "cell_type": "code",
   "execution_count": 1,
   "metadata": {},
   "outputs": [
    {
     "name": "stderr",
     "output_type": "stream",
     "text": [
      "c:\\Users\\BSH\\.virtualenvs\\신약개발-mImSxWNo\\lib\\site-packages\\tqdm\\auto.py:21: TqdmWarning: IProgress not found. Please update jupyter and ipywidgets. See https://ipywidgets.readthedocs.io/en/stable/user_install.html\n",
      "  from .autonotebook import tqdm as notebook_tqdm\n"
     ]
    }
   ],
   "source": [
    "import pandas as pd\n",
    "import numpy as np\n",
    "import random\n",
    "\n",
    "import optuna\n",
    "from optuna.samplers import TPESampler\n",
    "from optuna.pruners import HyperbandPruner\n",
    "\n",
    "import rdkit\n",
    "from rdkit.Chem import AllChem, rdFingerprintGenerator\n",
    "from rdkit import Chem, DataStructs\n",
    "\n",
    "from sklearn.model_selection import train_test_split, StratifiedKFold, KFold\n",
    "from sklearn.metrics import mean_absolute_error, mean_squared_error\n",
    "from sklearn.preprocessing import StandardScaler, MinMaxScaler, LabelEncoder\n",
    "\n",
    "import matplotlib.pyplot as plt\n",
    "\n",
    "import xgboost as xgb"
   ]
  },
  {
   "cell_type": "code",
   "execution_count": 2,
   "metadata": {},
   "outputs": [],
   "source": [
    "RANDOM_SEED = 42"
   ]
  },
  {
   "cell_type": "code",
   "execution_count": 3,
   "metadata": {},
   "outputs": [],
   "source": [
    "def feature_engineer():\n",
    "  train_df = pd.read_csv(\"./data/train.csv\")\n",
    "  test_df = pd.read_csv(\"./data/test.csv\")\n",
    "  train_df[\"mol\"] = train_df[\"SMILES\"].apply(lambda x: Chem.MolFromSmiles(x))\n",
    "  test_df[\"mol\"] = test_df[\"SMILES\"].apply(lambda x: Chem.MolFromSmiles(x))\n",
    "  \n",
    "  train_df.drop(columns=[\"id\", \"SMILES\"], inplace=True)\n",
    "  test_df.drop(columns=[\"id\", \"SMILES\"], inplace=True)\n",
    "  \n",
    "  \n",
    "  fmgen = rdFingerprintGenerator.GetMorganGenerator()\n",
    "  train_fps = train_df[\"mol\"].apply(lambda x: fmgen.GetFingerprintAsNumPy(x))\n",
    "  train_fps = np.stack(train_fps)\n",
    "  test_fps = test_df[\"mol\"].apply(lambda x: fmgen.GetFingerprintAsNumPy(x))\n",
    "  test_fps = np.stack(test_fps)\n",
    "  \n",
    "  origin_train_features = train_df[[\"AlogP\", \"Molecular_Weight\", \"Num_H_Acceptors\", \"Num_H_Donors\", \"Num_RotatableBonds\", \"LogD\", \"Molecular_PolarSurfaceArea\"]].values\n",
    "  origin_test_features = test_df[[\"AlogP\", \"Molecular_Weight\", \"Num_H_Acceptors\", \"Num_H_Donors\", \"Num_RotatableBonds\", \"LogD\", \"Molecular_PolarSurfaceArea\"]].values\n",
    "  \n",
    "  train_features = np.append(origin_train_features, train_fps, axis=1)\n",
    "  test_features = np.append(origin_test_features, test_fps, axis=1)\n",
    "  target = train_df[\"HLM\"].values\n",
    "  \n",
    "  return train_features, target, test_features\n",
    "  "
   ]
  },
  {
   "cell_type": "code",
   "execution_count": 4,
   "metadata": {},
   "outputs": [],
   "source": [
    "train_x, train_y, test_x = feature_engineer()"
   ]
  },
  {
   "cell_type": "code",
   "execution_count": 5,
   "metadata": {},
   "outputs": [],
   "source": [
    "def create_model(param):\n",
    "  return xgb.XGBRegressor(\n",
    "    random_state=RANDOM_SEED,\n",
    "    tree_method=\"gpu_hist\",\n",
    "    eval_metric=\"rmse\",\n",
    "    early_stopping_rounds=50,\n",
    "    **param\n",
    "  )"
   ]
  },
  {
   "cell_type": "code",
   "execution_count": 6,
   "metadata": {},
   "outputs": [],
   "source": [
    "def train_model(param, X, y, X_test, trial=None):\n",
    "    skf = KFold(n_splits=5, shuffle=True, random_state=RANDOM_SEED)\n",
    "\n",
    "    val_scores = []\n",
    "    y_tests = []\n",
    "    models = []\n",
    "\n",
    "    for idx, (train_idx, val_idx) in enumerate(skf.split(X, y)):\n",
    "\n",
    "        X_train, y_train = X[train_idx], y[train_idx]\n",
    "        X_val, y_val = X[val_idx], y[val_idx]\n",
    "\n",
    "        model = create_model(param)\n",
    "        model.fit(X_train, y_train, eval_set=[(X_train, y_train), (X_val, y_val)], verbose=1000)\n",
    "\n",
    "        y_hat_val = model.predict(X_val)\n",
    "        score = mean_squared_error(y_val, y_hat_val, squared=True)\n",
    "        val_scores.append(score)\n",
    "        print(f'Fold: {idx+1}/5 score = {score:.5f}')\n",
    "\n",
    "        y_tests.append(model.predict(X_test))\n",
    "        models.append(model)\n",
    "\n",
    "        if trial:\n",
    "            trial.report(score, idx)\n",
    "\n",
    "            if trial.should_prune():\n",
    "                raise optuna.TrialPruned()\n",
    "\n",
    "    return val_scores, y_tests, models"
   ]
  },
  {
   "cell_type": "code",
   "execution_count": 7,
   "metadata": {},
   "outputs": [],
   "source": [
    "def objective_xgb(trial):\n",
    "    param = {\n",
    "        \"booster\": trial.suggest_categorical(\"booster\", [\"gbtree\", \"dart\"]),\n",
    "        \"lambda\": trial.suggest_float(\"lambda\", 1e-8, 1.0, log=True),\n",
    "        \"alpha\": trial.suggest_float(\"alpha\", 1e-8, 1.0, log=True),\n",
    "        \"subsample\": trial.suggest_float(\"subsample\", 0.1, 1.0),\n",
    "        \"colsample_bytree\": trial.suggest_float(\"colsample_bytree\", 0.1, 1.0),\n",
    "        \"n_estimators\": trial.suggest_int(\"n_estimators\", 100, 1000, step=100),\n",
    "        \"max_depth\": trial.suggest_int(\"max_depth\", 3, 9),\n",
    "        \"min_child_weight\": trial.suggest_int(\"min_child_weight\", 2, 10),\n",
    "        \"eta\": trial.suggest_float(\"eta\", 1e-8, 1.0, log=True),\n",
    "        \"gamma\": trial.suggest_float(\"gamma\", 1e-8, 1.0, log=True),\n",
    "        \"grow_policy\": trial.suggest_categorical(\"grow_policy\", [\"depthwise\", \"lossguide\"])\n",
    "    }\n",
    "\n",
    "    if param[\"booster\"] == \"dart\":\n",
    "        param['sample_type'] = trial.suggest_categorical('sample_type', ['uniform', 'weighted'])\n",
    "        param['normalize_type'] = trial.suggest_categorical('normalize_type', ['tree', 'forest'])\n",
    "        param['rate_drop'] = trial.suggest_float('rate_drop', 1e-8, 1.0, log=True)\n",
    "        param['skip_drop'] = trial.suggest_float('skip_drop', 1e-8, 1.0, log=True)\n",
    "\n",
    "    val_scores, y_tests, models = train_model(param, train_x, train_y, test_x, trial)\n",
    "\n",
    "    return sum(val_scores) / len(val_scores)"
   ]
  },
  {
   "cell_type": "code",
   "execution_count": 8,
   "metadata": {},
   "outputs": [
    {
     "name": "stderr",
     "output_type": "stream",
     "text": [
      "[I 2023-08-18 08:40:17,885] A new study created in memory with name: xgb_tuning\n"
     ]
    },
    {
     "name": "stdout",
     "output_type": "stream",
     "text": [
      "[0]\tvalidation_0-rmse:63.77906\tvalidation_1-rmse:62.65805\n",
      "[99]\tvalidation_0-rmse:47.48190\tvalidation_1-rmse:47.18329\n",
      "Fold: 1/5 score = 2226.26328\n",
      "[0]\tvalidation_0-rmse:62.96104\tvalidation_1-rmse:65.97269\n",
      "[99]\tvalidation_0-rmse:46.97381\tvalidation_1-rmse:50.26457\n",
      "Fold: 2/5 score = 2526.52711\n",
      "[0]\tvalidation_0-rmse:63.54406\tvalidation_1-rmse:63.63544\n",
      "[99]\tvalidation_0-rmse:47.40978\tvalidation_1-rmse:47.86202\n",
      "Fold: 3/5 score = 2290.77343\n",
      "[0]\tvalidation_0-rmse:63.54485\tvalidation_1-rmse:63.69168\n",
      "[99]\tvalidation_0-rmse:47.44557\tvalidation_1-rmse:47.67429\n",
      "Fold: 4/5 score = 2272.83776\n",
      "[0]\tvalidation_0-rmse:63.99032\tvalidation_1-rmse:61.80733\n",
      "[99]\tvalidation_0-rmse:47.57781\tvalidation_1-rmse:46.31565\n",
      "Fold: 5/5 score = 2145.13909\n"
     ]
    },
    {
     "name": "stderr",
     "output_type": "stream",
     "text": [
      "[I 2023-08-18 08:40:59,762] Trial 0 finished with value: 2292.308134385028 and parameters: {'booster': 'dart', 'lambda': 0.007177141927992002, 'alpha': 0.0006155564318973012, 'subsample': 0.24041677639819287, 'colsample_bytree': 0.2403950683025824, 'n_estimators': 100, 'max_depth': 9, 'min_child_weight': 7, 'eta': 0.004619347374377372, 'gamma': 1.4610865886287176e-08, 'grow_policy': 'depthwise', 'sample_type': 'uniform', 'normalize_type': 'forest', 'rate_drop': 0.00015777981883364995, 'skip_drop': 2.85469785779718e-05}. Best is trial 0 with value: 2292.308134385028.\n"
     ]
    },
    {
     "name": "stdout",
     "output_type": "stream",
     "text": [
      "[0]\tvalidation_0-rmse:63.97115\tvalidation_1-rmse:62.84699\n",
      "[799]\tvalidation_0-rmse:48.09183\tvalidation_1-rmse:47.57502\n",
      "Fold: 1/5 score = 2263.38270\n",
      "[0]\tvalidation_0-rmse:63.13492\tvalidation_1-rmse:66.14537\n",
      "[799]\tvalidation_0-rmse:47.52540\tvalidation_1-rmse:50.63617\n",
      "Fold: 2/5 score = 2564.02227\n",
      "[0]\tvalidation_0-rmse:63.73013\tvalidation_1-rmse:63.81702\n",
      "[799]\tvalidation_0-rmse:47.96885\tvalidation_1-rmse:48.16165\n",
      "Fold: 3/5 score = 2319.54434\n",
      "[0]\tvalidation_0-rmse:63.71937\tvalidation_1-rmse:63.86609\n",
      "[799]\tvalidation_0-rmse:48.05312\tvalidation_1-rmse:48.12597\n",
      "Fold: 4/5 score = 2316.10925\n",
      "[0]\tvalidation_0-rmse:64.17931\tvalidation_1-rmse:61.98880\n",
      "[799]\tvalidation_0-rmse:48.23706\tvalidation_1-rmse:46.75587\n",
      "Fold: 5/5 score = 2186.11107\n"
     ]
    },
    {
     "name": "stderr",
     "output_type": "stream",
     "text": [
      "[I 2023-08-18 09:19:52,009] Trial 1 finished with value: 2329.8339243965747 and parameters: {'booster': 'dart', 'lambda': 1.3060231803531604e-07, 'alpha': 2.1734877073417355e-06, 'subsample': 0.4297256589643226, 'colsample_bytree': 0.5104629857953323, 'n_estimators': 800, 'max_depth': 4, 'min_child_weight': 6, 'eta': 0.0005486767416600901, 'gamma': 2.3528990899815284e-08, 'grow_policy': 'depthwise', 'sample_type': 'weighted', 'normalize_type': 'tree', 'rate_drop': 2.734702913886802e-06, 'skip_drop': 6.044730070370796e-08}. Best is trial 0 with value: 2292.308134385028.\n"
     ]
    },
    {
     "name": "stdout",
     "output_type": "stream",
     "text": [
      "[0]\tvalidation_0-rmse:63.99059\tvalidation_1-rmse:62.86614\n",
      "[299]\tvalidation_0-rmse:61.93849\tvalidation_1-rmse:60.88174\n",
      "Fold: 1/5 score = 3706.58639\n",
      "[0]\tvalidation_0-rmse:63.15334\tvalidation_1-rmse:66.16299\n",
      "[299]\tvalidation_0-rmse:61.14240\tvalidation_1-rmse:64.17354\n",
      "Fold: 2/5 score = 4118.24275\n",
      "[0]\tvalidation_0-rmse:63.74999\tvalidation_1-rmse:63.83679\n",
      "[299]\tvalidation_0-rmse:61.71819\tvalidation_1-rmse:61.81253\n",
      "Fold: 3/5 score = 3820.78831\n",
      "[0]\tvalidation_0-rmse:63.73802\tvalidation_1-rmse:63.88465\n",
      "[299]\tvalidation_0-rmse:61.71308\tvalidation_1-rmse:61.85136\n"
     ]
    },
    {
     "name": "stderr",
     "output_type": "stream",
     "text": [
      "[I 2023-08-18 09:20:08,591] Trial 2 pruned. \n"
     ]
    },
    {
     "name": "stdout",
     "output_type": "stream",
     "text": [
      "Fold: 4/5 score = 3825.59016\n",
      "[0]\tvalidation_0-rmse:63.99700\tvalidation_1-rmse:62.87209\n",
      "[199]\tvalidation_0-rmse:63.88077\tvalidation_1-rmse:62.75781\n",
      "Fold: 1/5 score = 3938.54276\n",
      "[0]\tvalidation_0-rmse:63.15981\tvalidation_1-rmse:66.16961\n",
      "[199]\tvalidation_0-rmse:63.04576\tvalidation_1-rmse:66.05535\n",
      "Fold: 2/5 score = 4363.30889\n"
     ]
    },
    {
     "name": "stderr",
     "output_type": "stream",
     "text": [
      "[I 2023-08-18 09:21:12,988] Trial 3 pruned. \n"
     ]
    },
    {
     "name": "stdout",
     "output_type": "stream",
     "text": [
      "[0]\tvalidation_0-rmse:63.99758\tvalidation_1-rmse:62.87265\n",
      "[799]\tvalidation_0-rmse:63.99439\tvalidation_1-rmse:62.86953\n",
      "Fold: 1/5 score = 3952.57752\n",
      "[0]\tvalidation_0-rmse:63.16037\tvalidation_1-rmse:66.17017\n",
      "[799]\tvalidation_0-rmse:63.15725\tvalidation_1-rmse:66.16705\n",
      "Fold: 2/5 score = 4378.07814\n",
      "[0]\tvalidation_0-rmse:63.75667\tvalidation_1-rmse:63.84347\n",
      "[799]\tvalidation_0-rmse:63.75350\tvalidation_1-rmse:63.84029\n",
      "Fold: 3/5 score = 4075.58238\n",
      "[0]\tvalidation_0-rmse:63.74471\tvalidation_1-rmse:63.89139\n",
      "[799]\tvalidation_0-rmse:63.74156\tvalidation_1-rmse:63.88820\n"
     ]
    },
    {
     "name": "stderr",
     "output_type": "stream",
     "text": [
      "[I 2023-08-18 09:21:24,752] Trial 4 pruned. \n"
     ]
    },
    {
     "name": "stdout",
     "output_type": "stream",
     "text": [
      "Fold: 4/5 score = 4081.70180\n",
      "[0]\tvalidation_0-rmse:63.42036\tvalidation_1-rmse:62.31282\n",
      "[499]\tvalidation_0-rmse:29.16303\tvalidation_1-rmse:32.48679\n",
      "Fold: 1/5 score = 1054.93452\n",
      "[0]\tvalidation_0-rmse:62.59201\tvalidation_1-rmse:65.60679\n",
      "[499]\tvalidation_0-rmse:28.87937\tvalidation_1-rmse:33.14196\n",
      "Fold: 2/5 score = 1098.31284\n",
      "[0]\tvalidation_0-rmse:63.17926\tvalidation_1-rmse:63.26431\n",
      "[499]\tvalidation_0-rmse:29.11167\tvalidation_1-rmse:32.01571\n",
      "Fold: 3/5 score = 1024.86631\n",
      "[0]\tvalidation_0-rmse:63.18114\tvalidation_1-rmse:63.31929\n",
      "[484]\tvalidation_0-rmse:29.35333\tvalidation_1-rmse:31.51715\n",
      "Fold: 4/5 score = 992.68226\n",
      "[0]\tvalidation_0-rmse:63.62832\tvalidation_1-rmse:61.45164\n",
      "[499]\tvalidation_0-rmse:29.24982\tvalidation_1-rmse:31.84639\n",
      "Fold: 5/5 score = 1014.06904\n"
     ]
    },
    {
     "name": "stderr",
     "output_type": "stream",
     "text": [
      "[I 2023-08-18 09:37:38,195] Trial 5 finished with value: 1036.9729939255374 and parameters: {'booster': 'dart', 'lambda': 3.994538177154855e-06, 'alpha': 0.006868302692995721, 'subsample': 0.6738017242196918, 'colsample_bytree': 0.8984914683186939, 'n_estimators': 500, 'max_depth': 3, 'min_child_weight': 8, 'eta': 0.012197768563438372, 'gamma': 0.0003091844051450647, 'grow_policy': 'depthwise', 'sample_type': 'uniform', 'normalize_type': 'forest', 'rate_drop': 1.784158714232739e-08, 'skip_drop': 0.0012339094493965515}. Best is trial 5 with value: 1036.9729939255374.\n"
     ]
    },
    {
     "name": "stdout",
     "output_type": "stream",
     "text": [
      "[0]\tvalidation_0-rmse:63.99757\tvalidation_1-rmse:62.87264\n",
      "[299]\tvalidation_0-rmse:63.99482\tvalidation_1-rmse:62.86995\n",
      "Fold: 1/5 score = 3952.63012\n",
      "[0]\tvalidation_0-rmse:63.16037\tvalidation_1-rmse:66.17017\n",
      "[299]\tvalidation_0-rmse:63.15767\tvalidation_1-rmse:66.16747\n",
      "Fold: 2/5 score = 4378.13467\n"
     ]
    },
    {
     "name": "stderr",
     "output_type": "stream",
     "text": [
      "[I 2023-08-18 09:40:07,494] Trial 6 pruned. \n"
     ]
    },
    {
     "name": "stdout",
     "output_type": "stream",
     "text": [
      "[0]\tvalidation_0-rmse:63.99655\tvalidation_1-rmse:62.87164\n",
      "[899]\tvalidation_0-rmse:63.07860\tvalidation_1-rmse:61.97373\n",
      "Fold: 1/5 score = 3840.74308\n",
      "[0]\tvalidation_0-rmse:63.15938\tvalidation_1-rmse:66.16918\n",
      "[899]\tvalidation_0-rmse:62.25801\tvalidation_1-rmse:65.26866\n"
     ]
    },
    {
     "name": "stderr",
     "output_type": "stream",
     "text": [
      "[I 2023-08-18 09:40:15,091] Trial 7 pruned. \n"
     ]
    },
    {
     "name": "stdout",
     "output_type": "stream",
     "text": [
      "Fold: 2/5 score = 4259.99864\n",
      "[0]\tvalidation_0-rmse:63.99746\tvalidation_1-rmse:62.87253\n",
      "[999]\tvalidation_0-rmse:63.87545\tvalidation_1-rmse:62.75391\n",
      "Fold: 1/5 score = 3938.05267\n",
      "[0]\tvalidation_0-rmse:63.16026\tvalidation_1-rmse:66.17006\n",
      "[999]\tvalidation_0-rmse:63.04061\tvalidation_1-rmse:66.05113\n",
      "Fold: 2/5 score = 4362.75177\n",
      "[0]\tvalidation_0-rmse:63.75655\tvalidation_1-rmse:63.84335\n",
      "[999]\tvalidation_0-rmse:63.63557\tvalidation_1-rmse:63.72227\n",
      "Fold: 3/5 score = 4060.52834\n",
      "[0]\tvalidation_0-rmse:63.74459\tvalidation_1-rmse:63.89128\n",
      "[999]\tvalidation_0-rmse:63.62415\tvalidation_1-rmse:63.76973\n"
     ]
    },
    {
     "name": "stderr",
     "output_type": "stream",
     "text": [
      "[I 2023-08-18 09:40:40,088] Trial 8 pruned. \n"
     ]
    },
    {
     "name": "stdout",
     "output_type": "stream",
     "text": [
      "Fold: 4/5 score = 4066.57820\n",
      "[0]\tvalidation_0-rmse:63.88736\tvalidation_1-rmse:62.76968\n",
      "[499]\tvalidation_0-rmse:34.66789\tvalidation_1-rmse:36.48903\n",
      "Fold: 1/5 score = 1331.44905\n",
      "[0]\tvalidation_0-rmse:63.05081\tvalidation_1-rmse:66.06245\n",
      "[499]\tvalidation_0-rmse:34.29571\tvalidation_1-rmse:38.91978\n",
      "Fold: 2/5 score = 1514.74947\n",
      "[0]\tvalidation_0-rmse:63.65031\tvalidation_1-rmse:63.73867\n",
      "[499]\tvalidation_0-rmse:34.63301\tvalidation_1-rmse:36.61632\n",
      "Fold: 3/5 score = 1340.75515\n",
      "[0]\tvalidation_0-rmse:63.63399\tvalidation_1-rmse:63.77919\n",
      "[499]\tvalidation_0-rmse:34.84339\tvalidation_1-rmse:36.40272\n"
     ]
    },
    {
     "name": "stderr",
     "output_type": "stream",
     "text": [
      "[I 2023-08-18 09:41:13,355] Trial 9 pruned. \n"
     ]
    },
    {
     "name": "stdout",
     "output_type": "stream",
     "text": [
      "Fold: 4/5 score = 1325.15811\n",
      "[0]\tvalidation_0-rmse:42.59444\tvalidation_1-rmse:42.84305\n",
      "[172]\tvalidation_0-rmse:27.58104\tvalidation_1-rmse:32.27011\n",
      "Fold: 1/5 score = 1094.15850\n",
      "[0]\tvalidation_0-rmse:41.94895\tvalidation_1-rmse:45.87833\n",
      "[172]\tvalidation_0-rmse:27.32694\tvalidation_1-rmse:33.07637\n",
      "Fold: 2/5 score = 1201.33462\n",
      "[0]\tvalidation_0-rmse:42.48185\tvalidation_1-rmse:42.93653\n",
      "[276]\tvalidation_0-rmse:27.44895\tvalidation_1-rmse:31.78929\n",
      "Fold: 3/5 score = 1033.67513\n",
      "[0]\tvalidation_0-rmse:42.85320\tvalidation_1-rmse:42.96259\n",
      "[125]\tvalidation_0-rmse:27.77864\tvalidation_1-rmse:31.26795\n",
      "Fold: 4/5 score = 1132.59202\n",
      "[0]\tvalidation_0-rmse:42.80506\tvalidation_1-rmse:42.22238\n",
      "[242]\tvalidation_0-rmse:27.54047\tvalidation_1-rmse:31.52358\n",
      "Fold: 5/5 score = 1016.70720\n"
     ]
    },
    {
     "name": "stderr",
     "output_type": "stream",
     "text": [
      "[I 2023-08-18 09:43:46,634] Trial 10 finished with value: 1095.6934919480616 and parameters: {'booster': 'dart', 'lambda': 1.1177206837443211e-05, 'alpha': 0.5705541732383875, 'subsample': 0.6758183738140613, 'colsample_bytree': 0.6090517816132627, 'n_estimators': 600, 'max_depth': 6, 'min_child_weight': 10, 'eta': 0.4873745203681325, 'gamma': 0.000645467831303796, 'grow_policy': 'depthwise', 'sample_type': 'uniform', 'normalize_type': 'tree', 'rate_drop': 0.3331912580301703, 'skip_drop': 0.00042115877464331166}. Best is trial 5 with value: 1036.9729939255374.\n"
     ]
    },
    {
     "name": "stdout",
     "output_type": "stream",
     "text": [
      "[0]\tvalidation_0-rmse:45.07727\tvalidation_1-rmse:45.07812\n",
      "[318]\tvalidation_0-rmse:29.53607\tvalidation_1-rmse:32.54195\n",
      "Fold: 1/5 score = 1076.73966\n",
      "[0]\tvalidation_0-rmse:44.51139\tvalidation_1-rmse:47.79541\n",
      "[599]\tvalidation_0-rmse:29.23477\tvalidation_1-rmse:33.28357\n",
      "Fold: 2/5 score = 1108.38168\n",
      "[0]\tvalidation_0-rmse:44.82379\tvalidation_1-rmse:45.51566\n",
      "[419]\tvalidation_0-rmse:29.46623\tvalidation_1-rmse:32.11626\n",
      "Fold: 3/5 score = 1046.48518\n",
      "[0]\tvalidation_0-rmse:45.14349\tvalidation_1-rmse:45.28099\n",
      "[531]\tvalidation_0-rmse:29.64113\tvalidation_1-rmse:31.46207\n",
      "Fold: 4/5 score = 1001.98171\n",
      "[0]\tvalidation_0-rmse:45.30475\tvalidation_1-rmse:44.30499\n",
      "[256]\tvalidation_0-rmse:29.61272\tvalidation_1-rmse:31.76048\n",
      "Fold: 5/5 score = 1034.44597\n"
     ]
    },
    {
     "name": "stderr",
     "output_type": "stream",
     "text": [
      "[I 2023-08-18 09:53:34,222] Trial 11 finished with value: 1053.6068407323278 and parameters: {'booster': 'dart', 'lambda': 1.656077948267287e-05, 'alpha': 0.9802663137825812, 'subsample': 0.6977582128155022, 'colsample_bytree': 0.6298933988523241, 'n_estimators': 600, 'max_depth': 6, 'min_child_weight': 10, 'eta': 0.42156870021976606, 'gamma': 0.0010047809013524105, 'grow_policy': 'depthwise', 'sample_type': 'uniform', 'normalize_type': 'tree', 'rate_drop': 0.7299655753655673, 'skip_drop': 0.0009025783926527956}. Best is trial 5 with value: 1036.9729939255374.\n"
     ]
    },
    {
     "name": "stdout",
     "output_type": "stream",
     "text": [
      "[0]\tvalidation_0-rmse:37.03745\tvalidation_1-rmse:37.98297\n",
      "[599]\tvalidation_0-rmse:29.65791\tvalidation_1-rmse:32.50874\n",
      "Fold: 1/5 score = 1056.71894\n",
      "[0]\tvalidation_0-rmse:36.54089\tvalidation_1-rmse:40.51238\n",
      "[315]\tvalidation_0-rmse:29.46843\tvalidation_1-rmse:33.24147\n",
      "Fold: 2/5 score = 1175.57703\n",
      "[0]\tvalidation_0-rmse:36.91133\tvalidation_1-rmse:38.09236\n",
      "[183]\tvalidation_0-rmse:29.71522\tvalidation_1-rmse:32.22646\n",
      "Fold: 3/5 score = 1153.97661\n",
      "[0]\tvalidation_0-rmse:37.38415\tvalidation_1-rmse:37.63800\n",
      "[123]\tvalidation_0-rmse:29.95527\tvalidation_1-rmse:31.47845\n",
      "Fold: 4/5 score = 1272.97594\n"
     ]
    },
    {
     "name": "stderr",
     "output_type": "stream",
     "text": [
      "[I 2023-08-18 09:58:16,706] Trial 12 pruned. \n"
     ]
    },
    {
     "name": "stdout",
     "output_type": "stream",
     "text": [
      "[0]\tvalidation_0-rmse:62.30210\tvalidation_1-rmse:61.26057\n",
      "[200]\tvalidation_0-rmse:22.46913\tvalidation_1-rmse:31.96506\n",
      "Fold: 1/5 score = 1021.00012\n",
      "[0]\tvalidation_0-rmse:61.47763\tvalidation_1-rmse:64.53233\n",
      "[289]\tvalidation_0-rmse:20.16182\tvalidation_1-rmse:32.86981\n",
      "Fold: 2/5 score = 1077.54000\n",
      "[0]\tvalidation_0-rmse:62.03737\tvalidation_1-rmse:62.14973\n",
      "[187]\tvalidation_0-rmse:22.63570\tvalidation_1-rmse:31.88287\n",
      "Fold: 3/5 score = 1010.14673\n",
      "[0]\tvalidation_0-rmse:62.07066\tvalidation_1-rmse:62.24142\n",
      "[170]\tvalidation_0-rmse:23.24088\tvalidation_1-rmse:31.30915\n",
      "Fold: 4/5 score = 973.60433\n",
      "[0]\tvalidation_0-rmse:62.50000\tvalidation_1-rmse:60.38709\n",
      "[182]\tvalidation_0-rmse:22.86449\tvalidation_1-rmse:31.28072\n",
      "Fold: 5/5 score = 977.47237\n"
     ]
    },
    {
     "name": "stderr",
     "output_type": "stream",
     "text": [
      "[I 2023-08-18 10:01:06,072] Trial 13 finished with value: 1011.952711948797 and parameters: {'booster': 'dart', 'lambda': 0.0004115646636381647, 'alpha': 0.02275951027248166, 'subsample': 0.7900221692433886, 'colsample_bytree': 0.48700934236258314, 'n_estimators': 500, 'max_depth': 7, 'min_child_weight': 8, 'eta': 0.034769614608622636, 'gamma': 4.961917338227354e-05, 'grow_policy': 'depthwise', 'sample_type': 'uniform', 'normalize_type': 'tree', 'rate_drop': 1.1423603259887504e-08, 'skip_drop': 2.9612090978670148e-05}. Best is trial 13 with value: 1011.952711948797.\n"
     ]
    },
    {
     "name": "stdout",
     "output_type": "stream",
     "text": [
      "[0]\tvalidation_0-rmse:62.85636\tvalidation_1-rmse:61.79219\n",
      "[285]\tvalidation_0-rmse:22.38178\tvalidation_1-rmse:31.97737\n",
      "Fold: 1/5 score = 1019.32400\n",
      "[0]\tvalidation_0-rmse:62.02799\tvalidation_1-rmse:65.06519\n",
      "[373]\tvalidation_0-rmse:20.69573\tvalidation_1-rmse:32.88386\n",
      "Fold: 2/5 score = 1080.25554\n",
      "[0]\tvalidation_0-rmse:62.62105\tvalidation_1-rmse:62.71972\n",
      "[292]\tvalidation_0-rmse:22.13083\tvalidation_1-rmse:31.79041\n",
      "Fold: 3/5 score = 1010.15097\n",
      "[0]\tvalidation_0-rmse:62.60881\tvalidation_1-rmse:62.75661\n",
      "[254]\tvalidation_0-rmse:22.96562\tvalidation_1-rmse:31.18473\n",
      "Fold: 4/5 score = 969.30682\n",
      "[0]\tvalidation_0-rmse:63.05943\tvalidation_1-rmse:60.92388\n",
      "[226]\tvalidation_0-rmse:23.54074\tvalidation_1-rmse:31.49505\n",
      "Fold: 5/5 score = 986.01363\n"
     ]
    },
    {
     "name": "stderr",
     "output_type": "stream",
     "text": [
      "[I 2023-08-18 10:06:43,283] Trial 14 finished with value: 1013.0101908596282 and parameters: {'booster': 'dart', 'lambda': 0.0006762676686783942, 'alpha': 0.01609159480975798, 'subsample': 0.8371995306578522, 'colsample_bytree': 0.4925855539333315, 'n_estimators': 400, 'max_depth': 7, 'min_child_weight': 8, 'eta': 0.023281960539576443, 'gamma': 4.1004152149798e-05, 'grow_policy': 'depthwise', 'sample_type': 'uniform', 'normalize_type': 'forest', 'rate_drop': 2.4812209254251174e-08, 'skip_drop': 4.731543457571597e-06}. Best is trial 13 with value: 1011.952711948797.\n"
     ]
    },
    {
     "name": "stdout",
     "output_type": "stream",
     "text": [
      "[0]\tvalidation_0-rmse:62.30034\tvalidation_1-rmse:61.34329\n",
      "[172]\tvalidation_0-rmse:17.52658\tvalidation_1-rmse:32.32754\n",
      "Fold: 1/5 score = 1043.48947\n",
      "[0]\tvalidation_0-rmse:61.45654\tvalidation_1-rmse:64.55642\n",
      "[264]\tvalidation_0-rmse:14.16445\tvalidation_1-rmse:33.07581\n",
      "Fold: 2/5 score = 1087.74833\n",
      "[0]\tvalidation_0-rmse:62.05408\tvalidation_1-rmse:62.24713\n",
      "[211]\tvalidation_0-rmse:15.77830\tvalidation_1-rmse:32.08157\n",
      "Fold: 3/5 score = 1026.11594\n",
      "[0]\tvalidation_0-rmse:62.05843\tvalidation_1-rmse:62.27627\n",
      "[196]\tvalidation_0-rmse:16.91876\tvalidation_1-rmse:31.26069\n",
      "Fold: 4/5 score = 974.18476\n",
      "[0]\tvalidation_0-rmse:62.49350\tvalidation_1-rmse:60.44067\n",
      "[170]\tvalidation_0-rmse:17.91646\tvalidation_1-rmse:31.46139\n",
      "Fold: 5/5 score = 987.25968\n"
     ]
    },
    {
     "name": "stderr",
     "output_type": "stream",
     "text": [
      "[I 2023-08-18 10:09:39,743] Trial 15 finished with value: 1023.7596332364207 and parameters: {'booster': 'dart', 'lambda': 0.0010400774602416522, 'alpha': 0.04120391548740278, 'subsample': 0.8920908906954158, 'colsample_bytree': 0.43381159243521583, 'n_estimators': 400, 'max_depth': 8, 'min_child_weight': 2, 'eta': 0.034062941139685554, 'gamma': 2.8501143711630568e-05, 'grow_policy': 'depthwise', 'sample_type': 'uniform', 'normalize_type': 'forest', 'rate_drop': 1.9630739918526997e-08, 'skip_drop': 3.86333121797938e-06}. Best is trial 13 with value: 1011.952711948797.\n"
     ]
    },
    {
     "name": "stdout",
     "output_type": "stream",
     "text": [
      "[0]\tvalidation_0-rmse:61.36492\tvalidation_1-rmse:60.38891\n",
      "[124]\tvalidation_0-rmse:22.98557\tvalidation_1-rmse:32.17906\n",
      "Fold: 1/5 score = 1033.97507\n",
      "[0]\tvalidation_0-rmse:60.58666\tvalidation_1-rmse:63.64901\n",
      "[216]\tvalidation_0-rmse:19.46020\tvalidation_1-rmse:32.88298\n",
      "Fold: 2/5 score = 1079.74612\n",
      "[0]\tvalidation_0-rmse:61.16087\tvalidation_1-rmse:61.28124\n",
      "[143]\tvalidation_0-rmse:22.01329\tvalidation_1-rmse:31.82846\n",
      "Fold: 3/5 score = 1005.75793\n",
      "[0]\tvalidation_0-rmse:61.12848\tvalidation_1-rmse:61.33271\n",
      "[156]\tvalidation_0-rmse:21.85011\tvalidation_1-rmse:31.37785\n",
      "Fold: 4/5 score = 976.40460\n",
      "[0]\tvalidation_0-rmse:61.58360\tvalidation_1-rmse:59.52505\n",
      "[122]\tvalidation_0-rmse:22.92616\tvalidation_1-rmse:31.21837\n",
      "Fold: 5/5 score = 974.24621\n"
     ]
    },
    {
     "name": "stderr",
     "output_type": "stream",
     "text": [
      "[I 2023-08-18 10:11:22,357] Trial 16 finished with value: 1014.0259858839796 and parameters: {'booster': 'dart', 'lambda': 0.0026377247595962727, 'alpha': 7.483780511102761e-05, 'subsample': 0.8280537243135858, 'colsample_bytree': 0.37588574594589486, 'n_estimators': 400, 'max_depth': 7, 'min_child_weight': 8, 'eta': 0.05393761227911353, 'gamma': 4.291867724531988e-05, 'grow_policy': 'depthwise', 'sample_type': 'weighted', 'normalize_type': 'tree', 'rate_drop': 5.145690154427874e-07, 'skip_drop': 1.3546656519467045e-06}. Best is trial 13 with value: 1011.952711948797.\n"
     ]
    },
    {
     "name": "stdout",
     "output_type": "stream",
     "text": [
      "[0]\tvalidation_0-rmse:63.97062\tvalidation_1-rmse:62.84722\n",
      "[699]\tvalidation_0-rmse:49.14491\tvalidation_1-rmse:49.05070\n",
      "Fold: 1/5 score = 2405.97108\n",
      "[0]\tvalidation_0-rmse:63.13382\tvalidation_1-rmse:66.14401\n",
      "[699]\tvalidation_0-rmse:48.55741\tvalidation_1-rmse:52.11113\n",
      "Fold: 2/5 score = 2715.56945\n"
     ]
    },
    {
     "name": "stderr",
     "output_type": "stream",
     "text": [
      "[I 2023-08-18 10:23:31,969] Trial 17 pruned. \n"
     ]
    },
    {
     "name": "stdout",
     "output_type": "stream",
     "text": [
      "[0]\tvalidation_0-rmse:61.94568\tvalidation_1-rmse:60.89466\n",
      "[202]\tvalidation_0-rmse:24.39949\tvalidation_1-rmse:32.28739\n",
      "Fold: 1/5 score = 1040.69536\n",
      "[0]\tvalidation_0-rmse:61.14439\tvalidation_1-rmse:64.15908\n",
      "[262]\tvalidation_0-rmse:23.06904\tvalidation_1-rmse:32.92912\n",
      "Fold: 2/5 score = 1080.74075\n",
      "[0]\tvalidation_0-rmse:61.71948\tvalidation_1-rmse:61.80497\n",
      "[203]\tvalidation_0-rmse:24.41794\tvalidation_1-rmse:32.05536\n",
      "Fold: 3/5 score = 1024.51633\n",
      "[0]\tvalidation_0-rmse:61.71076\tvalidation_1-rmse:61.84802\n",
      "[188]\tvalidation_0-rmse:24.96672\tvalidation_1-rmse:31.52067\n",
      "Fold: 4/5 score = 992.13660\n"
     ]
    },
    {
     "name": "stderr",
     "output_type": "stream",
     "text": [
      "[I 2023-08-18 10:25:58,777] Trial 18 pruned. \n"
     ]
    },
    {
     "name": "stdout",
     "output_type": "stream",
     "text": [
      "[0]\tvalidation_0-rmse:63.90672\tvalidation_1-rmse:62.78698\n",
      "[99]\tvalidation_0-rmse:56.04699\tvalidation_1-rmse:55.38666\n",
      "Fold: 1/5 score = 3067.68237\n",
      "[0]\tvalidation_0-rmse:63.07203\tvalidation_1-rmse:66.08444\n",
      "[99]\tvalidation_0-rmse:55.33667\tvalidation_1-rmse:58.62244\n",
      "Fold: 2/5 score = 3436.59076"
     ]
    },
    {
     "name": "stderr",
     "output_type": "stream",
     "text": [
      "[I 2023-08-18 10:26:15,104] Trial 19 pruned. \n"
     ]
    },
    {
     "name": "stdout",
     "output_type": "stream",
     "text": [
      "\n",
      "[0]\tvalidation_0-rmse:63.36471\tvalidation_1-rmse:62.27496\n",
      "[299]\tvalidation_0-rmse:24.56265\tvalidation_1-rmse:32.02028\n",
      "Fold: 1/5 score = 1025.18734\n",
      "[0]\tvalidation_0-rmse:62.53515\tvalidation_1-rmse:65.57207\n",
      "[299]\tvalidation_0-rmse:24.30848\tvalidation_1-rmse:32.93284\n",
      "Fold: 2/5 score = 1084.57201\n",
      "[0]\tvalidation_0-rmse:63.11753\tvalidation_1-rmse:63.21955\n",
      "[299]\tvalidation_0-rmse:24.57250\tvalidation_1-rmse:31.69181\n",
      "Fold: 3/5 score = 1004.37073\n",
      "[0]\tvalidation_0-rmse:63.13239\tvalidation_1-rmse:63.28106\n",
      "[299]\tvalidation_0-rmse:24.75009\tvalidation_1-rmse:31.08634\n",
      "Fold: 4/5 score = 964.80999\n",
      "[0]\tvalidation_0-rmse:63.56842\tvalidation_1-rmse:61.41046\n",
      "[299]\tvalidation_0-rmse:24.58782\tvalidation_1-rmse:31.40393\n",
      "Fold: 5/5 score = 986.20706\n"
     ]
    },
    {
     "name": "stderr",
     "output_type": "stream",
     "text": [
      "[I 2023-08-18 10:31:50,955] Trial 20 finished with value: 1013.0294246439507 and parameters: {'booster': 'dart', 'lambda': 0.021925399403792012, 'alpha': 0.0035571482581164366, 'subsample': 0.5992537038379271, 'colsample_bytree': 0.47942004109754555, 'n_estimators': 300, 'max_depth': 8, 'min_child_weight': 7, 'eta': 0.012883325692558876, 'gamma': 0.0001294129436910483, 'grow_policy': 'depthwise', 'sample_type': 'uniform', 'normalize_type': 'forest', 'rate_drop': 8.034900469625193e-06, 'skip_drop': 1.119959773937448e-08}. Best is trial 13 with value: 1011.952711948797.\n"
     ]
    },
    {
     "name": "stdout",
     "output_type": "stream",
     "text": [
      "[0]\tvalidation_0-rmse:59.28886\tvalidation_1-rmse:58.43975\n",
      "[93]\tvalidation_0-rmse:20.77775\tvalidation_1-rmse:32.49538\n",
      "Fold: 1/5 score = 1049.36133\n",
      "[0]\tvalidation_0-rmse:58.55504\tvalidation_1-rmse:61.69570\n",
      "[111]\tvalidation_0-rmse:19.24773\tvalidation_1-rmse:33.33057\n",
      "Fold: 2/5 score = 1094.07583\n",
      "[0]\tvalidation_0-rmse:58.99165\tvalidation_1-rmse:59.27728\n",
      "[87]\tvalidation_0-rmse:21.10838\tvalidation_1-rmse:32.47943\n",
      "Fold: 3/5 score = 1025.78697\n",
      "[0]\tvalidation_0-rmse:59.16294\tvalidation_1-rmse:59.40840\n",
      "[83]\tvalidation_0-rmse:21.52898\tvalidation_1-rmse:32.13723\n"
     ]
    },
    {
     "name": "stderr",
     "output_type": "stream",
     "text": [
      "[I 2023-08-18 10:32:19,334] Trial 21 pruned. \n"
     ]
    },
    {
     "name": "stdout",
     "output_type": "stream",
     "text": [
      "Fold: 4/5 score = 999.18839\n",
      "[0]\tvalidation_0-rmse:63.57707\tvalidation_1-rmse:62.47193\n",
      "[199]\tvalidation_0-rmse:29.55137\tvalidation_1-rmse:33.55229\n",
      "Fold: 1/5 score = 1125.75643\n",
      "[0]\tvalidation_0-rmse:62.74499\tvalidation_1-rmse:65.76212\n",
      "[199]\tvalidation_0-rmse:29.29379\tvalidation_1-rmse:35.28373\n",
      "Fold: 2/5 score = 1244.94134\n"
     ]
    },
    {
     "name": "stderr",
     "output_type": "stream",
     "text": [
      "[I 2023-08-18 10:33:19,787] Trial 22 pruned. \n"
     ]
    },
    {
     "name": "stdout",
     "output_type": "stream",
     "text": [
      "[0]\tvalidation_0-rmse:58.56999\tvalidation_1-rmse:57.56792\n",
      "[92]\tvalidation_0-rmse:21.73984\tvalidation_1-rmse:32.91702\n",
      "Fold: 1/5 score = 1049.56265\n",
      "[0]\tvalidation_0-rmse:57.84223\tvalidation_1-rmse:61.09473\n",
      "[104]\tvalidation_0-rmse:20.85053\tvalidation_1-rmse:33.76100\n",
      "Fold: 2/5 score = 1113.79482\n",
      "[0]\tvalidation_0-rmse:58.34593\tvalidation_1-rmse:58.42723\n",
      "[106]\tvalidation_0-rmse:21.10292\tvalidation_1-rmse:32.24310\n",
      "Fold: 3/5 score = 1022.07723\n",
      "[0]\tvalidation_0-rmse:58.50595\tvalidation_1-rmse:58.56182\n",
      "[102]\tvalidation_0-rmse:21.20743\tvalidation_1-rmse:31.77363\n",
      "Fold: 4/5 score = 981.96664\n",
      "[0]\tvalidation_0-rmse:58.75400\tvalidation_1-rmse:56.85913\n",
      "[89]\tvalidation_0-rmse:21.86821\tvalidation_1-rmse:32.34329\n"
     ]
    },
    {
     "name": "stderr",
     "output_type": "stream",
     "text": [
      "[I 2023-08-18 10:34:00,619] Trial 23 finished with value: 1039.4256706865385 and parameters: {'booster': 'dart', 'lambda': 0.6868862491852431, 'alpha': 0.10971078683120963, 'subsample': 0.5682617703846095, 'colsample_bytree': 0.3061365815307434, 'n_estimators': 500, 'max_depth': 8, 'min_child_weight': 9, 'eta': 0.11992509544681831, 'gamma': 0.00017874829165670294, 'grow_policy': 'depthwise', 'sample_type': 'uniform', 'normalize_type': 'forest', 'rate_drop': 1.025701631318354e-08, 'skip_drop': 1.7561644895954908e-07}. Best is trial 13 with value: 1011.952711948797.\n"
     ]
    },
    {
     "name": "stdout",
     "output_type": "stream",
     "text": [
      "Fold: 5/5 score = 1029.72701\n",
      "[0]\tvalidation_0-rmse:63.37162\tvalidation_1-rmse:62.27084\n",
      "[399]\tvalidation_0-rmse:24.23717\tvalidation_1-rmse:32.12190\n",
      "Fold: 1/5 score = 1031.72184\n",
      "[0]\tvalidation_0-rmse:62.54169\tvalidation_1-rmse:65.56482\n",
      "[399]\tvalidation_0-rmse:23.80832\tvalidation_1-rmse:32.84348\n",
      "Fold: 2/5 score = 1078.23142\n",
      "[0]\tvalidation_0-rmse:63.12820\tvalidation_1-rmse:63.22106\n",
      "[399]\tvalidation_0-rmse:24.00560\tvalidation_1-rmse:31.82375\n",
      "Fold: 3/5 score = 1012.75115\n",
      "[0]\tvalidation_0-rmse:63.12316\tvalidation_1-rmse:63.27463\n",
      "[399]\tvalidation_0-rmse:24.20112\tvalidation_1-rmse:31.11689\n",
      "Fold: 4/5 score = 967.66102\n",
      "[0]\tvalidation_0-rmse:63.58010\tvalidation_1-rmse:61.42106\n",
      "[399]\tvalidation_0-rmse:24.09176\tvalidation_1-rmse:31.37285\n",
      "Fold: 5/5 score = 983.99810\n"
     ]
    },
    {
     "name": "stderr",
     "output_type": "stream",
     "text": [
      "[I 2023-08-18 10:43:38,748] Trial 24 finished with value: 1014.8727055855695 and parameters: {'booster': 'dart', 'lambda': 0.011982386414167214, 'alpha': 0.0013360874296123168, 'subsample': 0.7556165465795188, 'colsample_bytree': 0.4265108749248211, 'n_estimators': 400, 'max_depth': 7, 'min_child_weight': 8, 'eta': 0.012808887561851714, 'gamma': 0.001802365629381603, 'grow_policy': 'depthwise', 'sample_type': 'uniform', 'normalize_type': 'forest', 'rate_drop': 1.4789210512584564e-07, 'skip_drop': 5.9467971408121155e-06}. Best is trial 13 with value: 1011.952711948797.\n"
     ]
    },
    {
     "name": "stdout",
     "output_type": "stream",
     "text": [
      "[0]\tvalidation_0-rmse:55.52977\tvalidation_1-rmse:54.79678\n",
      "[90]\tvalidation_0-rmse:18.34578\tvalidation_1-rmse:33.20885\n",
      "Fold: 1/5 score = 1087.05075\n",
      "[0]\tvalidation_0-rmse:54.88023\tvalidation_1-rmse:58.10902\n",
      "[100]\tvalidation_0-rmse:16.80763\tvalidation_1-rmse:35.14451\n",
      "Fold: 2/5 score = 1188.39924\n"
     ]
    },
    {
     "name": "stderr",
     "output_type": "stream",
     "text": [
      "[I 2023-08-18 10:43:54,236] Trial 25 pruned. \n"
     ]
    },
    {
     "name": "stdout",
     "output_type": "stream",
     "text": [
      "[0]\tvalidation_0-rmse:31.91542\tvalidation_1-rmse:33.70806\n",
      "[49]\tvalidation_0-rmse:18.98004\tvalidation_1-rmse:43.16461\n",
      "Fold: 1/5 score = 1136.23341\n",
      "[0]\tvalidation_0-rmse:31.77987\tvalidation_1-rmse:35.52177\n",
      "[51]\tvalidation_0-rmse:18.49964\tvalidation_1-rmse:46.46451\n"
     ]
    },
    {
     "name": "stderr",
     "output_type": "stream",
     "text": [
      "[I 2023-08-18 10:43:55,774] Trial 26 pruned. \n"
     ]
    },
    {
     "name": "stdout",
     "output_type": "stream",
     "text": [
      "Fold: 2/5 score = 1257.97537\n",
      "[0]\tvalidation_0-rmse:62.90280\tvalidation_1-rmse:61.82751\n",
      "[299]\tvalidation_0-rmse:20.80150\tvalidation_1-rmse:31.99703\n",
      "Fold: 1/5 score = 1022.16094\n",
      "[0]\tvalidation_0-rmse:62.08802\tvalidation_1-rmse:65.15617\n",
      "[299]\tvalidation_0-rmse:20.49899\tvalidation_1-rmse:32.69553\n",
      "Fold: 2/5 score = 1068.40417\n",
      "[0]\tvalidation_0-rmse:62.65586\tvalidation_1-rmse:62.77732\n",
      "[268]\tvalidation_0-rmse:21.18349\tvalidation_1-rmse:31.87651\n",
      "Fold: 3/5 score = 1014.23493\n",
      "[0]\tvalidation_0-rmse:62.68699\tvalidation_1-rmse:62.85017\n",
      "[222]\tvalidation_0-rmse:22.54360\tvalidation_1-rmse:31.11944\n",
      "Fold: 4/5 score = 966.91689\n",
      "[0]\tvalidation_0-rmse:63.10185\tvalidation_1-rmse:60.98887\n",
      "[299]\tvalidation_0-rmse:20.85382\tvalidation_1-rmse:31.32191\n",
      "Fold: 5/5 score = 981.05022\n"
     ]
    },
    {
     "name": "stderr",
     "output_type": "stream",
     "text": [
      "[I 2023-08-18 10:48:51,118] Trial 27 finished with value: 1010.5534272672534 and parameters: {'booster': 'dart', 'lambda': 0.023132651559244887, 'alpha': 0.00952045018685688, 'subsample': 0.5969410890088784, 'colsample_bytree': 0.5398487718999002, 'n_estimators': 300, 'max_depth': 8, 'min_child_weight': 5, 'eta': 0.022208274781257725, 'gamma': 3.195591485620921e-05, 'grow_policy': 'depthwise', 'sample_type': 'uniform', 'normalize_type': 'tree', 'rate_drop': 9.253305951715729e-08, 'skip_drop': 7.958806798369729e-07}. Best is trial 27 with value: 1010.5534272672534.\n"
     ]
    },
    {
     "name": "stdout",
     "output_type": "stream",
     "text": [
      "[0]\tvalidation_0-rmse:56.11757\tvalidation_1-rmse:55.35013\n",
      "[74]\tvalidation_0-rmse:21.96162\tvalidation_1-rmse:32.91461\n",
      "Fold: 1/5 score = 1068.18346\n",
      "[0]\tvalidation_0-rmse:55.45482\tvalidation_1-rmse:58.50126\n",
      "[110]\tvalidation_0-rmse:19.03262\tvalidation_1-rmse:33.26785\n",
      "Fold: 2/5 score = 1104.59439\n",
      "[0]\tvalidation_0-rmse:55.88784\tvalidation_1-rmse:55.97737\n",
      "[159]\tvalidation_0-rmse:16.23963\tvalidation_1-rmse:31.89389\n",
      "Fold: 3/5 score = 1008.48752\n",
      "[0]\tvalidation_0-rmse:55.93157\tvalidation_1-rmse:56.05658\n",
      "[75]\tvalidation_0-rmse:21.79919\tvalidation_1-rmse:32.07878\n"
     ]
    },
    {
     "name": "stderr",
     "output_type": "stream",
     "text": [
      "[I 2023-08-18 10:49:30,915] Trial 28 pruned. \n"
     ]
    },
    {
     "name": "stdout",
     "output_type": "stream",
     "text": [
      "Fold: 4/5 score = 984.36918\n",
      "[0]\tvalidation_0-rmse:63.79064\tvalidation_1-rmse:62.67922\n",
      "[99]\tvalidation_0-rmse:47.56363\tvalidation_1-rmse:47.99411\n",
      "Fold: 1/5 score = 2303.43460\n",
      "[0]\tvalidation_0-rmse:62.95605\tvalidation_1-rmse:65.97053\n",
      "[99]\tvalidation_0-rmse:47.07312\tvalidation_1-rmse:51.09422\n",
      "Fold: 2/5 score = 2610.61976\n"
     ]
    },
    {
     "name": "stderr",
     "output_type": "stream",
     "text": [
      "[I 2023-08-18 10:49:48,082] Trial 29 pruned. \n"
     ]
    },
    {
     "name": "stdout",
     "output_type": "stream",
     "text": [
      "[0]\tvalidation_0-rmse:62.38766\tvalidation_1-rmse:61.38967\n",
      "[234]\tvalidation_0-rmse:19.62027\tvalidation_1-rmse:32.14356\n",
      "Fold: 1/5 score = 1028.48048\n",
      "[0]\tvalidation_0-rmse:61.56605\tvalidation_1-rmse:64.61273\n",
      "[216]\tvalidation_0-rmse:20.01906\tvalidation_1-rmse:32.79372\n",
      "Fold: 2/5 score = 1073.74521\n",
      "[0]\tvalidation_0-rmse:62.14151\tvalidation_1-rmse:62.24499\n",
      "[224]\tvalidation_0-rmse:19.77319\tvalidation_1-rmse:31.78595\n",
      "Fold: 3/5 score = 1008.56371\n",
      "[0]\tvalidation_0-rmse:62.15364\tvalidation_1-rmse:62.33835\n",
      "[241]\tvalidation_0-rmse:19.58163\tvalidation_1-rmse:31.17261\n",
      "Fold: 4/5 score = 965.33687\n",
      "[0]\tvalidation_0-rmse:62.59008\tvalidation_1-rmse:60.50703\n",
      "[224]\tvalidation_0-rmse:20.11793\tvalidation_1-rmse:31.51346\n",
      "Fold: 5/5 score = 989.43551\n"
     ]
    },
    {
     "name": "stderr",
     "output_type": "stream",
     "text": [
      "[I 2023-08-18 10:53:11,825] Trial 30 finished with value: 1013.1123552385185 and parameters: {'booster': 'dart', 'lambda': 0.007089766847167621, 'alpha': 0.00851351349262366, 'subsample': 0.859789750711841, 'colsample_bytree': 0.6859496528046101, 'n_estimators': 400, 'max_depth': 7, 'min_child_weight': 5, 'eta': 0.032523782285155754, 'gamma': 2.5510241066624404e-07, 'grow_policy': 'depthwise', 'sample_type': 'uniform', 'normalize_type': 'tree', 'rate_drop': 1.1165024436320922e-07, 'skip_drop': 3.3133073798050018e-06}. Best is trial 27 with value: 1010.5534272672534.\n"
     ]
    },
    {
     "name": "stdout",
     "output_type": "stream",
     "text": [
      "[0]\tvalidation_0-rmse:63.29770\tvalidation_1-rmse:62.21850\n",
      "[299]\tvalidation_0-rmse:24.12980\tvalidation_1-rmse:31.97271\n",
      "Fold: 1/5 score = 1022.25420\n",
      "[0]\tvalidation_0-rmse:62.47702\tvalidation_1-rmse:65.50401\n",
      "[299]\tvalidation_0-rmse:23.89943\tvalidation_1-rmse:32.88406\n",
      "Fold: 2/5 score = 1081.36140\n",
      "[0]\tvalidation_0-rmse:63.05215\tvalidation_1-rmse:63.16178\n",
      "[299]\tvalidation_0-rmse:24.13025\tvalidation_1-rmse:31.59318\n",
      "Fold: 3/5 score = 997.48707\n",
      "[0]\tvalidation_0-rmse:63.06921\tvalidation_1-rmse:63.23070\n",
      "[299]\tvalidation_0-rmse:24.29996\tvalidation_1-rmse:31.03884\n",
      "Fold: 4/5 score = 962.30980\n",
      "[0]\tvalidation_0-rmse:63.50749\tvalidation_1-rmse:61.35579\n",
      "[299]\tvalidation_0-rmse:24.20170\tvalidation_1-rmse:31.25984\n",
      "Fold: 5/5 score = 977.13329\n"
     ]
    },
    {
     "name": "stderr",
     "output_type": "stream",
     "text": [
      "[I 2023-08-18 10:58:47,151] Trial 31 finished with value: 1008.1091541625267 and parameters: {'booster': 'dart', 'lambda': 0.02327655764087931, 'alpha': 0.017383483056470805, 'subsample': 0.6042728713137235, 'colsample_bytree': 0.46593675569304116, 'n_estimators': 300, 'max_depth': 8, 'min_child_weight': 7, 'eta': 0.014146337306518984, 'gamma': 6.274334245858035e-05, 'grow_policy': 'depthwise', 'sample_type': 'uniform', 'normalize_type': 'tree', 'rate_drop': 5.184380861362121e-07, 'skip_drop': 1.4571792844148804e-07}. Best is trial 31 with value: 1008.1091541625267.\n"
     ]
    },
    {
     "name": "stdout",
     "output_type": "stream",
     "text": [
      "[0]\tvalidation_0-rmse:63.94776\tvalidation_1-rmse:62.82560\n",
      "[199]\tvalidation_0-rmse:55.15280\tvalidation_1-rmse:54.59754\n",
      "Fold: 1/5 score = 2980.89085\n",
      "[0]\tvalidation_0-rmse:63.11125\tvalidation_1-rmse:66.12219\n",
      "[199]\tvalidation_0-rmse:54.46777\tvalidation_1-rmse:57.78126\n",
      "Fold: 2/5 score = 3338.67348\n",
      "[0]\tvalidation_0-rmse:63.70620\tvalidation_1-rmse:63.79431\n",
      "[199]\tvalidation_0-rmse:54.96397\tvalidation_1-rmse:55.38384\n",
      "Fold: 3/5 score = 3067.36981\n",
      "[0]\tvalidation_0-rmse:63.69546\tvalidation_1-rmse:63.84221\n",
      "[199]\tvalidation_0-rmse:54.99048\tvalidation_1-rmse:55.36700\n",
      "Fold: 4/5 score = 3065.50513\n"
     ]
    },
    {
     "name": "stderr",
     "output_type": "stream",
     "text": [
      "[I 2023-08-18 11:00:51,027] Trial 32 pruned. \n"
     ]
    },
    {
     "name": "stdout",
     "output_type": "stream",
     "text": [
      "[0]\tvalidation_0-rmse:63.67284\tvalidation_1-rmse:62.56715\n",
      "[299]\tvalidation_0-rmse:27.40868\tvalidation_1-rmse:32.92168\n",
      "Fold: 1/5 score = 1083.83701\n",
      "[0]\tvalidation_0-rmse:62.83652\tvalidation_1-rmse:65.85436\n",
      "[299]\tvalidation_0-rmse:26.96305\tvalidation_1-rmse:34.50912\n",
      "Fold: 2/5 score = 1190.87968\n",
      "[0]\tvalidation_0-rmse:63.42556\tvalidation_1-rmse:63.52537\n",
      "[299]\tvalidation_0-rmse:27.26866\tvalidation_1-rmse:32.70877\n",
      "Fold: 3/5 score = 1069.86349\n",
      "[0]\tvalidation_0-rmse:63.42159\tvalidation_1-rmse:63.57321\n",
      "[299]\tvalidation_0-rmse:27.54004\tvalidation_1-rmse:32.27584\n",
      "Fold: 4/5 score = 1041.72999\n"
     ]
    },
    {
     "name": "stderr",
     "output_type": "stream",
     "text": [
      "[I 2023-08-18 11:05:23,220] Trial 33 pruned. \n"
     ]
    },
    {
     "name": "stdout",
     "output_type": "stream",
     "text": [
      "[0]\tvalidation_0-rmse:63.98054\tvalidation_1-rmse:62.85640\n",
      "[299]\tvalidation_0-rmse:59.20304\tvalidation_1-rmse:58.39716\n",
      "Fold: 1/5 score = 3410.22818\n",
      "[0]\tvalidation_0-rmse:63.14343\tvalidation_1-rmse:66.15367\n",
      "[299]\tvalidation_0-rmse:58.44358\tvalidation_1-rmse:61.64803\n",
      "Fold: 2/5 score = 3800.47944\n"
     ]
    },
    {
     "name": "stderr",
     "output_type": "stream",
     "text": [
      "[I 2023-08-18 11:07:37,476] Trial 34 pruned. \n"
     ]
    },
    {
     "name": "stdout",
     "output_type": "stream",
     "text": [
      "[0]\tvalidation_0-rmse:63.90737\tvalidation_1-rmse:62.78784\n",
      "[399]\tvalidation_0-rmse:40.23776\tvalidation_1-rmse:41.40071\n",
      "Fold: 1/5 score = 1714.01870\n",
      "[0]\tvalidation_0-rmse:63.07198\tvalidation_1-rmse:66.08270\n",
      "[399]\tvalidation_0-rmse:39.80679\tvalidation_1-rmse:44.13601\n",
      "Fold: 2/5 score = 1947.98734\n",
      "[0]\tvalidation_0-rmse:63.66707\tvalidation_1-rmse:63.75565\n",
      "[399]\tvalidation_0-rmse:40.14414\tvalidation_1-rmse:41.75112\n",
      "Fold: 3/5 score = 1743.15598\n",
      "[0]\tvalidation_0-rmse:63.65630\tvalidation_1-rmse:63.80547\n",
      "[399]\tvalidation_0-rmse:40.25587\tvalidation_1-rmse:41.54056\n",
      "Fold: 4/5 score = 1725.61787\n"
     ]
    },
    {
     "name": "stderr",
     "output_type": "stream",
     "text": [
      "[I 2023-08-18 11:15:26,397] Trial 35 pruned. \n"
     ]
    },
    {
     "name": "stdout",
     "output_type": "stream",
     "text": [
      "[0]\tvalidation_0-rmse:62.68984\tvalidation_1-rmse:61.62428\n",
      "[329]\tvalidation_0-rmse:21.14779\tvalidation_1-rmse:32.02310\n",
      "Fold: 1/5 score = 1023.12210\n",
      "[0]\tvalidation_0-rmse:61.88452\tvalidation_1-rmse:64.94087\n",
      "[312]\tvalidation_0-rmse:21.33602\tvalidation_1-rmse:33.18920\n",
      "Fold: 2/5 score = 1099.82412\n",
      "[0]\tvalidation_0-rmse:62.45799\tvalidation_1-rmse:62.56865\n",
      "[307]\tvalidation_0-rmse:21.59567\tvalidation_1-rmse:31.77876\n",
      "Fold: 3/5 score = 1009.23514\n",
      "[0]\tvalidation_0-rmse:62.43610\tvalidation_1-rmse:62.60056\n",
      "[250]\tvalidation_0-rmse:22.90195\tvalidation_1-rmse:31.19043\n",
      "Fold: 4/5 score = 969.34758\n",
      "[0]\tvalidation_0-rmse:62.90200\tvalidation_1-rmse:60.77261\n",
      "[294]\tvalidation_0-rmse:21.91309\tvalidation_1-rmse:31.53558\n"
     ]
    },
    {
     "name": "stderr",
     "output_type": "stream",
     "text": [
      "[I 2023-08-18 11:15:36,668] Trial 36 finished with value: 1018.1065763567361 and parameters: {'booster': 'gbtree', 'lambda': 0.0009309452889496286, 'alpha': 0.001793081925153003, 'subsample': 0.7029723917243509, 'colsample_bytree': 0.30281333412671246, 'n_estimators': 500, 'max_depth': 7, 'min_child_weight': 6, 'eta': 0.026518466206460794, 'gamma': 1.892047952075238e-05, 'grow_policy': 'depthwise'}. Best is trial 31 with value: 1008.1091541625267.\n"
     ]
    },
    {
     "name": "stdout",
     "output_type": "stream",
     "text": [
      "Fold: 5/5 score = 989.00395\n",
      "[0]\tvalidation_0-rmse:63.79758\tvalidation_1-rmse:62.68547\n",
      "[199]\tvalidation_0-rmse:38.49885\tvalidation_1-rmse:40.15413\n",
      "Fold: 1/5 score = 1612.35418\n",
      "[0]\tvalidation_0-rmse:62.96296\tvalidation_1-rmse:65.97694\n",
      "[199]\tvalidation_0-rmse:38.05890\tvalidation_1-rmse:42.78582\n",
      "Fold: 2/5 score = 1830.62643\n",
      "[0]\tvalidation_0-rmse:63.55493\tvalidation_1-rmse:63.64550\n",
      "[199]\tvalidation_0-rmse:38.37610\tvalidation_1-rmse:40.41514\n",
      "Fold: 3/5 score = 1633.38376\n",
      "[0]\tvalidation_0-rmse:63.54626\tvalidation_1-rmse:63.69809\n",
      "[199]\tvalidation_0-rmse:38.51782\tvalidation_1-rmse:40.25863\n",
      "Fold: 4/5 score = 1620.75768\n"
     ]
    },
    {
     "name": "stderr",
     "output_type": "stream",
     "text": [
      "[I 2023-08-18 11:17:49,363] Trial 37 pruned. \n"
     ]
    },
    {
     "name": "stdout",
     "output_type": "stream",
     "text": [
      "[0]\tvalidation_0-rmse:63.98983\tvalidation_1-rmse:62.86536\n",
      "[699]\tvalidation_0-rmse:58.89801\tvalidation_1-rmse:58.12010\n",
      "Fold: 1/5 score = 3377.94608\n",
      "[0]\tvalidation_0-rmse:63.15270\tvalidation_1-rmse:66.16278\n",
      "[699]\tvalidation_0-rmse:58.15155\tvalidation_1-rmse:61.35091\n",
      "Fold: 2/5 score = 3763.93413\n"
     ]
    },
    {
     "name": "stderr",
     "output_type": "stream",
     "text": [
      "[I 2023-08-18 11:29:10,246] Trial 38 pruned. \n"
     ]
    },
    {
     "name": "stdout",
     "output_type": "stream",
     "text": [
      "[0]\tvalidation_0-rmse:63.35315\tvalidation_1-rmse:62.24197\n",
      "[99]\tvalidation_0-rmse:33.95683\tvalidation_1-rmse:35.34743\n",
      "Fold: 1/5 score = 1249.44077\n",
      "[0]\tvalidation_0-rmse:62.53256\tvalidation_1-rmse:65.54616\n",
      "[99]\tvalidation_0-rmse:33.62129\tvalidation_1-rmse:37.45432\n"
     ]
    },
    {
     "name": "stderr",
     "output_type": "stream",
     "text": [
      "[I 2023-08-18 11:29:11,971] Trial 39 pruned. \n"
     ]
    },
    {
     "name": "stdout",
     "output_type": "stream",
     "text": [
      "Fold: 2/5 score = 1402.82596\n",
      "[0]\tvalidation_0-rmse:60.23159\tvalidation_1-rmse:59.30682\n",
      "[94]\tvalidation_0-rmse:23.44619\tvalidation_1-rmse:32.33418\n",
      "Fold: 1/5 score = 1040.74045\n",
      "[0]\tvalidation_0-rmse:59.50774\tvalidation_1-rmse:62.61404\n",
      "[123]\tvalidation_0-rmse:22.21486\tvalidation_1-rmse:33.35265\n",
      "Fold: 2/5 score = 1103.84515\n",
      "[0]\tvalidation_0-rmse:59.92543\tvalidation_1-rmse:59.97911\n",
      "[101]\tvalidation_0-rmse:23.15300\tvalidation_1-rmse:32.24694\n",
      "Fold: 3/5 score = 1032.15023\n",
      "[0]\tvalidation_0-rmse:60.07567\tvalidation_1-rmse:60.18545\n",
      "[133]\tvalidation_0-rmse:21.80421\tvalidation_1-rmse:31.87400\n",
      "Fold: 4/5 score = 1001.20989\n"
     ]
    },
    {
     "name": "stderr",
     "output_type": "stream",
     "text": [
      "[I 2023-08-18 11:29:55,287] Trial 40 pruned. \n"
     ]
    },
    {
     "name": "stdout",
     "output_type": "stream",
     "text": [
      "[0]\tvalidation_0-rmse:63.19407\tvalidation_1-rmse:62.10866\n",
      "[293]\tvalidation_0-rmse:23.60206\tvalidation_1-rmse:32.02272\n",
      "Fold: 1/5 score = 1025.43340\n",
      "[0]\tvalidation_0-rmse:62.37244\tvalidation_1-rmse:65.41821\n",
      "[299]\tvalidation_0-rmse:23.27169\tvalidation_1-rmse:32.87678\n",
      "Fold: 2/5 score = 1080.53941\n",
      "[0]\tvalidation_0-rmse:62.95133\tvalidation_1-rmse:63.06435\n",
      "[254]\tvalidation_0-rmse:24.21671\tvalidation_1-rmse:31.81951\n",
      "Fold: 3/5 score = 1011.00234\n",
      "[0]\tvalidation_0-rmse:62.97094\tvalidation_1-rmse:63.11205\n",
      "[299]\tvalidation_0-rmse:23.65702\tvalidation_1-rmse:31.00319\n",
      "Fold: 4/5 score = 960.45020\n",
      "[0]\tvalidation_0-rmse:63.40733\tvalidation_1-rmse:61.25967\n",
      "[299]\tvalidation_0-rmse:23.59074\tvalidation_1-rmse:31.32329\n",
      "Fold: 5/5 score = 981.14875\n"
     ]
    },
    {
     "name": "stderr",
     "output_type": "stream",
     "text": [
      "[I 2023-08-18 11:35:19,372] Trial 41 finished with value: 1011.7148187269406 and parameters: {'booster': 'dart', 'lambda': 0.01992620572559385, 'alpha': 0.003292414311787081, 'subsample': 0.5934699228781491, 'colsample_bytree': 0.4953521895862449, 'n_estimators': 300, 'max_depth': 8, 'min_child_weight': 7, 'eta': 0.016284882786257393, 'gamma': 0.000114198474991275, 'grow_policy': 'depthwise', 'sample_type': 'uniform', 'normalize_type': 'forest', 'rate_drop': 1.5184708999313184e-06, 'skip_drop': 3.879664130717478e-08}. Best is trial 31 with value: 1008.1091541625267.\n"
     ]
    },
    {
     "name": "stdout",
     "output_type": "stream",
     "text": [
      "[0]\tvalidation_0-rmse:62.65685\tvalidation_1-rmse:61.60084\n",
      "[199]\tvalidation_0-rmse:23.05873\tvalidation_1-rmse:32.19637\n",
      "Fold: 1/5 score = 1035.67543\n",
      "[0]\tvalidation_0-rmse:61.84318\tvalidation_1-rmse:64.91658\n",
      "[199]\tvalidation_0-rmse:22.64708\tvalidation_1-rmse:32.96251\n",
      "Fold: 2/5 score = 1086.32421\n",
      "[0]\tvalidation_0-rmse:62.40891\tvalidation_1-rmse:62.53968\n",
      "[199]\tvalidation_0-rmse:22.80041\tvalidation_1-rmse:31.82345\n",
      "Fold: 3/5 score = 1012.73223\n",
      "[0]\tvalidation_0-rmse:62.45628\tvalidation_1-rmse:62.59723\n",
      "[176]\tvalidation_0-rmse:23.59463\tvalidation_1-rmse:31.02143\n",
      "Fold: 4/5 score = 959.92974\n",
      "[0]\tvalidation_0-rmse:62.85034\tvalidation_1-rmse:60.77248\n",
      "[188]\tvalidation_0-rmse:23.26944\tvalidation_1-rmse:31.40912\n",
      "Fold: 5/5 score = 979.50674\n"
     ]
    },
    {
     "name": "stderr",
     "output_type": "stream",
     "text": [
      "[I 2023-08-18 11:37:46,600] Trial 42 finished with value: 1014.8336710623156 and parameters: {'booster': 'dart', 'lambda': 0.04013834070541948, 'alpha': 0.017425367413401255, 'subsample': 0.5987521722778488, 'colsample_bytree': 0.5658240937212844, 'n_estimators': 200, 'max_depth': 8, 'min_child_weight': 7, 'eta': 0.02720680581434305, 'gamma': 9.888167492612819e-05, 'grow_policy': 'depthwise', 'sample_type': 'uniform', 'normalize_type': 'forest', 'rate_drop': 3.6743325954093486e-08, 'skip_drop': 8.880274486217127e-08}. Best is trial 31 with value: 1008.1091541625267.\n"
     ]
    },
    {
     "name": "stdout",
     "output_type": "stream",
     "text": [
      "[0]\tvalidation_0-rmse:50.80569\tvalidation_1-rmse:50.69145\n",
      "[58]\tvalidation_0-rmse:17.76193\tvalidation_1-rmse:34.30624\n",
      "Fold: 1/5 score = 1101.73639\n",
      "[0]\tvalidation_0-rmse:50.10615\tvalidation_1-rmse:53.39975\n",
      "[70]\tvalidation_0-rmse:16.28147\tvalidation_1-rmse:34.23697\n",
      "Fold: 2/5 score = 1104.27171\n",
      "[0]\tvalidation_0-rmse:50.44119\tvalidation_1-rmse:50.90293\n",
      "[81]\tvalidation_0-rmse:15.75039\tvalidation_1-rmse:34.53900\n",
      "Fold: 3/5 score = 1095.25805\n",
      "[0]\tvalidation_0-rmse:50.76963\tvalidation_1-rmse:51.26741\n",
      "[65]\tvalidation_0-rmse:16.66494\tvalidation_1-rmse:34.04452\n"
     ]
    },
    {
     "name": "stderr",
     "output_type": "stream",
     "text": [
      "[I 2023-08-18 11:38:03,603] Trial 43 pruned. \n"
     ]
    },
    {
     "name": "stdout",
     "output_type": "stream",
     "text": [
      "Fold: 4/5 score = 1032.74838\n",
      "[0]\tvalidation_0-rmse:63.78160\tvalidation_1-rmse:62.66506\n",
      "[299]\tvalidation_0-rmse:33.30237\tvalidation_1-rmse:35.18861\n",
      "Fold: 1/5 score = 1238.23821\n",
      "[0]\tvalidation_0-rmse:62.95418\tvalidation_1-rmse:65.96985\n",
      "[299]\tvalidation_0-rmse:32.98362\tvalidation_1-rmse:37.34355\n",
      "Fold: 2/5 score = 1394.54101\n"
     ]
    },
    {
     "name": "stderr",
     "output_type": "stream",
     "text": [
      "[I 2023-08-18 11:40:19,318] Trial 44 pruned. \n"
     ]
    },
    {
     "name": "stdout",
     "output_type": "stream",
     "text": [
      "[0]\tvalidation_0-rmse:60.10000\tvalidation_1-rmse:59.21423\n",
      "[112]\tvalidation_0-rmse:21.16737\tvalidation_1-rmse:32.29027\n",
      "Fold: 1/5 score = 1035.45038\n",
      "[0]\tvalidation_0-rmse:59.36936\tvalidation_1-rmse:62.45431\n",
      "[114]\tvalidation_0-rmse:20.85075\tvalidation_1-rmse:33.66133\n"
     ]
    },
    {
     "name": "stderr",
     "output_type": "stream",
     "text": [
      "[I 2023-08-18 11:40:21,699] Trial 45 pruned. \n"
     ]
    },
    {
     "name": "stdout",
     "output_type": "stream",
     "text": [
      "Fold: 2/5 score = 1115.92204\n",
      "[0]\tvalidation_0-rmse:62.84103\tvalidation_1-rmse:61.78065\n",
      "[244]\tvalidation_0-rmse:22.74634\tvalidation_1-rmse:31.93887\n",
      "Fold: 1/5 score = 1016.80217\n",
      "[0]\tvalidation_0-rmse:62.04453\tvalidation_1-rmse:65.10727\n",
      "[296]\tvalidation_0-rmse:21.54700\tvalidation_1-rmse:33.04181\n",
      "Fold: 2/5 score = 1087.33622\n",
      "[0]\tvalidation_0-rmse:62.58252\tvalidation_1-rmse:62.72148\n",
      "[210]\tvalidation_0-rmse:23.35475\tvalidation_1-rmse:31.70182\n",
      "Fold: 3/5 score = 1003.13465\n",
      "[0]\tvalidation_0-rmse:62.62802\tvalidation_1-rmse:62.78806\n",
      "[277]\tvalidation_0-rmse:22.18674\tvalidation_1-rmse:31.03402\n",
      "Fold: 4/5 score = 955.75845\n",
      "[0]\tvalidation_0-rmse:63.04228\tvalidation_1-rmse:60.92780\n",
      "[226]\tvalidation_0-rmse:23.13650\tvalidation_1-rmse:31.53676\n",
      "Fold: 5/5 score = 991.40012\n"
     ]
    },
    {
     "name": "stderr",
     "output_type": "stream",
     "text": [
      "[I 2023-08-18 11:44:32,742] Trial 46 finished with value: 1010.8863231682633 and parameters: {'booster': 'dart', 'lambda': 0.0076081249264490815, 'alpha': 0.02738162058826508, 'subsample': 0.49889279714515083, 'colsample_bytree': 0.5899674659308425, 'n_estimators': 600, 'max_depth': 9, 'min_child_weight': 8, 'eta': 0.02327151214324793, 'gamma': 3.262711360975384e-05, 'grow_policy': 'depthwise', 'sample_type': 'uniform', 'normalize_type': 'tree', 'rate_drop': 3.1167228017256464e-07, 'skip_drop': 5.288368279561894e-08}. Best is trial 31 with value: 1008.1091541625267.\n"
     ]
    },
    {
     "name": "stdout",
     "output_type": "stream",
     "text": [
      "[0]\tvalidation_0-rmse:50.52098\tvalidation_1-rmse:50.41501\n",
      "[58]\tvalidation_0-rmse:16.96133\tvalidation_1-rmse:36.08621\n",
      "Fold: 1/5 score = 1141.04514\n",
      "[0]\tvalidation_0-rmse:50.45044\tvalidation_1-rmse:53.93147\n",
      "[61]\tvalidation_0-rmse:15.58024\tvalidation_1-rmse:36.53971\n",
      "Fold: 2/5 score = 1167.96490\n",
      "[0]\tvalidation_0-rmse:50.24122\tvalidation_1-rmse:50.86085\n",
      "[58]\tvalidation_0-rmse:16.64713\tvalidation_1-rmse:35.23411\n",
      "Fold: 3/5 score = 1105.01073\n",
      "[0]\tvalidation_0-rmse:50.91274\tvalidation_1-rmse:51.48478\n",
      "[58]\tvalidation_0-rmse:17.01990\tvalidation_1-rmse:35.29756\n"
     ]
    },
    {
     "name": "stderr",
     "output_type": "stream",
     "text": [
      "[I 2023-08-18 11:44:44,924] Trial 47 pruned. \n"
     ]
    },
    {
     "name": "stdout",
     "output_type": "stream",
     "text": [
      "Fold: 4/5 score = 1053.52840\n",
      "[0]\tvalidation_0-rmse:63.63467\tvalidation_1-rmse:62.52420\n",
      "[699]\tvalidation_0-rmse:23.10685\tvalidation_1-rmse:31.97042\n",
      "Fold: 1/5 score = 1022.10804\n",
      "[0]\tvalidation_0-rmse:62.81106\tvalidation_1-rmse:65.83851\n",
      "[699]\tvalidation_0-rmse:22.77173\tvalidation_1-rmse:32.81632\n",
      "Fold: 2/5 score = 1075.61508\n",
      "[0]\tvalidation_0-rmse:63.38761\tvalidation_1-rmse:63.48545\n",
      "[628]\tvalidation_0-rmse:23.48793\tvalidation_1-rmse:31.58485\n",
      "Fold: 3/5 score = 996.07310\n",
      "[0]\tvalidation_0-rmse:63.39679\tvalidation_1-rmse:63.54841\n",
      "[628]\tvalidation_0-rmse:23.76211\tvalidation_1-rmse:30.91714\n",
      "Fold: 4/5 score = 955.38901\n",
      "[0]\tvalidation_0-rmse:63.83409\tvalidation_1-rmse:61.66216\n",
      "[699]\tvalidation_0-rmse:23.04612\tvalidation_1-rmse:31.25980\n",
      "Fold: 5/5 score = 976.54522\n"
     ]
    },
    {
     "name": "stderr",
     "output_type": "stream",
     "text": [
      "[I 2023-08-18 12:13:07,253] Trial 48 finished with value: 1005.1460893337589 and parameters: {'booster': 'dart', 'lambda': 0.0077721867525041045, 'alpha': 0.03310323085820394, 'subsample': 0.4554048253267094, 'colsample_bytree': 0.6155030684692459, 'n_estimators': 700, 'max_depth': 9, 'min_child_weight': 7, 'eta': 0.007335691610634433, 'gamma': 1.1952596524849104e-05, 'grow_policy': 'lossguide', 'sample_type': 'uniform', 'normalize_type': 'tree', 'rate_drop': 3.1871269959535036e-07, 'skip_drop': 3.06169815558796e-08}. Best is trial 48 with value: 1005.1460893337589.\n"
     ]
    },
    {
     "name": "stdout",
     "output_type": "stream",
     "text": [
      "[0]\tvalidation_0-rmse:63.94807\tvalidation_1-rmse:62.82551\n",
      "[799]\tvalidation_0-rmse:38.60134\tvalidation_1-rmse:40.18462\n",
      "Fold: 1/5 score = 1614.80411\n",
      "[0]\tvalidation_0-rmse:63.11208\tvalidation_1-rmse:66.12496\n",
      "[799]\tvalidation_0-rmse:38.19752\tvalidation_1-rmse:42.84462\n",
      "Fold: 2/5 score = 1835.66176\n"
     ]
    },
    {
     "name": "stderr",
     "output_type": "stream",
     "text": [
      "[I 2023-08-18 12:28:31,352] Trial 49 pruned. \n"
     ]
    },
    {
     "name": "stdout",
     "output_type": "stream",
     "text": [
      "[0]\tvalidation_0-rmse:63.64163\tvalidation_1-rmse:62.53848\n",
      "[699]\tvalidation_0-rmse:23.72423\tvalidation_1-rmse:31.95535\n",
      "Fold: 1/5 score = 1020.72122\n",
      "[0]\tvalidation_0-rmse:62.81114\tvalidation_1-rmse:65.82571\n",
      "[699]\tvalidation_0-rmse:23.43820\tvalidation_1-rmse:32.84439\n",
      "Fold: 2/5 score = 1078.13914\n",
      "[0]\tvalidation_0-rmse:63.40359\tvalidation_1-rmse:63.50209\n",
      "[656]\tvalidation_0-rmse:24.04364\tvalidation_1-rmse:31.56292\n",
      "Fold: 3/5 score = 994.64223\n",
      "[0]\tvalidation_0-rmse:63.38417\tvalidation_1-rmse:63.53391\n",
      "[595]\tvalidation_0-rmse:24.62077\tvalidation_1-rmse:30.99034\n",
      "Fold: 4/5 score = 958.91670\n",
      "[0]\tvalidation_0-rmse:63.84622\tvalidation_1-rmse:61.66661\n",
      "[567]\tvalidation_0-rmse:24.74566\tvalidation_1-rmse:31.26035\n"
     ]
    },
    {
     "name": "stderr",
     "output_type": "stream",
     "text": [
      "[I 2023-08-18 12:29:17,501] Trial 50 finished with value: 1005.7682958632064 and parameters: {'booster': 'gbtree', 'lambda': 0.29668760486952883, 'alpha': 0.006994668826888254, 'subsample': 0.3682849976498326, 'colsample_bytree': 0.7207170658721818, 'n_estimators': 700, 'max_depth': 9, 'min_child_weight': 7, 'eta': 0.007382321060326783, 'gamma': 7.770751890457499e-06, 'grow_policy': 'lossguide'}. Best is trial 48 with value: 1005.1460893337589.\n"
     ]
    },
    {
     "name": "stdout",
     "output_type": "stream",
     "text": [
      "Fold: 5/5 score = 976.42219\n",
      "[0]\tvalidation_0-rmse:63.58990\tvalidation_1-rmse:62.48644\n",
      "[437]\tvalidation_0-rmse:25.12898\tvalidation_1-rmse:31.99115\n",
      "Fold: 1/5 score = 1022.52006\n",
      "[0]\tvalidation_0-rmse:62.75443\tvalidation_1-rmse:65.77356\n",
      "[553]\tvalidation_0-rmse:23.83268\tvalidation_1-rmse:32.83849\n",
      "Fold: 2/5 score = 1077.70324\n",
      "[0]\tvalidation_0-rmse:63.35064\tvalidation_1-rmse:63.45144\n",
      "[667]\tvalidation_0-rmse:23.22456\tvalidation_1-rmse:31.59104\n",
      "Fold: 3/5 score = 994.85922\n",
      "[0]\tvalidation_0-rmse:63.32886\tvalidation_1-rmse:63.48176\n",
      "[553]\tvalidation_0-rmse:24.26467\tvalidation_1-rmse:30.97314\n",
      "Fold: 4/5 score = 958.19340\n",
      "[0]\tvalidation_0-rmse:63.79236\tvalidation_1-rmse:61.60991\n",
      "[555]\tvalidation_0-rmse:24.27713\tvalidation_1-rmse:31.26213\n"
     ]
    },
    {
     "name": "stderr",
     "output_type": "stream",
     "text": [
      "[I 2023-08-18 12:29:58,202] Trial 51 finished with value: 1005.9013718110766 and parameters: {'booster': 'gbtree', 'lambda': 0.3430551057352859, 'alpha': 0.006671590400948391, 'subsample': 0.3651529905775893, 'colsample_bytree': 0.7677530253741207, 'n_estimators': 900, 'max_depth': 9, 'min_child_weight': 7, 'eta': 0.0085204092562479, 'gamma': 7.112597880147605e-06, 'grow_policy': 'lossguide'}. Best is trial 48 with value: 1005.1460893337589.\n"
     ]
    },
    {
     "name": "stdout",
     "output_type": "stream",
     "text": [
      "Fold: 5/5 score = 976.23093\n",
      "[0]\tvalidation_0-rmse:63.63763\tvalidation_1-rmse:62.54336\n",
      "[702]\tvalidation_0-rmse:23.73403\tvalidation_1-rmse:31.88471\n",
      "Fold: 1/5 score = 1015.66061\n",
      "[0]\tvalidation_0-rmse:62.80305\tvalidation_1-rmse:65.81073\n",
      "[720]\tvalidation_0-rmse:23.27488\tvalidation_1-rmse:32.88788\n",
      "Fold: 2/5 score = 1080.66628\n",
      "[0]\tvalidation_0-rmse:63.39873\tvalidation_1-rmse:63.50092\n",
      "[686]\tvalidation_0-rmse:23.69468\tvalidation_1-rmse:31.64336\n",
      "Fold: 3/5 score = 1000.32227\n",
      "[0]\tvalidation_0-rmse:63.37724\tvalidation_1-rmse:63.53153\n",
      "[563]\tvalidation_0-rmse:24.83823\tvalidation_1-rmse:31.02985\n"
     ]
    },
    {
     "name": "stderr",
     "output_type": "stream",
     "text": [
      "[I 2023-08-18 12:30:36,134] Trial 52 pruned. \n"
     ]
    },
    {
     "name": "stdout",
     "output_type": "stream",
     "text": [
      "Fold: 4/5 score = 962.53303\n",
      "[0]\tvalidation_0-rmse:63.85462\tvalidation_1-rmse:62.74050\n",
      "[899]\tvalidation_0-rmse:26.39969\tvalidation_1-rmse:32.25885\n",
      "Fold: 1/5 score = 1040.63325\n",
      "[0]\tvalidation_0-rmse:63.02020\tvalidation_1-rmse:66.03121\n",
      "[899]\tvalidation_0-rmse:26.20042\tvalidation_1-rmse:33.36304\n"
     ]
    },
    {
     "name": "stderr",
     "output_type": "stream",
     "text": [
      "[I 2023-08-18 12:31:06,874] Trial 53 pruned. \n"
     ]
    },
    {
     "name": "stdout",
     "output_type": "stream",
     "text": [
      "Fold: 2/5 score = 1113.09212\n",
      "[0]\tvalidation_0-rmse:61.30079\tvalidation_1-rmse:60.28281\n",
      "[136]\tvalidation_0-rmse:23.30471\tvalidation_1-rmse:32.46985\n",
      "Fold: 1/5 score = 1031.41904\n",
      "[0]\tvalidation_0-rmse:60.47672\tvalidation_1-rmse:63.56224\n",
      "[141]\tvalidation_0-rmse:22.94449\tvalidation_1-rmse:33.48943\n",
      "Fold: 2/5 score = 1103.53523\n",
      "[0]\tvalidation_0-rmse:61.06307\tvalidation_1-rmse:61.16706\n",
      "[107]\tvalidation_0-rmse:24.62705\tvalidation_1-rmse:32.45574\n",
      "Fold: 3/5 score = 1034.17462\n",
      "[0]\tvalidation_0-rmse:61.08389\tvalidation_1-rmse:61.25261\n",
      "[122]\tvalidation_0-rmse:24.22304\tvalidation_1-rmse:31.29399\n",
      "Fold: 4/5 score = 957.27701\n",
      "[0]\tvalidation_0-rmse:61.47395\tvalidation_1-rmse:59.48606\n",
      "[127]\tvalidation_0-rmse:23.70716\tvalidation_1-rmse:32.15615\n"
     ]
    },
    {
     "name": "stderr",
     "output_type": "stream",
     "text": [
      "[I 2023-08-18 12:31:15,634] Trial 54 finished with value: 1028.9942467369103 and parameters: {'booster': 'gbtree', 'lambda': 0.28310114873942627, 'alpha': 0.047996991605233366, 'subsample': 0.25499305670183614, 'colsample_bytree': 0.8092501373407238, 'n_estimators': 800, 'max_depth': 9, 'min_child_weight': 7, 'eta': 0.057507010416627174, 'gamma': 2.6556218067276165e-05, 'grow_policy': 'lossguide'}. Best is trial 48 with value: 1005.1460893337589.\n"
     ]
    },
    {
     "name": "stdout",
     "output_type": "stream",
     "text": [
      "Fold: 5/5 score = 1018.56534\n",
      "[0]\tvalidation_0-rmse:63.65041\tvalidation_1-rmse:62.55049\n",
      "[702]\tvalidation_0-rmse:22.60510\tvalidation_1-rmse:31.90144\n",
      "Fold: 1/5 score = 1017.59680\n",
      "[0]\tvalidation_0-rmse:62.82303\tvalidation_1-rmse:65.84152\n",
      "[828]\tvalidation_0-rmse:21.42892\tvalidation_1-rmse:32.82126\n",
      "Fold: 2/5 score = 1075.37692\n",
      "[0]\tvalidation_0-rmse:63.41034\tvalidation_1-rmse:63.50414\n",
      "[778]\tvalidation_0-rmse:22.02146\tvalidation_1-rmse:31.67151\n",
      "Fold: 3/5 score = 1001.64261\n",
      "[0]\tvalidation_0-rmse:63.39791\tvalidation_1-rmse:63.55648\n",
      "[794]\tvalidation_0-rmse:21.98864\tvalidation_1-rmse:30.94089\n",
      "Fold: 4/5 score = 955.33518\n",
      "[0]\tvalidation_0-rmse:63.85793\tvalidation_1-rmse:61.68894\n",
      "[593]\tvalidation_0-rmse:23.45398\tvalidation_1-rmse:31.27057\n"
     ]
    },
    {
     "name": "stderr",
     "output_type": "stream",
     "text": [
      "[I 2023-08-18 12:32:14,174] Trial 55 finished with value: 1005.366640443817 and parameters: {'booster': 'gbtree', 'lambda': 0.4578155626651006, 'alpha': 0.0022253628842551615, 'subsample': 0.4952677499999095, 'colsample_bytree': 0.6228843671838984, 'n_estimators': 900, 'max_depth': 9, 'min_child_weight': 6, 'eta': 0.007083057254317064, 'gamma': 1.5504537883395995e-05, 'grow_policy': 'lossguide'}. Best is trial 48 with value: 1005.1460893337589.\n"
     ]
    },
    {
     "name": "stdout",
     "output_type": "stream",
     "text": [
      "Fold: 5/5 score = 976.88169\n",
      "[0]\tvalidation_0-rmse:63.55585\tvalidation_1-rmse:62.45115\n",
      "[635]\tvalidation_0-rmse:21.73672\tvalidation_1-rmse:31.88293\n",
      "Fold: 1/5 score = 1015.17320\n",
      "[0]\tvalidation_0-rmse:62.73178\tvalidation_1-rmse:65.75359\n",
      "[720]\tvalidation_0-rmse:20.70556\tvalidation_1-rmse:32.69696\n",
      "Fold: 2/5 score = 1067.49098\n",
      "[0]\tvalidation_0-rmse:63.30892\tvalidation_1-rmse:63.39538\n",
      "[433]\tvalidation_0-rmse:23.75078\tvalidation_1-rmse:31.63230\n",
      "Fold: 3/5 score = 998.97066\n",
      "[0]\tvalidation_0-rmse:63.30507\tvalidation_1-rmse:63.45175\n",
      "[421]\tvalidation_0-rmse:24.05257\tvalidation_1-rmse:31.02649\n",
      "Fold: 4/5 score = 962.15713\n",
      "[0]\tvalidation_0-rmse:63.75177\tvalidation_1-rmse:61.58590\n",
      "[509]\tvalidation_0-rmse:22.99245\tvalidation_1-rmse:31.15831\n"
     ]
    },
    {
     "name": "stderr",
     "output_type": "stream",
     "text": [
      "[I 2023-08-18 12:32:59,850] Trial 56 finished with value: 1002.6725938268701 and parameters: {'booster': 'gbtree', 'lambda': 0.9946706477875726, 'alpha': 0.0019276159267751435, 'subsample': 0.4610826634317448, 'colsample_bytree': 0.6217046205765135, 'n_estimators': 900, 'max_depth': 9, 'min_child_weight': 5, 'eta': 0.009206272153097378, 'gamma': 1.2798209797732792e-05, 'grow_policy': 'lossguide'}. Best is trial 56 with value: 1002.6725938268701.\n"
     ]
    },
    {
     "name": "stdout",
     "output_type": "stream",
     "text": [
      "Fold: 5/5 score = 969.57101\n",
      "[0]\tvalidation_0-rmse:63.63263\tvalidation_1-rmse:62.52736\n",
      "[760]\tvalidation_0-rmse:21.96427\tvalidation_1-rmse:31.96452\n",
      "Fold: 1/5 score = 1020.55101\n",
      "[0]\tvalidation_0-rmse:62.80130\tvalidation_1-rmse:65.81645\n",
      "[794]\tvalidation_0-rmse:21.45401\tvalidation_1-rmse:32.79805\n",
      "Fold: 2/5 score = 1074.85099\n",
      "[0]\tvalidation_0-rmse:63.38426\tvalidation_1-rmse:63.47528\n",
      "[604]\tvalidation_0-rmse:23.13946\tvalidation_1-rmse:31.59761\n",
      "Fold: 3/5 score = 996.76213\n",
      "[0]\tvalidation_0-rmse:63.37295\tvalidation_1-rmse:63.53607\n",
      "[686]\tvalidation_0-rmse:22.58336\tvalidation_1-rmse:30.94097\n",
      "Fold: 4/5 score = 955.86692\n",
      "[0]\tvalidation_0-rmse:63.83270\tvalidation_1-rmse:61.65749\n",
      "[660]\tvalidation_0-rmse:22.76690\tvalidation_1-rmse:31.22932\n"
     ]
    },
    {
     "name": "stderr",
     "output_type": "stream",
     "text": [
      "[I 2023-08-18 12:33:56,929] Trial 57 finished with value: 1004.413910741413 and parameters: {'booster': 'gbtree', 'lambda': 0.4829723848871317, 'alpha': 0.0024008637052864105, 'subsample': 0.4574845970269646, 'colsample_bytree': 0.7457148619968565, 'n_estimators': 900, 'max_depth': 9, 'min_child_weight': 6, 'eta': 0.0075720530851797405, 'gamma': 8.345125209931985e-06, 'grow_policy': 'lossguide'}. Best is trial 56 with value: 1002.6725938268701.\n"
     ]
    },
    {
     "name": "stdout",
     "output_type": "stream",
     "text": [
      "Fold: 5/5 score = 974.03849\n",
      "[0]\tvalidation_0-rmse:63.71021\tvalidation_1-rmse:62.59582\n",
      "[725]\tvalidation_0-rmse:22.83936\tvalidation_1-rmse:31.96903\n",
      "Fold: 1/5 score = 1020.64492\n",
      "[0]\tvalidation_0-rmse:62.87714\tvalidation_1-rmse:65.89444\n",
      "[828]\tvalidation_0-rmse:21.94636\tvalidation_1-rmse:32.79325\n",
      "Fold: 2/5 score = 1075.04287\n",
      "[0]\tvalidation_0-rmse:63.46503\tvalidation_1-rmse:63.55895\n",
      "[699]\tvalidation_0-rmse:23.13040\tvalidation_1-rmse:31.63115\n",
      "Fold: 3/5 score = 1000.50626\n",
      "[0]\tvalidation_0-rmse:63.45154\tvalidation_1-rmse:63.60311\n",
      "[701]\tvalidation_0-rmse:23.16000\tvalidation_1-rmse:30.88875\n",
      "Fold: 4/5 score = 953.56425\n",
      "[0]\tvalidation_0-rmse:63.91170\tvalidation_1-rmse:61.74098\n",
      "[812]\tvalidation_0-rmse:22.38731\tvalidation_1-rmse:31.25347\n"
     ]
    },
    {
     "name": "stderr",
     "output_type": "stream",
     "text": [
      "[I 2023-08-18 12:35:06,692] Trial 58 finished with value: 1005.0339488329824 and parameters: {'booster': 'gbtree', 'lambda': 0.8547253555802198, 'alpha': 0.00046889840476370376, 'subsample': 0.4319624901887001, 'colsample_bytree': 0.7355291831298351, 'n_estimators': 900, 'max_depth': 9, 'min_child_weight': 4, 'eta': 0.005971352530894478, 'gamma': 1.0793243155847004e-05, 'grow_policy': 'lossguide'}. Best is trial 56 with value: 1002.6725938268701.\n"
     ]
    },
    {
     "name": "stdout",
     "output_type": "stream",
     "text": [
      "Fold: 5/5 score = 975.41144\n",
      "[0]\tvalidation_0-rmse:63.94849\tvalidation_1-rmse:62.82526\n",
      "[899]\tvalidation_0-rmse:36.57994\tvalidation_1-rmse:38.65830\n",
      "Fold: 1/5 score = 1494.46443\n",
      "[0]\tvalidation_0-rmse:63.11211\tvalidation_1-rmse:66.12364\n",
      "[899]\tvalidation_0-rmse:36.19699\tvalidation_1-rmse:41.27152\n",
      "Fold: 2/5 score = 1703.33841\n",
      "[0]\tvalidation_0-rmse:63.70558\tvalidation_1-rmse:63.79398\n",
      "[899]\tvalidation_0-rmse:36.50111\tvalidation_1-rmse:38.81878\n",
      "Fold: 3/5 score = 1506.89773\n",
      "[0]\tvalidation_0-rmse:63.69522\tvalidation_1-rmse:63.84232\n",
      "[899]\tvalidation_0-rmse:36.69370\tvalidation_1-rmse:38.74925\n"
     ]
    },
    {
     "name": "stderr",
     "output_type": "stream",
     "text": [
      "[I 2023-08-18 12:36:40,130] Trial 59 pruned. \n"
     ]
    },
    {
     "name": "stdout",
     "output_type": "stream",
     "text": [
      "Fold: 4/5 score = 1501.50408\n",
      "[0]\tvalidation_0-rmse:63.85750\tvalidation_1-rmse:62.73762\n",
      "[999]\tvalidation_0-rmse:25.31048\tvalidation_1-rmse:32.03014\n",
      "Fold: 1/5 score = 1025.92986\n",
      "[0]\tvalidation_0-rmse:63.02420\tvalidation_1-rmse:66.03424\n",
      "[999]\tvalidation_0-rmse:25.09428\tvalidation_1-rmse:33.29873\n"
     ]
    },
    {
     "name": "stderr",
     "output_type": "stream",
     "text": [
      "[I 2023-08-18 12:37:18,383] Trial 60 pruned. \n"
     ]
    },
    {
     "name": "stdout",
     "output_type": "stream",
     "text": [
      "Fold: 2/5 score = 1108.80536\n",
      "[0]\tvalidation_0-rmse:63.65825\tvalidation_1-rmse:62.55077\n",
      "[899]\tvalidation_0-rmse:20.72417\tvalidation_1-rmse:31.90598\n",
      "Fold: 1/5 score = 1017.18525\n",
      "[0]\tvalidation_0-rmse:62.83217\tvalidation_1-rmse:65.84411\n",
      "[743]\tvalidation_0-rmse:21.58668\tvalidation_1-rmse:32.74355\n",
      "Fold: 2/5 score = 1071.38727\n",
      "[0]\tvalidation_0-rmse:63.41445\tvalidation_1-rmse:63.50618\n",
      "[635]\tvalidation_0-rmse:22.71539\tvalidation_1-rmse:31.66699\n",
      "Fold: 3/5 score = 1001.32553\n",
      "[0]\tvalidation_0-rmse:63.40432\tvalidation_1-rmse:63.56626\n",
      "[718]\tvalidation_0-rmse:22.20058\tvalidation_1-rmse:31.00580\n",
      "Fold: 4/5 score = 959.54758\n",
      "[0]\tvalidation_0-rmse:63.86336\tvalidation_1-rmse:61.68735\n",
      "[661]\tvalidation_0-rmse:22.56984\tvalidation_1-rmse:31.25662\n"
     ]
    },
    {
     "name": "stderr",
     "output_type": "stream",
     "text": [
      "[I 2023-08-18 12:38:25,410] Trial 61 finished with value: 1004.9569512924678 and parameters: {'booster': 'gbtree', 'lambda': 0.4505022587764587, 'alpha': 0.0024829347203399084, 'subsample': 0.41963476017846846, 'colsample_bytree': 0.7454704636054829, 'n_estimators': 900, 'max_depth': 9, 'min_child_weight': 4, 'eta': 0.006877928231899601, 'gamma': 4.808060273821164e-06, 'grow_policy': 'lossguide'}. Best is trial 56 with value: 1002.6725938268701.\n"
     ]
    },
    {
     "name": "stdout",
     "output_type": "stream",
     "text": [
      "Fold: 5/5 score = 975.33912\n",
      "[0]\tvalidation_0-rmse:63.66983\tvalidation_1-rmse:62.56089\n",
      "[767]\tvalidation_0-rmse:21.02929\tvalidation_1-rmse:31.86586\n",
      "Fold: 1/5 score = 1013.71929\n",
      "[0]\tvalidation_0-rmse:62.83383\tvalidation_1-rmse:65.85306\n",
      "[835]\tvalidation_0-rmse:20.28137\tvalidation_1-rmse:32.73530\n",
      "Fold: 2/5 score = 1070.45758\n",
      "[0]\tvalidation_0-rmse:63.41912\tvalidation_1-rmse:63.50827\n",
      "[777]\tvalidation_0-rmse:20.96905\tvalidation_1-rmse:31.69118\n",
      "Fold: 3/5 score = 1003.27512\n",
      "[0]\tvalidation_0-rmse:63.40643\tvalidation_1-rmse:63.55632\n",
      "[698]\tvalidation_0-rmse:21.77833\tvalidation_1-rmse:31.04434\n"
     ]
    },
    {
     "name": "stderr",
     "output_type": "stream",
     "text": [
      "[I 2023-08-18 12:39:26,570] Trial 62 pruned. \n"
     ]
    },
    {
     "name": "stdout",
     "output_type": "stream",
     "text": [
      "Fold: 4/5 score = 962.69936\n",
      "[0]\tvalidation_0-rmse:63.90596\tvalidation_1-rmse:62.78685\n",
      "[799]\tvalidation_0-rmse:30.15818\tvalidation_1-rmse:34.11745\n",
      "Fold: 1/5 score = 1164.00058\n",
      "[0]\tvalidation_0-rmse:63.07052\tvalidation_1-rmse:66.08204\n",
      "[799]\tvalidation_0-rmse:29.86852\tvalidation_1-rmse:36.15933\n",
      "Fold: 2/5 score = 1307.49734\n",
      "[0]\tvalidation_0-rmse:63.66525\tvalidation_1-rmse:63.75313\n",
      "[799]\tvalidation_0-rmse:30.10959\tvalidation_1-rmse:34.03181\n",
      "Fold: 3/5 score = 1158.16403\n",
      "[0]\tvalidation_0-rmse:63.65185\tvalidation_1-rmse:63.80116\n",
      "[799]\tvalidation_0-rmse:30.29589\tvalidation_1-rmse:33.70792\n"
     ]
    },
    {
     "name": "stderr",
     "output_type": "stream",
     "text": [
      "[I 2023-08-18 12:40:41,792] Trial 63 pruned. \n"
     ]
    },
    {
     "name": "stdout",
     "output_type": "stream",
     "text": [
      "Fold: 4/5 score = 1136.22384\n",
      "[0]\tvalidation_0-rmse:63.55887\tvalidation_1-rmse:62.46227\n",
      "[709]\tvalidation_0-rmse:19.73455\tvalidation_1-rmse:31.97358\n",
      "Fold: 1/5 score = 1020.70102\n",
      "[0]\tvalidation_0-rmse:62.72936\tvalidation_1-rmse:65.74725\n",
      "[629]\tvalidation_0-rmse:20.23360\tvalidation_1-rmse:32.83961\n",
      "Fold: 2/5 score = 1076.98271\n",
      "[0]\tvalidation_0-rmse:63.30737\tvalidation_1-rmse:63.40123\n",
      "[605]\tvalidation_0-rmse:20.87147\tvalidation_1-rmse:31.66257\n",
      "Fold: 3/5 score = 1001.09507\n",
      "[0]\tvalidation_0-rmse:63.29382\tvalidation_1-rmse:63.45341\n",
      "[441]\tvalidation_0-rmse:22.64553\tvalidation_1-rmse:31.13953\n",
      "Fold: 4/5 score = 968.62010\n",
      "[0]\tvalidation_0-rmse:63.74673\tvalidation_1-rmse:61.58406\n",
      "[500]\tvalidation_0-rmse:21.92815\tvalidation_1-rmse:31.24892\n"
     ]
    },
    {
     "name": "stderr",
     "output_type": "stream",
     "text": [
      "[I 2023-08-18 12:41:40,083] Trial 64 finished with value: 1008.6368423677611 and parameters: {'booster': 'gbtree', 'lambda': 0.1753495887644963, 'alpha': 0.0011767157188447238, 'subsample': 0.45553739258650605, 'colsample_bytree': 0.8498862039401244, 'n_estimators': 1000, 'max_depth': 9, 'min_child_weight': 4, 'eta': 0.009008561939631869, 'gamma': 5.553240881310088e-07, 'grow_policy': 'lossguide'}. Best is trial 56 with value: 1002.6725938268701.\n"
     ]
    },
    {
     "name": "stdout",
     "output_type": "stream",
     "text": [
      "Fold: 5/5 score = 975.78531\n",
      "[0]\tvalidation_0-rmse:63.76442\tvalidation_1-rmse:62.65105\n",
      "[899]\tvalidation_0-rmse:23.21826\tvalidation_1-rmse:31.89019\n",
      "Fold: 1/5 score = 1016.98444\n",
      "[0]\tvalidation_0-rmse:62.93236\tvalidation_1-rmse:65.94442\n",
      "[899]\tvalidation_0-rmse:23.06904\tvalidation_1-rmse:32.84104\n",
      "Fold: 2/5 score = 1078.53400\n",
      "[0]\tvalidation_0-rmse:63.52063\tvalidation_1-rmse:63.61019\n",
      "[899]\tvalidation_0-rmse:23.31868\tvalidation_1-rmse:31.62812\n",
      "Fold: 3/5 score = 1000.29624\n",
      "[0]\tvalidation_0-rmse:63.50920\tvalidation_1-rmse:63.66248\n",
      "[809]\tvalidation_0-rmse:23.92734\tvalidation_1-rmse:30.98038\n",
      "Fold: 4/5 score = 958.89315\n",
      "[0]\tvalidation_0-rmse:63.96739\tvalidation_1-rmse:61.78720\n",
      "[899]\tvalidation_0-rmse:23.37169\tvalidation_1-rmse:31.24555\n"
     ]
    },
    {
     "name": "stderr",
     "output_type": "stream",
     "text": [
      "[I 2023-08-18 12:42:56,513] Trial 65 finished with value: 1006.1053435310878 and parameters: {'booster': 'gbtree', 'lambda': 0.5471874032291745, 'alpha': 0.0023216685137120653, 'subsample': 0.43565476075636755, 'colsample_bytree': 0.6821171892456505, 'n_estimators': 900, 'max_depth': 9, 'min_child_weight': 5, 'eta': 0.004807448495267877, 'gamma': 4.115832583961901e-06, 'grow_policy': 'lossguide'}. Best is trial 56 with value: 1002.6725938268701.\n"
     ]
    },
    {
     "name": "stdout",
     "output_type": "stream",
     "text": [
      "Fold: 5/5 score = 975.81890\n",
      "[0]\tvalidation_0-rmse:61.41495\tvalidation_1-rmse:60.47652\n",
      "[109]\tvalidation_0-rmse:21.57042\tvalidation_1-rmse:32.50516\n",
      "Fold: 1/5 score = 1045.72814\n",
      "[0]\tvalidation_0-rmse:60.63570\tvalidation_1-rmse:63.72248\n",
      "[133]\tvalidation_0-rmse:20.00033\tvalidation_1-rmse:33.41179\n"
     ]
    },
    {
     "name": "stderr",
     "output_type": "stream",
     "text": [
      "[I 2023-08-18 12:43:01,243] Trial 66 pruned. \n"
     ]
    },
    {
     "name": "stdout",
     "output_type": "stream",
     "text": [
      "Fold: 2/5 score = 1099.95885\n",
      "[0]\tvalidation_0-rmse:63.89205\tvalidation_1-rmse:62.77277\n",
      "[699]\tvalidation_0-rmse:30.11877\tvalidation_1-rmse:34.20334\n",
      "Fold: 1/5 score = 1169.86813\n",
      "[0]\tvalidation_0-rmse:63.05939\tvalidation_1-rmse:66.07186\n",
      "[699]\tvalidation_0-rmse:29.82435\tvalidation_1-rmse:36.30217\n",
      "Fold: 2/5 score = 1317.84768\n",
      "[0]\tvalidation_0-rmse:63.65050\tvalidation_1-rmse:63.73568\n",
      "[699]\tvalidation_0-rmse:30.08543\tvalidation_1-rmse:34.12969\n",
      "Fold: 3/5 score = 1164.83555\n",
      "[0]\tvalidation_0-rmse:63.63754\tvalidation_1-rmse:63.78662\n",
      "[699]\tvalidation_0-rmse:30.28604\tvalidation_1-rmse:33.77185\n"
     ]
    },
    {
     "name": "stderr",
     "output_type": "stream",
     "text": [
      "[I 2023-08-18 12:44:05,350] Trial 67 pruned. \n"
     ]
    },
    {
     "name": "stdout",
     "output_type": "stream",
     "text": [
      "Fold: 4/5 score = 1140.53766\n",
      "[0]\tvalidation_0-rmse:63.32238\tvalidation_1-rmse:62.21035\n",
      "[630]\tvalidation_0-rmse:26.22798\tvalidation_1-rmse:32.28001\n",
      "Fold: 1/5 score = 1039.76233\n",
      "[0]\tvalidation_0-rmse:62.50223\tvalidation_1-rmse:65.51738\n",
      "[745]\tvalidation_0-rmse:25.31510\tvalidation_1-rmse:32.89727\n",
      "Fold: 2/5 score = 1079.59127\n",
      "[0]\tvalidation_0-rmse:63.07079\tvalidation_1-rmse:63.15504\n",
      "[575]\tvalidation_0-rmse:26.65728\tvalidation_1-rmse:31.90549\n",
      "Fold: 3/5 score = 1017.02904\n",
      "[0]\tvalidation_0-rmse:63.05644\tvalidation_1-rmse:63.20080\n",
      "[520]\tvalidation_0-rmse:27.08763\tvalidation_1-rmse:31.32634\n"
     ]
    },
    {
     "name": "stderr",
     "output_type": "stream",
     "text": [
      "[I 2023-08-18 12:44:18,358] Trial 68 pruned. \n"
     ]
    },
    {
     "name": "stdout",
     "output_type": "stream",
     "text": [
      "Fold: 4/5 score = 980.31981\n",
      "[0]\tvalidation_0-rmse:61.84825\tvalidation_1-rmse:60.81815\n",
      "[158]\tvalidation_0-rmse:18.19127\tvalidation_1-rmse:32.10243\n",
      "Fold: 1/5 score = 1023.02869\n",
      "[0]\tvalidation_0-rmse:61.06217\tvalidation_1-rmse:64.13995\n",
      "[236]\tvalidation_0-rmse:14.97649\tvalidation_1-rmse:33.06937\n",
      "Fold: 2/5 score = 1084.67850\n",
      "[0]\tvalidation_0-rmse:61.58810\tvalidation_1-rmse:61.78902\n",
      "[143]\tvalidation_0-rmse:18.70984\tvalidation_1-rmse:32.36990\n",
      "Fold: 3/5 score = 1043.15828\n",
      "[0]\tvalidation_0-rmse:61.54234\tvalidation_1-rmse:61.78255\n",
      "[135]\tvalidation_0-rmse:19.48036\tvalidation_1-rmse:31.46275\n"
     ]
    },
    {
     "name": "stderr",
     "output_type": "stream",
     "text": [
      "[I 2023-08-18 12:44:33,778] Trial 69 pruned. \n"
     ]
    },
    {
     "name": "stdout",
     "output_type": "stream",
     "text": [
      "Fold: 4/5 score = 976.44404\n",
      "[0]\tvalidation_0-rmse:63.76443\tvalidation_1-rmse:62.64713\n",
      "[957]\tvalidation_0-rmse:24.37493\tvalidation_1-rmse:31.97613\n",
      "Fold: 1/5 score = 1021.08021\n",
      "[0]\tvalidation_0-rmse:62.93539\tvalidation_1-rmse:65.94675\n",
      "[999]\tvalidation_0-rmse:23.94166\tvalidation_1-rmse:32.87946\n",
      "Fold: 2/5 score = 1080.76376\n",
      "[0]\tvalidation_0-rmse:63.52262\tvalidation_1-rmse:63.60858\n",
      "[943]\tvalidation_0-rmse:24.49541\tvalidation_1-rmse:31.64852\n",
      "Fold: 3/5 score = 1001.18633\n",
      "[0]\tvalidation_0-rmse:63.50426\tvalidation_1-rmse:63.65465\n",
      "[978]\tvalidation_0-rmse:24.39926\tvalidation_1-rmse:30.89335\n",
      "Fold: 4/5 score = 952.90713\n",
      "[0]\tvalidation_0-rmse:63.96812\tvalidation_1-rmse:61.78694\n",
      "[922]\tvalidation_0-rmse:24.62027\tvalidation_1-rmse:31.22092\n"
     ]
    },
    {
     "name": "stderr",
     "output_type": "stream",
     "text": [
      "[I 2023-08-18 12:45:38,878] Trial 70 finished with value: 1005.9339628740156 and parameters: {'booster': 'gbtree', 'lambda': 0.9931385338851914, 'alpha': 0.0024600611024431012, 'subsample': 0.39236502650770394, 'colsample_bytree': 0.6626377440285947, 'n_estimators': 1000, 'max_depth': 8, 'min_child_weight': 5, 'eta': 0.004903640777022048, 'gamma': 7.64352325045032e-06, 'grow_policy': 'lossguide'}. Best is trial 56 with value: 1002.6725938268701.\n"
     ]
    },
    {
     "name": "stdout",
     "output_type": "stream",
     "text": [
      "Fold: 5/5 score = 973.73238\n",
      "[0]\tvalidation_0-rmse:63.66098\tvalidation_1-rmse:62.56218\n",
      "[838]\tvalidation_0-rmse:23.10063\tvalidation_1-rmse:32.06310\n",
      "Fold: 1/5 score = 1026.47795\n",
      "[0]\tvalidation_0-rmse:62.83380\tvalidation_1-rmse:65.84730\n",
      "[843]\tvalidation_0-rmse:22.73810\tvalidation_1-rmse:32.84839\n",
      "Fold: 2/5 score = 1077.42686\n",
      "[0]\tvalidation_0-rmse:63.41992\tvalidation_1-rmse:63.50694\n",
      "[667]\tvalidation_0-rmse:24.17070\tvalidation_1-rmse:31.67748\n",
      "Fold: 3/5 score = 1000.55293\n",
      "[0]\tvalidation_0-rmse:63.40139\tvalidation_1-rmse:63.55103\n",
      "[656]\tvalidation_0-rmse:24.33179\tvalidation_1-rmse:31.05307\n"
     ]
    },
    {
     "name": "stderr",
     "output_type": "stream",
     "text": [
      "[I 2023-08-18 12:46:22,425] Trial 71 pruned. \n"
     ]
    },
    {
     "name": "stdout",
     "output_type": "stream",
     "text": [
      "Fold: 4/5 score = 962.74098\n",
      "[0]\tvalidation_0-rmse:63.46142\tvalidation_1-rmse:62.38514\n",
      "[328]\tvalidation_0-rmse:24.56960\tvalidation_1-rmse:31.96709\n",
      "Fold: 1/5 score = 1020.93263\n",
      "[0]\tvalidation_0-rmse:62.61362\tvalidation_1-rmse:65.62496\n",
      "[553]\tvalidation_0-rmse:21.49578\tvalidation_1-rmse:33.00273\n"
     ]
    },
    {
     "name": "stderr",
     "output_type": "stream",
     "text": [
      "[I 2023-08-18 12:46:37,418] Trial 72 pruned. \n"
     ]
    },
    {
     "name": "stdout",
     "output_type": "stream",
     "text": [
      "Fold: 2/5 score = 1087.23690\n",
      "[0]\tvalidation_0-rmse:63.85696\tvalidation_1-rmse:62.74248\n",
      "[899]\tvalidation_0-rmse:26.42510\tvalidation_1-rmse:32.23004\n",
      "Fold: 1/5 score = 1038.77537\n",
      "[0]\tvalidation_0-rmse:63.02342\tvalidation_1-rmse:66.03505\n",
      "[899]\tvalidation_0-rmse:26.18160\tvalidation_1-rmse:33.45106\n",
      "Fold: 2/5 score = 1118.97348\n",
      "[0]\tvalidation_0-rmse:63.61732\tvalidation_1-rmse:63.70596\n",
      "[899]\tvalidation_0-rmse:26.41110\tvalidation_1-rmse:31.90555\n",
      "Fold: 3/5 score = 1017.96442\n",
      "[0]\tvalidation_0-rmse:63.60141\tvalidation_1-rmse:63.74949\n",
      "[899]\tvalidation_0-rmse:26.67559\tvalidation_1-rmse:31.28867\n"
     ]
    },
    {
     "name": "stderr",
     "output_type": "stream",
     "text": [
      "[I 2023-08-18 12:47:41,252] Trial 73 pruned. \n"
     ]
    },
    {
     "name": "stdout",
     "output_type": "stream",
     "text": [
      "Fold: 4/5 score = 978.98060\n",
      "[0]\tvalidation_0-rmse:63.13260\tvalidation_1-rmse:62.05128\n",
      "[288]\tvalidation_0-rmse:22.30576\tvalidation_1-rmse:31.88841\n",
      "Fold: 1/5 score = 1013.43017\n",
      "[0]\tvalidation_0-rmse:62.32175\tvalidation_1-rmse:65.35074\n",
      "[356]\tvalidation_0-rmse:21.10325\tvalidation_1-rmse:32.86728\n",
      "Fold: 2/5 score = 1073.85366\n",
      "[0]\tvalidation_0-rmse:62.88460\tvalidation_1-rmse:62.97541\n",
      "[296]\tvalidation_0-rmse:22.35046\tvalidation_1-rmse:31.66115\n",
      "Fold: 3/5 score = 999.42078\n",
      "[0]\tvalidation_0-rmse:62.87660\tvalidation_1-rmse:63.06668\n",
      "[328]\tvalidation_0-rmse:21.79596\tvalidation_1-rmse:31.19349\n",
      "Fold: 4/5 score = 969.29540\n",
      "[0]\tvalidation_0-rmse:63.32258\tvalidation_1-rmse:61.15838\n",
      "[247]\tvalidation_0-rmse:23.37256\tvalidation_1-rmse:31.37811\n"
     ]
    },
    {
     "name": "stderr",
     "output_type": "stream",
     "text": [
      "[I 2023-08-18 12:48:08,065] Trial 74 finished with value: 1007.8040677838738 and parameters: {'booster': 'gbtree', 'lambda': 0.4695227611144048, 'alpha': 0.0032799130676218133, 'subsample': 0.42594349976904383, 'colsample_bytree': 0.7778876106490312, 'n_estimators': 1000, 'max_depth': 9, 'min_child_weight': 5, 'eta': 0.0176589601110378, 'gamma': 3.4455108415000354e-06, 'grow_policy': 'lossguide'}. Best is trial 56 with value: 1002.6725938268701.\n"
     ]
    },
    {
     "name": "stdout",
     "output_type": "stream",
     "text": [
      "Fold: 5/5 score = 983.02033\n",
      "[0]\tvalidation_0-rmse:63.93127\tvalidation_1-rmse:62.80995\n",
      "[699]\tvalidation_0-rmse:36.20798\tvalidation_1-rmse:38.19903\n",
      "Fold: 1/5 score = 1459.16617\n",
      "[0]\tvalidation_0-rmse:63.09535\tvalidation_1-rmse:66.10600\n",
      "[699]\tvalidation_0-rmse:35.84104\tvalidation_1-rmse:40.75447\n"
     ]
    },
    {
     "name": "stderr",
     "output_type": "stream",
     "text": [
      "[I 2023-08-18 12:48:36,579] Trial 75 pruned. \n"
     ]
    },
    {
     "name": "stdout",
     "output_type": "stream",
     "text": [
      "Fold: 2/5 score = 1660.92696\n",
      "[0]\tvalidation_0-rmse:63.97630\tvalidation_1-rmse:62.85264\n",
      "[799]\tvalidation_0-rmse:49.83557\tvalidation_1-rmse:49.65429\n",
      "Fold: 1/5 score = 2465.54866\n",
      "[0]\tvalidation_0-rmse:63.13922\tvalidation_1-rmse:66.14940\n",
      "[799]\tvalidation_0-rmse:49.23082\tvalidation_1-rmse:52.74855\n",
      "Fold: 2/5 score = 2782.40957\n",
      "[0]\tvalidation_0-rmse:63.73495\tvalidation_1-rmse:63.82145\n",
      "[799]\tvalidation_0-rmse:49.68682\tvalidation_1-rmse:50.27118\n",
      "Fold: 3/5 score = 2527.19172\n",
      "[0]\tvalidation_0-rmse:63.72285\tvalidation_1-rmse:63.87004\n",
      "[799]\tvalidation_0-rmse:49.77350\tvalidation_1-rmse:50.25052\n"
     ]
    },
    {
     "name": "stderr",
     "output_type": "stream",
     "text": [
      "[I 2023-08-18 12:49:45,940] Trial 76 pruned. \n"
     ]
    },
    {
     "name": "stdout",
     "output_type": "stream",
     "text": [
      "Fold: 4/5 score = 2525.11486\n",
      "[0]\tvalidation_0-rmse:63.57873\tvalidation_1-rmse:62.47940\n",
      "[777]\tvalidation_0-rmse:22.17094\tvalidation_1-rmse:31.84375\n",
      "Fold: 1/5 score = 1013.39986\n",
      "[0]\tvalidation_0-rmse:62.76429\tvalidation_1-rmse:65.79114\n",
      "[745]\tvalidation_0-rmse:22.15465\tvalidation_1-rmse:32.84565\n",
      "Fold: 2/5 score = 1077.92497\n",
      "[0]\tvalidation_0-rmse:63.33351\tvalidation_1-rmse:63.42556\n",
      "[481]\tvalidation_0-rmse:24.47989\tvalidation_1-rmse:31.69589\n",
      "Fold: 3/5 score = 1004.56963\n",
      "[0]\tvalidation_0-rmse:63.32096\tvalidation_1-rmse:63.48277\n",
      "[592]\tvalidation_0-rmse:23.62040\tvalidation_1-rmse:31.13082\n"
     ]
    },
    {
     "name": "stderr",
     "output_type": "stream",
     "text": [
      "[I 2023-08-18 12:50:22,330] Trial 77 pruned. \n"
     ]
    },
    {
     "name": "stdout",
     "output_type": "stream",
     "text": [
      "Fold: 4/5 score = 968.29031\n",
      "[0]\tvalidation_0-rmse:62.64506\tvalidation_1-rmse:61.58447\n",
      "[224]\tvalidation_0-rmse:22.22800\tvalidation_1-rmse:32.18134\n",
      "Fold: 1/5 score = 1032.60114\n",
      "[0]\tvalidation_0-rmse:61.85352\tvalidation_1-rmse:64.88695\n",
      "[299]\tvalidation_0-rmse:20.48987\tvalidation_1-rmse:33.01478\n"
     ]
    },
    {
     "name": "stderr",
     "output_type": "stream",
     "text": [
      "[I 2023-08-18 12:50:30,021] Trial 78 pruned. \n"
     ]
    },
    {
     "name": "stdout",
     "output_type": "stream",
     "text": [
      "Fold: 2/5 score = 1087.56097\n",
      "[0]\tvalidation_0-rmse:63.95726\tvalidation_1-rmse:62.83375\n",
      "[899]\tvalidation_0-rmse:39.91950\tvalidation_1-rmse:41.09924\n",
      "Fold: 1/5 score = 1689.14738\n",
      "[0]\tvalidation_0-rmse:63.12120\tvalidation_1-rmse:66.13227\n",
      "[899]\tvalidation_0-rmse:39.47837\tvalidation_1-rmse:43.85037\n"
     ]
    },
    {
     "name": "stderr",
     "output_type": "stream",
     "text": [
      "[I 2023-08-18 12:51:09,909] Trial 79 pruned. \n"
     ]
    },
    {
     "name": "stdout",
     "output_type": "stream",
     "text": [
      "Fold: 2/5 score = 1922.85540\n",
      "[0]\tvalidation_0-rmse:63.82384\tvalidation_1-rmse:62.70888\n",
      "[999]\tvalidation_0-rmse:23.42634\tvalidation_1-rmse:32.08489\n",
      "Fold: 1/5 score = 1029.43986\n",
      "[0]\tvalidation_0-rmse:62.99168\tvalidation_1-rmse:66.00456\n",
      "[999]\tvalidation_0-rmse:23.22361\tvalidation_1-rmse:32.96519\n",
      "Fold: 2/5 score = 1086.70353\n",
      "[0]\tvalidation_0-rmse:63.58300\tvalidation_1-rmse:63.67397\n",
      "[999]\tvalidation_0-rmse:23.36359\tvalidation_1-rmse:31.76069\n",
      "Fold: 3/5 score = 1008.67956\n",
      "[0]\tvalidation_0-rmse:63.57013\tvalidation_1-rmse:63.71961\n",
      "[999]\tvalidation_0-rmse:23.60266\tvalidation_1-rmse:31.07875\n"
     ]
    },
    {
     "name": "stderr",
     "output_type": "stream",
     "text": [
      "[I 2023-08-18 12:52:28,453] Trial 80 pruned. \n"
     ]
    },
    {
     "name": "stdout",
     "output_type": "stream",
     "text": [
      "Fold: 4/5 score = 965.88881\n",
      "[0]\tvalidation_0-rmse:63.74100\tvalidation_1-rmse:62.62529\n",
      "[983]\tvalidation_0-rmse:22.92435\tvalidation_1-rmse:31.93175\n",
      "Fold: 1/5 score = 1019.22333\n",
      "[0]\tvalidation_0-rmse:62.90746\tvalidation_1-rmse:65.91886\n",
      "[999]\tvalidation_0-rmse:22.55808\tvalidation_1-rmse:32.84170\n",
      "Fold: 2/5 score = 1078.12730\n",
      "[0]\tvalidation_0-rmse:63.49518\tvalidation_1-rmse:63.58239\n",
      "[806]\tvalidation_0-rmse:23.91567\tvalidation_1-rmse:31.60454\n",
      "Fold: 3/5 score = 998.63573\n",
      "[0]\tvalidation_0-rmse:63.47906\tvalidation_1-rmse:63.63295\n",
      "[842]\tvalidation_0-rmse:23.80741\tvalidation_1-rmse:30.90830\n",
      "Fold: 4/5 score = 954.92285\n",
      "[0]\tvalidation_0-rmse:63.94061\tvalidation_1-rmse:61.76301\n",
      "[921]\tvalidation_0-rmse:23.24860\tvalidation_1-rmse:31.10248\n"
     ]
    },
    {
     "name": "stderr",
     "output_type": "stream",
     "text": [
      "[I 2023-08-18 12:53:40,368] Trial 81 finished with value: 1003.4389116169119 and parameters: {'booster': 'gbtree', 'lambda': 0.9355785205610123, 'alpha': 0.0022079191166681283, 'subsample': 0.3872701540792287, 'colsample_bytree': 0.6638174871870871, 'n_estimators': 1000, 'max_depth': 9, 'min_child_weight': 5, 'eta': 0.005422236996468874, 'gamma': 8.211135660374662e-06, 'grow_policy': 'lossguide'}. Best is trial 56 with value: 1002.6725938268701.\n"
     ]
    },
    {
     "name": "stdout",
     "output_type": "stream",
     "text": [
      "Fold: 5/5 score = 966.28535\n",
      "[0]\tvalidation_0-rmse:63.73794\tvalidation_1-rmse:62.62927\n",
      "[955]\tvalidation_0-rmse:23.47053\tvalidation_1-rmse:31.92580\n",
      "Fold: 1/5 score = 1017.06627\n",
      "[0]\tvalidation_0-rmse:62.90328\tvalidation_1-rmse:65.91385\n",
      "[937]\tvalidation_0-rmse:23.37185\tvalidation_1-rmse:32.75490\n",
      "Fold: 2/5 score = 1072.16685\n",
      "[0]\tvalidation_0-rmse:63.48995\tvalidation_1-rmse:63.57981\n",
      "[999]\tvalidation_0-rmse:23.20264\tvalidation_1-rmse:31.55557\n",
      "Fold: 3/5 score = 995.65980\n",
      "[0]\tvalidation_0-rmse:63.47951\tvalidation_1-rmse:63.62950\n",
      "[828]\tvalidation_0-rmse:24.29240\tvalidation_1-rmse:30.96801\n",
      "Fold: 4/5 score = 958.20987\n",
      "[0]\tvalidation_0-rmse:63.93574\tvalidation_1-rmse:61.75690\n",
      "[856]\tvalidation_0-rmse:24.00649\tvalidation_1-rmse:31.08231\n"
     ]
    },
    {
     "name": "stderr",
     "output_type": "stream",
     "text": [
      "[I 2023-08-18 12:54:48,865] Trial 82 finished with value: 1001.7981705881532 and parameters: {'booster': 'gbtree', 'lambda': 0.9828560947746324, 'alpha': 0.0025590126571241956, 'subsample': 0.3396363141397076, 'colsample_bytree': 0.673545879145597, 'n_estimators': 1000, 'max_depth': 9, 'min_child_weight': 5, 'eta': 0.005535545381362823, 'gamma': 9.57724080941863e-06, 'grow_policy': 'lossguide'}. Best is trial 82 with value: 1001.7981705881532.\n"
     ]
    },
    {
     "name": "stdout",
     "output_type": "stream",
     "text": [
      "Fold: 5/5 score = 965.88806\n",
      "[0]\tvalidation_0-rmse:63.73505\tvalidation_1-rmse:62.63007\n",
      "[929]\tvalidation_0-rmse:22.96809\tvalidation_1-rmse:31.87708\n",
      "Fold: 1/5 score = 1015.52537\n",
      "[0]\tvalidation_0-rmse:62.89742\tvalidation_1-rmse:65.90378\n",
      "[938]\tvalidation_0-rmse:22.62394\tvalidation_1-rmse:32.80025\n",
      "Fold: 2/5 score = 1075.02110\n",
      "[0]\tvalidation_0-rmse:63.48764\tvalidation_1-rmse:63.57485\n",
      "[767]\tvalidation_0-rmse:23.86609\tvalidation_1-rmse:31.49581\n",
      "Fold: 3/5 score = 991.50279\n",
      "[0]\tvalidation_0-rmse:63.47136\tvalidation_1-rmse:63.62033\n",
      "[745]\tvalidation_0-rmse:24.21098\tvalidation_1-rmse:30.87822\n",
      "Fold: 4/5 score = 952.68641\n",
      "[0]\tvalidation_0-rmse:63.93216\tvalidation_1-rmse:61.75223\n",
      "[843]\tvalidation_0-rmse:23.45217\tvalidation_1-rmse:31.15019\n"
     ]
    },
    {
     "name": "stderr",
     "output_type": "stream",
     "text": [
      "[I 2023-08-18 12:55:57,831] Trial 83 finished with value: 1000.8374282863048 and parameters: {'booster': 'gbtree', 'lambda': 0.7052552907845338, 'alpha': 0.002617233119200266, 'subsample': 0.3402609384746215, 'colsample_bytree': 0.6773227382844442, 'n_estimators': 1000, 'max_depth': 9, 'min_child_weight': 4, 'eta': 0.0055860541633520906, 'gamma': 2.13959896523748e-05, 'grow_policy': 'lossguide'}. Best is trial 83 with value: 1000.8374282863048.\n"
     ]
    },
    {
     "name": "stdout",
     "output_type": "stream",
     "text": [
      "Fold: 5/5 score = 969.45147\n",
      "[0]\tvalidation_0-rmse:63.91002\tvalidation_1-rmse:62.78849\n",
      "[999]\tvalidation_0-rmse:28.97047\tvalidation_1-rmse:32.92689\n",
      "Fold: 1/5 score = 1084.17980\n",
      "[0]\tvalidation_0-rmse:63.06978\tvalidation_1-rmse:66.08275\n",
      "[999]\tvalidation_0-rmse:28.80196\tvalidation_1-rmse:34.71933\n"
     ]
    },
    {
     "name": "stderr",
     "output_type": "stream",
     "text": [
      "[I 2023-08-18 12:56:31,964] Trial 84 pruned. \n"
     ]
    },
    {
     "name": "stdout",
     "output_type": "stream",
     "text": [
      "Fold: 2/5 score = 1205.43155\n",
      "[0]\tvalidation_0-rmse:63.12730\tvalidation_1-rmse:62.01586\n",
      "[299]\tvalidation_0-rmse:29.38480\tvalidation_1-rmse:32.39818\n",
      "Fold: 1/5 score = 1048.83041\n",
      "[0]\tvalidation_0-rmse:62.31005\tvalidation_1-rmse:65.31824\n",
      "[671]\tvalidation_0-rmse:26.76813\tvalidation_1-rmse:32.96858\n",
      "Fold: 2/5 score = 1084.87707\n",
      "[0]\tvalidation_0-rmse:62.87847\tvalidation_1-rmse:62.95811\n",
      "[516]\tvalidation_0-rmse:27.92186\tvalidation_1-rmse:31.92332\n",
      "Fold: 3/5 score = 1017.66724\n",
      "[0]\tvalidation_0-rmse:62.86685\tvalidation_1-rmse:63.01313\n",
      "[370]\tvalidation_0-rmse:29.00433\tvalidation_1-rmse:31.49574\n"
     ]
    },
    {
     "name": "stderr",
     "output_type": "stream",
     "text": [
      "[I 2023-08-18 12:56:39,502] Trial 85 pruned. \n"
     ]
    },
    {
     "name": "stdout",
     "output_type": "stream",
     "text": [
      "Fold: 4/5 score = 989.69744\n",
      "[0]\tvalidation_0-rmse:63.74538\tvalidation_1-rmse:62.63564\n",
      "[999]\tvalidation_0-rmse:22.17970\tvalidation_1-rmse:31.85246\n",
      "Fold: 1/5 score = 1014.57927\n",
      "[0]\tvalidation_0-rmse:62.91891\tvalidation_1-rmse:65.93144\n",
      "[999]\tvalidation_0-rmse:21.96529\tvalidation_1-rmse:32.72403\n",
      "Fold: 2/5 score = 1070.78561\n",
      "[0]\tvalidation_0-rmse:63.50973\tvalidation_1-rmse:63.59782\n",
      "[781]\tvalidation_0-rmse:23.50326\tvalidation_1-rmse:31.68321\n",
      "Fold: 3/5 score = 1002.58831\n",
      "[0]\tvalidation_0-rmse:63.49125\tvalidation_1-rmse:63.64659\n",
      "[953]\tvalidation_0-rmse:22.54864\tvalidation_1-rmse:30.95354\n",
      "Fold: 4/5 score = 956.63518\n",
      "[0]\tvalidation_0-rmse:63.94922\tvalidation_1-rmse:61.76879\n",
      "[902]\tvalidation_0-rmse:22.81569\tvalidation_1-rmse:31.11745\n"
     ]
    },
    {
     "name": "stderr",
     "output_type": "stream",
     "text": [
      "[I 2023-08-18 12:58:00,953] Trial 86 finished with value: 1002.2812907542086 and parameters: {'booster': 'gbtree', 'lambda': 0.6847720006204289, 'alpha': 0.0015581776966096794, 'subsample': 0.4104303305622862, 'colsample_bytree': 0.665874758116123, 'n_estimators': 1000, 'max_depth': 9, 'min_child_weight': 4, 'eta': 0.005136740768028026, 'gamma': 7.313895969793882e-05, 'grow_policy': 'lossguide'}. Best is trial 83 with value: 1000.8374282863048.\n"
     ]
    },
    {
     "name": "stdout",
     "output_type": "stream",
     "text": [
      "Fold: 5/5 score = 966.81808\n",
      "[0]\tvalidation_0-rmse:63.77150\tvalidation_1-rmse:62.66183\n",
      "[928]\tvalidation_0-rmse:24.47965\tvalidation_1-rmse:31.98647\n",
      "Fold: 1/5 score = 1022.23900\n",
      "[0]\tvalidation_0-rmse:62.93814\tvalidation_1-rmse:65.94658\n",
      "[999]\tvalidation_0-rmse:23.86426\tvalidation_1-rmse:32.84498\n",
      "Fold: 2/5 score = 1078.60900\n",
      "[0]\tvalidation_0-rmse:63.52819\tvalidation_1-rmse:63.61752\n",
      "[961]\tvalidation_0-rmse:24.32357\tvalidation_1-rmse:31.62018\n",
      "Fold: 3/5 score = 998.74692\n",
      "[0]\tvalidation_0-rmse:63.51397\tvalidation_1-rmse:63.66664\n",
      "[950]\tvalidation_0-rmse:24.46841\tvalidation_1-rmse:30.97817\n",
      "Fold: 4/5 score = 958.65296\n",
      "[0]\tvalidation_0-rmse:63.97265\tvalidation_1-rmse:61.78913\n",
      "[999]\tvalidation_0-rmse:24.15011\tvalidation_1-rmse:31.11185\n"
     ]
    },
    {
     "name": "stderr",
     "output_type": "stream",
     "text": [
      "[I 2023-08-18 12:59:09,730] Trial 87 finished with value: 1005.2031696944712 and parameters: {'booster': 'gbtree', 'lambda': 0.1751938370156661, 'alpha': 0.0032453279250651977, 'subsample': 0.34314069365872035, 'colsample_bytree': 0.6678911392879124, 'n_estimators': 1000, 'max_depth': 8, 'min_child_weight': 4, 'eta': 0.00467095980585853, 'gamma': 8.04211909164205e-05, 'grow_policy': 'lossguide'}. Best is trial 83 with value: 1000.8374282863048.\n"
     ]
    },
    {
     "name": "stdout",
     "output_type": "stream",
     "text": [
      "Fold: 5/5 score = 967.76797\n",
      "[0]\tvalidation_0-rmse:63.92481\tvalidation_1-rmse:62.80393\n",
      "[999]\tvalidation_0-rmse:30.47019\tvalidation_1-rmse:34.20190\n",
      "Fold: 1/5 score = 1169.77019\n",
      "[0]\tvalidation_0-rmse:63.08951\tvalidation_1-rmse:66.09992\n",
      "[999]\tvalidation_0-rmse:30.22475\tvalidation_1-rmse:36.31360\n"
     ]
    },
    {
     "name": "stderr",
     "output_type": "stream",
     "text": [
      "[I 2023-08-18 12:59:52,100] Trial 88 pruned. \n"
     ]
    },
    {
     "name": "stdout",
     "output_type": "stream",
     "text": [
      "Fold: 2/5 score = 1318.67723\n",
      "[0]\tvalidation_0-rmse:63.96577\tvalidation_1-rmse:62.84222\n",
      "[999]\tvalidation_0-rmse:41.48725\tvalidation_1-rmse:42.46091\n",
      "Fold: 1/5 score = 1802.92916\n",
      "[0]\tvalidation_0-rmse:63.12875\tvalidation_1-rmse:66.13870\n",
      "[999]\tvalidation_0-rmse:41.03650\tvalidation_1-rmse:45.36755\n",
      "Fold: 2/5 score = 2058.21492\n",
      "[0]\tvalidation_0-rmse:63.72458\tvalidation_1-rmse:63.81158\n",
      "[999]\tvalidation_0-rmse:41.40845\tvalidation_1-rmse:42.80272\n",
      "Fold: 3/5 score = 1832.07320\n",
      "[0]\tvalidation_0-rmse:63.71162\tvalidation_1-rmse:63.85904\n",
      "[999]\tvalidation_0-rmse:41.54275\tvalidation_1-rmse:42.77939\n"
     ]
    },
    {
     "name": "stderr",
     "output_type": "stream",
     "text": [
      "[I 2023-08-18 13:01:26,958] Trial 89 pruned. \n"
     ]
    },
    {
     "name": "stdout",
     "output_type": "stream",
     "text": [
      "Fold: 4/5 score = 1830.07611\n",
      "[0]\tvalidation_0-rmse:63.42860\tvalidation_1-rmse:62.34115\n",
      "[503]\tvalidation_0-rmse:22.56515\tvalidation_1-rmse:31.98065\n",
      "Fold: 1/5 score = 1021.63410\n",
      "[0]\tvalidation_0-rmse:62.58751\tvalidation_1-rmse:65.60725\n",
      "[527]\tvalidation_0-rmse:21.84123\tvalidation_1-rmse:32.91051\n",
      "Fold: 2/5 score = 1077.10626\n",
      "[0]\tvalidation_0-rmse:63.16652\tvalidation_1-rmse:63.26895\n",
      "[405]\tvalidation_0-rmse:23.71519\tvalidation_1-rmse:31.88105\n",
      "Fold: 3/5 score = 1013.43191\n",
      "[0]\tvalidation_0-rmse:63.15640\tvalidation_1-rmse:63.33033\n",
      "[419]\tvalidation_0-rmse:23.65957\tvalidation_1-rmse:31.08522\n"
     ]
    },
    {
     "name": "stderr",
     "output_type": "stream",
     "text": [
      "[I 2023-08-18 13:01:54,268] Trial 90 pruned. \n"
     ]
    },
    {
     "name": "stdout",
     "output_type": "stream",
     "text": [
      "Fold: 4/5 score = 962.92057\n",
      "[0]\tvalidation_0-rmse:63.77830\tvalidation_1-rmse:62.66820\n",
      "[999]\tvalidation_0-rmse:24.27747\tvalidation_1-rmse:31.96551\n",
      "Fold: 1/5 score = 1021.79362\n",
      "[0]\tvalidation_0-rmse:62.94133\tvalidation_1-rmse:65.95062\n",
      "[999]\tvalidation_0-rmse:23.99580\tvalidation_1-rmse:32.91887\n",
      "Fold: 2/5 score = 1083.48662\n",
      "[0]\tvalidation_0-rmse:63.53546\tvalidation_1-rmse:63.62496\n",
      "[999]\tvalidation_0-rmse:24.30629\tvalidation_1-rmse:31.58475\n",
      "Fold: 3/5 score = 997.56183\n",
      "[0]\tvalidation_0-rmse:63.51918\tvalidation_1-rmse:63.67066\n",
      "[950]\tvalidation_0-rmse:24.68853\tvalidation_1-rmse:30.94602\n",
      "Fold: 4/5 score = 956.61353\n",
      "[0]\tvalidation_0-rmse:63.97895\tvalidation_1-rmse:61.79577\n",
      "[835]\tvalidation_0-rmse:25.14436\tvalidation_1-rmse:31.22060\n"
     ]
    },
    {
     "name": "stderr",
     "output_type": "stream",
     "text": [
      "[I 2023-08-18 13:02:59,459] Trial 91 finished with value: 1006.6784612276413 and parameters: {'booster': 'gbtree', 'lambda': 0.2484620229538186, 'alpha': 0.003767629877722846, 'subsample': 0.34370024145966194, 'colsample_bytree': 0.6462219764981066, 'n_estimators': 1000, 'max_depth': 8, 'min_child_weight': 4, 'eta': 0.004575625423534029, 'gamma': 7.371219885975129e-05, 'grow_policy': 'lossguide'}. Best is trial 83 with value: 1000.8374282863048.\n"
     ]
    },
    {
     "name": "stdout",
     "output_type": "stream",
     "text": [
      "Fold: 5/5 score = 973.93671\n",
      "[0]\tvalidation_0-rmse:63.85782\tvalidation_1-rmse:62.74071\n",
      "[999]\tvalidation_0-rmse:25.80201\tvalidation_1-rmse:32.08291\n",
      "Fold: 1/5 score = 1029.31335\n",
      "[0]\tvalidation_0-rmse:63.01916\tvalidation_1-rmse:66.02862\n",
      "[999]\tvalidation_0-rmse:25.56849\tvalidation_1-rmse:33.23252\n"
     ]
    },
    {
     "name": "stderr",
     "output_type": "stream",
     "text": [
      "[I 2023-08-18 13:03:33,432] Trial 92 pruned. \n"
     ]
    },
    {
     "name": "stdout",
     "output_type": "stream",
     "text": [
      "Fold: 2/5 score = 1104.40070\n",
      "[0]\tvalidation_0-rmse:63.00915\tvalidation_1-rmse:61.94384\n",
      "[295]\tvalidation_0-rmse:23.26547\tvalidation_1-rmse:32.12312\n",
      "Fold: 1/5 score = 1028.05250\n",
      "[0]\tvalidation_0-rmse:62.18152\tvalidation_1-rmse:65.18193\n",
      "[365]\tvalidation_0-rmse:21.95181\tvalidation_1-rmse:32.92065\n",
      "Fold: 2/5 score = 1082.60661\n",
      "[0]\tvalidation_0-rmse:62.73936\tvalidation_1-rmse:62.85402\n",
      "[288]\tvalidation_0-rmse:23.52524\tvalidation_1-rmse:31.81521\n",
      "Fold: 3/5 score = 1008.50932\n",
      "[0]\tvalidation_0-rmse:62.72676\tvalidation_1-rmse:62.88529\n",
      "[251]\tvalidation_0-rmse:24.19744\tvalidation_1-rmse:30.92406\n",
      "Fold: 4/5 score = 950.72615\n",
      "[0]\tvalidation_0-rmse:63.18293\tvalidation_1-rmse:61.01578\n",
      "[390]\tvalidation_0-rmse:22.00681\tvalidation_1-rmse:31.33854\n"
     ]
    },
    {
     "name": "stderr",
     "output_type": "stream",
     "text": [
      "[I 2023-08-18 13:03:53,315] Trial 93 finished with value: 1009.4020499126143 and parameters: {'booster': 'gbtree', 'lambda': 0.3683543936246224, 'alpha': 0.0036434563556398975, 'subsample': 0.35328863388942855, 'colsample_bytree': 0.6014991300135297, 'n_estimators': 1000, 'max_depth': 8, 'min_child_weight': 5, 'eta': 0.02097801395219878, 'gamma': 1.1460979145075143e-05, 'grow_policy': 'lossguide'}. Best is trial 83 with value: 1000.8374282863048.\n"
     ]
    },
    {
     "name": "stdout",
     "output_type": "stream",
     "text": [
      "Fold: 5/5 score = 977.11567\n",
      "[0]\tvalidation_0-rmse:63.74618\tvalidation_1-rmse:62.63090\n",
      "[792]\tvalidation_0-rmse:22.91183\tvalidation_1-rmse:31.97040\n",
      "Fold: 1/5 score = 1022.01539\n",
      "[0]\tvalidation_0-rmse:62.91878\tvalidation_1-rmse:65.93319\n",
      "[899]\tvalidation_0-rmse:22.03841\tvalidation_1-rmse:32.75828\n",
      "Fold: 2/5 score = 1072.64191\n",
      "[0]\tvalidation_0-rmse:63.50423\tvalidation_1-rmse:63.59268\n",
      "[866]\tvalidation_0-rmse:22.51886\tvalidation_1-rmse:31.70101\n",
      "Fold: 3/5 score = 1004.56160\n",
      "[0]\tvalidation_0-rmse:63.49313\tvalidation_1-rmse:63.65018\n",
      "[899]\tvalidation_0-rmse:22.35366\tvalidation_1-rmse:30.92399\n",
      "Fold: 4/5 score = 956.15546\n",
      "[0]\tvalidation_0-rmse:63.95129\tvalidation_1-rmse:61.77748\n",
      "[827]\tvalidation_0-rmse:22.82716\tvalidation_1-rmse:31.18529\n"
     ]
    },
    {
     "name": "stderr",
     "output_type": "stream",
     "text": [
      "[I 2023-08-18 13:05:11,805] Trial 94 finished with value: 1005.3285560825185 and parameters: {'booster': 'gbtree', 'lambda': 0.16965980376221773, 'alpha': 0.0010907187337008141, 'subsample': 0.4351506779475402, 'colsample_bytree': 0.6679876611565727, 'n_estimators': 900, 'max_depth': 9, 'min_child_weight': 4, 'eta': 0.005072930211515813, 'gamma': 2.4374943013554472e-05, 'grow_policy': 'lossguide'}. Best is trial 83 with value: 1000.8374282863048.\n"
     ]
    },
    {
     "name": "stdout",
     "output_type": "stream",
     "text": [
      "Fold: 5/5 score = 971.26842\n",
      "[0]\tvalidation_0-rmse:63.87426\tvalidation_1-rmse:62.75666\n",
      "[999]\tvalidation_0-rmse:26.27391\tvalidation_1-rmse:32.20049\n",
      "Fold: 1/5 score = 1036.87160\n",
      "[0]\tvalidation_0-rmse:63.04074\tvalidation_1-rmse:66.05278\n",
      "[999]\tvalidation_0-rmse:26.06872\tvalidation_1-rmse:33.53940\n"
     ]
    },
    {
     "name": "stderr",
     "output_type": "stream",
     "text": [
      "[I 2023-08-18 13:05:48,272] Trial 95 pruned. \n"
     ]
    },
    {
     "name": "stdout",
     "output_type": "stream",
     "text": [
      "Fold: 2/5 score = 1124.89158\n",
      "[0]\tvalidation_0-rmse:63.47344\tvalidation_1-rmse:62.37676\n",
      "[420]\tvalidation_0-rmse:23.55582\tvalidation_1-rmse:31.87896\n",
      "Fold: 1/5 score = 1013.01859\n",
      "[0]\tvalidation_0-rmse:62.61527\tvalidation_1-rmse:65.63287\n",
      "[526]\tvalidation_0-rmse:22.09633\tvalidation_1-rmse:33.06853\n"
     ]
    },
    {
     "name": "stderr",
     "output_type": "stream",
     "text": [
      "[I 2023-08-18 13:06:03,756] Trial 96 pruned. \n"
     ]
    },
    {
     "name": "stdout",
     "output_type": "stream",
     "text": [
      "Fold: 2/5 score = 1088.83236\n",
      "[0]\tvalidation_0-rmse:63.94066\tvalidation_1-rmse:62.82002\n",
      "[999]\tvalidation_0-rmse:33.58702\tvalidation_1-rmse:35.84204\n",
      "Fold: 1/5 score = 1284.65151\n",
      "[0]\tvalidation_0-rmse:63.10337\tvalidation_1-rmse:66.11272\n",
      "[999]\tvalidation_0-rmse:33.28694\tvalidation_1-rmse:38.19983\n",
      "Fold: 2/5 score = 1459.22681\n",
      "[0]\tvalidation_0-rmse:63.69794\tvalidation_1-rmse:63.78565\n",
      "[999]\tvalidation_0-rmse:33.58291\tvalidation_1-rmse:35.83365\n",
      "Fold: 3/5 score = 1284.05071\n",
      "[0]\tvalidation_0-rmse:63.68601\tvalidation_1-rmse:63.83412\n",
      "[999]\tvalidation_0-rmse:33.76478\tvalidation_1-rmse:35.65725\n"
     ]
    },
    {
     "name": "stderr",
     "output_type": "stream",
     "text": [
      "[I 2023-08-18 13:07:09,801] Trial 97 pruned. \n"
     ]
    },
    {
     "name": "stdout",
     "output_type": "stream",
     "text": [
      "Fold: 4/5 score = 1271.43930\n",
      "[0]\tvalidation_0-rmse:62.25498\tvalidation_1-rmse:61.29323\n",
      "[164]\tvalidation_0-rmse:23.21533\tvalidation_1-rmse:32.46973\n",
      "Fold: 1/5 score = 1047.02713\n",
      "[0]\tvalidation_0-rmse:61.44209\tvalidation_1-rmse:64.47026\n",
      "[211]\tvalidation_0-rmse:21.65868\tvalidation_1-rmse:33.27069\n"
     ]
    },
    {
     "name": "stderr",
     "output_type": "stream",
     "text": [
      "[I 2023-08-18 13:07:15,207] Trial 98 pruned. \n"
     ]
    },
    {
     "name": "stdout",
     "output_type": "stream",
     "text": [
      "Fold: 2/5 score = 1101.25616\n",
      "[0]\tvalidation_0-rmse:63.74145\tvalidation_1-rmse:62.63599\n",
      "[999]\tvalidation_0-rmse:22.32780\tvalidation_1-rmse:31.96894\n",
      "Fold: 1/5 score = 1022.01337\n",
      "[0]\tvalidation_0-rmse:62.90515\tvalidation_1-rmse:65.91735\n",
      "[999]\tvalidation_0-rmse:22.11161\tvalidation_1-rmse:32.84929\n",
      "Fold: 2/5 score = 1079.07576\n",
      "[0]\tvalidation_0-rmse:63.49613\tvalidation_1-rmse:63.58793\n",
      "[919]\tvalidation_0-rmse:22.82182\tvalidation_1-rmse:31.61053\n",
      "Fold: 3/5 score = 998.74965\n",
      "[0]\tvalidation_0-rmse:63.47951\tvalidation_1-rmse:63.63629\n",
      "[823]\tvalidation_0-rmse:23.47238\tvalidation_1-rmse:30.82153\n",
      "Fold: 4/5 score = 948.88128\n",
      "[0]\tvalidation_0-rmse:63.94457\tvalidation_1-rmse:61.76540\n",
      "[922]\tvalidation_0-rmse:22.86163\tvalidation_1-rmse:31.27954\n"
     ]
    },
    {
     "name": "stderr",
     "output_type": "stream",
     "text": [
      "[I 2023-08-18 13:08:30,181] Trial 99 finished with value: 1005.2779249410703 and parameters: {'booster': 'gbtree', 'lambda': 0.11344193522167063, 'alpha': 0.0008416487410694649, 'subsample': 0.3631665026326943, 'colsample_bytree': 0.6097692589483161, 'n_estimators': 1000, 'max_depth': 9, 'min_child_weight': 4, 'eta': 0.005278397038605128, 'gamma': 3.223641841379953e-05, 'grow_policy': 'lossguide'}. Best is trial 83 with value: 1000.8374282863048.\n"
     ]
    },
    {
     "name": "stdout",
     "output_type": "stream",
     "text": [
      "Fold: 5/5 score = 977.66956\n"
     ]
    }
   ],
   "source": [
    "study = optuna.create_study(\n",
    "    sampler=TPESampler(seed=RANDOM_SEED),\n",
    "    direction='minimize',\n",
    "    study_name='xgb_tuning',\n",
    "    pruner=HyperbandPruner(\n",
    "        min_resource=1, max_resource=8, reduction_factor=3\n",
    "    ),\n",
    ")\n",
    "\n",
    "study.optimize(objective_xgb, n_trials=100)"
   ]
  },
  {
   "cell_type": "code",
   "execution_count": 9,
   "metadata": {},
   "outputs": [],
   "source": [
    "trial = study.best_trial"
   ]
  },
  {
   "cell_type": "code",
   "execution_count": 10,
   "metadata": {},
   "outputs": [
    {
     "name": "stdout",
     "output_type": "stream",
     "text": [
      "{'booster': 'gbtree', 'lambda': 0.7052552907845338, 'alpha': 0.002617233119200266, 'subsample': 0.3402609384746215, 'colsample_bytree': 0.6773227382844442, 'n_estimators': 1000, 'max_depth': 9, 'min_child_weight': 4, 'eta': 0.0055860541633520906, 'gamma': 2.13959896523748e-05, 'grow_policy': 'lossguide'}\n"
     ]
    }
   ],
   "source": [
    "print(trial.params)"
   ]
  },
  {
   "cell_type": "code",
   "execution_count": 14,
   "metadata": {},
   "outputs": [
    {
     "name": "stdout",
     "output_type": "stream",
     "text": [
      "[0]\tvalidation_0-rmse:63.73505\tvalidation_1-rmse:62.63007\n",
      "[929]\tvalidation_0-rmse:22.96809\tvalidation_1-rmse:31.87708\n",
      "Fold: 1/5 score = 1015.52537\n",
      "[0]\tvalidation_0-rmse:62.89742\tvalidation_1-rmse:65.90378\n",
      "[938]\tvalidation_0-rmse:22.62394\tvalidation_1-rmse:32.80025\n",
      "Fold: 2/5 score = 1075.02110\n",
      "[0]\tvalidation_0-rmse:63.48764\tvalidation_1-rmse:63.57485\n",
      "[768]\tvalidation_0-rmse:23.86061\tvalidation_1-rmse:31.49494\n",
      "Fold: 3/5 score = 991.50279\n",
      "[0]\tvalidation_0-rmse:63.47136\tvalidation_1-rmse:63.62033\n",
      "[744]\tvalidation_0-rmse:24.22037\tvalidation_1-rmse:30.87619\n",
      "Fold: 4/5 score = 952.68641\n",
      "[0]\tvalidation_0-rmse:63.93216\tvalidation_1-rmse:61.75223\n",
      "[844]\tvalidation_0-rmse:23.44211\tvalidation_1-rmse:31.14946\n",
      "Fold: 5/5 score = 969.45147\n"
     ]
    }
   ],
   "source": [
    "best_param = {\n",
    "  'booster': 'gbtree',\n",
    "  'lambda': 0.7052552907845338,\n",
    "  'alpha': 0.002617233119200266,\n",
    "  'subsample': 0.3402609384746215,\n",
    "  'colsample_bytree': 0.6773227382844442,\n",
    "  'n_estimators': 1000,\n",
    "  'max_depth': 9,\n",
    "  'min_child_weight': 4,\n",
    "  'eta': 0.0055860541633520906,\n",
    "  'gamma': 2.13959896523748e-05,\n",
    "  'grow_policy': 'lossguide'\n",
    "}\n",
    "\n",
    "val_scores, y_tests, models = train_model(best_param, train_x, train_y, test_x)"
   ]
  },
  {
   "cell_type": "code",
   "execution_count": 15,
   "metadata": {},
   "outputs": [
    {
     "data": {
      "image/png": "[encoded data removed]",
      "text/plain": [
       "<Figure size 1000x1200 with 1 Axes>"
      ]
     },
     "metadata": {},
     "output_type": "display_data"
    }
   ],
   "source": [
    "importance = models[-1].get_booster().get_score(importance_type=\"weight\")\n",
    "tuples = [(k, importance[k]) for k in importance]\n",
    "tuples.sort(key=lambda x: x[1])\n",
    "\n",
    "label, values = zip(*tuples)\n",
    "\n",
    "plt.rcParams[\"font.family\"] = \"MalGun Gothic\"\n",
    "plt.figure(figsize=(10, 12))\n",
    "plt.barh(label[:100], values[:100])\n",
    "plt.show()"
   ]
  },
  {
   "cell_type": "code",
   "execution_count": 16,
   "metadata": {},
   "outputs": [],
   "source": [
    "submit = pd.read_csv(\"./xgboost_optuna.csv\")\n",
    "submit[\"HLM\"] = y_tests[-1]\n",
    "submit.to_csv(\"xgboost_optuna.csv\", index=False)"
   ]
  },
  {
   "cell_type": "code",
   "execution_count": null,
   "metadata": {},
   "outputs": [],
   "source": []
  }
 ],
 "metadata": {
  "kernelspec": {
   "display_name": "신약개발-mImSxWNo",
   "language": "python",
   "name": "python3"
  },
  "language_info": {
   "codemirror_mode": {
    "name": "ipython",
    "version": 3
   },
   "file_extension": ".py",
   "mimetype": "text/x-python",
   "name": "python",
   "nbconvert_exporter": "python",
   "pygments_lexer": "ipython3",
   "version": "3.10.11"
  },
  "orig_nbformat": 4
 },
 "nbformat": 4,
 "nbformat_minor": 2
}
