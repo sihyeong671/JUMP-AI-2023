{
 "cells": [
  {
   "cell_type": "code",
   "execution_count": 1,
   "metadata": {},
   "outputs": [
    {
     "name": "stderr",
     "output_type": "stream",
     "text": [
      "c:\\Users\\BSH\\.virtualenvs\\신약개발-mImSxWNo\\lib\\site-packages\\tqdm\\auto.py:21: TqdmWarning: IProgress not found. Please update jupyter and ipywidgets. See https://ipywidgets.readthedocs.io/en/stable/user_install.html\n",
      "  from .autonotebook import tqdm as notebook_tqdm\n"
     ]
    }
   ],
   "source": [
    "import pandas as pd\n",
    "import numpy as np\n",
    "import random\n",
    "\n",
    "import optuna\n",
    "from optuna.samplers import TPESampler\n",
    "from optuna.pruners import HyperbandPruner\n",
    "\n",
    "import rdkit\n",
    "from rdkit.Chem import AllChem, rdFingerprintGenerator\n",
    "from rdkit import Chem, DataStructs\n",
    "\n",
    "from sklearn.model_selection import train_test_split, StratifiedKFold, KFold\n",
    "from sklearn.metrics import mean_absolute_error, mean_squared_error\n",
    "from sklearn.preprocessing import StandardScaler, MinMaxScaler, LabelEncoder\n",
    "\n",
    "import matplotlib.pyplot as plt\n",
    "\n",
    "import catboost as cat"
   ]
  },
  {
   "cell_type": "code",
   "execution_count": 2,
   "metadata": {},
   "outputs": [],
   "source": [
    "RANDOM_SEED = 777"
   ]
  },
  {
   "cell_type": "code",
   "execution_count": 3,
   "metadata": {},
   "outputs": [],
   "source": [
    "def feature_engineer():\n",
    "  train_df = pd.read_csv(\"../data/train.csv\")\n",
    "  test_df = pd.read_csv(\"../data/test.csv\")\n",
    "  train_df = train_df.dropna()\n",
    "  test_df[\"AlogP\"] = np.where(pd.isna(test_df[\"AlogP\"]), test_df[\"LogD\"], test_df[\"AlogP\"])\n",
    "  \n",
    "  train_df[\"mol\"] = train_df[\"SMILES\"].apply(lambda x: Chem.MolFromSmiles(x))\n",
    "  test_df[\"mol\"] = test_df[\"SMILES\"].apply(lambda x: Chem.MolFromSmiles(x))\n",
    "  \n",
    "  train_df.drop(columns=[\"id\", \"SMILES\"], inplace=True)\n",
    "  test_df.drop(columns=[\"id\", \"SMILES\"], inplace=True)\n",
    "  \n",
    "  fmgen = rdFingerprintGenerator.GetMorganGenerator()\n",
    "  train_fps = train_df[\"mol\"].apply(lambda x: fmgen.GetFingerprintAsNumPy(x))\n",
    "  train_fps = np.stack(train_fps)\n",
    "  test_fps = test_df[\"mol\"].apply(lambda x: fmgen.GetFingerprintAsNumPy(x))\n",
    "  test_fps = np.stack(test_fps)\n",
    "  \n",
    "  origin_train_features = train_df[[\"AlogP\", \"Molecular_Weight\", \"Num_H_Acceptors\", \"Num_H_Donors\", \"Num_RotatableBonds\", \"LogD\", \"Molecular_PolarSurfaceArea\"]].values\n",
    "  origin_test_features = test_df[[\"AlogP\", \"Molecular_Weight\", \"Num_H_Acceptors\", \"Num_H_Donors\", \"Num_RotatableBonds\", \"LogD\", \"Molecular_PolarSurfaceArea\"]].values\n",
    "  \n",
    "  train_features = np.append(origin_train_features, train_fps, axis=1)\n",
    "  test_features = np.append(origin_test_features, test_fps, axis=1)\n",
    "  target = train_df[\"MLM\"].values\n",
    "  \n",
    "  return train_features, target, test_features\n",
    "  "
   ]
  },
  {
   "cell_type": "code",
   "execution_count": 4,
   "metadata": {},
   "outputs": [],
   "source": [
    "train_x, train_y, test_x = feature_engineer()"
   ]
  },
  {
   "cell_type": "code",
   "execution_count": 5,
   "metadata": {},
   "outputs": [],
   "source": [
    "def create_model(param):\n",
    "  return cat.CatBoostRegressor(\n",
    "    random_state=RANDOM_SEED,\n",
    "    verbose=False,\n",
    "    **param\n",
    "  )"
   ]
  },
  {
   "cell_type": "code",
   "execution_count": 6,
   "metadata": {},
   "outputs": [],
   "source": [
    "def train_model(param, X, y, X_test, trial=None):\n",
    "    skf = KFold(n_splits=5, shuffle=True, random_state=RANDOM_SEED)\n",
    "\n",
    "    val_scores = []\n",
    "    y_tests = []\n",
    "    models = []\n",
    "\n",
    "    for idx, (train_idx, val_idx) in enumerate(skf.split(X, y)):\n",
    "\n",
    "        X_train, y_train = X[train_idx], y[train_idx]\n",
    "        X_val, y_val = X[val_idx], y[val_idx]\n",
    "\n",
    "        model = create_model(param)\n",
    "        model.fit(X_train, y_train, eval_set=[(X_train, y_train), (X_val, y_val)], early_stopping_rounds=50, verbose=500)\n",
    "\n",
    "        y_hat_val = model.predict(X_val)\n",
    "        score = mean_squared_error(y_val, y_hat_val, squared=True)\n",
    "        val_scores.append(score)\n",
    "        print(f'Fold: {idx+1}/5 score = {score:.5f}')\n",
    "\n",
    "        y_tests.append(model.predict(X_test))\n",
    "        models.append(model)\n",
    "\n",
    "        if trial:\n",
    "            trial.report(score, idx)\n",
    "\n",
    "            if trial.should_prune():\n",
    "                raise optuna.TrialPruned()\n",
    "\n",
    "    return val_scores, y_tests, models"
   ]
  },
  {
   "cell_type": "code",
   "execution_count": 7,
   "metadata": {},
   "outputs": [],
   "source": [
    "def objective_cat(trial):\n",
    "    param = {\n",
    "        \"iterations\": trial.suggest_int(\"iterations\", 2000, 20000),\n",
    "        \"learning_rate\": trial.suggest_float(\"learning_rate\", 0.001, 0.3),\n",
    "        \"depth\": trial.suggest_int(\"depth\", 1, 10),\n",
    "        \"subsample\": trial.suggest_float(\"subsample\", 0.1, 1.0),\n",
    "        \"min_data_in_leaf\": trial.suggest_int(\"min_data_in_leaf\", 10, 100),\n",
    "        \"colsample_bylevel\": trial.suggest_float(\"colsample_bylevel\", 0.05, 1.0),\n",
    "    }\n",
    "\n",
    "    val_scores, y_tests, models = train_model(param, train_x, train_y, test_x, trial)\n",
    "\n",
    "    return sum(val_scores) / len(val_scores)"
   ]
  },
  {
   "cell_type": "code",
   "execution_count": 8,
   "metadata": {},
   "outputs": [
    {
     "name": "stderr",
     "output_type": "stream",
     "text": [
      "[I 2023-09-06 19:11:19,134] A new study created in memory with name: cat_tuning\n"
     ]
    },
    {
     "name": "stdout",
     "output_type": "stream",
     "text": [
      "0:\tlearn: 35.2077973\ttest: 35.2077973\ttest1: 35.7341293\tbest: 35.7341293 (0)\ttotal: 136ms\tremaining: 10m 47s\n",
      "Stopped by overfitting detector  (50 iterations wait)\n",
      "\n",
      "bestTest = 32.85583915\n",
      "bestIteration = 212\n",
      "\n",
      "Shrink model to first 213 iterations.\n",
      "Fold: 1/5 score = 1079.50617\n",
      "0:\tlearn: 35.4333864\ttest: 35.4333864\ttest1: 34.9403593\tbest: 34.9403593 (0)\ttotal: 1.86ms\tremaining: 8.85s\n",
      "500:\tlearn: 29.7004173\ttest: 29.7004173\ttest1: 30.6308328\tbest: 30.6095808 (486)\ttotal: 675ms\tremaining: 5.73s\n",
      "Stopped by overfitting detector  (50 iterations wait)\n",
      "\n",
      "bestTest = 30.53938104\n",
      "bestIteration = 586\n",
      "\n",
      "Shrink model to first 587 iterations.\n",
      "Fold: 2/5 score = 932.65380\n",
      "0:\tlearn: 35.4350180\ttest: 35.4350180\ttest1: 34.9615243\tbest: 34.9615243 (0)\ttotal: 1.4ms\tremaining: 6.65s\n",
      "Stopped by overfitting detector  (50 iterations wait)\n",
      "\n",
      "bestTest = 30.93455141\n",
      "bestIteration = 303\n",
      "\n",
      "Shrink model to first 304 iterations.\n",
      "Fold: 3/5 score = 956.94647\n",
      "0:\tlearn: 35.2772775\ttest: 35.2772775\ttest1: 35.5533315\tbest: 35.5533315 (0)\ttotal: 1.58ms\tremaining: 7.49s\n",
      "500:\tlearn: 29.3852965\ttest: 29.3852965\ttest1: 31.8487409\tbest: 31.8193954 (454)\ttotal: 673ms\tremaining: 5.7s\n",
      "Stopped by overfitting detector  (50 iterations wait)\n",
      "\n",
      "bestTest = 31.81939538\n",
      "bestIteration = 454\n",
      "\n",
      "Shrink model to first 455 iterations.\n",
      "Fold: 4/5 score = 1012.47393\n",
      "0:\tlearn: 35.2694913\ttest: 35.2694913\ttest1: 35.5719986\tbest: 35.5719986 (0)\ttotal: 1.49ms\tremaining: 7.05s\n",
      "500:\tlearn: 29.5452562\ttest: 29.5452562\ttest1: 31.3639318\tbest: 31.3525775 (483)\ttotal: 685ms\tremaining: 5.8s\n",
      "Stopped by overfitting detector  (50 iterations wait)\n",
      "\n",
      "bestTest = 31.35257753\n",
      "bestIteration = 483\n",
      "\n",
      "Shrink model to first 484 iterations.\n",
      "Fold: 5/5 score = 982.98412\n"
     ]
    },
    {
     "name": "stderr",
     "output_type": "stream",
     "text": [
      "[I 2023-09-06 19:11:37,049] Trial 0 finished with value: 992.9128991512587 and parameters: {'iterations': 4748, 'learning_rate': 0.09140462630254884, 'depth': 1, 'subsample': 0.5138743074480719, 'min_data_in_leaf': 86, 'colsample_bylevel': 0.9306471953623999}. Best is trial 0 with value: 992.9128991512587.\n"
     ]
    },
    {
     "name": "stdout",
     "output_type": "stream",
     "text": [
      "0:\tlearn: 34.3668764\ttest: 34.3668764\ttest1: 35.0684135\tbest: 35.0684135 (0)\ttotal: 3.06ms\tremaining: 46.2s\n",
      "Stopped by overfitting detector  (50 iterations wait)\n",
      "\n",
      "bestTest = 32.358546\n",
      "bestIteration = 125\n",
      "\n",
      "Shrink model to first 126 iterations.\n",
      "Fold: 1/5 score = 1047.07550\n",
      "0:\tlearn: 34.9195744\ttest: 34.9195744\ttest1: 34.3467969\tbest: 34.3467969 (0)\ttotal: 3.13ms\tremaining: 47.3s\n",
      "Stopped by overfitting detector  (50 iterations wait)\n",
      "\n",
      "bestTest = 30.19347206\n",
      "bestIteration = 221\n",
      "\n",
      "Shrink model to first 222 iterations.\n",
      "Fold: 2/5 score = 911.64576\n",
      "0:\tlearn: 35.4321479\ttest: 35.4321479\ttest1: 34.9946349\tbest: 34.9946349 (0)\ttotal: 3.12ms\tremaining: 47.1s\n",
      "Stopped by overfitting detector  (50 iterations wait)\n",
      "\n",
      "bestTest = 30.67625478\n",
      "bestIteration = 133\n",
      "\n",
      "Shrink model to first 134 iterations.\n",
      "Fold: 3/5 score = 941.03261\n",
      "0:\tlearn: 35.3953956\ttest: 35.3953956\ttest1: 35.7988009\tbest: 35.7988009 (0)\ttotal: 3.13ms\tremaining: 47.2s\n",
      "Stopped by overfitting detector  (50 iterations wait)\n",
      "\n",
      "bestTest = 31.29152762\n",
      "bestIteration = 198\n",
      "\n",
      "Shrink model to first 199 iterations.\n",
      "Fold: 4/5 score = 979.15971\n",
      "0:\tlearn: 35.4009510\ttest: 35.4009510\ttest1: 35.7174259\tbest: 35.7174259 (0)\ttotal: 3.25ms\tremaining: 49s\n",
      "Stopped by overfitting detector  (50 iterations wait)\n",
      "\n",
      "bestTest = 30.93788365\n",
      "bestIteration = 146\n",
      "\n",
      "Shrink model to first 147 iterations.\n"
     ]
    },
    {
     "name": "stderr",
     "output_type": "stream",
     "text": [
      "[I 2023-09-06 19:11:54,976] Trial 1 finished with value: 967.2132460117103 and parameters: {'iterations': 15086, 'learning_rate': 0.2307803703542728, 'depth': 3, 'subsample': 0.6796263628638904, 'min_data_in_leaf': 18, 'colsample_bylevel': 0.1257015913309088}. Best is trial 1 with value: 967.2132460117103.\n"
     ]
    },
    {
     "name": "stdout",
     "output_type": "stream",
     "text": [
      "Fold: 5/5 score = 957.15265\n",
      "0:\tlearn: 34.9940143\ttest: 34.9940143\ttest1: 35.5600793\tbest: 35.5600793 (0)\ttotal: 64.3ms\tremaining: 13m 30s\n",
      "Stopped by overfitting detector  (50 iterations wait)\n",
      "\n",
      "bestTest = 31.91224449\n",
      "bestIteration = 209\n",
      "\n",
      "Shrink model to first 210 iterations.\n",
      "Fold: 1/5 score = 1018.39135\n",
      "0:\tlearn: 35.2372057\ttest: 35.2372057\ttest1: 34.8432559\tbest: 34.8432559 (0)\ttotal: 65.9ms\tremaining: 13m 50s\n",
      "Stopped by overfitting detector  (50 iterations wait)\n",
      "\n",
      "bestTest = 30.21087137\n",
      "bestIteration = 178\n",
      "\n",
      "Shrink model to first 179 iterations.\n"
     ]
    },
    {
     "name": "stderr",
     "output_type": "stream",
     "text": [
      "[I 2023-09-06 19:12:32,495] Trial 2 pruned. \n"
     ]
    },
    {
     "name": "stdout",
     "output_type": "stream",
     "text": [
      "Fold: 2/5 score = 912.69675\n",
      "0:\tlearn: 35.0309687\ttest: 35.0309687\ttest1: 35.5601024\tbest: 35.5601024 (0)\ttotal: 3.26ms\tremaining: 22.3s\n",
      "Stopped by overfitting detector  (50 iterations wait)\n",
      "\n",
      "bestTest = 32.69311244\n",
      "bestIteration = 190\n",
      "\n",
      "Shrink model to first 191 iterations.\n",
      "Fold: 1/5 score = 1068.83961\n",
      "0:\tlearn: 35.6223830\ttest: 35.6223830\ttest1: 35.1690477\tbest: 35.1690477 (0)\ttotal: 3.15ms\tremaining: 21.6s\n",
      "Stopped by overfitting detector  (50 iterations wait)\n",
      "\n",
      "bestTest = 30.49062916\n",
      "bestIteration = 227\n",
      "\n",
      "Shrink model to first 228 iterations.\n"
     ]
    },
    {
     "name": "stderr",
     "output_type": "stream",
     "text": [
      "[I 2023-09-06 19:12:40,023] Trial 3 pruned. \n"
     ]
    },
    {
     "name": "stdout",
     "output_type": "stream",
     "text": [
      "Fold: 2/5 score = 929.67847\n",
      "0:\tlearn: 34.3518391\ttest: 34.3518391\ttest1: 35.1713837\tbest: 35.1713837 (0)\ttotal: 11.5ms\tremaining: 2m 29s\n",
      "Stopped by overfitting detector  (50 iterations wait)\n",
      "\n",
      "bestTest = 32.5195141\n",
      "bestIteration = 194\n",
      "\n",
      "Shrink model to first 195 iterations.\n",
      "Fold: 1/5 score = 1057.51880\n",
      "0:\tlearn: 34.5550726\ttest: 34.5550726\ttest1: 34.0706852\tbest: 34.0706852 (0)\ttotal: 12.3ms\tremaining: 2m 39s\n",
      "Stopped by overfitting detector  (50 iterations wait)\n",
      "\n",
      "bestTest = 30.54661655\n",
      "bestIteration = 50\n",
      "\n",
      "Shrink model to first 51 iterations.\n"
     ]
    },
    {
     "name": "stderr",
     "output_type": "stream",
     "text": [
      "[I 2023-09-06 19:12:50,480] Trial 4 pruned. \n"
     ]
    },
    {
     "name": "stdout",
     "output_type": "stream",
     "text": [
      "Fold: 2/5 score = 933.09579\n",
      "0:\tlearn: 35.4044892\ttest: 35.4044892\ttest1: 35.8507028\tbest: 35.8507028 (0)\ttotal: 6ms\tremaining: 36.3s\n",
      "Stopped by overfitting detector  (50 iterations wait)\n",
      "\n",
      "bestTest = 32.32974345\n",
      "bestIteration = 136\n",
      "\n",
      "Shrink model to first 137 iterations.\n",
      "Fold: 1/5 score = 1045.21232\n",
      "0:\tlearn: 35.5541364\ttest: 35.5541364\ttest1: 35.0901163\tbest: 35.0901163 (0)\ttotal: 6.38ms\tremaining: 38.6s\n",
      "Stopped by overfitting detector  (50 iterations wait)\n",
      "\n",
      "bestTest = 30.3742768\n",
      "bestIteration = 135\n",
      "\n",
      "Shrink model to first 136 iterations.\n"
     ]
    },
    {
     "name": "stderr",
     "output_type": "stream",
     "text": [
      "[I 2023-09-06 19:12:58,919] Trial 5 pruned. \n"
     ]
    },
    {
     "name": "stdout",
     "output_type": "stream",
     "text": [
      "Fold: 2/5 score = 922.59670\n",
      "0:\tlearn: 34.0903421\ttest: 34.0903421\ttest1: 35.0175370\tbest: 35.0175370 (0)\ttotal: 19.4ms\tremaining: 3m 41s\n",
      "Stopped by overfitting detector  (50 iterations wait)\n",
      "\n",
      "bestTest = 32.4088787\n",
      "bestIteration = 53\n",
      "\n",
      "Shrink model to first 54 iterations.\n",
      "Fold: 1/5 score = 1050.33542\n",
      "0:\tlearn: 34.2231915\ttest: 34.2231915\ttest1: 33.6923843\tbest: 33.6923843 (0)\ttotal: 19.1ms\tremaining: 3m 38s\n",
      "Stopped by overfitting detector  (50 iterations wait)\n",
      "\n",
      "bestTest = 30.45229955\n",
      "bestIteration = 143\n",
      "\n",
      "Shrink model to first 144 iterations.\n",
      "Fold: 2/5 score = 927.34255\n",
      "0:\tlearn: 34.6583647\ttest: 34.6583647\ttest1: 34.3190675\tbest: 34.3190675 (0)\ttotal: 21ms\tremaining: 3m 59s\n",
      "Stopped by overfitting detector  (50 iterations wait)\n",
      "\n",
      "bestTest = 30.5503089\n",
      "bestIteration = 53\n",
      "\n",
      "Shrink model to first 54 iterations.\n",
      "Fold: 3/5 score = 933.32138\n",
      "0:\tlearn: 34.2347080\ttest: 34.2347080\ttest1: 34.8420535\tbest: 34.8420535 (0)\ttotal: 19.4ms\tremaining: 3m 41s\n",
      "Stopped by overfitting detector  (50 iterations wait)\n",
      "\n",
      "bestTest = 31.21453705\n",
      "bestIteration = 115\n",
      "\n",
      "Shrink model to first 116 iterations.\n",
      "Fold: 4/5 score = 974.34733\n",
      "0:\tlearn: 34.2861460\ttest: 34.2861460\ttest1: 34.8098807\tbest: 34.8098807 (0)\ttotal: 19.2ms\tremaining: 3m 39s\n",
      "Stopped by overfitting detector  (50 iterations wait)\n",
      "\n",
      "bestTest = 31.1163225\n",
      "bestIteration = 137\n",
      "\n",
      "Shrink model to first 138 iterations.\n"
     ]
    },
    {
     "name": "stderr",
     "output_type": "stream",
     "text": [
      "[I 2023-09-06 19:13:30,601] Trial 6 finished with value: 970.7144424635362 and parameters: {'iterations': 11434, 'learning_rate': 0.268869529573354, 'depth': 8, 'subsample': 0.21056652652146907, 'min_data_in_leaf': 36, 'colsample_bylevel': 0.6314224003095718}. Best is trial 1 with value: 967.2132460117103.\n"
     ]
    },
    {
     "name": "stdout",
     "output_type": "stream",
     "text": [
      "Fold: 5/5 score = 968.22553\n",
      "0:\tlearn: 34.8945070\ttest: 34.8945070\ttest1: 35.5330288\tbest: 35.5330288 (0)\ttotal: 19.7ms\tremaining: 4m 57s\n",
      "Stopped by overfitting detector  (50 iterations wait)\n",
      "\n",
      "bestTest = 32.26642879\n",
      "bestIteration = 107\n",
      "\n",
      "Shrink model to first 108 iterations.\n",
      "Fold: 1/5 score = 1041.12243\n",
      "0:\tlearn: 35.1360623\ttest: 35.1360623\ttest1: 34.7273460\tbest: 34.7273460 (0)\ttotal: 19.1ms\tremaining: 4m 47s\n",
      "Stopped by overfitting detector  (50 iterations wait)\n",
      "\n",
      "bestTest = 29.97728023\n",
      "bestIteration = 220\n",
      "\n",
      "Shrink model to first 221 iterations.\n",
      "Fold: 2/5 score = 898.63734\n",
      "0:\tlearn: 35.0836044\ttest: 35.0836044\ttest1: 34.7075128\tbest: 34.7075128 (0)\ttotal: 19.8ms\tremaining: 4m 57s\n",
      "Stopped by overfitting detector  (50 iterations wait)\n",
      "\n",
      "bestTest = 30.29646333\n",
      "bestIteration = 200\n",
      "\n",
      "Shrink model to first 201 iterations.\n",
      "Fold: 3/5 score = 917.87569\n",
      "0:\tlearn: 34.7734672\ttest: 34.7734672\ttest1: 35.2326072\tbest: 35.2326072 (0)\ttotal: 19ms\tremaining: 4m 46s\n",
      "Stopped by overfitting detector  (50 iterations wait)\n",
      "\n",
      "bestTest = 30.86601945\n",
      "bestIteration = 175\n",
      "\n",
      "Shrink model to first 176 iterations.\n",
      "Fold: 4/5 score = 952.71116\n",
      "0:\tlearn: 35.0096356\ttest: 35.0096356\ttest1: 35.3388961\tbest: 35.3388961 (0)\ttotal: 18.8ms\tremaining: 4m 42s\n",
      "Stopped by overfitting detector  (50 iterations wait)\n",
      "\n",
      "bestTest = 30.75083078\n",
      "bestIteration = 150\n",
      "\n",
      "Shrink model to first 151 iterations.\n"
     ]
    },
    {
     "name": "stderr",
     "output_type": "stream",
     "text": [
      "[I 2023-09-06 19:14:10,356] Trial 7 finished with value: 951.1920443726897 and parameters: {'iterations': 15071, 'learning_rate': 0.13958574386560538, 'depth': 8, 'subsample': 0.27246792791939833, 'min_data_in_leaf': 60, 'colsample_bylevel': 0.5732392492461343}. Best is trial 7 with value: 951.1920443726897.\n"
     ]
    },
    {
     "name": "stdout",
     "output_type": "stream",
     "text": [
      "Fold: 5/5 score = 945.61360\n",
      "0:\tlearn: 34.3745489\ttest: 34.3745489\ttest1: 35.0129380\tbest: 35.0129380 (0)\ttotal: 3.05ms\tremaining: 32s\n",
      "Stopped by overfitting detector  (50 iterations wait)\n",
      "\n",
      "bestTest = 32.42708472\n",
      "bestIteration = 118\n",
      "\n",
      "Shrink model to first 119 iterations.\n",
      "Fold: 1/5 score = 1051.51583\n",
      "0:\tlearn: 35.4747197\ttest: 35.4747197\ttest1: 35.0160666\tbest: 35.0160666 (0)\ttotal: 2.5ms\tremaining: 26.2s\n",
      "Stopped by overfitting detector  (50 iterations wait)\n",
      "\n",
      "bestTest = 30.44943099\n",
      "bestIteration = 127\n",
      "\n",
      "Shrink model to first 128 iterations.\n"
     ]
    },
    {
     "name": "stderr",
     "output_type": "stream",
     "text": [
      "[I 2023-09-06 19:14:16,990] Trial 8 pruned. \n"
     ]
    },
    {
     "name": "stdout",
     "output_type": "stream",
     "text": [
      "Fold: 2/5 score = 927.16785\n",
      "0:\tlearn: 35.5582841\ttest: 35.5582841\ttest1: 35.9797549\tbest: 35.9797549 (0)\ttotal: 5.87ms\tremaining: 59.2s\n",
      "500:\tlearn: 30.3602500\ttest: 30.3602500\ttest1: 32.9607854\tbest: 32.9607854 (500)\ttotal: 3.33s\tremaining: 1m 3s\n",
      "1000:\tlearn: 28.6252140\ttest: 28.6252140\ttest1: 32.5438329\tbest: 32.5438329 (1000)\ttotal: 6.64s\tremaining: 1m\n",
      "1500:\tlearn: 26.5946481\ttest: 26.5946481\ttest1: 32.2403598\tbest: 32.2403598 (1500)\ttotal: 9.94s\tremaining: 56.9s\n",
      "Stopped by overfitting detector  (50 iterations wait)\n",
      "\n",
      "bestTest = 32.1532977\n",
      "bestIteration = 1886\n",
      "\n",
      "Shrink model to first 1887 iterations.\n",
      "Fold: 1/5 score = 1033.83456\n",
      "0:\tlearn: 35.7358257\ttest: 35.7358257\ttest1: 35.2700355\tbest: 35.2700355 (0)\ttotal: 6.03ms\tremaining: 1m\n",
      "500:\tlearn: 30.8270723\ttest: 30.8270723\ttest1: 31.0993194\tbest: 31.0992030 (499)\ttotal: 3.34s\tremaining: 1m 4s\n",
      "1000:\tlearn: 29.0852952\ttest: 29.0852952\ttest1: 30.6121756\tbest: 30.6121756 (1000)\ttotal: 6.62s\tremaining: 1m\n",
      "1500:\tlearn: 27.0662220\ttest: 27.0662220\ttest1: 30.1879250\tbest: 30.1871812 (1498)\ttotal: 9.91s\tremaining: 56.7s\n",
      "2000:\tlearn: 25.4085651\ttest: 25.4085651\ttest1: 30.0372427\tbest: 30.0330955 (1989)\ttotal: 13.2s\tremaining: 53.3s\n",
      "2500:\tlearn: 23.9801323\ttest: 23.9801323\ttest1: 29.9464347\tbest: 29.9461847 (2489)\ttotal: 16.5s\tremaining: 50.1s\n",
      "Stopped by overfitting detector  (50 iterations wait)\n",
      "\n",
      "bestTest = 29.91130199\n",
      "bestIteration = 2665\n",
      "\n",
      "Shrink model to first 2666 iterations.\n",
      "Fold: 2/5 score = 894.68599\n",
      "0:\tlearn: 35.7325649\ttest: 35.7325649\ttest1: 35.2581042\tbest: 35.2581042 (0)\ttotal: 6.24ms\tremaining: 1m 2s\n",
      "500:\tlearn: 30.7463460\ttest: 30.7463460\ttest1: 31.2495062\tbest: 31.2495062 (500)\ttotal: 3.33s\tremaining: 1m 3s\n",
      "1000:\tlearn: 28.9985347\ttest: 28.9985347\ttest1: 30.7656453\tbest: 30.7641353 (996)\ttotal: 6.68s\tremaining: 1m\n",
      "1500:\tlearn: 26.9653572\ttest: 26.9653572\ttest1: 30.4341436\tbest: 30.4339357 (1499)\ttotal: 10.1s\tremaining: 57.7s\n",
      "2000:\tlearn: 25.3372704\ttest: 25.3372704\ttest1: 30.3050373\tbest: 30.3031046 (1965)\ttotal: 13.4s\tremaining: 54.3s\n",
      "Stopped by overfitting detector  (50 iterations wait)\n",
      "\n",
      "bestTest = 30.25198589\n",
      "bestIteration = 2229\n",
      "\n",
      "Shrink model to first 2230 iterations.\n",
      "Fold: 3/5 score = 915.18265\n",
      "0:\tlearn: 35.5934260\ttest: 35.5934260\ttest1: 35.8728940\tbest: 35.8728940 (0)\ttotal: 5.84ms\tremaining: 59s\n",
      "500:\tlearn: 30.6231671\ttest: 30.6231671\ttest1: 32.1614709\tbest: 32.1614709 (500)\ttotal: 3.31s\tremaining: 1m 3s\n",
      "1000:\tlearn: 28.8700396\ttest: 28.8700396\ttest1: 31.6172088\tbest: 31.6172011 (998)\ttotal: 6.57s\tremaining: 59.7s\n",
      "1500:\tlearn: 26.8114274\ttest: 26.8114274\ttest1: 31.2577464\tbest: 31.2577464 (1500)\ttotal: 9.86s\tremaining: 56.4s\n",
      "Stopped by overfitting detector  (50 iterations wait)\n",
      "\n",
      "bestTest = 31.1088001\n",
      "bestIteration = 1882\n",
      "\n",
      "Shrink model to first 1883 iterations.\n"
     ]
    },
    {
     "name": "stderr",
     "output_type": "stream",
     "text": [
      "[I 2023-09-06 19:15:28,388] Trial 9 pruned. \n"
     ]
    },
    {
     "name": "stdout",
     "output_type": "stream",
     "text": [
      "Fold: 4/5 score = 967.75745\n",
      "0:\tlearn: 34.8004605\ttest: 34.8004605\ttest1: 35.4542141\tbest: 35.4542141 (0)\ttotal: 45.1ms\tremaining: 13m 52s\n",
      "Stopped by overfitting detector  (50 iterations wait)\n",
      "\n",
      "bestTest = 32.05202447\n",
      "bestIteration = 107\n",
      "\n",
      "Shrink model to first 108 iterations.\n",
      "Fold: 1/5 score = 1027.33228\n",
      "0:\tlearn: 34.8335559\ttest: 34.8335559\ttest1: 34.2327956\tbest: 34.2327956 (0)\ttotal: 35.6ms\tremaining: 10m 55s\n",
      "Stopped by overfitting detector  (50 iterations wait)\n",
      "\n",
      "bestTest = 30.22439838\n",
      "bestIteration = 215\n",
      "\n",
      "Shrink model to first 216 iterations.\n",
      "Fold: 2/5 score = 913.51426\n",
      "0:\tlearn: 34.7069868\ttest: 34.7069868\ttest1: 34.4716006\tbest: 34.4716006 (0)\ttotal: 42.3ms\tremaining: 12m 59s\n",
      "Stopped by overfitting detector  (50 iterations wait)\n",
      "\n",
      "bestTest = 30.52172382\n",
      "bestIteration = 201\n",
      "\n",
      "Shrink model to first 202 iterations.\n",
      "Fold: 3/5 score = 931.57563\n",
      "0:\tlearn: 34.9063259\ttest: 34.9063259\ttest1: 35.2932902\tbest: 35.2932902 (0)\ttotal: 34.5ms\tremaining: 10m 35s\n",
      "Stopped by overfitting detector  (50 iterations wait)\n",
      "\n",
      "bestTest = 31.09155317\n",
      "bestIteration = 127\n",
      "\n",
      "Shrink model to first 128 iterations.\n",
      "Fold: 4/5 score = 966.68468\n",
      "0:\tlearn: 34.5823271\ttest: 34.5823271\ttest1: 35.0331274\tbest: 35.0331274 (0)\ttotal: 34.7ms\tremaining: 10m 39s\n",
      "Stopped by overfitting detector  (50 iterations wait)\n",
      "\n",
      "bestTest = 30.58274497\n",
      "bestIteration = 154\n",
      "\n",
      "Shrink model to first 155 iterations.\n"
     ]
    },
    {
     "name": "stderr",
     "output_type": "stream",
     "text": [
      "[I 2023-09-06 19:16:28,096] Trial 10 finished with value: 954.8822288668678 and parameters: {'iterations': 18447, 'learning_rate': 0.17272522033073545, 'depth': 9, 'subsample': 0.10287780448128336, 'min_data_in_leaf': 88, 'colsample_bylevel': 0.7173447913174203}. Best is trial 7 with value: 951.1920443726897.\n"
     ]
    },
    {
     "name": "stdout",
     "output_type": "stream",
     "text": [
      "Fold: 5/5 score = 935.30429\n",
      "0:\tlearn: 34.7420938\ttest: 34.7420938\ttest1: 35.4761952\tbest: 35.4761952 (0)\ttotal: 63.6ms\tremaining: 19m 44s\n",
      "Stopped by overfitting detector  (50 iterations wait)\n",
      "\n",
      "bestTest = 32.26927421\n",
      "bestIteration = 127\n",
      "\n",
      "Shrink model to first 128 iterations.\n",
      "Fold: 1/5 score = 1041.30606\n",
      "0:\tlearn: 34.6600391\ttest: 34.6600391\ttest1: 34.2712805\tbest: 34.2712805 (0)\ttotal: 66.3ms\tremaining: 20m 34s\n",
      "Stopped by overfitting detector  (50 iterations wait)\n",
      "\n",
      "bestTest = 30.50096209\n",
      "bestIteration = 52\n",
      "\n",
      "Shrink model to first 53 iterations.\n"
     ]
    },
    {
     "name": "stderr",
     "output_type": "stream",
     "text": [
      "[I 2023-09-06 19:16:52,231] Trial 11 pruned. \n"
     ]
    },
    {
     "name": "stdout",
     "output_type": "stream",
     "text": [
      "Fold: 2/5 score = 930.30869\n",
      "0:\tlearn: 34.6593971\ttest: 34.6593971\ttest1: 35.3274264\tbest: 35.3274264 (0)\ttotal: 19.5ms\tremaining: 6m 27s\n",
      "Stopped by overfitting detector  (50 iterations wait)\n",
      "\n",
      "bestTest = 32.31110668\n",
      "bestIteration = 231\n",
      "\n",
      "Shrink model to first 232 iterations.\n",
      "Fold: 1/5 score = 1044.00762\n",
      "0:\tlearn: 34.8835063\ttest: 34.8835063\ttest1: 34.4195416\tbest: 34.4195416 (0)\ttotal: 24.4ms\tremaining: 8m 6s\n",
      "Stopped by overfitting detector  (50 iterations wait)\n",
      "\n",
      "bestTest = 30.65788887\n",
      "bestIteration = 231\n",
      "\n",
      "Shrink model to first 232 iterations.\n",
      "Fold: 2/5 score = 939.90615\n",
      "0:\tlearn: 34.7304488\ttest: 34.7304488\ttest1: 34.3845558\tbest: 34.3845558 (0)\ttotal: 51ms\tremaining: 16m 56s\n",
      "Stopped by overfitting detector  (50 iterations wait)\n",
      "\n",
      "bestTest = 30.39047264\n",
      "bestIteration = 180\n",
      "\n",
      "Shrink model to first 181 iterations.\n",
      "Fold: 3/5 score = 923.58083\n",
      "0:\tlearn: 34.5754134\ttest: 34.5754134\ttest1: 35.0393714\tbest: 35.0393714 (0)\ttotal: 33.6ms\tremaining: 11m 8s\n",
      "Stopped by overfitting detector  (50 iterations wait)\n",
      "\n",
      "bestTest = 31.26524345\n",
      "bestIteration = 92\n",
      "\n",
      "Shrink model to first 93 iterations.\n"
     ]
    },
    {
     "name": "stderr",
     "output_type": "stream",
     "text": [
      "[I 2023-09-06 19:17:26,789] Trial 12 pruned. \n"
     ]
    },
    {
     "name": "stdout",
     "output_type": "stream",
     "text": [
      "Fold: 4/5 score = 977.51545\n",
      "0:\tlearn: 34.8058743\ttest: 34.8058743\ttest1: 35.4273309\tbest: 35.4273309 (0)\ttotal: 42.1ms\tremaining: 11m 38s\n",
      "Stopped by overfitting detector  (50 iterations wait)\n",
      "\n",
      "bestTest = 31.8638418\n",
      "bestIteration = 195\n",
      "\n",
      "Shrink model to first 196 iterations.\n",
      "Fold: 1/5 score = 1015.30442\n",
      "0:\tlearn: 34.9978678\ttest: 34.9978678\ttest1: 34.5456093\tbest: 34.5456093 (0)\ttotal: 42.2ms\tremaining: 11m 39s\n",
      "Stopped by overfitting detector  (50 iterations wait)\n",
      "\n",
      "bestTest = 30.32559814\n",
      "bestIteration = 99\n",
      "\n",
      "Shrink model to first 100 iterations.\n"
     ]
    },
    {
     "name": "stderr",
     "output_type": "stream",
     "text": [
      "[I 2023-09-06 19:17:50,960] Trial 13 pruned. \n"
     ]
    },
    {
     "name": "stdout",
     "output_type": "stream",
     "text": [
      "Fold: 2/5 score = 919.64191\n",
      "0:\tlearn: 34.3879830\ttest: 34.3879830\ttest1: 35.2249338\tbest: 35.2249338 (0)\ttotal: 5.91ms\tremaining: 1m 35s\n",
      "Stopped by overfitting detector  (50 iterations wait)\n",
      "\n",
      "bestTest = 32.57096287\n",
      "bestIteration = 43\n",
      "\n",
      "Shrink model to first 44 iterations.\n",
      "Fold: 1/5 score = 1060.86763\n",
      "0:\tlearn: 34.5325355\ttest: 34.5325355\ttest1: 34.1752035\tbest: 34.1752035 (0)\ttotal: 5.97ms\tremaining: 1m 36s\n",
      "Stopped by overfitting detector  (50 iterations wait)\n",
      "\n",
      "bestTest = 30.91814043\n",
      "bestIteration = 55\n",
      "\n",
      "Shrink model to first 56 iterations.\n"
     ]
    },
    {
     "name": "stderr",
     "output_type": "stream",
     "text": [
      "[I 2023-09-06 19:17:58,161] Trial 14 pruned. \n"
     ]
    },
    {
     "name": "stdout",
     "output_type": "stream",
     "text": [
      "Fold: 2/5 score = 955.93141\n",
      "0:\tlearn: 34.5300501\ttest: 34.5300501\ttest1: 35.3176180\tbest: 35.3176180 (0)\ttotal: 22.6ms\tremaining: 6m 48s\n",
      "Stopped by overfitting detector  (50 iterations wait)\n",
      "\n",
      "bestTest = 32.14216374\n",
      "bestIteration = 148\n",
      "\n",
      "Shrink model to first 149 iterations.\n",
      "Fold: 1/5 score = 1033.11870\n",
      "0:\tlearn: 34.6596459\ttest: 34.6596459\ttest1: 34.2680970\tbest: 34.2680970 (0)\ttotal: 18.7ms\tremaining: 5m 38s\n",
      "Stopped by overfitting detector  (50 iterations wait)\n",
      "\n",
      "bestTest = 30.39399554\n",
      "bestIteration = 91\n",
      "\n",
      "Shrink model to first 92 iterations.\n"
     ]
    },
    {
     "name": "stderr",
     "output_type": "stream",
     "text": [
      "[I 2023-09-06 19:18:12,331] Trial 15 pruned. \n"
     ]
    },
    {
     "name": "stdout",
     "output_type": "stream",
     "text": [
      "Fold: 2/5 score = 923.79497\n",
      "0:\tlearn: 35.0202408\ttest: 35.0202408\ttest1: 35.6141645\tbest: 35.6141645 (0)\ttotal: 13.2ms\tremaining: 3m 10s\n",
      "Stopped by overfitting detector  (50 iterations wait)\n",
      "\n",
      "bestTest = 32.13396361\n",
      "bestIteration = 224\n",
      "\n",
      "Shrink model to first 225 iterations.\n",
      "Fold: 1/5 score = 1032.59162\n",
      "0:\tlearn: 35.1018646\ttest: 35.1018646\ttest1: 34.6003515\tbest: 34.6003515 (0)\ttotal: 11.7ms\tremaining: 2m 50s\n",
      "Stopped by overfitting detector  (50 iterations wait)\n",
      "\n",
      "bestTest = 30.2155961\n",
      "bestIteration = 153\n",
      "\n",
      "Shrink model to first 154 iterations.\n"
     ]
    },
    {
     "name": "stderr",
     "output_type": "stream",
     "text": [
      "[I 2023-09-06 19:18:25,134] Trial 16 pruned. \n"
     ]
    },
    {
     "name": "stdout",
     "output_type": "stream",
     "text": [
      "Fold: 2/5 score = 912.98225\n",
      "0:\tlearn: 35.1587485\ttest: 35.1587485\ttest1: 35.7062045\tbest: 35.7062045 (0)\ttotal: 36.9ms\tremaining: 10m 44s\n",
      "Stopped by overfitting detector  (50 iterations wait)\n",
      "\n",
      "bestTest = 32.29679694\n",
      "bestIteration = 212\n",
      "\n",
      "Shrink model to first 213 iterations.\n",
      "Fold: 1/5 score = 1043.08310\n",
      "0:\tlearn: 35.4578193\ttest: 35.4578193\ttest1: 34.9934185\tbest: 34.9934185 (0)\ttotal: 34.6ms\tremaining: 10m 3s\n",
      "Stopped by overfitting detector  (50 iterations wait)\n",
      "\n",
      "bestTest = 30.02035447\n",
      "bestIteration = 277\n",
      "\n",
      "Shrink model to first 278 iterations.\n",
      "Fold: 2/5 score = 901.22169\n",
      "0:\tlearn: 35.4490609\ttest: 35.4490609\ttest1: 35.0301417\tbest: 35.0301417 (0)\ttotal: 36.6ms\tremaining: 10m 38s\n",
      "Stopped by overfitting detector  (50 iterations wait)\n",
      "\n",
      "bestTest = 30.53880498\n",
      "bestIteration = 312\n",
      "\n",
      "Shrink model to first 313 iterations.\n",
      "Fold: 3/5 score = 932.61861\n",
      "0:\tlearn: 35.2524816\ttest: 35.2524816\ttest1: 35.6002544\tbest: 35.6002544 (0)\ttotal: 35.9ms\tremaining: 10m 26s\n",
      "500:\tlearn: 18.4596835\ttest: 18.4596835\ttest1: 30.9847075\tbest: 30.9847075 (500)\ttotal: 20.8s\tremaining: 11m 45s\n",
      "Stopped by overfitting detector  (50 iterations wait)\n",
      "\n",
      "bestTest = 30.9847075\n",
      "bestIteration = 500\n",
      "\n",
      "Shrink model to first 501 iterations.\n"
     ]
    },
    {
     "name": "stderr",
     "output_type": "stream",
     "text": [
      "[I 2023-09-06 19:19:41,315] Trial 17 pruned. \n"
     ]
    },
    {
     "name": "stdout",
     "output_type": "stream",
     "text": [
      "Fold: 4/5 score = 960.05210\n",
      "0:\tlearn: 34.7216032\ttest: 34.7216032\ttest1: 35.3730306\tbest: 35.3730306 (0)\ttotal: 7.95ms\tremaining: 2m 38s\n",
      "Stopped by overfitting detector  (50 iterations wait)\n",
      "\n",
      "bestTest = 32.26858741\n",
      "bestIteration = 149\n",
      "\n",
      "Shrink model to first 150 iterations.\n",
      "Fold: 1/5 score = 1041.26174\n",
      "0:\tlearn: 35.0103200\ttest: 35.0103200\ttest1: 34.5854613\tbest: 34.5854613 (0)\ttotal: 7.58ms\tremaining: 2m 30s\n",
      "Stopped by overfitting detector  (50 iterations wait)\n",
      "\n",
      "bestTest = 30.45012922\n",
      "bestIteration = 149\n",
      "\n",
      "Shrink model to first 150 iterations.\n"
     ]
    },
    {
     "name": "stderr",
     "output_type": "stream",
     "text": [
      "[I 2023-09-06 19:19:50,667] Trial 18 pruned. \n"
     ]
    },
    {
     "name": "stdout",
     "output_type": "stream",
     "text": [
      "Fold: 2/5 score = 927.21037\n",
      "0:\tlearn: 34.8630494\ttest: 34.8630494\ttest1: 35.5854628\tbest: 35.5854628 (0)\ttotal: 35.8ms\tremaining: 5m 22s\n",
      "Stopped by overfitting detector  (50 iterations wait)\n",
      "\n",
      "bestTest = 32.09949718\n",
      "bestIteration = 221\n",
      "\n",
      "Shrink model to first 222 iterations.\n",
      "Fold: 1/5 score = 1030.37772\n",
      "0:\tlearn: 34.9171289\ttest: 34.9171289\ttest1: 34.5600176\tbest: 34.5600176 (0)\ttotal: 38ms\tremaining: 5m 41s\n",
      "Stopped by overfitting detector  (50 iterations wait)\n",
      "\n",
      "bestTest = 29.89375295\n",
      "bestIteration = 154\n",
      "\n",
      "Shrink model to first 155 iterations.\n",
      "Fold: 2/5 score = 893.63647\n",
      "0:\tlearn: 35.1177052\ttest: 35.1177052\ttest1: 34.7441084\tbest: 34.7441084 (0)\ttotal: 37.9ms\tremaining: 5m 41s\n",
      "Stopped by overfitting detector  (50 iterations wait)\n",
      "\n",
      "bestTest = 30.36998127\n",
      "bestIteration = 188\n",
      "\n",
      "Shrink model to first 189 iterations.\n",
      "Fold: 3/5 score = 922.33576\n",
      "0:\tlearn: 34.8379777\ttest: 34.8379777\ttest1: 35.2609564\tbest: 35.2609564 (0)\ttotal: 34.4ms\tremaining: 5m 9s\n",
      "Stopped by overfitting detector  (50 iterations wait)\n",
      "\n",
      "bestTest = 30.80610041\n",
      "bestIteration = 207\n",
      "\n",
      "Shrink model to first 208 iterations.\n",
      "Fold: 4/5 score = 949.01583\n",
      "0:\tlearn: 35.0333962\ttest: 35.0333962\ttest1: 35.3729136\tbest: 35.3729136 (0)\ttotal: 33.3ms\tremaining: 4m 59s\n",
      "Stopped by overfitting detector  (50 iterations wait)\n",
      "\n",
      "bestTest = 30.47421142\n",
      "bestIteration = 155\n",
      "\n",
      "Shrink model to first 156 iterations.\n"
     ]
    },
    {
     "name": "stderr",
     "output_type": "stream",
     "text": [
      "[I 2023-09-06 19:20:55,674] Trial 19 finished with value: 944.8086706049396 and parameters: {'iterations': 8998, 'learning_rate': 0.1388219963275903, 'depth': 9, 'subsample': 0.27193027950761706, 'min_data_in_leaf': 54, 'colsample_bylevel': 0.592023429890333}. Best is trial 19 with value: 944.8086706049396.\n"
     ]
    },
    {
     "name": "stdout",
     "output_type": "stream",
     "text": [
      "Fold: 5/5 score = 928.67757\n",
      "0:\tlearn: 34.8914223\ttest: 34.8914223\ttest1: 35.5746867\tbest: 35.5746867 (0)\ttotal: 11.4ms\tremaining: 1m 39s\n",
      "Stopped by overfitting detector  (50 iterations wait)\n",
      "\n",
      "bestTest = 32.45097625\n",
      "bestIteration = 74\n",
      "\n",
      "Shrink model to first 75 iterations.\n",
      "Fold: 1/5 score = 1053.06587\n",
      "0:\tlearn: 35.1394032\ttest: 35.1394032\ttest1: 34.6565338\tbest: 34.6565338 (0)\ttotal: 11.9ms\tremaining: 1m 43s\n",
      "Stopped by overfitting detector  (50 iterations wait)\n",
      "\n",
      "bestTest = 29.71340533\n",
      "bestIteration = 245\n",
      "\n",
      "Shrink model to first 246 iterations.\n",
      "Fold: 2/5 score = 882.88646\n",
      "0:\tlearn: 35.1011213\ttest: 35.1011213\ttest1: 34.6762493\tbest: 34.6762493 (0)\ttotal: 11.2ms\tremaining: 1m 37s\n",
      "Stopped by overfitting detector  (50 iterations wait)\n",
      "\n",
      "bestTest = 30.14424239\n",
      "bestIteration = 211\n",
      "\n",
      "Shrink model to first 212 iterations.\n",
      "Fold: 3/5 score = 908.67535\n",
      "0:\tlearn: 34.8350709\ttest: 34.8350709\ttest1: 35.2419750\tbest: 35.2419750 (0)\ttotal: 10.8ms\tremaining: 1m 33s\n",
      "Stopped by overfitting detector  (50 iterations wait)\n",
      "\n",
      "bestTest = 31.1048585\n",
      "bestIteration = 137\n",
      "\n",
      "Shrink model to first 138 iterations.\n"
     ]
    },
    {
     "name": "stderr",
     "output_type": "stream",
     "text": [
      "[I 2023-09-06 19:21:19,249] Trial 20 pruned. \n"
     ]
    },
    {
     "name": "stdout",
     "output_type": "stream",
     "text": [
      "Fold: 4/5 score = 967.51223\n",
      "0:\tlearn: 34.8378315\ttest: 34.8378315\ttest1: 35.6027386\tbest: 35.6027386 (0)\ttotal: 35.2ms\tremaining: 1m 25s\n",
      "Stopped by overfitting detector  (50 iterations wait)\n",
      "\n",
      "bestTest = 32.76224231\n",
      "bestIteration = 93\n",
      "\n",
      "Shrink model to first 94 iterations.\n",
      "Fold: 1/5 score = 1073.36453\n",
      "0:\tlearn: 35.0209850\ttest: 35.0209850\ttest1: 34.5635724\tbest: 34.5635724 (0)\ttotal: 36.6ms\tremaining: 1m 28s\n",
      "Stopped by overfitting detector  (50 iterations wait)\n",
      "\n",
      "bestTest = 30.56905823\n",
      "bestIteration = 129\n",
      "\n",
      "Shrink model to first 130 iterations.\n",
      "Fold: 2/5 score = 934.46733\n",
      "0:\tlearn: 34.9364522\ttest: 34.9364522\ttest1: 34.5415820\tbest: 34.5415820 (0)\ttotal: 39.7ms\tremaining: 1m 36s\n",
      "Stopped by overfitting detector  (50 iterations wait)\n",
      "\n",
      "bestTest = 30.316299\n",
      "bestIteration = 176\n",
      "\n",
      "Shrink model to first 177 iterations.\n",
      "Fold: 3/5 score = 919.07799\n",
      "0:\tlearn: 34.7133320\ttest: 34.7133320\ttest1: 35.1205852\tbest: 35.1205852 (0)\ttotal: 34.6ms\tremaining: 1m 24s\n",
      "Stopped by overfitting detector  (50 iterations wait)\n",
      "\n",
      "bestTest = 30.71785975\n",
      "bestIteration = 212\n",
      "\n",
      "Shrink model to first 213 iterations.\n",
      "Fold: 4/5 score = 943.58691\n",
      "0:\tlearn: 34.9280471\ttest: 34.9280471\ttest1: 35.3557925\tbest: 35.3557925 (0)\ttotal: 32ms\tremaining: 1m 17s\n",
      "Stopped by overfitting detector  (50 iterations wait)\n",
      "\n",
      "bestTest = 31.07859271\n",
      "bestIteration = 90\n",
      "\n",
      "Shrink model to first 91 iterations.\n"
     ]
    },
    {
     "name": "stderr",
     "output_type": "stream",
     "text": [
      "[I 2023-09-06 19:22:14,079] Trial 21 finished with value: 967.275136083577 and parameters: {'iterations': 2435, 'learning_rate': 0.150384526895695, 'depth': 9, 'subsample': 0.2797461832553038, 'min_data_in_leaf': 64, 'colsample_bylevel': 0.6191781435324045}. Best is trial 19 with value: 944.8086706049396.\n"
     ]
    },
    {
     "name": "stdout",
     "output_type": "stream",
     "text": [
      "Fold: 5/5 score = 965.87893\n",
      "0:\tlearn: 34.6226647\ttest: 34.6226647\ttest1: 35.4354584\tbest: 35.4354584 (0)\ttotal: 68.6ms\tremaining: 9m 43s\n",
      "Stopped by overfitting detector  (50 iterations wait)\n",
      "\n",
      "bestTest = 31.89166267\n",
      "bestIteration = 188\n",
      "\n",
      "Shrink model to first 189 iterations.\n",
      "Fold: 1/5 score = 1017.07815\n",
      "0:\tlearn: 34.4014901\ttest: 34.4014901\ttest1: 34.3543821\tbest: 34.3543821 (0)\ttotal: 63.9ms\tremaining: 9m 3s\n",
      "Stopped by overfitting detector  (50 iterations wait)\n",
      "\n",
      "bestTest = 30.59511954\n",
      "bestIteration = 65\n",
      "\n",
      "Shrink model to first 66 iterations.\n",
      "Fold: 2/5 score = 936.06134\n",
      "0:\tlearn: 34.9140432\ttest: 34.9140432\ttest1: 34.5479767\tbest: 34.5479767 (0)\ttotal: 67.5ms\tremaining: 9m 34s\n",
      "Stopped by overfitting detector  (50 iterations wait)\n",
      "\n",
      "bestTest = 30.52264633\n",
      "bestIteration = 115\n",
      "\n",
      "Shrink model to first 116 iterations.\n",
      "Fold: 3/5 score = 931.63194\n",
      "0:\tlearn: 34.4412510\ttest: 34.4412510\ttest1: 34.9535128\tbest: 34.9535128 (0)\ttotal: 61.3ms\tremaining: 8m 41s\n",
      "Stopped by overfitting detector  (50 iterations wait)\n",
      "\n",
      "bestTest = 30.89541334\n",
      "bestIteration = 186\n",
      "\n",
      "Shrink model to first 187 iterations.\n",
      "Fold: 4/5 score = 954.52657\n",
      "0:\tlearn: 34.7107240\ttest: 34.7107240\ttest1: 35.0549557\tbest: 35.0549557 (0)\ttotal: 59ms\tremaining: 8m 21s\n",
      "Stopped by overfitting detector  (50 iterations wait)\n",
      "\n",
      "bestTest = 31.32669238\n",
      "bestIteration = 81\n",
      "\n",
      "Shrink model to first 82 iterations.\n"
     ]
    },
    {
     "name": "stderr",
     "output_type": "stream",
     "text": [
      "[I 2023-09-06 19:23:26,005] Trial 22 finished with value: 964.1319337876354 and parameters: {'iterations': 8502, 'learning_rate': 0.20645492740351773, 'depth': 10, 'subsample': 0.1879725305227816, 'min_data_in_leaf': 39, 'colsample_bylevel': 0.6429880137097059}. Best is trial 19 with value: 944.8086706049396.\n"
     ]
    },
    {
     "name": "stdout",
     "output_type": "stream",
     "text": [
      "Fold: 5/5 score = 981.36166\n",
      "0:\tlearn: 34.6891745\ttest: 34.6891745\ttest1: 35.3773458\tbest: 35.3773458 (0)\ttotal: 37.1ms\tremaining: 8m 20s\n",
      "Stopped by overfitting detector  (50 iterations wait)\n",
      "\n",
      "bestTest = 32.1775694\n",
      "bestIteration = 112\n",
      "\n",
      "Shrink model to first 113 iterations.\n",
      "Fold: 1/5 score = 1035.39598\n",
      "0:\tlearn: 34.9279399\ttest: 34.9279399\ttest1: 34.4720805\tbest: 34.4720805 (0)\ttotal: 36.6ms\tremaining: 8m 13s\n",
      "Stopped by overfitting detector  (50 iterations wait)\n",
      "\n",
      "bestTest = 30.01500415\n",
      "bestIteration = 186\n",
      "\n",
      "Shrink model to first 187 iterations.\n",
      "Fold: 2/5 score = 900.90048\n",
      "0:\tlearn: 34.9645237\ttest: 34.9645237\ttest1: 34.5577235\tbest: 34.5577235 (0)\ttotal: 38.4ms\tremaining: 8m 37s\n",
      "Stopped by overfitting detector  (50 iterations wait)\n",
      "\n",
      "bestTest = 30.50260766\n",
      "bestIteration = 134\n",
      "\n",
      "Shrink model to first 135 iterations.\n",
      "Fold: 3/5 score = 930.40908\n",
      "0:\tlearn: 34.8711149\ttest: 34.8711149\ttest1: 35.2536489\tbest: 35.2536489 (0)\ttotal: 34.7ms\tremaining: 7m 47s\n",
      "Stopped by overfitting detector  (50 iterations wait)\n",
      "\n",
      "bestTest = 31.09453046\n",
      "bestIteration = 144\n",
      "\n",
      "Shrink model to first 145 iterations.\n"
     ]
    },
    {
     "name": "stderr",
     "output_type": "stream",
     "text": [
      "[I 2023-09-06 19:24:11,198] Trial 23 pruned. \n"
     ]
    },
    {
     "name": "stdout",
     "output_type": "stream",
     "text": [
      "Fold: 4/5 score = 966.86983\n",
      "0:\tlearn: 34.8129732\ttest: 34.8129732\ttest1: 35.4955804\tbest: 35.4955804 (0)\ttotal: 19.7ms\tremaining: 5m 9s\n",
      "Stopped by overfitting detector  (50 iterations wait)\n",
      "\n",
      "bestTest = 32.00055055\n",
      "bestIteration = 166\n",
      "\n",
      "Shrink model to first 167 iterations.\n",
      "Fold: 1/5 score = 1024.03524\n",
      "0:\tlearn: 35.1207044\ttest: 35.1207044\ttest1: 34.6102423\tbest: 34.6102423 (0)\ttotal: 18.8ms\tremaining: 4m 56s\n",
      "Stopped by overfitting detector  (50 iterations wait)\n",
      "\n",
      "bestTest = 30.30064329\n",
      "bestIteration = 187\n",
      "\n",
      "Shrink model to first 188 iterations.\n",
      "Fold: 2/5 score = 918.12899\n",
      "0:\tlearn: 35.1528459\ttest: 35.1528459\ttest1: 34.6798046\tbest: 34.6798046 (0)\ttotal: 19.4ms\tremaining: 5m 5s\n",
      "Stopped by overfitting detector  (50 iterations wait)\n",
      "\n",
      "bestTest = 30.42033893\n",
      "bestIteration = 235\n",
      "\n",
      "Shrink model to first 236 iterations.\n",
      "Fold: 3/5 score = 925.39702\n",
      "0:\tlearn: 34.9421626\ttest: 34.9421626\ttest1: 35.3773620\tbest: 35.3773620 (0)\ttotal: 19.6ms\tremaining: 5m 7s\n",
      "Stopped by overfitting detector  (50 iterations wait)\n",
      "\n",
      "bestTest = 31.18244937\n",
      "bestIteration = 169\n",
      "\n",
      "Shrink model to first 170 iterations.\n"
     ]
    },
    {
     "name": "stderr",
     "output_type": "stream",
     "text": [
      "[I 2023-09-06 19:24:44,880] Trial 24 pruned. \n"
     ]
    },
    {
     "name": "stdout",
     "output_type": "stream",
     "text": [
      "Fold: 4/5 score = 972.34516\n",
      "0:\tlearn: 35.1383602\ttest: 35.1383602\ttest1: 35.7296080\tbest: 35.7296080 (0)\ttotal: 62.6ms\tremaining: 12m 16s\n",
      "Stopped by overfitting detector  (50 iterations wait)\n",
      "\n",
      "bestTest = 31.6980636\n",
      "bestIteration = 251\n",
      "\n",
      "Shrink model to first 252 iterations.\n",
      "Fold: 1/5 score = 1004.76724\n",
      "0:\tlearn: 35.3003027\ttest: 35.3003027\ttest1: 34.8992952\tbest: 34.8992952 (0)\ttotal: 70.2ms\tremaining: 13m 46s\n",
      "Stopped by overfitting detector  (50 iterations wait)\n",
      "\n",
      "bestTest = 30.25554759\n",
      "bestIteration = 262\n",
      "\n",
      "Shrink model to first 263 iterations.\n"
     ]
    },
    {
     "name": "stderr",
     "output_type": "stream",
     "text": [
      "[I 2023-09-06 19:25:30,464] Trial 25 pruned. \n"
     ]
    },
    {
     "name": "stdout",
     "output_type": "stream",
     "text": [
      "Fold: 2/5 score = 915.39816\n",
      "0:\tlearn: 34.9400656\ttest: 34.9400656\ttest1: 35.4546595\tbest: 35.4546595 (0)\ttotal: 10.9ms\tremaining: 2m 36s\n",
      "Stopped by overfitting detector  (50 iterations wait)\n",
      "\n",
      "bestTest = 32.04745067\n",
      "bestIteration = 145\n",
      "\n",
      "Shrink model to first 146 iterations.\n",
      "Fold: 1/5 score = 1027.03910\n",
      "0:\tlearn: 35.2173148\ttest: 35.2173148\ttest1: 34.7772306\tbest: 34.7772306 (0)\ttotal: 10.8ms\tremaining: 2m 34s\n",
      "Stopped by overfitting detector  (50 iterations wait)\n",
      "\n",
      "bestTest = 30.20974588\n",
      "bestIteration = 297\n",
      "\n",
      "Shrink model to first 298 iterations.\n"
     ]
    },
    {
     "name": "stderr",
     "output_type": "stream",
     "text": [
      "[I 2023-09-06 19:25:43,723] Trial 26 pruned. \n"
     ]
    },
    {
     "name": "stdout",
     "output_type": "stream",
     "text": [
      "Fold: 2/5 score = 912.62875\n",
      "0:\tlearn: 35.2368818\ttest: 35.2368818\ttest1: 35.7496162\tbest: 35.7496162 (0)\ttotal: 33.5ms\tremaining: 5m 2s\n",
      "Stopped by overfitting detector  (50 iterations wait)\n",
      "\n",
      "bestTest = 31.68721883\n",
      "bestIteration = 419\n",
      "\n",
      "Shrink model to first 420 iterations.\n",
      "Fold: 1/5 score = 1004.07984\n",
      "0:\tlearn: 35.4057488\ttest: 35.4057488\ttest1: 34.9765750\tbest: 34.9765750 (0)\ttotal: 36.7ms\tremaining: 5m 30s\n",
      "Stopped by overfitting detector  (50 iterations wait)\n",
      "\n",
      "bestTest = 30.19156084\n",
      "bestIteration = 296\n",
      "\n",
      "Shrink model to first 297 iterations.\n",
      "Fold: 2/5 score = 911.53035\n",
      "0:\tlearn: 35.4821234\ttest: 35.4821234\ttest1: 35.0062689\tbest: 35.0062689 (0)\ttotal: 37.3ms\tremaining: 5m 36s\n",
      "Stopped by overfitting detector  (50 iterations wait)\n",
      "\n",
      "bestTest = 30.20702816\n",
      "bestIteration = 347\n",
      "\n",
      "Shrink model to first 348 iterations.\n",
      "Fold: 3/5 score = 912.46455\n",
      "0:\tlearn: 35.2892263\ttest: 35.2892263\ttest1: 35.5979302\tbest: 35.5979302 (0)\ttotal: 34.7ms\tremaining: 5m 12s\n",
      "Stopped by overfitting detector  (50 iterations wait)\n",
      "\n",
      "bestTest = 30.95805687\n",
      "bestIteration = 388\n",
      "\n",
      "Shrink model to first 389 iterations.\n"
     ]
    },
    {
     "name": "stderr",
     "output_type": "stream",
     "text": [
      "[I 2023-09-06 19:27:05,268] Trial 27 pruned. \n"
     ]
    },
    {
     "name": "stdout",
     "output_type": "stream",
     "text": [
      "Fold: 4/5 score = 958.40129\n",
      "0:\tlearn: 34.7141782\ttest: 34.7141782\ttest1: 35.4805958\tbest: 35.4805958 (0)\ttotal: 18.6ms\tremaining: 5m 13s\n",
      "Stopped by overfitting detector  (50 iterations wait)\n",
      "\n",
      "bestTest = 32.3753579\n",
      "bestIteration = 160\n",
      "\n",
      "Shrink model to first 161 iterations.\n",
      "Fold: 1/5 score = 1048.16380\n",
      "0:\tlearn: 34.9308266\ttest: 34.9308266\ttest1: 34.4568763\tbest: 34.4568763 (0)\ttotal: 19.7ms\tremaining: 5m 31s\n",
      "Stopped by overfitting detector  (50 iterations wait)\n",
      "\n",
      "bestTest = 30.3607842\n",
      "bestIteration = 120\n",
      "\n",
      "Shrink model to first 121 iterations.\n"
     ]
    },
    {
     "name": "stderr",
     "output_type": "stream",
     "text": [
      "[I 2023-09-06 19:27:19,797] Trial 28 pruned. \n"
     ]
    },
    {
     "name": "stdout",
     "output_type": "stream",
     "text": [
      "Fold: 2/5 score = 921.77722\n",
      "0:\tlearn: 35.0556133\ttest: 35.0556133\ttest1: 35.6257067\tbest: 35.6257067 (0)\ttotal: 4.59ms\tremaining: 18.6s\n",
      "Stopped by overfitting detector  (50 iterations wait)\n",
      "\n",
      "bestTest = 32.1733345\n",
      "bestIteration = 314\n",
      "\n",
      "Shrink model to first 315 iterations.\n",
      "Fold: 1/5 score = 1035.12346\n",
      "0:\tlearn: 35.1648710\ttest: 35.1648710\ttest1: 34.6286428\tbest: 34.6286428 (0)\ttotal: 4.57ms\tremaining: 18.5s\n",
      "Stopped by overfitting detector  (50 iterations wait)\n",
      "\n",
      "bestTest = 29.96479449\n",
      "bestIteration = 251\n",
      "\n",
      "Shrink model to first 252 iterations.\n",
      "Fold: 2/5 score = 897.88891\n",
      "0:\tlearn: 35.2459849\ttest: 35.2459849\ttest1: 34.7432581\tbest: 34.7432581 (0)\ttotal: 4.62ms\tremaining: 18.7s\n",
      "Stopped by overfitting detector  (50 iterations wait)\n",
      "\n",
      "bestTest = 30.43173544\n",
      "bestIteration = 225\n",
      "\n",
      "Shrink model to first 226 iterations.\n",
      "Fold: 3/5 score = 926.09052\n",
      "0:\tlearn: 35.0343306\ttest: 35.0343306\ttest1: 35.3619022\tbest: 35.3619022 (0)\ttotal: 4.5ms\tremaining: 18.3s\n",
      "Stopped by overfitting detector  (50 iterations wait)\n",
      "\n",
      "bestTest = 31.25024338\n",
      "bestIteration = 143\n",
      "\n",
      "Shrink model to first 144 iterations.\n"
     ]
    },
    {
     "name": "stderr",
     "output_type": "stream",
     "text": [
      "[I 2023-09-06 19:27:37,041] Trial 29 pruned. \n"
     ]
    },
    {
     "name": "stdout",
     "output_type": "stream",
     "text": [
      "Fold: 4/5 score = 976.57772\n",
      "0:\tlearn: 34.7892713\ttest: 34.7892713\ttest1: 35.4782648\tbest: 35.4782648 (0)\ttotal: 7.63ms\tremaining: 2m 22s\n",
      "Stopped by overfitting detector  (50 iterations wait)\n",
      "\n",
      "bestTest = 32.27816338\n",
      "bestIteration = 145\n",
      "\n",
      "Shrink model to first 146 iterations.\n",
      "Fold: 1/5 score = 1041.87984\n",
      "0:\tlearn: 34.8430070\ttest: 34.8430070\ttest1: 34.3660759\tbest: 34.3660759 (0)\ttotal: 8.12ms\tremaining: 2m 32s\n",
      "Stopped by overfitting detector  (50 iterations wait)\n",
      "\n",
      "bestTest = 30.38573663\n",
      "bestIteration = 74\n",
      "\n",
      "Shrink model to first 75 iterations.\n"
     ]
    },
    {
     "name": "stderr",
     "output_type": "stream",
     "text": [
      "[I 2023-09-06 19:27:45,652] Trial 30 pruned. \n"
     ]
    },
    {
     "name": "stdout",
     "output_type": "stream",
     "text": [
      "Fold: 2/5 score = 923.29300\n",
      "0:\tlearn: 34.6208590\ttest: 34.6208590\ttest1: 35.3942945\tbest: 35.3942945 (0)\ttotal: 67.9ms\tremaining: 8m 49s\n",
      "Stopped by overfitting detector  (50 iterations wait)\n",
      "\n",
      "bestTest = 31.89927322\n",
      "bestIteration = 100\n",
      "\n",
      "Shrink model to first 101 iterations.\n",
      "Fold: 1/5 score = 1017.56364\n",
      "0:\tlearn: 34.8752115\ttest: 34.8752115\ttest1: 34.5504472\tbest: 34.5504472 (0)\ttotal: 66.2ms\tremaining: 8m 35s\n",
      "Stopped by overfitting detector  (50 iterations wait)\n",
      "\n",
      "bestTest = 30.34779554\n",
      "bestIteration = 113\n",
      "\n",
      "Shrink model to first 114 iterations.\n",
      "Fold: 2/5 score = 920.98870\n",
      "0:\tlearn: 34.8922251\ttest: 34.8922251\ttest1: 34.5957228\tbest: 34.5957228 (0)\ttotal: 69.3ms\tremaining: 9m\n",
      "Stopped by overfitting detector  (50 iterations wait)\n",
      "\n",
      "bestTest = 30.72440887\n",
      "bestIteration = 83\n",
      "\n",
      "Shrink model to first 84 iterations.\n",
      "Fold: 3/5 score = 943.98930\n",
      "0:\tlearn: 34.6844898\ttest: 34.6844898\ttest1: 35.1633445\tbest: 35.1633445 (0)\ttotal: 63.3ms\tremaining: 8m 13s\n",
      "Stopped by overfitting detector  (50 iterations wait)\n",
      "\n",
      "bestTest = 31.28776753\n",
      "bestIteration = 78\n",
      "\n",
      "Shrink model to first 79 iterations.\n"
     ]
    },
    {
     "name": "stderr",
     "output_type": "stream",
     "text": [
      "[I 2023-09-06 19:28:35,650] Trial 31 pruned. \n"
     ]
    },
    {
     "name": "stdout",
     "output_type": "stream",
     "text": [
      "Fold: 4/5 score = 978.92440\n",
      "0:\tlearn: 34.1403232\ttest: 34.1403232\ttest1: 35.0724260\tbest: 35.0724260 (0)\ttotal: 65.8ms\tremaining: 6m 48s\n",
      "Stopped by overfitting detector  (50 iterations wait)\n",
      "\n",
      "bestTest = 32.0854892\n",
      "bestIteration = 84\n",
      "\n",
      "Shrink model to first 85 iterations.\n",
      "Fold: 1/5 score = 1029.47862\n",
      "0:\tlearn: 34.4280942\ttest: 34.4280942\ttest1: 34.0568048\tbest: 34.0568048 (0)\ttotal: 64.3ms\tremaining: 6m 38s\n",
      "Stopped by overfitting detector  (50 iterations wait)\n",
      "\n",
      "bestTest = 30.43850886\n",
      "bestIteration = 43\n",
      "\n",
      "Shrink model to first 44 iterations.\n",
      "Fold: 2/5 score = 926.50283\n",
      "0:\tlearn: 34.7683885\ttest: 34.7683885\ttest1: 34.4538387\tbest: 34.4538387 (0)\ttotal: 66.6ms\tremaining: 6m 53s\n",
      "Stopped by overfitting detector  (50 iterations wait)\n",
      "\n",
      "bestTest = 30.90022753\n",
      "bestIteration = 137\n",
      "\n",
      "Shrink model to first 138 iterations.\n",
      "Fold: 3/5 score = 954.82406\n",
      "0:\tlearn: 34.3812164\ttest: 34.3812164\ttest1: 34.8515944\tbest: 34.8515944 (0)\ttotal: 68.2ms\tremaining: 7m 3s\n",
      "Stopped by overfitting detector  (50 iterations wait)\n",
      "\n",
      "bestTest = 30.83583601\n",
      "bestIteration = 133\n",
      "\n",
      "Shrink model to first 134 iterations.\n",
      "Fold: 4/5 score = 950.84879\n",
      "0:\tlearn: 34.5971678\ttest: 34.5971678\ttest1: 35.0770814\tbest: 35.0770814 (0)\ttotal: 60.7ms\tremaining: 6m 16s\n",
      "Stopped by overfitting detector  (50 iterations wait)\n",
      "\n",
      "bestTest = 30.42482316\n",
      "bestIteration = 158\n",
      "\n",
      "Shrink model to first 159 iterations.\n"
     ]
    },
    {
     "name": "stderr",
     "output_type": "stream",
     "text": [
      "[I 2023-09-06 19:29:42,808] Trial 32 finished with value: 957.4648334474794 and parameters: {'iterations': 6208, 'learning_rate': 0.21937734473517126, 'depth': 10, 'subsample': 0.23446655945490763, 'min_data_in_leaf': 48, 'colsample_bylevel': 0.6360316485109796}. Best is trial 19 with value: 944.8086706049396.\n"
     ]
    },
    {
     "name": "stdout",
     "output_type": "stream",
     "text": [
      "Fold: 5/5 score = 925.66987\n",
      "0:\tlearn: 34.5341953\ttest: 34.5341953\ttest1: 35.4488213\tbest: 35.4488213 (0)\ttotal: 36.2ms\tremaining: 3m 23s\n",
      "Stopped by overfitting detector  (50 iterations wait)\n",
      "\n",
      "bestTest = 32.51974544\n",
      "bestIteration = 101\n",
      "\n",
      "Shrink model to first 102 iterations.\n",
      "Fold: 1/5 score = 1057.53385\n",
      "0:\tlearn: 34.6085511\ttest: 34.6085511\ttest1: 34.2675147\tbest: 34.2675147 (0)\ttotal: 35ms\tremaining: 3m 16s\n",
      "Stopped by overfitting detector  (50 iterations wait)\n",
      "\n",
      "bestTest = 30.37026169\n",
      "bestIteration = 131\n",
      "\n",
      "Shrink model to first 132 iterations.\n",
      "Fold: 2/5 score = 922.35280\n",
      "0:\tlearn: 34.6313986\ttest: 34.6313986\ttest1: 34.3542976\tbest: 34.3542976 (0)\ttotal: 38.3ms\tremaining: 3m 35s\n",
      "Stopped by overfitting detector  (50 iterations wait)\n",
      "\n",
      "bestTest = 30.47948022\n",
      "bestIteration = 56\n",
      "\n",
      "Shrink model to first 57 iterations.\n",
      "Fold: 3/5 score = 928.99872\n",
      "0:\tlearn: 34.3588718\ttest: 34.3588718\ttest1: 34.8514441\tbest: 34.8514441 (0)\ttotal: 36.2ms\tremaining: 3m 23s\n",
      "Stopped by overfitting detector  (50 iterations wait)\n",
      "\n",
      "bestTest = 31.39519373\n",
      "bestIteration = 91\n",
      "\n",
      "Shrink model to first 92 iterations.\n"
     ]
    },
    {
     "name": "stderr",
     "output_type": "stream",
     "text": [
      "[I 2023-09-06 19:30:19,070] Trial 33 pruned. \n"
     ]
    },
    {
     "name": "stdout",
     "output_type": "stream",
     "text": [
      "Fold: 4/5 score = 985.65820\n",
      "0:\tlearn: 34.6646082\ttest: 34.6646082\ttest1: 35.3833088\tbest: 35.3833088 (0)\ttotal: 65.5ms\tremaining: 3m 54s\n",
      "Stopped by overfitting detector  (50 iterations wait)\n",
      "\n",
      "bestTest = 32.33161391\n",
      "bestIteration = 94\n",
      "\n",
      "Shrink model to first 95 iterations.\n",
      "Fold: 1/5 score = 1045.33326\n",
      "0:\tlearn: 35.0787770\ttest: 35.0787770\ttest1: 34.7214754\tbest: 34.7214754 (0)\ttotal: 66.3ms\tremaining: 3m 57s\n",
      "Stopped by overfitting detector  (50 iterations wait)\n",
      "\n",
      "bestTest = 30.528088\n",
      "bestIteration = 140\n",
      "\n",
      "Shrink model to first 141 iterations.\n"
     ]
    },
    {
     "name": "stderr",
     "output_type": "stream",
     "text": [
      "[I 2023-09-06 19:30:46,205] Trial 34 pruned. \n"
     ]
    },
    {
     "name": "stdout",
     "output_type": "stream",
     "text": [
      "Fold: 2/5 score = 931.96416\n",
      "0:\tlearn: 35.5216962\ttest: 35.5216962\ttest1: 35.9766458\tbest: 35.9766458 (0)\ttotal: 1.65ms\tremaining: 12.1s\n",
      "Stopped by overfitting detector  (50 iterations wait)\n",
      "\n",
      "bestTest = 32.54231978\n",
      "bestIteration = 428\n",
      "\n",
      "Shrink model to first 429 iterations.\n",
      "Fold: 1/5 score = 1059.00258\n",
      "0:\tlearn: 35.6493524\ttest: 35.6493524\ttest1: 35.1890120\tbest: 35.1890120 (0)\ttotal: 1.5ms\tremaining: 10.9s\n",
      "500:\tlearn: 29.9270024\ttest: 29.9270024\ttest1: 30.8376681\tbest: 30.8371799 (499)\ttotal: 651ms\tremaining: 8.83s\n",
      "Stopped by overfitting detector  (50 iterations wait)\n",
      "\n",
      "bestTest = 30.73768736\n",
      "bestIteration = 576\n",
      "\n",
      "Shrink model to first 577 iterations.\n"
     ]
    },
    {
     "name": "stderr",
     "output_type": "stream",
     "text": [
      "[I 2023-09-06 19:30:53,546] Trial 35 pruned. \n"
     ]
    },
    {
     "name": "stdout",
     "output_type": "stream",
     "text": [
      "Fold: 2/5 score = 944.80543\n",
      "0:\tlearn: 34.8687566\ttest: 34.8687566\ttest1: 35.4989338\tbest: 35.4989338 (0)\ttotal: 35.8ms\tremaining: 3m 15s\n",
      "Stopped by overfitting detector  (50 iterations wait)\n",
      "\n",
      "bestTest = 32.28493013\n",
      "bestIteration = 122\n",
      "\n",
      "Shrink model to first 123 iterations.\n",
      "Fold: 1/5 score = 1042.31672\n",
      "0:\tlearn: 34.9362122\ttest: 34.9362122\ttest1: 34.5081062\tbest: 34.5081062 (0)\ttotal: 37.1ms\tremaining: 3m 23s\n",
      "Stopped by overfitting detector  (50 iterations wait)\n",
      "\n",
      "bestTest = 30.1556968\n",
      "bestIteration = 112\n",
      "\n",
      "Shrink model to first 113 iterations.\n",
      "Fold: 2/5 score = 909.36605\n",
      "0:\tlearn: 35.0683809\ttest: 35.0683809\ttest1: 34.6420104\tbest: 34.6420104 (0)\ttotal: 37.7ms\tremaining: 3m 26s\n",
      "Stopped by overfitting detector  (50 iterations wait)\n",
      "\n",
      "bestTest = 30.21784846\n",
      "bestIteration = 167\n",
      "\n",
      "Shrink model to first 168 iterations.\n",
      "Fold: 3/5 score = 913.11837\n",
      "0:\tlearn: 34.9416422\ttest: 34.9416422\ttest1: 35.3084425\tbest: 35.3084425 (0)\ttotal: 34.2ms\tremaining: 3m 6s\n",
      "Stopped by overfitting detector  (50 iterations wait)\n",
      "\n",
      "bestTest = 31.28071678\n",
      "bestIteration = 141\n",
      "\n",
      "Shrink model to first 142 iterations.\n"
     ]
    },
    {
     "name": "stderr",
     "output_type": "stream",
     "text": [
      "[I 2023-09-06 19:31:38,700] Trial 36 pruned. \n"
     ]
    },
    {
     "name": "stdout",
     "output_type": "stream",
     "text": [
      "Fold: 4/5 score = 978.48325\n",
      "0:\tlearn: 34.9467618\ttest: 34.9467618\ttest1: 35.5745130\tbest: 35.5745130 (0)\ttotal: 19ms\tremaining: 3m 4s\n",
      "Stopped by overfitting detector  (50 iterations wait)\n",
      "\n",
      "bestTest = 32.34129006\n",
      "bestIteration = 109\n",
      "\n",
      "Shrink model to first 110 iterations.\n",
      "Fold: 1/5 score = 1045.95905\n",
      "0:\tlearn: 35.2400823\ttest: 35.2400823\ttest1: 34.8007555\tbest: 34.8007555 (0)\ttotal: 18.5ms\tremaining: 3m\n",
      "Stopped by overfitting detector  (50 iterations wait)\n",
      "\n",
      "bestTest = 30.57737701\n",
      "bestIteration = 241\n",
      "\n",
      "Shrink model to first 242 iterations.\n"
     ]
    },
    {
     "name": "stderr",
     "output_type": "stream",
     "text": [
      "[I 2023-09-06 19:31:54,688] Trial 37 pruned. \n"
     ]
    },
    {
     "name": "stdout",
     "output_type": "stream",
     "text": [
      "Fold: 2/5 score = 934.97599\n",
      "0:\tlearn: 34.2298694\ttest: 34.2298694\ttest1: 35.1214786\tbest: 35.1214786 (0)\ttotal: 65.7ms\tremaining: 7m 3s\n",
      "Stopped by overfitting detector  (50 iterations wait)\n",
      "\n",
      "bestTest = 32.15064761\n",
      "bestIteration = 70\n",
      "\n",
      "Shrink model to first 71 iterations.\n",
      "Fold: 1/5 score = 1033.66415\n",
      "0:\tlearn: 34.4188603\ttest: 34.4188603\ttest1: 34.0262569\tbest: 34.0262569 (0)\ttotal: 62.5ms\tremaining: 6m 42s\n",
      "Stopped by overfitting detector  (50 iterations wait)\n",
      "\n",
      "bestTest = 30.74985588\n",
      "bestIteration = 71\n",
      "\n",
      "Shrink model to first 72 iterations.\n"
     ]
    },
    {
     "name": "stderr",
     "output_type": "stream",
     "text": [
      "[I 2023-09-06 19:32:15,924] Trial 38 pruned. \n"
     ]
    },
    {
     "name": "stdout",
     "output_type": "stream",
     "text": [
      "Fold: 2/5 score = 945.55364\n",
      "0:\tlearn: 34.9308291\ttest: 34.9308291\ttest1: 35.5277926\tbest: 35.5277926 (0)\ttotal: 11.4ms\tremaining: 2m 12s\n",
      "Stopped by overfitting detector  (50 iterations wait)\n",
      "\n",
      "bestTest = 32.02678338\n",
      "bestIteration = 153\n",
      "\n",
      "Shrink model to first 154 iterations.\n",
      "Fold: 1/5 score = 1025.71486\n",
      "0:\tlearn: 35.1646085\ttest: 35.1646085\ttest1: 34.6774692\tbest: 34.6774692 (0)\ttotal: 11.1ms\tremaining: 2m 9s\n",
      "Stopped by overfitting detector  (50 iterations wait)\n",
      "\n",
      "bestTest = 30.33624546\n",
      "bestIteration = 222\n",
      "\n",
      "Shrink model to first 223 iterations.\n",
      "Fold: 2/5 score = 920.28779\n",
      "0:\tlearn: 35.2412783\ttest: 35.2412783\ttest1: 34.7183321\tbest: 34.7183321 (0)\ttotal: 11.6ms\tremaining: 2m 14s\n",
      "Stopped by overfitting detector  (50 iterations wait)\n",
      "\n",
      "bestTest = 30.6755237\n",
      "bestIteration = 100\n",
      "\n",
      "Shrink model to first 101 iterations.\n",
      "Fold: 3/5 score = 940.98776\n",
      "0:\tlearn: 34.9943280\ttest: 34.9943280\ttest1: 35.3508155\tbest: 35.3508155 (0)\ttotal: 11.1ms\tremaining: 2m 9s\n",
      "Stopped by overfitting detector  (50 iterations wait)\n",
      "\n",
      "bestTest = 30.96112628\n",
      "bestIteration = 296\n",
      "\n",
      "Shrink model to first 297 iterations.\n"
     ]
    },
    {
     "name": "stderr",
     "output_type": "stream",
     "text": [
      "[I 2023-09-06 19:32:40,401] Trial 39 pruned. \n"
     ]
    },
    {
     "name": "stdout",
     "output_type": "stream",
     "text": [
      "Fold: 4/5 score = 958.59135\n",
      "0:\tlearn: 34.7943121\ttest: 34.7943121\ttest1: 35.4884573\tbest: 35.4884573 (0)\ttotal: 34.6ms\tremaining: 7m 14s\n",
      "Stopped by overfitting detector  (50 iterations wait)\n",
      "\n",
      "bestTest = 32.36150895\n",
      "bestIteration = 62\n",
      "\n",
      "Shrink model to first 63 iterations.\n",
      "Fold: 1/5 score = 1047.26727\n",
      "0:\tlearn: 34.9592345\ttest: 34.9592345\ttest1: 34.5809814\tbest: 34.5809814 (0)\ttotal: 35.1ms\tremaining: 7m 20s\n",
      "Stopped by overfitting detector  (50 iterations wait)\n",
      "\n",
      "bestTest = 30.24325118\n",
      "bestIteration = 94\n",
      "\n",
      "Shrink model to first 95 iterations.\n",
      "Fold: 2/5 score = 914.65425\n",
      "0:\tlearn: 35.0692562\ttest: 35.0692562\ttest1: 34.7096808\tbest: 34.7096808 (0)\ttotal: 36ms\tremaining: 7m 32s\n",
      "Stopped by overfitting detector  (50 iterations wait)\n",
      "\n",
      "bestTest = 30.42417716\n",
      "bestIteration = 127\n",
      "\n",
      "Shrink model to first 128 iterations.\n",
      "Fold: 3/5 score = 925.63056\n",
      "0:\tlearn: 34.8990816\ttest: 34.8990816\ttest1: 35.2401552\tbest: 35.2401552 (0)\ttotal: 34ms\tremaining: 7m 7s\n",
      "Stopped by overfitting detector  (50 iterations wait)\n",
      "\n",
      "bestTest = 31.34876081\n",
      "bestIteration = 124\n",
      "\n",
      "Shrink model to first 125 iterations.\n"
     ]
    },
    {
     "name": "stderr",
     "output_type": "stream",
     "text": [
      "[I 2023-09-06 19:33:17,639] Trial 40 pruned. \n"
     ]
    },
    {
     "name": "stdout",
     "output_type": "stream",
     "text": [
      "Fold: 4/5 score = 982.74481\n",
      "0:\tlearn: 34.3391330\ttest: 34.3391330\ttest1: 35.2564782\tbest: 35.2564782 (0)\ttotal: 64.5ms\tremaining: 8m 33s\n",
      "Stopped by overfitting detector  (50 iterations wait)\n",
      "\n",
      "bestTest = 32.04409529\n",
      "bestIteration = 112\n",
      "\n",
      "Shrink model to first 113 iterations.\n",
      "Fold: 1/5 score = 1026.82405\n",
      "0:\tlearn: 34.6669969\ttest: 34.6669969\ttest1: 34.2501364\tbest: 34.2501364 (0)\ttotal: 65.2ms\tremaining: 8m 38s\n",
      "Stopped by overfitting detector  (50 iterations wait)\n",
      "\n",
      "bestTest = 30.25924496\n",
      "bestIteration = 141\n",
      "\n",
      "Shrink model to first 142 iterations.\n"
     ]
    },
    {
     "name": "stderr",
     "output_type": "stream",
     "text": [
      "[I 2023-09-06 19:33:45,753] Trial 41 pruned. \n"
     ]
    },
    {
     "name": "stdout",
     "output_type": "stream",
     "text": [
      "Fold: 2/5 score = 915.62191\n",
      "0:\tlearn: 34.4319637\ttest: 34.4319637\ttest1: 35.2857427\tbest: 35.2857427 (0)\ttotal: 63.9ms\tremaining: 9m 38s\n",
      "Stopped by overfitting detector  (50 iterations wait)\n",
      "\n",
      "bestTest = 32.22025332\n",
      "bestIteration = 130\n",
      "\n",
      "Shrink model to first 131 iterations.\n",
      "Fold: 1/5 score = 1038.14473\n",
      "0:\tlearn: 34.6558279\ttest: 34.6558279\ttest1: 34.5307326\tbest: 34.5307326 (0)\ttotal: 62.1ms\tremaining: 9m 21s\n",
      "Stopped by overfitting detector  (50 iterations wait)\n",
      "\n",
      "bestTest = 30.47943078\n",
      "bestIteration = 74\n",
      "\n",
      "Shrink model to first 75 iterations.\n"
     ]
    },
    {
     "name": "stderr",
     "output_type": "stream",
     "text": [
      "[I 2023-09-06 19:34:10,697] Trial 42 pruned. \n"
     ]
    },
    {
     "name": "stdout",
     "output_type": "stream",
     "text": [
      "Fold: 2/5 score = 928.99570\n",
      "0:\tlearn: 34.6971321\ttest: 34.6971321\ttest1: 35.4323639\tbest: 35.4323639 (0)\ttotal: 63.6ms\tremaining: 10m 55s\n",
      "Stopped by overfitting detector  (50 iterations wait)\n",
      "\n",
      "bestTest = 32.34695058\n",
      "bestIteration = 66\n",
      "\n",
      "Shrink model to first 67 iterations.\n",
      "Fold: 1/5 score = 1046.32522\n",
      "0:\tlearn: 34.8036379\ttest: 34.8036379\ttest1: 34.6477860\tbest: 34.6477860 (0)\ttotal: 62.5ms\tremaining: 10m 44s\n",
      "Stopped by overfitting detector  (50 iterations wait)\n",
      "\n",
      "bestTest = 30.41318498\n",
      "bestIteration = 149\n",
      "\n",
      "Shrink model to first 150 iterations.\n"
     ]
    },
    {
     "name": "stderr",
     "output_type": "stream",
     "text": [
      "[I 2023-09-06 19:34:36,602] Trial 43 pruned. \n"
     ]
    },
    {
     "name": "stdout",
     "output_type": "stream",
     "text": [
      "Fold: 2/5 score = 924.96183\n",
      "0:\tlearn: 34.4356798\ttest: 34.4356798\ttest1: 35.2008937\tbest: 35.2008937 (0)\ttotal: 19.3ms\tremaining: 1m 32s\n",
      "Stopped by overfitting detector  (50 iterations wait)\n",
      "\n",
      "bestTest = 31.6939395\n",
      "bestIteration = 108\n",
      "\n",
      "Shrink model to first 109 iterations.\n",
      "Fold: 1/5 score = 1004.50581\n",
      "0:\tlearn: 34.5912770\ttest: 34.5912770\ttest1: 34.1754112\tbest: 34.1754112 (0)\ttotal: 18.9ms\tremaining: 1m 31s\n",
      "Stopped by overfitting detector  (50 iterations wait)\n",
      "\n",
      "bestTest = 29.98032685\n",
      "bestIteration = 98\n",
      "\n",
      "Shrink model to first 99 iterations.\n",
      "Fold: 2/5 score = 898.82000\n",
      "0:\tlearn: 34.5799864\ttest: 34.5799864\ttest1: 34.3559573\tbest: 34.3559573 (0)\ttotal: 20.3ms\tremaining: 1m 37s\n",
      "Stopped by overfitting detector  (50 iterations wait)\n",
      "\n",
      "bestTest = 30.89661168\n",
      "bestIteration = 69\n",
      "\n",
      "Shrink model to first 70 iterations.\n",
      "Fold: 3/5 score = 954.60062\n",
      "0:\tlearn: 34.5746095\ttest: 34.5746095\ttest1: 34.9805389\tbest: 34.9805389 (0)\ttotal: 18.4ms\tremaining: 1m 28s\n",
      "Stopped by overfitting detector  (50 iterations wait)\n",
      "\n",
      "bestTest = 31.58940884\n",
      "bestIteration = 68\n",
      "\n",
      "Shrink model to first 69 iterations.\n"
     ]
    },
    {
     "name": "stderr",
     "output_type": "stream",
     "text": [
      "[I 2023-09-06 19:35:00,495] Trial 44 pruned. \n"
     ]
    },
    {
     "name": "stdout",
     "output_type": "stream",
     "text": [
      "Fold: 4/5 score = 997.89076\n",
      "0:\tlearn: 34.5205024\ttest: 34.5205024\ttest1: 35.3480936\tbest: 35.3480936 (0)\ttotal: 33.7ms\tremaining: 4m 33s\n",
      "Stopped by overfitting detector  (50 iterations wait)\n",
      "\n",
      "bestTest = 32.23021863\n",
      "bestIteration = 128\n",
      "\n",
      "Shrink model to first 129 iterations.\n",
      "Fold: 1/5 score = 1038.78700\n",
      "0:\tlearn: 34.5744238\ttest: 34.5744238\ttest1: 34.1089420\tbest: 34.1089420 (0)\ttotal: 35.7ms\tremaining: 4m 49s\n",
      "Stopped by overfitting detector  (50 iterations wait)\n",
      "\n",
      "bestTest = 30.47594204\n",
      "bestIteration = 55\n",
      "\n",
      "Shrink model to first 56 iterations.\n",
      "Fold: 2/5 score = 928.78305\n",
      "0:\tlearn: 34.7549359\ttest: 34.7549359\ttest1: 34.3436308\tbest: 34.3436308 (0)\ttotal: 37.6ms\tremaining: 5m 5s\n",
      "Stopped by overfitting detector  (50 iterations wait)\n",
      "\n",
      "bestTest = 30.71694604\n",
      "bestIteration = 63\n",
      "\n",
      "Shrink model to first 64 iterations.\n",
      "Fold: 3/5 score = 943.53078\n",
      "0:\tlearn: 34.4785206\ttest: 34.4785206\ttest1: 34.9941317\tbest: 34.9941317 (0)\ttotal: 34ms\tremaining: 4m 35s\n",
      "Stopped by overfitting detector  (50 iterations wait)\n",
      "\n",
      "bestTest = 31.13368775\n",
      "bestIteration = 139\n",
      "\n",
      "Shrink model to first 140 iterations.\n"
     ]
    },
    {
     "name": "stderr",
     "output_type": "stream",
     "text": [
      "[I 2023-09-06 19:35:35,991] Trial 45 pruned. \n"
     ]
    },
    {
     "name": "stdout",
     "output_type": "stream",
     "text": [
      "Fold: 4/5 score = 969.30652\n",
      "0:\tlearn: 34.8488962\ttest: 34.8488962\ttest1: 35.6140727\tbest: 35.6140727 (0)\ttotal: 66.9ms\tremaining: 7m 40s\n",
      "Stopped by overfitting detector  (50 iterations wait)\n",
      "\n",
      "bestTest = 32.60707889\n",
      "bestIteration = 110\n",
      "\n",
      "Shrink model to first 111 iterations.\n",
      "Fold: 1/5 score = 1063.22160\n",
      "0:\tlearn: 35.0893251\ttest: 35.0893251\ttest1: 34.6619911\tbest: 34.6619911 (0)\ttotal: 58.2ms\tremaining: 6m 41s\n",
      "Stopped by overfitting detector  (50 iterations wait)\n",
      "\n",
      "bestTest = 30.05046638\n",
      "bestIteration = 157\n",
      "\n",
      "Shrink model to first 158 iterations.\n",
      "Fold: 2/5 score = 903.03053\n",
      "0:\tlearn: 35.0162348\ttest: 35.0162348\ttest1: 34.6263384\tbest: 34.6263384 (0)\ttotal: 65.8ms\tremaining: 7m 32s\n",
      "Stopped by overfitting detector  (50 iterations wait)\n",
      "\n",
      "bestTest = 30.48182408\n",
      "bestIteration = 122\n",
      "\n",
      "Shrink model to first 123 iterations.\n",
      "Fold: 3/5 score = 929.14160\n",
      "0:\tlearn: 34.8368488\ttest: 34.8368488\ttest1: 35.2806889\tbest: 35.2806889 (0)\ttotal: 62.9ms\tremaining: 7m 13s\n",
      "Stopped by overfitting detector  (50 iterations wait)\n",
      "\n",
      "bestTest = 30.95265414\n",
      "bestIteration = 119\n",
      "\n",
      "Shrink model to first 120 iterations.\n",
      "Fold: 4/5 score = 958.06681\n",
      "0:\tlearn: 34.9456974\ttest: 34.9456974\ttest1: 35.3734971\tbest: 35.3734971 (0)\ttotal: 61.7ms\tremaining: 7m 4s\n",
      "Stopped by overfitting detector  (50 iterations wait)\n",
      "\n",
      "bestTest = 30.97944008\n",
      "bestIteration = 242\n",
      "\n",
      "Shrink model to first 243 iterations.\n"
     ]
    },
    {
     "name": "stderr",
     "output_type": "stream",
     "text": [
      "[I 2023-09-06 19:36:52,847] Trial 46 finished with value: 962.637250414442 and parameters: {'iterations': 6886, 'learning_rate': 0.14374944814079066, 'depth': 10, 'subsample': 0.21294782366956794, 'min_data_in_leaf': 43, 'colsample_bylevel': 0.6205360766250277}. Best is trial 19 with value: 944.8086706049396.\n"
     ]
    },
    {
     "name": "stdout",
     "output_type": "stream",
     "text": [
      "Fold: 5/5 score = 959.72571\n",
      "0:\tlearn: 34.8374555\ttest: 34.8374555\ttest1: 35.4260976\tbest: 35.4260976 (0)\ttotal: 19.4ms\tremaining: 2m 12s\n",
      "Stopped by overfitting detector  (50 iterations wait)\n",
      "\n",
      "bestTest = 32.11764562\n",
      "bestIteration = 93\n",
      "\n",
      "Shrink model to first 94 iterations.\n",
      "Fold: 1/5 score = 1031.54317\n",
      "0:\tlearn: 35.1913722\ttest: 35.1913722\ttest1: 34.7900380\tbest: 34.7900380 (0)\ttotal: 18.5ms\tremaining: 2m 7s\n",
      "Stopped by overfitting detector  (50 iterations wait)\n",
      "\n",
      "bestTest = 30.54253474\n",
      "bestIteration = 217\n",
      "\n",
      "Shrink model to first 218 iterations.\n"
     ]
    },
    {
     "name": "stderr",
     "output_type": "stream",
     "text": [
      "[I 2023-09-06 19:37:07,657] Trial 47 pruned. \n"
     ]
    },
    {
     "name": "stdout",
     "output_type": "stream",
     "text": [
      "Fold: 2/5 score = 932.84643\n",
      "0:\tlearn: 34.8160391\ttest: 34.8160391\ttest1: 35.4147857\tbest: 35.4147857 (0)\ttotal: 32.9ms\tremaining: 5m 56s\n",
      "Stopped by overfitting detector  (50 iterations wait)\n",
      "\n",
      "bestTest = 32.11099324\n",
      "bestIteration = 215\n",
      "\n",
      "Shrink model to first 216 iterations.\n",
      "Fold: 1/5 score = 1031.11589\n",
      "0:\tlearn: 35.0071194\ttest: 35.0071194\ttest1: 34.5861905\tbest: 34.5861905 (0)\ttotal: 33ms\tremaining: 5m 58s\n",
      "Stopped by overfitting detector  (50 iterations wait)\n",
      "\n",
      "bestTest = 30.16657889\n",
      "bestIteration = 198\n",
      "\n",
      "Shrink model to first 199 iterations.\n",
      "Fold: 2/5 score = 910.02249\n",
      "0:\tlearn: 35.0335179\ttest: 35.0335179\ttest1: 34.5880505\tbest: 34.5880505 (0)\ttotal: 36.1ms\tremaining: 6m 32s\n",
      "Stopped by overfitting detector  (50 iterations wait)\n",
      "\n",
      "bestTest = 30.5302384\n",
      "bestIteration = 118\n",
      "\n",
      "Shrink model to first 119 iterations.\n",
      "Fold: 3/5 score = 932.09546\n",
      "0:\tlearn: 34.8268803\ttest: 34.8268803\ttest1: 35.2281025\tbest: 35.2281025 (0)\ttotal: 32.8ms\tremaining: 5m 55s\n",
      "Stopped by overfitting detector  (50 iterations wait)\n",
      "\n",
      "bestTest = 31.13558156\n",
      "bestIteration = 168\n",
      "\n",
      "Shrink model to first 169 iterations.\n"
     ]
    },
    {
     "name": "stderr",
     "output_type": "stream",
     "text": [
      "[I 2023-09-06 19:37:55,815] Trial 48 pruned. \n"
     ]
    },
    {
     "name": "stdout",
     "output_type": "stream",
     "text": [
      "Fold: 4/5 score = 969.42445\n",
      "0:\tlearn: 34.8374969\ttest: 34.8374969\ttest1: 35.5981129\tbest: 35.5981129 (0)\ttotal: 66.6ms\tremaining: 10m 49s\n",
      "Stopped by overfitting detector  (50 iterations wait)\n",
      "\n",
      "bestTest = 31.96114988\n",
      "bestIteration = 316\n",
      "\n",
      "Shrink model to first 317 iterations.\n",
      "Fold: 1/5 score = 1021.51511\n",
      "0:\tlearn: 35.0988496\ttest: 35.0988496\ttest1: 34.7864720\tbest: 34.7864720 (0)\ttotal: 62.1ms\tremaining: 10m 5s\n",
      "Stopped by overfitting detector  (50 iterations wait)\n",
      "\n",
      "bestTest = 29.8354013\n",
      "bestIteration = 180\n",
      "\n",
      "Shrink model to first 181 iterations.\n",
      "Fold: 2/5 score = 890.15117\n",
      "0:\tlearn: 35.0710486\ttest: 35.0710486\ttest1: 34.5890243\tbest: 34.5890243 (0)\ttotal: 65.4ms\tremaining: 10m 38s\n",
      "Stopped by overfitting detector  (50 iterations wait)\n",
      "\n",
      "bestTest = 30.25840019\n",
      "bestIteration = 94\n",
      "\n",
      "Shrink model to first 95 iterations.\n",
      "Fold: 3/5 score = 915.57078\n",
      "0:\tlearn: 34.9207218\ttest: 34.9207218\ttest1: 35.3800721\tbest: 35.3800721 (0)\ttotal: 62ms\tremaining: 10m 4s\n",
      "Stopped by overfitting detector  (50 iterations wait)\n",
      "\n",
      "bestTest = 30.71963844\n",
      "bestIteration = 216\n",
      "\n",
      "Shrink model to first 217 iterations.\n",
      "Fold: 4/5 score = 943.69619\n",
      "0:\tlearn: 34.9580861\ttest: 34.9580861\ttest1: 35.3409155\tbest: 35.3409155 (0)\ttotal: 62.1ms\tremaining: 10m 5s\n",
      "Stopped by overfitting detector  (50 iterations wait)\n",
      "\n",
      "bestTest = 30.287849\n",
      "bestIteration = 289\n",
      "\n",
      "Shrink model to first 290 iterations.\n"
     ]
    },
    {
     "name": "stderr",
     "output_type": "stream",
     "text": [
      "[I 2023-09-06 19:39:34,871] Trial 49 finished with value: 937.657411773767 and parameters: {'iterations': 9754, 'learning_rate': 0.11952641635441928, 'depth': 10, 'subsample': 0.31744490157253696, 'min_data_in_leaf': 51, 'colsample_bylevel': 0.5742054173224616}. Best is trial 49 with value: 937.657411773767.\n"
     ]
    },
    {
     "name": "stdout",
     "output_type": "stream",
     "text": [
      "Fold: 5/5 score = 917.35380\n",
      "0:\tlearn: 35.0618887\ttest: 35.0618887\ttest1: 35.6775720\tbest: 35.6775720 (0)\ttotal: 3.65ms\tremaining: 35s\n",
      "Stopped by overfitting detector  (50 iterations wait)\n",
      "\n",
      "bestTest = 32.277628\n",
      "bestIteration = 247\n",
      "\n",
      "Shrink model to first 248 iterations.\n",
      "Fold: 1/5 score = 1041.84527\n",
      "0:\tlearn: 35.1937405\ttest: 35.1937405\ttest1: 34.7038023\tbest: 34.7038023 (0)\ttotal: 3.4ms\tremaining: 32.5s\n",
      "Stopped by overfitting detector  (50 iterations wait)\n",
      "\n",
      "bestTest = 30.4764768\n",
      "bestIteration = 335\n",
      "\n",
      "Shrink model to first 336 iterations.\n"
     ]
    },
    {
     "name": "stderr",
     "output_type": "stream",
     "text": [
      "[I 2023-09-06 19:39:43,112] Trial 50 pruned. \n"
     ]
    },
    {
     "name": "stdout",
     "output_type": "stream",
     "text": [
      "Fold: 2/5 score = 928.81564\n",
      "0:\tlearn: 34.7897051\ttest: 34.7897051\ttest1: 35.4553644\tbest: 35.4553644 (0)\ttotal: 62.7ms\tremaining: 7m 37s\n",
      "Stopped by overfitting detector  (50 iterations wait)\n",
      "\n",
      "bestTest = 31.95228903\n",
      "bestIteration = 113\n",
      "\n",
      "Shrink model to first 114 iterations.\n",
      "Fold: 1/5 score = 1020.94878\n",
      "0:\tlearn: 35.0126519\ttest: 35.0126519\ttest1: 34.5956752\tbest: 34.5956752 (0)\ttotal: 63.4ms\tremaining: 7m 42s\n",
      "Stopped by overfitting detector  (50 iterations wait)\n",
      "\n",
      "bestTest = 30.22197056\n",
      "bestIteration = 155\n",
      "\n",
      "Shrink model to first 156 iterations.\n"
     ]
    },
    {
     "name": "stderr",
     "output_type": "stream",
     "text": [
      "[I 2023-09-06 19:40:12,344] Trial 51 pruned. \n"
     ]
    },
    {
     "name": "stdout",
     "output_type": "stream",
     "text": [
      "Fold: 2/5 score = 913.36751\n",
      "0:\tlearn: 34.9206303\ttest: 34.9206303\ttest1: 35.4961615\tbest: 35.4961615 (0)\ttotal: 35.1ms\tremaining: 8m 49s\n",
      "Stopped by overfitting detector  (50 iterations wait)\n",
      "\n",
      "bestTest = 31.9328886\n",
      "bestIteration = 198\n",
      "\n",
      "Shrink model to first 199 iterations.\n",
      "Fold: 1/5 score = 1019.70938\n",
      "0:\tlearn: 35.0898251\ttest: 35.0898251\ttest1: 34.6476638\tbest: 34.6476638 (0)\ttotal: 34.3ms\tremaining: 8m 36s\n",
      "Stopped by overfitting detector  (50 iterations wait)\n",
      "\n",
      "bestTest = 30.14760894\n",
      "bestIteration = 223\n",
      "\n",
      "Shrink model to first 224 iterations.\n",
      "Fold: 2/5 score = 908.87833\n",
      "0:\tlearn: 35.1522269\ttest: 35.1522269\ttest1: 34.7552251\tbest: 34.7552251 (0)\ttotal: 37.5ms\tremaining: 9m 25s\n",
      "Stopped by overfitting detector  (50 iterations wait)\n",
      "\n",
      "bestTest = 30.31256161\n",
      "bestIteration = 205\n",
      "\n",
      "Shrink model to first 206 iterations.\n",
      "Fold: 3/5 score = 918.85139\n",
      "0:\tlearn: 34.8291523\ttest: 34.8291523\ttest1: 35.2101557\tbest: 35.2101557 (0)\ttotal: 34.1ms\tremaining: 8m 34s\n",
      "Stopped by overfitting detector  (50 iterations wait)\n",
      "\n",
      "bestTest = 31.32350115\n",
      "bestIteration = 99\n",
      "\n",
      "Shrink model to first 100 iterations.\n"
     ]
    },
    {
     "name": "stderr",
     "output_type": "stream",
     "text": [
      "[I 2023-09-06 19:41:02,940] Trial 52 pruned. \n"
     ]
    },
    {
     "name": "stdout",
     "output_type": "stream",
     "text": [
      "Fold: 4/5 score = 981.16173\n",
      "0:\tlearn: 34.6099288\ttest: 34.6099288\ttest1: 35.4412094\tbest: 35.4412094 (0)\ttotal: 63.2ms\tremaining: 6m 14s\n",
      "Stopped by overfitting detector  (50 iterations wait)\n",
      "\n",
      "bestTest = 32.15886038\n",
      "bestIteration = 102\n",
      "\n",
      "Shrink model to first 103 iterations.\n",
      "Fold: 1/5 score = 1034.19231\n",
      "0:\tlearn: 34.8743645\ttest: 34.8743645\ttest1: 34.4407627\tbest: 34.4407627 (0)\ttotal: 65.1ms\tremaining: 6m 25s\n",
      "Stopped by overfitting detector  (50 iterations wait)\n",
      "\n",
      "bestTest = 30.33798163\n",
      "bestIteration = 96\n",
      "\n",
      "Shrink model to first 97 iterations.\n",
      "Fold: 2/5 score = 920.39313\n",
      "0:\tlearn: 34.8895885\ttest: 34.8895885\ttest1: 34.4881593\tbest: 34.4881593 (0)\ttotal: 70.4ms\tremaining: 6m 57s\n",
      "Stopped by overfitting detector  (50 iterations wait)\n",
      "\n",
      "bestTest = 30.08783957\n",
      "bestIteration = 137\n",
      "\n",
      "Shrink model to first 138 iterations.\n",
      "Fold: 3/5 score = 905.27809\n",
      "0:\tlearn: 34.7408250\ttest: 34.7408250\ttest1: 35.0954817\tbest: 35.0954817 (0)\ttotal: 62.6ms\tremaining: 6m 10s\n",
      "Stopped by overfitting detector  (50 iterations wait)\n",
      "\n",
      "bestTest = 30.84392687\n",
      "bestIteration = 113\n",
      "\n",
      "Shrink model to first 114 iterations.\n",
      "Fold: 4/5 score = 951.34783\n",
      "0:\tlearn: 34.6705684\ttest: 34.6705684\ttest1: 35.1789731\tbest: 35.1789731 (0)\ttotal: 64.5ms\tremaining: 6m 22s\n",
      "Stopped by overfitting detector  (50 iterations wait)\n",
      "\n",
      "bestTest = 30.76904529\n",
      "bestIteration = 117\n",
      "\n",
      "Shrink model to first 118 iterations.\n"
     ]
    },
    {
     "name": "stderr",
     "output_type": "stream",
     "text": [
      "[I 2023-09-06 19:42:10,082] Trial 53 finished with value: 951.5891024865189 and parameters: {'iterations': 5927, 'learning_rate': 0.1688562754187728, 'depth': 10, 'subsample': 0.38075154788527543, 'min_data_in_leaf': 44, 'colsample_bylevel': 0.6214300240454111}. Best is trial 49 with value: 937.657411773767.\n"
     ]
    },
    {
     "name": "stdout",
     "output_type": "stream",
     "text": [
      "Fold: 5/5 score = 946.73415\n",
      "0:\tlearn: 34.7228893\ttest: 34.7228893\ttest1: 35.4973742\tbest: 35.4973742 (0)\ttotal: 34.4ms\tremaining: 1m 46s\n",
      "Stopped by overfitting detector  (50 iterations wait)\n",
      "\n",
      "bestTest = 31.91262238\n",
      "bestIteration = 198\n",
      "\n",
      "Shrink model to first 199 iterations.\n",
      "Fold: 1/5 score = 1018.41547\n",
      "0:\tlearn: 34.9595722\ttest: 34.9595722\ttest1: 34.4748661\tbest: 34.4748661 (0)\ttotal: 34.1ms\tremaining: 1m 45s\n",
      "Stopped by overfitting detector  (50 iterations wait)\n",
      "\n",
      "bestTest = 30.36521215\n",
      "bestIteration = 113\n",
      "\n",
      "Shrink model to first 114 iterations.\n"
     ]
    },
    {
     "name": "stderr",
     "output_type": "stream",
     "text": [
      "[I 2023-09-06 19:42:32,821] Trial 54 pruned. \n"
     ]
    },
    {
     "name": "stdout",
     "output_type": "stream",
     "text": [
      "Fold: 2/5 score = 922.04611\n",
      "0:\tlearn: 34.5413031\ttest: 34.5413031\ttest1: 35.1470886\tbest: 35.1470886 (0)\ttotal: 62.6ms\tremaining: 4m 47s\n",
      "Stopped by overfitting detector  (50 iterations wait)\n",
      "\n",
      "bestTest = 32.09337333\n",
      "bestIteration = 56\n",
      "\n",
      "Shrink model to first 57 iterations.\n",
      "Fold: 1/5 score = 1029.98462\n",
      "0:\tlearn: 34.8088894\ttest: 34.8088894\ttest1: 34.4187138\tbest: 34.4187138 (0)\ttotal: 62.9ms\tremaining: 4m 49s\n",
      "Stopped by overfitting detector  (50 iterations wait)\n",
      "\n",
      "bestTest = 29.91410021\n",
      "bestIteration = 113\n",
      "\n",
      "Shrink model to first 114 iterations.\n",
      "Fold: 2/5 score = 894.85340\n",
      "0:\tlearn: 34.8030553\ttest: 34.8030553\ttest1: 34.3581345\tbest: 34.3581345 (0)\ttotal: 69.3ms\tremaining: 5m 18s\n",
      "Stopped by overfitting detector  (50 iterations wait)\n",
      "\n",
      "bestTest = 30.44739159\n",
      "bestIteration = 140\n",
      "\n",
      "Shrink model to first 141 iterations.\n",
      "Fold: 3/5 score = 927.04366\n",
      "0:\tlearn: 34.7049499\ttest: 34.7049499\ttest1: 35.2619956\tbest: 35.2619956 (0)\ttotal: 63.7ms\tremaining: 4m 52s\n",
      "Stopped by overfitting detector  (50 iterations wait)\n",
      "\n",
      "bestTest = 30.88911576\n",
      "bestIteration = 103\n",
      "\n",
      "Shrink model to first 104 iterations.\n",
      "Fold: 4/5 score = 954.13748\n",
      "0:\tlearn: 34.5843807\ttest: 34.5843807\ttest1: 34.9176164\tbest: 34.9176164 (0)\ttotal: 62.2ms\tremaining: 4m 45s\n",
      "Stopped by overfitting detector  (50 iterations wait)\n",
      "\n",
      "bestTest = 30.95771247\n",
      "bestIteration = 125\n",
      "\n",
      "Shrink model to first 126 iterations.\n"
     ]
    },
    {
     "name": "stderr",
     "output_type": "stream",
     "text": [
      "[I 2023-09-06 19:43:38,160] Trial 55 finished with value: 952.8798225060273 and parameters: {'iterations': 4594, 'learning_rate': 0.18254667468328073, 'depth': 10, 'subsample': 0.3374655210214267, 'min_data_in_leaf': 56, 'colsample_bylevel': 0.6908540787338838}. Best is trial 49 with value: 937.657411773767.\n"
     ]
    },
    {
     "name": "stdout",
     "output_type": "stream",
     "text": [
      "Fold: 5/5 score = 958.37996\n",
      "0:\tlearn: 34.8422139\ttest: 34.8422139\ttest1: 35.4837712\tbest: 35.4837712 (0)\ttotal: 4.54ms\tremaining: 23.6s\n",
      "Stopped by overfitting detector  (50 iterations wait)\n",
      "\n",
      "bestTest = 32.43592487\n",
      "bestIteration = 132\n",
      "\n",
      "Shrink model to first 133 iterations.\n",
      "Fold: 1/5 score = 1052.08923\n",
      "0:\tlearn: 34.9321400\ttest: 34.9321400\ttest1: 34.4544625\tbest: 34.4544625 (0)\ttotal: 4.57ms\tremaining: 23.7s\n",
      "Stopped by overfitting detector  (50 iterations wait)\n",
      "\n",
      "bestTest = 30.24082999\n",
      "bestIteration = 119\n",
      "\n",
      "Shrink model to first 120 iterations.\n"
     ]
    },
    {
     "name": "stderr",
     "output_type": "stream",
     "text": [
      "[I 2023-09-06 19:43:45,708] Trial 56 pruned. \n"
     ]
    },
    {
     "name": "stdout",
     "output_type": "stream",
     "text": [
      "Fold: 2/5 score = 914.50780\n",
      "0:\tlearn: 34.6231457\ttest: 34.6231457\ttest1: 35.3120073\tbest: 35.3120073 (0)\ttotal: 19.6ms\tremaining: 1m 19s\n",
      "Stopped by overfitting detector  (50 iterations wait)\n",
      "\n",
      "bestTest = 32.29292162\n",
      "bestIteration = 153\n",
      "\n",
      "Shrink model to first 154 iterations.\n",
      "Fold: 1/5 score = 1042.83279\n",
      "0:\tlearn: 35.0069244\ttest: 35.0069244\ttest1: 34.5547209\tbest: 34.5547209 (0)\ttotal: 19.3ms\tremaining: 1m 17s\n",
      "Stopped by overfitting detector  (50 iterations wait)\n",
      "\n",
      "bestTest = 30.16398646\n",
      "bestIteration = 196\n",
      "\n",
      "Shrink model to first 197 iterations.\n",
      "Fold: 2/5 score = 909.86608\n",
      "0:\tlearn: 35.0988981\ttest: 35.0988981\ttest1: 34.7124073\tbest: 34.7124073 (0)\ttotal: 19.8ms\tremaining: 1m 19s\n",
      "Stopped by overfitting detector  (50 iterations wait)\n",
      "\n",
      "bestTest = 30.3519015\n",
      "bestIteration = 97\n",
      "\n",
      "Shrink model to first 98 iterations.\n",
      "Fold: 3/5 score = 921.23793\n",
      "0:\tlearn: 34.6985332\ttest: 34.6985332\ttest1: 35.1886472\tbest: 35.1886472 (0)\ttotal: 19.2ms\tremaining: 1m 17s\n",
      "Stopped by overfitting detector  (50 iterations wait)\n",
      "\n",
      "bestTest = 30.96174957\n",
      "bestIteration = 131\n",
      "\n",
      "Shrink model to first 132 iterations.\n"
     ]
    },
    {
     "name": "stderr",
     "output_type": "stream",
     "text": [
      "[I 2023-09-06 19:44:15,158] Trial 57 pruned. \n"
     ]
    },
    {
     "name": "stdout",
     "output_type": "stream",
     "text": [
      "Fold: 4/5 score = 958.62994\n",
      "0:\tlearn: 34.8326347\ttest: 34.8326347\ttest1: 35.5261646\tbest: 35.5261646 (0)\ttotal: 63.1ms\tremaining: 20m 8s\n",
      "Stopped by overfitting detector  (50 iterations wait)\n",
      "\n",
      "bestTest = 32.06367904\n",
      "bestIteration = 164\n",
      "\n",
      "Shrink model to first 165 iterations.\n",
      "Fold: 1/5 score = 1028.07952\n",
      "0:\tlearn: 35.0032301\ttest: 35.0032301\ttest1: 34.6514896\tbest: 34.6514896 (0)\ttotal: 62.3ms\tremaining: 19m 51s\n",
      "Stopped by overfitting detector  (50 iterations wait)\n",
      "\n",
      "bestTest = 30.31132035\n",
      "bestIteration = 111\n",
      "\n",
      "Shrink model to first 112 iterations.\n",
      "Fold: 2/5 score = 918.77615\n",
      "0:\tlearn: 34.8974415\ttest: 34.8974415\ttest1: 34.6611055\tbest: 34.6611055 (0)\ttotal: 68.5ms\tremaining: 21m 50s\n",
      "Stopped by overfitting detector  (50 iterations wait)\n",
      "\n",
      "bestTest = 30.77702459\n",
      "bestIteration = 131\n",
      "\n",
      "Shrink model to first 132 iterations.\n",
      "Fold: 3/5 score = 947.22525\n",
      "0:\tlearn: 34.6894456\ttest: 34.6894456\ttest1: 35.1886083\tbest: 35.1886083 (0)\ttotal: 63.2ms\tremaining: 20m 8s\n",
      "Stopped by overfitting detector  (50 iterations wait)\n",
      "\n",
      "bestTest = 31.08604749\n",
      "bestIteration = 191\n",
      "\n",
      "Shrink model to first 192 iterations.\n"
     ]
    },
    {
     "name": "stderr",
     "output_type": "stream",
     "text": [
      "[I 2023-09-06 19:45:17,830] Trial 58 pruned. \n"
     ]
    },
    {
     "name": "stdout",
     "output_type": "stream",
     "text": [
      "Fold: 4/5 score = 966.34235\n",
      "0:\tlearn: 35.0185638\ttest: 35.0185638\ttest1: 35.5932125\tbest: 35.5932125 (0)\ttotal: 11ms\tremaining: 2m 13s\n",
      "Stopped by overfitting detector  (50 iterations wait)\n",
      "\n",
      "bestTest = 32.1139544\n",
      "bestIteration = 195\n",
      "\n",
      "Shrink model to first 196 iterations.\n",
      "Fold: 1/5 score = 1031.30607\n",
      "0:\tlearn: 35.2189904\ttest: 35.2189904\ttest1: 34.7389204\tbest: 34.7389204 (0)\ttotal: 11.3ms\tremaining: 2m 17s\n",
      "Stopped by overfitting detector  (50 iterations wait)\n",
      "\n",
      "bestTest = 30.16366061\n",
      "bestIteration = 187\n",
      "\n",
      "Shrink model to first 188 iterations.\n",
      "Fold: 2/5 score = 909.84643\n",
      "0:\tlearn: 35.2419385\ttest: 35.2419385\ttest1: 34.7283401\tbest: 34.7283401 (0)\ttotal: 11.6ms\tremaining: 2m 21s\n",
      "Stopped by overfitting detector  (50 iterations wait)\n",
      "\n",
      "bestTest = 30.31491014\n",
      "bestIteration = 163\n",
      "\n",
      "Shrink model to first 164 iterations.\n",
      "Fold: 3/5 score = 918.99378\n",
      "0:\tlearn: 35.0597171\ttest: 35.0597171\ttest1: 35.4194056\tbest: 35.4194056 (0)\ttotal: 10.7ms\tremaining: 2m 10s\n",
      "Stopped by overfitting detector  (50 iterations wait)\n",
      "\n",
      "bestTest = 30.94067003\n",
      "bestIteration = 214\n",
      "\n",
      "Shrink model to first 215 iterations.\n",
      "Fold: 4/5 score = 957.32507\n",
      "0:\tlearn: 35.0474545\ttest: 35.0474545\ttest1: 35.4117809\tbest: 35.4117809 (0)\ttotal: 10.8ms\tremaining: 2m 11s\n",
      "Stopped by overfitting detector  (50 iterations wait)\n",
      "\n",
      "bestTest = 30.80132185\n",
      "bestIteration = 306\n",
      "\n",
      "Shrink model to first 307 iterations.\n"
     ]
    },
    {
     "name": "stderr",
     "output_type": "stream",
     "text": [
      "[I 2023-09-06 19:45:49,638] Trial 59 finished with value: 953.238555603315 and parameters: {'iterations': 12173, 'learning_rate': 0.11501051888272933, 'depth': 7, 'subsample': 0.3307517131171931, 'min_data_in_leaf': 58, 'colsample_bylevel': 0.7573974791842275}. Best is trial 49 with value: 937.657411773767.\n"
     ]
    },
    {
     "name": "stdout",
     "output_type": "stream",
     "text": [
      "Fold: 5/5 score = 948.72143\n",
      "0:\tlearn: 35.0347447\ttest: 35.0347447\ttest1: 35.6004137\tbest: 35.6004137 (0)\ttotal: 11ms\tremaining: 2m 21s\n",
      "Stopped by overfitting detector  (50 iterations wait)\n",
      "\n",
      "bestTest = 31.98065821\n",
      "bestIteration = 161\n",
      "\n",
      "Shrink model to first 162 iterations.\n",
      "Fold: 1/5 score = 1022.76250\n",
      "0:\tlearn: 35.1438879\ttest: 35.1438879\ttest1: 34.6877251\tbest: 34.6877251 (0)\ttotal: 11.1ms\tremaining: 2m 22s\n",
      "Stopped by overfitting detector  (50 iterations wait)\n",
      "\n",
      "bestTest = 30.06981961\n",
      "bestIteration = 169\n",
      "\n",
      "Shrink model to first 170 iterations.\n",
      "Fold: 2/5 score = 904.19406\n",
      "0:\tlearn: 35.3322478\ttest: 35.3322478\ttest1: 34.8894696\tbest: 34.8894696 (0)\ttotal: 12.1ms\tremaining: 2m 35s\n",
      "Stopped by overfitting detector  (50 iterations wait)\n",
      "\n",
      "bestTest = 29.84467368\n",
      "bestIteration = 220\n",
      "\n",
      "Shrink model to first 221 iterations.\n",
      "Fold: 3/5 score = 890.70455\n",
      "0:\tlearn: 34.9892696\ttest: 34.9892696\ttest1: 35.3405656\tbest: 35.3405656 (0)\ttotal: 11.4ms\tremaining: 2m 26s\n",
      "Stopped by overfitting detector  (50 iterations wait)\n",
      "\n",
      "bestTest = 30.78186825\n",
      "bestIteration = 305\n",
      "\n",
      "Shrink model to first 306 iterations.\n",
      "Fold: 4/5 score = 947.52342\n",
      "0:\tlearn: 34.9852945\ttest: 34.9852945\ttest1: 35.3558318\tbest: 35.3558318 (0)\ttotal: 11ms\tremaining: 2m 22s\n",
      "Stopped by overfitting detector  (50 iterations wait)\n",
      "\n",
      "bestTest = 30.65227678\n",
      "bestIteration = 163\n",
      "\n",
      "Shrink model to first 164 iterations.\n"
     ]
    },
    {
     "name": "stderr",
     "output_type": "stream",
     "text": [
      "[I 2023-09-06 19:46:21,168] Trial 60 finished with value: 940.9493206545254 and parameters: {'iterations': 12858, 'learning_rate': 0.11279563991005577, 'depth': 7, 'subsample': 0.4507766525426241, 'min_data_in_leaf': 57, 'colsample_bylevel': 0.7682182962528308}. Best is trial 49 with value: 937.657411773767.\n"
     ]
    },
    {
     "name": "stdout",
     "output_type": "stream",
     "text": [
      "Fold: 5/5 score = 939.56208\n",
      "0:\tlearn: 35.0075746\ttest: 35.0075746\ttest1: 35.6270320\tbest: 35.6270320 (0)\ttotal: 11.3ms\tremaining: 2m 19s\n",
      "Stopped by overfitting detector  (50 iterations wait)\n",
      "\n",
      "bestTest = 32.08267104\n",
      "bestIteration = 163\n",
      "\n",
      "Shrink model to first 164 iterations.\n",
      "Fold: 1/5 score = 1029.29779\n",
      "0:\tlearn: 35.2577477\ttest: 35.2577477\ttest1: 34.8107952\tbest: 34.8107952 (0)\ttotal: 11.5ms\tremaining: 2m 21s\n",
      "Stopped by overfitting detector  (50 iterations wait)\n",
      "\n",
      "bestTest = 29.95806403\n",
      "bestIteration = 149\n",
      "\n",
      "Shrink model to first 150 iterations.\n",
      "Fold: 2/5 score = 897.48560\n",
      "0:\tlearn: 35.3079750\ttest: 35.3079750\ttest1: 34.8234664\tbest: 34.8234664 (0)\ttotal: 11.4ms\tremaining: 2m 21s\n",
      "Stopped by overfitting detector  (50 iterations wait)\n",
      "\n",
      "bestTest = 30.14901788\n",
      "bestIteration = 220\n",
      "\n",
      "Shrink model to first 221 iterations.\n",
      "Fold: 3/5 score = 908.96328\n",
      "0:\tlearn: 35.1644420\ttest: 35.1644420\ttest1: 35.4833413\tbest: 35.4833413 (0)\ttotal: 10.7ms\tremaining: 2m 11s\n",
      "Stopped by overfitting detector  (50 iterations wait)\n",
      "\n",
      "bestTest = 31.13779932\n",
      "bestIteration = 123\n",
      "\n",
      "Shrink model to first 124 iterations.\n"
     ]
    },
    {
     "name": "stderr",
     "output_type": "stream",
     "text": [
      "[I 2023-09-06 19:46:44,346] Trial 61 pruned. \n"
     ]
    },
    {
     "name": "stdout",
     "output_type": "stream",
     "text": [
      "Fold: 4/5 score = 969.56255\n",
      "0:\tlearn: 35.0302345\ttest: 35.0302345\ttest1: 35.5795402\tbest: 35.5795402 (0)\ttotal: 10.9ms\tremaining: 2m 29s\n",
      "Stopped by overfitting detector  (50 iterations wait)\n",
      "\n",
      "bestTest = 31.80766712\n",
      "bestIteration = 233\n",
      "\n",
      "Shrink model to first 234 iterations.\n",
      "Fold: 1/5 score = 1011.72769\n",
      "0:\tlearn: 35.1456827\ttest: 35.1456827\ttest1: 34.6572947\tbest: 34.6572947 (0)\ttotal: 26.1ms\tremaining: 5m 57s\n",
      "Stopped by overfitting detector  (50 iterations wait)\n",
      "\n",
      "bestTest = 30.40290715\n",
      "bestIteration = 184\n",
      "\n",
      "Shrink model to first 185 iterations.\n"
     ]
    },
    {
     "name": "stderr",
     "output_type": "stream",
     "text": [
      "[I 2023-09-06 19:46:57,019] Trial 62 pruned. \n"
     ]
    },
    {
     "name": "stdout",
     "output_type": "stream",
     "text": [
      "Fold: 2/5 score = 924.33677\n",
      "0:\tlearn: 35.1826538\ttest: 35.1826538\ttest1: 35.7297495\tbest: 35.7297495 (0)\ttotal: 7.76ms\tremaining: 1m 42s\n",
      "Stopped by overfitting detector  (50 iterations wait)\n",
      "\n",
      "bestTest = 31.96862278\n",
      "bestIteration = 263\n",
      "\n",
      "Shrink model to first 264 iterations.\n",
      "Fold: 1/5 score = 1021.99285\n",
      "0:\tlearn: 35.2851603\ttest: 35.2851603\ttest1: 34.8163182\tbest: 34.8163182 (0)\ttotal: 7.67ms\tremaining: 1m 41s\n",
      "Stopped by overfitting detector  (50 iterations wait)\n",
      "\n",
      "bestTest = 30.21181649\n",
      "bestIteration = 175\n",
      "\n",
      "Shrink model to first 176 iterations.\n",
      "Fold: 2/5 score = 912.75386\n",
      "0:\tlearn: 35.4019505\ttest: 35.4019505\ttest1: 34.9433484\tbest: 34.9433484 (0)\ttotal: 7.99ms\tremaining: 1m 45s\n",
      "Stopped by overfitting detector  (50 iterations wait)\n",
      "\n",
      "bestTest = 30.24247367\n",
      "bestIteration = 379\n",
      "\n",
      "Shrink model to first 380 iterations.\n",
      "Fold: 3/5 score = 914.60722\n",
      "0:\tlearn: 35.1577485\ttest: 35.1577485\ttest1: 35.4731393\tbest: 35.4731393 (0)\ttotal: 7.39ms\tremaining: 1m 37s\n",
      "Stopped by overfitting detector  (50 iterations wait)\n",
      "\n",
      "bestTest = 31.01100716\n",
      "bestIteration = 428\n",
      "\n",
      "Shrink model to first 429 iterations.\n"
     ]
    },
    {
     "name": "stderr",
     "output_type": "stream",
     "text": [
      "[I 2023-09-06 19:47:21,262] Trial 63 pruned. \n"
     ]
    },
    {
     "name": "stdout",
     "output_type": "stream",
     "text": [
      "Fold: 4/5 score = 961.68257\n",
      "0:\tlearn: 35.0598970\ttest: 35.0598970\ttest1: 35.6500478\tbest: 35.6500478 (0)\ttotal: 7.51ms\tremaining: 1m 46s\n",
      "Stopped by overfitting detector  (50 iterations wait)\n",
      "\n",
      "bestTest = 32.16274723\n",
      "bestIteration = 120\n",
      "\n",
      "Shrink model to first 121 iterations.\n",
      "Fold: 1/5 score = 1034.44232\n",
      "0:\tlearn: 35.2056435\ttest: 35.2056435\ttest1: 34.6877946\tbest: 34.6877946 (0)\ttotal: 7.71ms\tremaining: 1m 49s\n",
      "Stopped by overfitting detector  (50 iterations wait)\n",
      "\n",
      "bestTest = 29.92629492\n",
      "bestIteration = 204\n",
      "\n",
      "Shrink model to first 205 iterations.\n",
      "Fold: 2/5 score = 895.58313\n",
      "0:\tlearn: 35.2350568\ttest: 35.2350568\ttest1: 34.7440125\tbest: 34.7440125 (0)\ttotal: 7.79ms\tremaining: 1m 50s\n",
      "Stopped by overfitting detector  (50 iterations wait)\n",
      "\n",
      "bestTest = 30.18402704\n",
      "bestIteration = 331\n",
      "\n",
      "Shrink model to first 332 iterations.\n",
      "Fold: 3/5 score = 911.07549\n",
      "0:\tlearn: 35.0765365\ttest: 35.0765365\ttest1: 35.4225744\tbest: 35.4225744 (0)\ttotal: 7.59ms\tremaining: 1m 47s\n",
      "Stopped by overfitting detector  (50 iterations wait)\n",
      "\n",
      "bestTest = 31.23870722\n",
      "bestIteration = 171\n",
      "\n",
      "Shrink model to first 172 iterations.\n"
     ]
    },
    {
     "name": "stderr",
     "output_type": "stream",
     "text": [
      "[I 2023-09-06 19:47:42,113] Trial 64 pruned. \n"
     ]
    },
    {
     "name": "stdout",
     "output_type": "stream",
     "text": [
      "Fold: 4/5 score = 975.85683\n",
      "0:\tlearn: 35.0128841\ttest: 35.0128841\ttest1: 35.5747765\tbest: 35.5747765 (0)\ttotal: 19.8ms\tremaining: 3m 43s\n",
      "Stopped by overfitting detector  (50 iterations wait)\n",
      "\n",
      "bestTest = 31.9771351\n",
      "bestIteration = 182\n",
      "\n",
      "Shrink model to first 183 iterations.\n",
      "Fold: 1/5 score = 1022.53718\n",
      "0:\tlearn: 35.2136125\ttest: 35.2136125\ttest1: 34.7254886\tbest: 34.7254886 (0)\ttotal: 19.2ms\tremaining: 3m 37s\n",
      "Stopped by overfitting detector  (50 iterations wait)\n",
      "\n",
      "bestTest = 30.01916129\n",
      "bestIteration = 188\n",
      "\n",
      "Shrink model to first 189 iterations.\n",
      "Fold: 2/5 score = 901.15005\n",
      "0:\tlearn: 35.2861136\ttest: 35.2861136\ttest1: 34.8692588\tbest: 34.8692588 (0)\ttotal: 20.6ms\tremaining: 3m 52s\n",
      "Stopped by overfitting detector  (50 iterations wait)\n",
      "\n",
      "bestTest = 30.27179464\n",
      "bestIteration = 174\n",
      "\n",
      "Shrink model to first 175 iterations.\n",
      "Fold: 3/5 score = 916.38155\n",
      "0:\tlearn: 34.9797854\ttest: 34.9797854\ttest1: 35.3570687\tbest: 35.3570687 (0)\ttotal: 18ms\tremaining: 3m 23s\n",
      "Stopped by overfitting detector  (50 iterations wait)\n",
      "\n",
      "bestTest = 30.74790946\n",
      "bestIteration = 139\n",
      "\n",
      "Shrink model to first 140 iterations.\n",
      "Fold: 4/5 score = 945.43394\n",
      "0:\tlearn: 35.0679586\ttest: 35.0679586\ttest1: 35.4212038\tbest: 35.4212038 (0)\ttotal: 18.6ms\tremaining: 3m 30s\n",
      "Stopped by overfitting detector  (50 iterations wait)\n",
      "\n",
      "bestTest = 30.21080772\n",
      "bestIteration = 313\n",
      "\n",
      "Shrink model to first 314 iterations.\n"
     ]
    },
    {
     "name": "stderr",
     "output_type": "stream",
     "text": [
      "[I 2023-09-06 19:48:24,639] Trial 65 finished with value: 939.6391250162936 and parameters: {'iterations': 11297, 'learning_rate': 0.11273956794513632, 'depth': 8, 'subsample': 0.4619209335893267, 'min_data_in_leaf': 61, 'colsample_bylevel': 0.7425393777056006}. Best is trial 49 with value: 937.657411773767.\n"
     ]
    },
    {
     "name": "stdout",
     "output_type": "stream",
     "text": [
      "Fold: 5/5 score = 912.69291\n",
      "0:\tlearn: 34.8104760\ttest: 34.8104760\ttest1: 35.4202823\tbest: 35.4202823 (0)\ttotal: 19.2ms\tremaining: 3m 33s\n",
      "Stopped by overfitting detector  (50 iterations wait)\n",
      "\n",
      "bestTest = 31.95125122\n",
      "bestIteration = 206\n",
      "\n",
      "Shrink model to first 207 iterations.\n",
      "Fold: 1/5 score = 1020.88246\n",
      "0:\tlearn: 35.1517424\ttest: 35.1517424\ttest1: 34.6665394\tbest: 34.6665394 (0)\ttotal: 18.5ms\tremaining: 3m 26s\n",
      "Stopped by overfitting detector  (50 iterations wait)\n",
      "\n",
      "bestTest = 30.13007943\n",
      "bestIteration = 156\n",
      "\n",
      "Shrink model to first 157 iterations.\n",
      "Fold: 2/5 score = 907.82169\n",
      "0:\tlearn: 35.2581797\ttest: 35.2581797\ttest1: 34.8486414\tbest: 34.8486414 (0)\ttotal: 20.2ms\tremaining: 3m 45s\n",
      "Stopped by overfitting detector  (50 iterations wait)\n",
      "\n",
      "bestTest = 30.60032059\n",
      "bestIteration = 216\n",
      "\n",
      "Shrink model to first 217 iterations.\n",
      "Fold: 3/5 score = 936.37962\n",
      "0:\tlearn: 34.8960429\ttest: 34.8960429\ttest1: 35.3391143\tbest: 35.3391143 (0)\ttotal: 18.6ms\tremaining: 3m 27s\n",
      "Stopped by overfitting detector  (50 iterations wait)\n",
      "\n",
      "bestTest = 30.94258736\n",
      "bestIteration = 117\n",
      "\n",
      "Shrink model to first 118 iterations.\n",
      "Fold: 4/5 score = 957.44372\n",
      "0:\tlearn: 34.8913893\ttest: 34.8913893\ttest1: 35.1754583\tbest: 35.1754583 (0)\ttotal: 17.8ms\tremaining: 3m 18s\n",
      "Stopped by overfitting detector  (50 iterations wait)\n",
      "\n",
      "bestTest = 30.79075044\n",
      "bestIteration = 111\n",
      "\n",
      "Shrink model to first 112 iterations.\n"
     ]
    },
    {
     "name": "stderr",
     "output_type": "stream",
     "text": [
      "[I 2023-09-06 19:49:03,100] Trial 66 finished with value: 954.1195615571239 and parameters: {'iterations': 11160, 'learning_rate': 0.1299429148675238, 'depth': 8, 'subsample': 0.4636370549676186, 'min_data_in_leaf': 61, 'colsample_bylevel': 0.6881177059114701}. Best is trial 49 with value: 937.657411773767.\n"
     ]
    },
    {
     "name": "stdout",
     "output_type": "stream",
     "text": [
      "Fold: 5/5 score = 948.07032\n",
      "0:\tlearn: 34.9994595\ttest: 34.9994595\ttest1: 35.5495702\tbest: 35.5495702 (0)\ttotal: 34ms\tremaining: 1m 14s\n",
      "Stopped by overfitting detector  (50 iterations wait)\n",
      "\n",
      "bestTest = 32.0392711\n",
      "bestIteration = 292\n",
      "\n",
      "Shrink model to first 293 iterations.\n",
      "Fold: 1/5 score = 1026.51490\n",
      "0:\tlearn: 35.1960200\ttest: 35.1960200\ttest1: 34.7990987\tbest: 34.7990987 (0)\ttotal: 34.2ms\tremaining: 1m 14s\n",
      "Stopped by overfitting detector  (50 iterations wait)\n",
      "\n",
      "bestTest = 30.29864667\n",
      "bestIteration = 216\n",
      "\n",
      "Shrink model to first 217 iterations.\n"
     ]
    },
    {
     "name": "stderr",
     "output_type": "stream",
     "text": [
      "[I 2023-09-06 19:49:34,273] Trial 67 pruned. \n"
     ]
    },
    {
     "name": "stdout",
     "output_type": "stream",
     "text": [
      "Fold: 2/5 score = 918.00799\n",
      "0:\tlearn: 35.1493599\ttest: 35.1493599\ttest1: 35.6610478\tbest: 35.6610478 (0)\ttotal: 19.7ms\tremaining: 5m\n",
      "Stopped by overfitting detector  (50 iterations wait)\n",
      "\n",
      "bestTest = 32.24181088\n",
      "bestIteration = 270\n",
      "\n",
      "Shrink model to first 271 iterations.\n",
      "Fold: 1/5 score = 1039.53437\n",
      "0:\tlearn: 35.3549116\ttest: 35.3549116\ttest1: 34.8746589\tbest: 34.8746589 (0)\ttotal: 19.3ms\tremaining: 4m 54s\n",
      "500:\tlearn: 14.5031516\ttest: 14.5031516\ttest1: 30.0164920\tbest: 29.9643727 (450)\ttotal: 11.3s\tremaining: 5m 32s\n",
      "Stopped by overfitting detector  (50 iterations wait)\n",
      "\n",
      "bestTest = 29.96437273\n",
      "bestIteration = 450\n",
      "\n",
      "Shrink model to first 451 iterations.\n",
      "Fold: 2/5 score = 897.86364\n",
      "0:\tlearn: 35.3980831\ttest: 35.3980831\ttest1: 34.9675202\tbest: 34.9675202 (0)\ttotal: 19.8ms\tremaining: 5m 1s\n",
      "Stopped by overfitting detector  (50 iterations wait)\n",
      "\n",
      "bestTest = 29.9753839\n",
      "bestIteration = 290\n",
      "\n",
      "Shrink model to first 291 iterations.\n",
      "Fold: 3/5 score = 898.52364\n",
      "0:\tlearn: 35.1185968\ttest: 35.1185968\ttest1: 35.4824566\tbest: 35.4824566 (0)\ttotal: 18.4ms\tremaining: 4m 40s\n",
      "Stopped by overfitting detector  (50 iterations wait)\n",
      "\n",
      "bestTest = 30.84737442\n",
      "bestIteration = 299\n",
      "\n",
      "Shrink model to first 300 iterations.\n",
      "Fold: 4/5 score = 951.56051\n",
      "0:\tlearn: 35.1834996\ttest: 35.1834996\ttest1: 35.5084867\tbest: 35.5084867 (0)\ttotal: 18.3ms\tremaining: 4m 39s\n",
      "Stopped by overfitting detector  (50 iterations wait)\n",
      "\n",
      "bestTest = 30.40308932\n",
      "bestIteration = 283\n",
      "\n",
      "Shrink model to first 284 iterations.\n"
     ]
    },
    {
     "name": "stderr",
     "output_type": "stream",
     "text": [
      "[I 2023-09-06 19:50:30,622] Trial 68 finished with value: 942.3660022774051 and parameters: {'iterations': 15245, 'learning_rate': 0.08518476546941436, 'depth': 8, 'subsample': 0.4770926242431474, 'min_data_in_leaf': 64, 'colsample_bylevel': 0.7319432084883337}. Best is trial 49 with value: 937.657411773767.\n"
     ]
    },
    {
     "name": "stdout",
     "output_type": "stream",
     "text": [
      "Fold: 5/5 score = 924.34784\n",
      "0:\tlearn: 35.1141232\ttest: 35.1141232\ttest1: 35.6403021\tbest: 35.6403021 (0)\ttotal: 19ms\tremaining: 4m 56s\n",
      "Stopped by overfitting detector  (50 iterations wait)\n",
      "\n",
      "bestTest = 31.91951892\n",
      "bestIteration = 176\n",
      "\n",
      "Shrink model to first 177 iterations.\n",
      "Fold: 1/5 score = 1018.85569\n",
      "0:\tlearn: 35.2307510\ttest: 35.2307510\ttest1: 34.8172953\tbest: 34.8172953 (0)\ttotal: 19.4ms\tremaining: 5m 2s\n",
      "Stopped by overfitting detector  (50 iterations wait)\n",
      "\n",
      "bestTest = 30.1492343\n",
      "bestIteration = 197\n",
      "\n",
      "Shrink model to first 198 iterations.\n",
      "Fold: 2/5 score = 908.97633\n",
      "0:\tlearn: 35.3797455\ttest: 35.3797455\ttest1: 34.8535550\tbest: 34.8535550 (0)\ttotal: 19.7ms\tremaining: 5m 6s\n",
      "Stopped by overfitting detector  (50 iterations wait)\n",
      "\n",
      "bestTest = 30.16727263\n",
      "bestIteration = 294\n",
      "\n",
      "Shrink model to first 295 iterations.\n",
      "Fold: 3/5 score = 910.06434\n",
      "0:\tlearn: 35.2209739\ttest: 35.2209739\ttest1: 35.5447040\tbest: 35.5447040 (0)\ttotal: 19.5ms\tremaining: 5m 3s\n",
      "Stopped by overfitting detector  (50 iterations wait)\n",
      "\n",
      "bestTest = 30.86721529\n",
      "bestIteration = 394\n",
      "\n",
      "Shrink model to first 395 iterations.\n",
      "Fold: 4/5 score = 952.78499\n",
      "0:\tlearn: 35.1527964\ttest: 35.1527964\ttest1: 35.5016844\tbest: 35.5016844 (0)\ttotal: 18.8ms\tremaining: 4m 52s\n",
      "Stopped by overfitting detector  (50 iterations wait)\n",
      "\n",
      "bestTest = 30.33920589\n",
      "bestIteration = 223\n",
      "\n",
      "Shrink model to first 224 iterations.\n"
     ]
    },
    {
     "name": "stderr",
     "output_type": "stream",
     "text": [
      "[I 2023-09-06 19:51:20,186] Trial 69 finished with value: 942.2297543300307 and parameters: {'iterations': 15572, 'learning_rate': 0.0901969980457376, 'depth': 8, 'subsample': 0.48989875014533324, 'min_data_in_leaf': 65, 'colsample_bylevel': 0.8440749231913413}. Best is trial 49 with value: 937.657411773767.\n"
     ]
    },
    {
     "name": "stdout",
     "output_type": "stream",
     "text": [
      "Fold: 5/5 score = 920.46742\n"
     ]
    }
   ],
   "source": [
    "study = optuna.create_study(\n",
    "    sampler=TPESampler(seed=RANDOM_SEED),\n",
    "    direction='minimize',\n",
    "    study_name='cat_tuning',\n",
    "    pruner=HyperbandPruner(\n",
    "        min_resource=1, max_resource=8, reduction_factor=3\n",
    "    ),\n",
    ")\n",
    "\n",
    "study.optimize(objective_cat, n_trials=70)"
   ]
  },
  {
   "cell_type": "code",
   "execution_count": 9,
   "metadata": {},
   "outputs": [],
   "source": [
    "trial = study.best_trial"
   ]
  },
  {
   "cell_type": "code",
   "execution_count": 10,
   "metadata": {},
   "outputs": [
    {
     "name": "stdout",
     "output_type": "stream",
     "text": [
      "{'iterations': 9754, 'learning_rate': 0.11952641635441928, 'depth': 10, 'subsample': 0.31744490157253696, 'min_data_in_leaf': 51, 'colsample_bylevel': 0.5742054173224616}\n"
     ]
    }
   ],
   "source": [
    "print(trial.params)"
   ]
  },
  {
   "cell_type": "code",
   "execution_count": 11,
   "metadata": {},
   "outputs": [
    {
     "name": "stdout",
     "output_type": "stream",
     "text": [
      "0:\tlearn: 34.8374969\ttest: 34.8374969\ttest1: 35.5981129\tbest: 35.5981129 (0)\ttotal: 66.1ms\tremaining: 10m 44s\n",
      "Stopped by overfitting detector  (50 iterations wait)\n",
      "\n",
      "bestTest = 31.96114988\n",
      "bestIteration = 316\n",
      "\n",
      "Shrink model to first 317 iterations.\n",
      "Fold: 1/5 score = 1021.51511\n",
      "0:\tlearn: 35.0988496\ttest: 35.0988496\ttest1: 34.7864720\tbest: 34.7864720 (0)\ttotal: 64.5ms\tremaining: 10m 28s\n",
      "Stopped by overfitting detector  (50 iterations wait)\n",
      "\n",
      "bestTest = 29.8354013\n",
      "bestIteration = 180\n",
      "\n",
      "Shrink model to first 181 iterations.\n",
      "Fold: 2/5 score = 890.15117\n",
      "0:\tlearn: 35.0710486\ttest: 35.0710486\ttest1: 34.5890243\tbest: 34.5890243 (0)\ttotal: 72.8ms\tremaining: 11m 49s\n",
      "Stopped by overfitting detector  (50 iterations wait)\n",
      "\n",
      "bestTest = 30.25840019\n",
      "bestIteration = 94\n",
      "\n",
      "Shrink model to first 95 iterations.\n",
      "Fold: 3/5 score = 915.57078\n",
      "0:\tlearn: 34.9207218\ttest: 34.9207218\ttest1: 35.3800721\tbest: 35.3800721 (0)\ttotal: 65.5ms\tremaining: 10m 38s\n",
      "Stopped by overfitting detector  (50 iterations wait)\n",
      "\n",
      "bestTest = 30.71963844\n",
      "bestIteration = 216\n",
      "\n",
      "Shrink model to first 217 iterations.\n",
      "Fold: 4/5 score = 943.69619\n",
      "0:\tlearn: 34.9580861\ttest: 34.9580861\ttest1: 35.3409155\tbest: 35.3409155 (0)\ttotal: 59.5ms\tremaining: 9m 40s\n",
      "Stopped by overfitting detector  (50 iterations wait)\n",
      "\n",
      "bestTest = 30.287849\n",
      "bestIteration = 289\n",
      "\n",
      "Shrink model to first 290 iterations.\n",
      "Fold: 5/5 score = 917.35380\n"
     ]
    }
   ],
   "source": [
    "best_param = {\n",
    "  'iterations': 9754,\n",
    "  'learning_rate': 0.11952641635441928,\n",
    "  'depth': 10,\n",
    "  'subsample': 0.31744490157253696,\n",
    "  'min_data_in_leaf': 51,\n",
    "  'colsample_bylevel': 0.5742054173224616\n",
    "}\n",
    "val_scores, y_tests, models = train_model(best_param, train_x, train_y, test_x)"
   ]
  },
  {
   "cell_type": "code",
   "execution_count": 12,
   "metadata": {},
   "outputs": [],
   "source": [
    "for idx, model in enumerate(models):\n",
    "  model.save_model(f\"model/catboost_MLM_fold_{idx}.model\")"
   ]
  },
  {
   "cell_type": "code",
   "execution_count": 13,
   "metadata": {},
   "outputs": [],
   "source": [
    "submit = pd.read_csv(\"./catboost_optuna.csv\")\n",
    "submit[\"MLM\"] = np.mean(y_tests, axis=0)\n",
    "submit.to_csv(\"catboost_optuna.csv\", index=False)"
   ]
  },
  {
   "cell_type": "code",
   "execution_count": null,
   "metadata": {},
   "outputs": [],
   "source": []
  }
 ],
 "metadata": {
  "kernelspec": {
   "display_name": "신약개발-mImSxWNo",
   "language": "python",
   "name": "python3"
  },
  "language_info": {
   "codemirror_mode": {
    "name": "ipython",
    "version": 3
   },
   "file_extension": ".py",
   "mimetype": "text/x-python",
   "name": "python",
   "nbconvert_exporter": "python",
   "pygments_lexer": "ipython3",
   "version": "3.10.11"
  },
  "orig_nbformat": 4
 },
 "nbformat": 4,
 "nbformat_minor": 2
}
