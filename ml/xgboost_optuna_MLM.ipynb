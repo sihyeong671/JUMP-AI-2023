{
 "cells": [
  {
   "cell_type": "code",
   "execution_count": 3,
   "metadata": {},
   "outputs": [],
   "source": [
    "import pandas as pd\n",
    "import numpy as np\n",
    "import random\n",
    "\n",
    "import optuna\n",
    "from optuna.samplers import TPESampler\n",
    "from optuna.pruners import HyperbandPruner\n",
    "\n",
    "import rdkit\n",
    "from rdkit.Chem import AllChem, rdFingerprintGenerator\n",
    "from rdkit import Chem, DataStructs\n",
    "\n",
    "from sklearn.model_selection import train_test_split, StratifiedKFold, KFold\n",
    "from sklearn.metrics import mean_absolute_error, mean_squared_error\n",
    "from sklearn.preprocessing import StandardScaler, MinMaxScaler, LabelEncoder\n",
    "\n",
    "import matplotlib.pyplot as plt\n",
    "\n",
    "import xgboost as xgb"
   ]
  },
  {
   "cell_type": "code",
   "execution_count": 4,
   "metadata": {},
   "outputs": [],
   "source": [
    "RANDOM_SEED = 42"
   ]
  },
  {
   "cell_type": "code",
   "execution_count": 7,
   "metadata": {},
   "outputs": [],
   "source": [
    "def feature_engineer():\n",
    "  train_df = pd.read_csv(\"./data/train.csv\")\n",
    "  test_df = pd.read_csv(\"./data/test.csv\")\n",
    "  train_df[\"mol\"] = train_df[\"SMILES\"].apply(lambda x: Chem.MolFromSmiles(x))\n",
    "  test_df[\"mol\"] = test_df[\"SMILES\"].apply(lambda x: Chem.MolFromSmiles(x))\n",
    "  \n",
    "  train_df.drop(columns=[\"id\", \"SMILES\"], inplace=True)\n",
    "  test_df.drop(columns=[\"id\", \"SMILES\"], inplace=True)\n",
    "  \n",
    "  \n",
    "  fmgen = rdFingerprintGenerator.GetMorganGenerator()\n",
    "  train_fps = train_df[\"mol\"].apply(lambda x: fmgen.GetFingerprintAsNumPy(x))\n",
    "  train_fps = np.stack(train_fps)\n",
    "  test_fps = test_df[\"mol\"].apply(lambda x: fmgen.GetFingerprintAsNumPy(x))\n",
    "  test_fps = np.stack(test_fps)\n",
    "  \n",
    "  origin_train_features = train_df[[\"AlogP\", \"Molecular_Weight\", \"Num_H_Acceptors\", \"Num_H_Donors\", \"Num_RotatableBonds\", \"LogD\", \"Molecular_PolarSurfaceArea\"]].values\n",
    "  origin_test_features = test_df[[\"AlogP\", \"Molecular_Weight\", \"Num_H_Acceptors\", \"Num_H_Donors\", \"Num_RotatableBonds\", \"LogD\", \"Molecular_PolarSurfaceArea\"]].values\n",
    "  \n",
    "  train_features = np.append(origin_train_features, train_fps, axis=1)\n",
    "  test_features = np.append(origin_test_features, test_fps, axis=1)\n",
    "  target = train_df[\"MLM\"].values\n",
    "  \n",
    "  return train_features, target, test_features\n",
    "  "
   ]
  },
  {
   "cell_type": "code",
   "execution_count": 8,
   "metadata": {},
   "outputs": [],
   "source": [
    "train_x, train_y, test_x = feature_engineer()"
   ]
  },
  {
   "cell_type": "code",
   "execution_count": 9,
   "metadata": {},
   "outputs": [],
   "source": [
    "def create_model(param):\n",
    "  return xgb.XGBRegressor(\n",
    "    random_state=RANDOM_SEED,\n",
    "    tree_method=\"gpu_hist\",\n",
    "    eval_metric=\"rmse\",\n",
    "    early_stopping_rounds=50,\n",
    "    **param\n",
    "  )"
   ]
  },
  {
   "cell_type": "code",
   "execution_count": 10,
   "metadata": {},
   "outputs": [],
   "source": [
    "def train_model(param, X, y, X_test, trial=None):\n",
    "    skf = KFold(n_splits=5, shuffle=True, random_state=RANDOM_SEED)\n",
    "\n",
    "    val_scores = []\n",
    "    y_tests = []\n",
    "    models = []\n",
    "\n",
    "    for idx, (train_idx, val_idx) in enumerate(skf.split(X, y)):\n",
    "\n",
    "        X_train, y_train = X[train_idx], y[train_idx]\n",
    "        X_val, y_val = X[val_idx], y[val_idx]\n",
    "\n",
    "        model = create_model(param)\n",
    "        model.fit(X_train, y_train, eval_set=[(X_train, y_train), (X_val, y_val)], verbose=1000)\n",
    "\n",
    "        y_hat_val = model.predict(X_val)\n",
    "        score = mean_squared_error(y_val, y_hat_val, squared=True)\n",
    "        val_scores.append(score)\n",
    "        print(f'Fold: {idx+1}/5 score = {score:.5f}')\n",
    "\n",
    "        y_tests.append(model.predict(X_test))\n",
    "        models.append(model)\n",
    "\n",
    "        if trial:\n",
    "            trial.report(score, idx)\n",
    "\n",
    "            if trial.should_prune():\n",
    "                raise optuna.TrialPruned()\n",
    "\n",
    "    return val_scores, y_tests, models"
   ]
  },
  {
   "cell_type": "code",
   "execution_count": 11,
   "metadata": {},
   "outputs": [],
   "source": [
    "def objective_xgb(trial):\n",
    "    param = {\n",
    "        \"booster\": trial.suggest_categorical(\"booster\", [\"gbtree\", \"dart\"]),\n",
    "        \"lambda\": trial.suggest_float(\"lambda\", 1e-8, 1.0, log=True),\n",
    "        \"alpha\": trial.suggest_float(\"alpha\", 1e-8, 1.0, log=True),\n",
    "        \"subsample\": trial.suggest_float(\"subsample\", 0.1, 1.0),\n",
    "        \"colsample_bytree\": trial.suggest_float(\"colsample_bytree\", 0.1, 1.0),\n",
    "        \"n_estimators\": trial.suggest_int(\"n_estimators\", 100, 1000, step=100),\n",
    "        \"max_depth\": trial.suggest_int(\"max_depth\", 3, 9),\n",
    "        \"min_child_weight\": trial.suggest_int(\"min_child_weight\", 2, 10),\n",
    "        \"eta\": trial.suggest_float(\"eta\", 1e-8, 1.0, log=True),\n",
    "        \"gamma\": trial.suggest_float(\"gamma\", 1e-8, 1.0, log=True),\n",
    "        \"grow_policy\": trial.suggest_categorical(\"grow_policy\", [\"depthwise\", \"lossguide\"])\n",
    "    }\n",
    "\n",
    "    if param[\"booster\"] == \"dart\":\n",
    "        param['sample_type'] = trial.suggest_categorical('sample_type', ['uniform', 'weighted'])\n",
    "        param['normalize_type'] = trial.suggest_categorical('normalize_type', ['tree', 'forest'])\n",
    "        param['rate_drop'] = trial.suggest_float('rate_drop', 1e-8, 1.0, log=True)\n",
    "        param['skip_drop'] = trial.suggest_float('skip_drop', 1e-8, 1.0, log=True)\n",
    "\n",
    "    val_scores, y_tests, models = train_model(param, train_x, train_y, test_x, trial)\n",
    "\n",
    "    return sum(val_scores) / len(val_scores)"
   ]
  },
  {
   "cell_type": "code",
   "execution_count": 12,
   "metadata": {},
   "outputs": [
    {
     "name": "stderr",
     "output_type": "stream",
     "text": [
      "[I 2023-08-17 16:32:15,863] A new study created in memory with name: xgb_tuning\n"
     ]
    },
    {
     "name": "stdout",
     "output_type": "stream",
     "text": [
      "[0]\tvalidation_0-rmse:50.98355\tvalidation_1-rmse:52.01123\n",
      "[99]\tvalidation_0-rmse:40.43717\tvalidation_1-rmse:42.38212\n",
      "Fold: 1/5 score = 1796.24405\n",
      "[0]\tvalidation_0-rmse:50.48315\tvalidation_1-rmse:53.98357\n",
      "[99]\tvalidation_0-rmse:40.19955\tvalidation_1-rmse:43.92678\n",
      "Fold: 2/5 score = 1929.56236\n",
      "[0]\tvalidation_0-rmse:51.45789\tvalidation_1-rmse:50.11414\n",
      "[99]\tvalidation_0-rmse:40.98397\tvalidation_1-rmse:40.02995\n",
      "Fold: 3/5 score = 1602.39658\n",
      "[0]\tvalidation_0-rmse:51.30739\tvalidation_1-rmse:50.73809\n",
      "[99]\tvalidation_0-rmse:40.84358\tvalidation_1-rmse:40.63700\n",
      "Fold: 4/5 score = 1651.36592\n",
      "[0]\tvalidation_0-rmse:51.71924\tvalidation_1-rmse:48.98052\n",
      "[99]\tvalidation_0-rmse:40.98622\tvalidation_1-rmse:39.29252\n",
      "Fold: 5/5 score = 1543.90217\n"
     ]
    },
    {
     "name": "stderr",
     "output_type": "stream",
     "text": [
      "[I 2023-08-17 16:32:55,136] Trial 0 finished with value: 1704.694215564939 and parameters: {'booster': 'dart', 'lambda': 0.007177141927992002, 'alpha': 0.0006155564318973012, 'subsample': 0.24041677639819287, 'colsample_bytree': 0.2403950683025824, 'n_estimators': 100, 'max_depth': 9, 'min_child_weight': 7, 'eta': 0.004619347374377372, 'gamma': 1.4610865886287176e-08, 'grow_policy': 'depthwise', 'sample_type': 'uniform', 'normalize_type': 'forest', 'rate_drop': 0.00015777981883364995, 'skip_drop': 2.85469785779718e-05}. Best is trial 0 with value: 1704.694215564939.\n"
     ]
    },
    {
     "name": "stdout",
     "output_type": "stream",
     "text": [
      "[0]\tvalidation_0-rmse:51.10227\tvalidation_1-rmse:52.12406\n",
      "[799]\tvalidation_0-rmse:40.76321\tvalidation_1-rmse:42.51230\n",
      "Fold: 1/5 score = 1807.29536\n",
      "[0]\tvalidation_0-rmse:50.58859\tvalidation_1-rmse:54.09132\n",
      "[799]\tvalidation_0-rmse:40.52118\tvalidation_1-rmse:44.11498\n",
      "Fold: 2/5 score = 1946.13127\n",
      "[0]\tvalidation_0-rmse:51.57394\tvalidation_1-rmse:50.22936\n",
      "[799]\tvalidation_0-rmse:41.27051\tvalidation_1-rmse:40.05899\n",
      "Fold: 3/5 score = 1604.72286\n",
      "[0]\tvalidation_0-rmse:51.42142\tvalidation_1-rmse:50.85304\n",
      "[799]\tvalidation_0-rmse:41.21002\tvalidation_1-rmse:40.67425\n",
      "Fold: 4/5 score = 1654.39460\n",
      "[0]\tvalidation_0-rmse:51.84500\tvalidation_1-rmse:49.09808\n",
      "[799]\tvalidation_0-rmse:41.39511\tvalidation_1-rmse:39.41916\n",
      "Fold: 5/5 score = 1553.86991\n"
     ]
    },
    {
     "name": "stderr",
     "output_type": "stream",
     "text": [
      "[I 2023-08-17 17:08:55,442] Trial 1 finished with value: 1713.2827987879914 and parameters: {'booster': 'dart', 'lambda': 1.3060231803531604e-07, 'alpha': 2.1734877073417355e-06, 'subsample': 0.4297256589643226, 'colsample_bytree': 0.5104629857953323, 'n_estimators': 800, 'max_depth': 4, 'min_child_weight': 6, 'eta': 0.0005486767416600901, 'gamma': 2.3528990899815284e-08, 'grow_policy': 'depthwise', 'sample_type': 'weighted', 'normalize_type': 'tree', 'rate_drop': 2.734702913886802e-06, 'skip_drop': 6.044730070370796e-08}. Best is trial 0 with value: 1704.694215564939.\n"
     ]
    },
    {
     "name": "stdout",
     "output_type": "stream",
     "text": [
      "[0]\tvalidation_0-rmse:51.11530\tvalidation_1-rmse:52.13678\n",
      "[299]\tvalidation_0-rmse:49.75084\tvalidation_1-rmse:50.87072\n",
      "Fold: 1/5 score = 2587.83026\n",
      "[0]\tvalidation_0-rmse:50.60094\tvalidation_1-rmse:54.10303\n",
      "[299]\tvalidation_0-rmse:49.27149\tvalidation_1-rmse:52.80499\n",
      "Fold: 2/5 score = 2788.36697\n",
      "[0]\tvalidation_0-rmse:51.58725\tvalidation_1-rmse:50.24302\n",
      "[299]\tvalidation_0-rmse:50.22857\tvalidation_1-rmse:48.88983\n",
      "Fold: 3/5 score = 2390.21559\n",
      "[0]\tvalidation_0-rmse:51.43436\tvalidation_1-rmse:50.86620\n",
      "[299]\tvalidation_0-rmse:50.08485\tvalidation_1-rmse:49.52163\n"
     ]
    },
    {
     "name": "stderr",
     "output_type": "stream",
     "text": [
      "[I 2023-08-17 17:09:11,431] Trial 2 pruned. \n"
     ]
    },
    {
     "name": "stdout",
     "output_type": "stream",
     "text": [
      "Fold: 4/5 score = 2452.39221\n",
      "[0]\tvalidation_0-rmse:51.11933\tvalidation_1-rmse:52.14049\n",
      "[199]\tvalidation_0-rmse:51.04532\tvalidation_1-rmse:52.06919\n",
      "Fold: 1/5 score = 2711.20033\n",
      "[0]\tvalidation_0-rmse:50.60539\tvalidation_1-rmse:54.10734\n",
      "[199]\tvalidation_0-rmse:50.53332\tvalidation_1-rmse:54.03467\n",
      "Fold: 2/5 score = 2919.74595\n"
     ]
    },
    {
     "name": "stderr",
     "output_type": "stream",
     "text": [
      "[I 2023-08-17 17:10:08,749] Trial 3 pruned. \n"
     ]
    },
    {
     "name": "stdout",
     "output_type": "stream",
     "text": [
      "[0]\tvalidation_0-rmse:51.11969\tvalidation_1-rmse:52.14084\n",
      "[799]\tvalidation_0-rmse:51.11758\tvalidation_1-rmse:52.13882\n",
      "Fold: 1/5 score = 2718.45686\n",
      "[0]\tvalidation_0-rmse:50.60575\tvalidation_1-rmse:54.10769\n",
      "[799]\tvalidation_0-rmse:50.60369\tvalidation_1-rmse:54.10564\n",
      "Fold: 2/5 score = 2927.42041\n",
      "[0]\tvalidation_0-rmse:51.59186\tvalidation_1-rmse:50.24753\n",
      "[799]\tvalidation_0-rmse:51.58976\tvalidation_1-rmse:50.24540\n",
      "Fold: 3/5 score = 2524.59975\n",
      "[0]\tvalidation_0-rmse:51.43868\tvalidation_1-rmse:50.87059\n",
      "[799]\tvalidation_0-rmse:51.43659\tvalidation_1-rmse:50.86846\n"
     ]
    },
    {
     "name": "stderr",
     "output_type": "stream",
     "text": [
      "[I 2023-08-17 17:10:20,377] Trial 4 pruned. \n"
     ]
    },
    {
     "name": "stdout",
     "output_type": "stream",
     "text": [
      "Fold: 4/5 score = 2587.60069\n",
      "[0]\tvalidation_0-rmse:50.73804\tvalidation_1-rmse:51.77555\n",
      "[499]\tvalidation_0-rmse:27.93193\tvalidation_1-rmse:32.69985\n",
      "Fold: 1/5 score = 1069.18023\n",
      "[0]\tvalidation_0-rmse:50.22932\tvalidation_1-rmse:53.73419\n",
      "[499]\tvalidation_0-rmse:28.00438\tvalidation_1-rmse:32.58254\n",
      "Fold: 2/5 score = 1061.62159\n",
      "[0]\tvalidation_0-rmse:51.20595\tvalidation_1-rmse:49.85507\n",
      "[499]\tvalidation_0-rmse:28.46902\tvalidation_1-rmse:30.30190\n",
      "Fold: 3/5 score = 918.18395\n",
      "[0]\tvalidation_0-rmse:51.05945\tvalidation_1-rmse:50.48725\n",
      "[499]\tvalidation_0-rmse:28.52846\tvalidation_1-rmse:30.05484\n",
      "Fold: 4/5 score = 903.29320\n",
      "[0]\tvalidation_0-rmse:51.47565\tvalidation_1-rmse:48.74611\n",
      "[499]\tvalidation_0-rmse:28.40487\tvalidation_1-rmse:30.52020\n",
      "Fold: 5/5 score = 931.48271\n"
     ]
    },
    {
     "name": "stderr",
     "output_type": "stream",
     "text": [
      "[I 2023-08-17 17:24:34,680] Trial 5 finished with value: 976.7523359631439 and parameters: {'booster': 'dart', 'lambda': 3.994538177154855e-06, 'alpha': 0.006868302692995721, 'subsample': 0.6738017242196918, 'colsample_bytree': 0.8984914683186939, 'n_estimators': 500, 'max_depth': 3, 'min_child_weight': 8, 'eta': 0.012197768563438372, 'gamma': 0.0003091844051450647, 'grow_policy': 'depthwise', 'sample_type': 'uniform', 'normalize_type': 'forest', 'rate_drop': 1.784158714232739e-08, 'skip_drop': 0.0012339094493965515}. Best is trial 5 with value: 976.7523359631439.\n"
     ]
    },
    {
     "name": "stdout",
     "output_type": "stream",
     "text": [
      "[0]\tvalidation_0-rmse:51.11969\tvalidation_1-rmse:52.14083\n",
      "[299]\tvalidation_0-rmse:51.11786\tvalidation_1-rmse:52.13910\n",
      "Fold: 1/5 score = 2718.48531\n",
      "[0]\tvalidation_0-rmse:50.60574\tvalidation_1-rmse:54.10769\n",
      "[299]\tvalidation_0-rmse:50.60396\tvalidation_1-rmse:54.10592\n",
      "Fold: 2/5 score = 2927.45062\n"
     ]
    },
    {
     "name": "stderr",
     "output_type": "stream",
     "text": [
      "[I 2023-08-17 17:26:44,515] Trial 6 pruned. \n"
     ]
    },
    {
     "name": "stdout",
     "output_type": "stream",
     "text": [
      "[0]\tvalidation_0-rmse:51.11901\tvalidation_1-rmse:52.14019\n",
      "[899]\tvalidation_0-rmse:50.51113\tvalidation_1-rmse:51.55939\n",
      "Fold: 1/5 score = 2658.37091\n",
      "[0]\tvalidation_0-rmse:50.60507\tvalidation_1-rmse:54.10702\n",
      "[899]\tvalidation_0-rmse:50.01157\tvalidation_1-rmse:53.51609\n"
     ]
    },
    {
     "name": "stderr",
     "output_type": "stream",
     "text": [
      "[I 2023-08-17 17:26:51,593] Trial 7 pruned. \n"
     ]
    },
    {
     "name": "stdout",
     "output_type": "stream",
     "text": [
      "Fold: 2/5 score = 2863.97179\n",
      "[0]\tvalidation_0-rmse:51.11961\tvalidation_1-rmse:52.14077\n",
      "[999]\tvalidation_0-rmse:51.03789\tvalidation_1-rmse:52.06368\n",
      "Fold: 1/5 score = 2710.62679\n",
      "[0]\tvalidation_0-rmse:50.60567\tvalidation_1-rmse:54.10761\n",
      "[999]\tvalidation_0-rmse:50.52601\tvalidation_1-rmse:54.02920\n",
      "Fold: 2/5 score = 2919.15397\n",
      "[0]\tvalidation_0-rmse:51.59179\tvalidation_1-rmse:50.24745\n",
      "[999]\tvalidation_0-rmse:51.51029\tvalidation_1-rmse:50.16577\n",
      "Fold: 3/5 score = 2516.60401\n",
      "[0]\tvalidation_0-rmse:51.43860\tvalidation_1-rmse:50.87051\n",
      "[999]\tvalidation_0-rmse:51.35788\tvalidation_1-rmse:50.78895\n"
     ]
    },
    {
     "name": "stderr",
     "output_type": "stream",
     "text": [
      "[I 2023-08-17 17:27:15,220] Trial 8 pruned. \n"
     ]
    },
    {
     "name": "stdout",
     "output_type": "stream",
     "text": [
      "Fold: 4/5 score = 2579.51757\n",
      "[0]\tvalidation_0-rmse:51.04347\tvalidation_1-rmse:52.07268\n",
      "[499]\tvalidation_0-rmse:31.69968\tvalidation_1-rmse:35.88629\n",
      "Fold: 1/5 score = 1287.82607\n",
      "[0]\tvalidation_0-rmse:50.53226\tvalidation_1-rmse:54.03772\n",
      "[499]\tvalidation_0-rmse:31.74610\tvalidation_1-rmse:36.69970\n",
      "Fold: 2/5 score = 1346.86777\n",
      "[0]\tvalidation_0-rmse:51.52060\tvalidation_1-rmse:50.18088\n",
      "[499]\tvalidation_0-rmse:32.24949\tvalidation_1-rmse:33.19682\n",
      "Fold: 3/5 score = 1102.02868\n",
      "[0]\tvalidation_0-rmse:51.36274\tvalidation_1-rmse:50.79618\n",
      "[499]\tvalidation_0-rmse:32.33282\tvalidation_1-rmse:33.73577\n"
     ]
    },
    {
     "name": "stderr",
     "output_type": "stream",
     "text": [
      "[I 2023-08-17 17:27:46,233] Trial 9 pruned. \n"
     ]
    },
    {
     "name": "stdout",
     "output_type": "stream",
     "text": [
      "Fold: 4/5 score = 1138.10212\n",
      "[0]\tvalidation_0-rmse:36.98971\tvalidation_1-rmse:39.70031\n",
      "[350]\tvalidation_0-rmse:26.16274\tvalidation_1-rmse:32.56855\n",
      "Fold: 1/5 score = 1077.30833\n",
      "[0]\tvalidation_0-rmse:36.84533\tvalidation_1-rmse:40.99477\n",
      "[151]\tvalidation_0-rmse:26.42622\tvalidation_1-rmse:32.24312\n",
      "Fold: 2/5 score = 1138.46087\n",
      "[0]\tvalidation_0-rmse:37.24688\tvalidation_1-rmse:36.82287\n",
      "[355]\tvalidation_0-rmse:26.66154\tvalidation_1-rmse:30.27022\n",
      "Fold: 3/5 score = 920.67579\n",
      "[0]\tvalidation_0-rmse:37.43947\tvalidation_1-rmse:36.99923\n",
      "[117]\tvalidation_0-rmse:26.89579\tvalidation_1-rmse:30.03115\n",
      "Fold: 4/5 score = 1001.46198\n",
      "[0]\tvalidation_0-rmse:37.64505\tvalidation_1-rmse:36.57375\n",
      "[319]\tvalidation_0-rmse:26.64254\tvalidation_1-rmse:30.33718\n",
      "Fold: 5/5 score = 921.95080\n"
     ]
    },
    {
     "name": "stderr",
     "output_type": "stream",
     "text": [
      "[I 2023-08-17 17:31:54,160] Trial 10 finished with value: 1011.9715522801046 and parameters: {'booster': 'dart', 'lambda': 1.1177206837443211e-05, 'alpha': 0.5705541732383875, 'subsample': 0.6758183738140613, 'colsample_bytree': 0.6090517816132627, 'n_estimators': 600, 'max_depth': 6, 'min_child_weight': 10, 'eta': 0.4873745203681325, 'gamma': 0.000645467831303796, 'grow_policy': 'depthwise', 'sample_type': 'uniform', 'normalize_type': 'tree', 'rate_drop': 0.3331912580301703, 'skip_drop': 0.00042115877464331166}. Best is trial 5 with value: 976.7523359631439.\n"
     ]
    },
    {
     "name": "stdout",
     "output_type": "stream",
     "text": [
      "[0]\tvalidation_0-rmse:38.60467\tvalidation_1-rmse:41.25198\n",
      "[560]\tvalidation_0-rmse:28.25302\tvalidation_1-rmse:32.89934\n",
      "Fold: 1/5 score = 1090.56405\n",
      "[0]\tvalidation_0-rmse:38.41711\tvalidation_1-rmse:42.46735\n",
      "[599]\tvalidation_0-rmse:28.41293\tvalidation_1-rmse:32.77597\n",
      "Fold: 2/5 score = 1075.32443\n",
      "[0]\tvalidation_0-rmse:38.86651\tvalidation_1-rmse:38.20854\n",
      "[384]\tvalidation_0-rmse:28.77615\tvalidation_1-rmse:30.61216\n",
      "Fold: 3/5 score = 943.46345\n",
      "[0]\tvalidation_0-rmse:38.86135\tvalidation_1-rmse:38.31973\n",
      "[208]\tvalidation_0-rmse:28.98142\tvalidation_1-rmse:30.49340\n",
      "Fold: 4/5 score = 964.36244\n",
      "[0]\tvalidation_0-rmse:39.26896\tvalidation_1-rmse:38.00690\n",
      "[315]\tvalidation_0-rmse:28.84050\tvalidation_1-rmse:30.70667\n",
      "Fold: 5/5 score = 948.15226\n"
     ]
    },
    {
     "name": "stderr",
     "output_type": "stream",
     "text": [
      "[I 2023-08-17 17:40:19,287] Trial 11 finished with value: 1004.3733241816956 and parameters: {'booster': 'dart', 'lambda': 1.656077948267287e-05, 'alpha': 0.9802663137825812, 'subsample': 0.6977582128155022, 'colsample_bytree': 0.6298933988523241, 'n_estimators': 600, 'max_depth': 6, 'min_child_weight': 10, 'eta': 0.42156870021976606, 'gamma': 0.0010047809013524105, 'grow_policy': 'depthwise', 'sample_type': 'uniform', 'normalize_type': 'tree', 'rate_drop': 0.7299655753655673, 'skip_drop': 0.0009025783926527956}. Best is trial 5 with value: 976.7523359631439.\n"
     ]
    },
    {
     "name": "stdout",
     "output_type": "stream",
     "text": [
      "[0]\tvalidation_0-rmse:33.74198\tvalidation_1-rmse:37.15789\n",
      "[100]\tvalidation_0-rmse:28.53381\tvalidation_1-rmse:32.93091\n",
      "Fold: 1/5 score = 1333.19324\n",
      "[0]\tvalidation_0-rmse:33.70848\tvalidation_1-rmse:37.95393\n",
      "[176]\tvalidation_0-rmse:28.70127\tvalidation_1-rmse:32.88076\n",
      "Fold: 2/5 score = 1209.17274\n",
      "[0]\tvalidation_0-rmse:34.03863\tvalidation_1-rmse:34.20394\n",
      "[207]\tvalidation_0-rmse:29.02019\tvalidation_1-rmse:30.68061\n",
      "Fold: 3/5 score = 982.38820\n",
      "[0]\tvalidation_0-rmse:34.40680\tvalidation_1-rmse:34.21122\n",
      "[108]\tvalidation_0-rmse:29.27885\tvalidation_1-rmse:30.64328\n",
      "Fold: 4/5 score = 1141.20925\n"
     ]
    },
    {
     "name": "stderr",
     "output_type": "stream",
     "text": [
      "[I 2023-08-17 17:41:11,745] Trial 12 pruned. \n"
     ]
    },
    {
     "name": "stdout",
     "output_type": "stream",
     "text": [
      "[0]\tvalidation_0-rmse:49.96027\tvalidation_1-rmse:51.10945\n",
      "[294]\tvalidation_0-rmse:18.84101\tvalidation_1-rmse:32.46088\n",
      "Fold: 1/5 score = 1048.86898\n",
      "[0]\tvalidation_0-rmse:49.47517\tvalidation_1-rmse:53.03877\n",
      "[267]\tvalidation_0-rmse:19.55440\tvalidation_1-rmse:32.39786\n",
      "Fold: 2/5 score = 1047.53715\n",
      "[0]\tvalidation_0-rmse:50.41041\tvalidation_1-rmse:49.12169\n",
      "[274]\tvalidation_0-rmse:19.87069\tvalidation_1-rmse:30.05849\n",
      "Fold: 3/5 score = 902.07468\n",
      "[0]\tvalidation_0-rmse:50.25976\tvalidation_1-rmse:49.71180\n",
      "[288]\tvalidation_0-rmse:19.46229\tvalidation_1-rmse:29.82679\n",
      "Fold: 4/5 score = 888.56203\n",
      "[0]\tvalidation_0-rmse:50.68503\tvalidation_1-rmse:48.06367\n",
      "[271]\tvalidation_0-rmse:19.76420\tvalidation_1-rmse:29.80972\n",
      "Fold: 5/5 score = 885.43757\n"
     ]
    },
    {
     "name": "stderr",
     "output_type": "stream",
     "text": [
      "[I 2023-08-17 17:45:52,098] Trial 13 finished with value: 954.4960826445313 and parameters: {'booster': 'dart', 'lambda': 0.0004115646636381647, 'alpha': 0.02275951027248166, 'subsample': 0.7900221692433886, 'colsample_bytree': 0.48700934236258314, 'n_estimators': 500, 'max_depth': 7, 'min_child_weight': 8, 'eta': 0.034769614608622636, 'gamma': 4.961917338227354e-05, 'grow_policy': 'depthwise', 'sample_type': 'uniform', 'normalize_type': 'tree', 'rate_drop': 1.1423603259887504e-08, 'skip_drop': 2.9612090978670148e-05}. Best is trial 13 with value: 954.4960826445313.\n"
     ]
    },
    {
     "name": "stdout",
     "output_type": "stream",
     "text": [
      "[0]\tvalidation_0-rmse:50.34089\tvalidation_1-rmse:51.43675\n",
      "[293]\tvalidation_0-rmse:20.62230\tvalidation_1-rmse:32.33831\n",
      "Fold: 1/5 score = 1043.61105\n",
      "[0]\tvalidation_0-rmse:49.84711\tvalidation_1-rmse:53.38859\n",
      "[399]\tvalidation_0-rmse:19.14724\tvalidation_1-rmse:32.39624\n",
      "Fold: 2/5 score = 1047.54426\n",
      "[0]\tvalidation_0-rmse:50.79495\tvalidation_1-rmse:49.48053\n",
      "[265]\tvalidation_0-rmse:21.72825\tvalidation_1-rmse:30.19002\n",
      "Fold: 3/5 score = 910.42779\n",
      "[0]\tvalidation_0-rmse:50.64585\tvalidation_1-rmse:50.09267\n",
      "[399]\tvalidation_0-rmse:19.64893\tvalidation_1-rmse:29.64790\n",
      "Fold: 4/5 score = 878.77321\n",
      "[0]\tvalidation_0-rmse:51.07081\tvalidation_1-rmse:48.40810\n",
      "[399]\tvalidation_0-rmse:19.56217\tvalidation_1-rmse:29.85009\n",
      "Fold: 5/5 score = 890.82544\n"
     ]
    },
    {
     "name": "stderr",
     "output_type": "stream",
     "text": [
      "[I 2023-08-17 17:53:16,190] Trial 14 finished with value: 954.2363503801928 and parameters: {'booster': 'dart', 'lambda': 0.0006762676686783942, 'alpha': 0.01609159480975798, 'subsample': 0.8371995306578522, 'colsample_bytree': 0.4925855539333315, 'n_estimators': 400, 'max_depth': 7, 'min_child_weight': 8, 'eta': 0.023281960539576443, 'gamma': 4.1004152149798e-05, 'grow_policy': 'depthwise', 'sample_type': 'uniform', 'normalize_type': 'forest', 'rate_drop': 2.4812209254251174e-08, 'skip_drop': 4.731543457571597e-06}. Best is trial 14 with value: 954.2363503801928.\n"
     ]
    },
    {
     "name": "stdout",
     "output_type": "stream",
     "text": [
      "[0]\tvalidation_0-rmse:49.93358\tvalidation_1-rmse:51.12241\n",
      "[256]\tvalidation_0-rmse:13.09946\tvalidation_1-rmse:32.76037\n",
      "Fold: 1/5 score = 1069.24181\n",
      "[0]\tvalidation_0-rmse:49.44770\tvalidation_1-rmse:53.08001\n",
      "[226]\tvalidation_0-rmse:14.01484\tvalidation_1-rmse:32.69933\n",
      "Fold: 2/5 score = 1065.52455\n",
      "[0]\tvalidation_0-rmse:50.38329\tvalidation_1-rmse:49.13490\n",
      "[193]\tvalidation_0-rmse:15.40667\tvalidation_1-rmse:30.24334\n",
      "Fold: 3/5 score = 911.23468\n",
      "[0]\tvalidation_0-rmse:50.24167\tvalidation_1-rmse:49.77012\n",
      "[248]\tvalidation_0-rmse:13.86035\tvalidation_1-rmse:29.80100\n",
      "Fold: 4/5 score = 885.33470\n",
      "[0]\tvalidation_0-rmse:50.64863\tvalidation_1-rmse:48.07882\n",
      "[220]\tvalidation_0-rmse:14.28686\tvalidation_1-rmse:30.07999\n",
      "Fold: 5/5 score = 903.07394\n"
     ]
    },
    {
     "name": "stderr",
     "output_type": "stream",
     "text": [
      "[I 2023-08-17 17:56:30,731] Trial 15 finished with value: 966.8819338854988 and parameters: {'booster': 'dart', 'lambda': 0.0010400774602416522, 'alpha': 0.04120391548740278, 'subsample': 0.8920908906954158, 'colsample_bytree': 0.43381159243521583, 'n_estimators': 400, 'max_depth': 8, 'min_child_weight': 2, 'eta': 0.034062941139685554, 'gamma': 2.8501143711630568e-05, 'grow_policy': 'depthwise', 'sample_type': 'uniform', 'normalize_type': 'forest', 'rate_drop': 1.9630739918526997e-08, 'skip_drop': 3.86333121797938e-06}. Best is trial 14 with value: 954.2363503801928.\n"
     ]
    },
    {
     "name": "stdout",
     "output_type": "stream",
     "text": [
      "[0]\tvalidation_0-rmse:49.32643\tvalidation_1-rmse:50.54414\n",
      "[167]\tvalidation_0-rmse:19.66857\tvalidation_1-rmse:32.25208\n",
      "Fold: 1/5 score = 1037.66947\n",
      "[0]\tvalidation_0-rmse:48.86619\tvalidation_1-rmse:52.45612\n",
      "[183]\tvalidation_0-rmse:19.16252\tvalidation_1-rmse:32.42064\n",
      "Fold: 2/5 score = 1045.10372\n",
      "[0]\tvalidation_0-rmse:49.76686\tvalidation_1-rmse:48.50828\n",
      "[223]\tvalidation_0-rmse:18.62385\tvalidation_1-rmse:30.03113\n",
      "Fold: 3/5 score = 894.87590\n",
      "[0]\tvalidation_0-rmse:49.61942\tvalidation_1-rmse:49.15592\n",
      "[241]\tvalidation_0-rmse:18.04355\tvalidation_1-rmse:29.67055\n",
      "Fold: 4/5 score = 876.60151\n",
      "[0]\tvalidation_0-rmse:50.05397\tvalidation_1-rmse:47.47320\n",
      "[249]\tvalidation_0-rmse:18.01071\tvalidation_1-rmse:29.76919\n",
      "Fold: 5/5 score = 882.95447\n"
     ]
    },
    {
     "name": "stderr",
     "output_type": "stream",
     "text": [
      "[I 2023-08-17 17:59:18,637] Trial 16 finished with value: 947.4410144296698 and parameters: {'booster': 'dart', 'lambda': 0.0026377247595962727, 'alpha': 7.483780511102761e-05, 'subsample': 0.8280537243135858, 'colsample_bytree': 0.37588574594589486, 'n_estimators': 400, 'max_depth': 7, 'min_child_weight': 8, 'eta': 0.05393761227911353, 'gamma': 4.291867724531988e-05, 'grow_policy': 'depthwise', 'sample_type': 'weighted', 'normalize_type': 'tree', 'rate_drop': 5.145690154427874e-07, 'skip_drop': 1.3546656519467045e-06}. Best is trial 16 with value: 947.4410144296698.\n"
     ]
    },
    {
     "name": "stdout",
     "output_type": "stream",
     "text": [
      "[0]\tvalidation_0-rmse:51.09032\tvalidation_1-rmse:52.11355\n",
      "[299]\tvalidation_0-rmse:43.78643\tvalidation_1-rmse:45.65201\n",
      "Fold: 1/5 score = 2084.10604\n",
      "[0]\tvalidation_0-rmse:50.57698\tvalidation_1-rmse:54.08174\n",
      "[299]\tvalidation_0-rmse:43.44377\tvalidation_1-rmse:47.40085\n",
      "Fold: 2/5 score = 2246.84071\n"
     ]
    },
    {
     "name": "stderr",
     "output_type": "stream",
     "text": [
      "[I 2023-08-17 18:01:26,051] Trial 17 pruned. \n"
     ]
    },
    {
     "name": "stdout",
     "output_type": "stream",
     "text": [
      "[0]\tvalidation_0-rmse:49.32765\tvalidation_1-rmse:50.43020\n",
      "[247]\tvalidation_0-rmse:22.41045\tvalidation_1-rmse:32.57214\n",
      "Fold: 1/5 score = 1059.78087\n",
      "[0]\tvalidation_0-rmse:48.87358\tvalidation_1-rmse:52.34994\n",
      "[293]\tvalidation_0-rmse:21.77035\tvalidation_1-rmse:32.50962\n",
      "Fold: 2/5 score = 1051.63885\n",
      "[0]\tvalidation_0-rmse:49.77368\tvalidation_1-rmse:48.47540\n",
      "[259]\tvalidation_0-rmse:22.64957\tvalidation_1-rmse:30.39951\n",
      "Fold: 3/5 score = 917.18914\n",
      "[0]\tvalidation_0-rmse:49.63396\tvalidation_1-rmse:49.06344\n",
      "[367]\tvalidation_0-rmse:21.12347\tvalidation_1-rmse:29.66445\n",
      "Fold: 4/5 score = 878.06704\n",
      "[0]\tvalidation_0-rmse:50.05798\tvalidation_1-rmse:47.43278\n",
      "[356]\tvalidation_0-rmse:21.13430\tvalidation_1-rmse:30.21699\n",
      "Fold: 5/5 score = 912.05758\n"
     ]
    },
    {
     "name": "stderr",
     "output_type": "stream",
     "text": [
      "[I 2023-08-17 18:07:05,385] Trial 18 finished with value: 963.7466969253835 and parameters: {'booster': 'dart', 'lambda': 0.01577856402756374, 'alpha': 4.5396233208247835e-05, 'subsample': 0.8358713998596361, 'colsample_bytree': 0.11295452826394886, 'n_estimators': 400, 'max_depth': 5, 'min_child_weight': 9, 'eta': 0.0634785024134716, 'gamma': 9.385435283793485e-06, 'grow_policy': 'lossguide', 'sample_type': 'weighted', 'normalize_type': 'tree', 'rate_drop': 7.869989362098473e-07, 'skip_drop': 2.257598346321336e-08}. Best is trial 16 with value: 947.4410144296698.\n"
     ]
    },
    {
     "name": "stdout",
     "output_type": "stream",
     "text": [
      "[0]\tvalidation_0-rmse:50.93077\tvalidation_1-rmse:51.97269\n",
      "[99]\tvalidation_0-rmse:37.91337\tvalidation_1-rmse:40.74870\n",
      "Fold: 1/5 score = 1660.45648\n",
      "[0]\tvalidation_0-rmse:50.42042\tvalidation_1-rmse:53.93499\n",
      "[99]\tvalidation_0-rmse:37.75127\tvalidation_1-rmse:42.23883\n",
      "Fold: 2/5 score = 1784.11862\n"
     ]
    },
    {
     "name": "stderr",
     "output_type": "stream",
     "text": [
      "[I 2023-08-17 18:07:20,935] Trial 19 pruned. \n"
     ]
    },
    {
     "name": "stdout",
     "output_type": "stream",
     "text": [
      "[0]\tvalidation_0-rmse:44.86198\tvalidation_1-rmse:46.61957\n",
      "[76]\tvalidation_0-rmse:14.62575\tvalidation_1-rmse:33.33046\n",
      "Fold: 1/5 score = 1090.79996\n",
      "[0]\tvalidation_0-rmse:44.52708\tvalidation_1-rmse:48.60829\n",
      "[85]\tvalidation_0-rmse:13.78012\tvalidation_1-rmse:33.51435\n",
      "Fold: 2/5 score = 1099.80797\n",
      "[0]\tvalidation_0-rmse:45.27742\tvalidation_1-rmse:44.28394\n",
      "[71]\tvalidation_0-rmse:15.27439\tvalidation_1-rmse:30.92074\n",
      "Fold: 3/5 score = 927.65675\n",
      "[0]\tvalidation_0-rmse:45.18445\tvalidation_1-rmse:45.03245\n",
      "[69]\tvalidation_0-rmse:15.74924\tvalidation_1-rmse:30.17158\n",
      "Fold: 4/5 score = 883.97950\n",
      "[0]\tvalidation_0-rmse:45.55827\tvalidation_1-rmse:43.41530\n",
      "[66]\tvalidation_0-rmse:15.46761\tvalidation_1-rmse:30.92310\n"
     ]
    },
    {
     "name": "stderr",
     "output_type": "stream",
     "text": [
      "[I 2023-08-17 18:07:42,835] Trial 20 finished with value: 990.0465050138852 and parameters: {'booster': 'dart', 'lambda': 0.6485964975212271, 'alpha': 0.0007187209958833317, 'subsample': 0.9928522833123985, 'colsample_bytree': 0.3803401941100095, 'n_estimators': 700, 'max_depth': 8, 'min_child_weight': 7, 'eta': 0.1914437474153969, 'gamma': 9.84603559331648e-06, 'grow_policy': 'depthwise', 'sample_type': 'weighted', 'normalize_type': 'forest', 'rate_drop': 8.034900469625193e-06, 'skip_drop': 2.3713016061923255e-07}. Best is trial 16 with value: 947.4410144296698.\n"
     ]
    },
    {
     "name": "stdout",
     "output_type": "stream",
     "text": [
      "Fold: 5/5 score = 947.98835\n",
      "[0]\tvalidation_0-rmse:50.04418\tvalidation_1-rmse:51.17737\n",
      "[227]\tvalidation_0-rmse:20.60348\tvalidation_1-rmse:32.41180\n",
      "Fold: 1/5 score = 1048.09498\n",
      "[0]\tvalidation_0-rmse:49.54510\tvalidation_1-rmse:53.09150\n",
      "[240]\tvalidation_0-rmse:20.43499\tvalidation_1-rmse:32.46866\n",
      "Fold: 2/5 score = 1050.07652\n",
      "[0]\tvalidation_0-rmse:50.48666\tvalidation_1-rmse:49.22261\n",
      "[355]\tvalidation_0-rmse:18.48510\tvalidation_1-rmse:29.94165\n",
      "Fold: 3/5 score = 890.72706\n",
      "[0]\tvalidation_0-rmse:50.34013\tvalidation_1-rmse:49.77897\n",
      "[236]\tvalidation_0-rmse:20.84545\tvalidation_1-rmse:29.77307\n",
      "Fold: 4/5 score = 883.93513\n",
      "[0]\tvalidation_0-rmse:50.75852\tvalidation_1-rmse:48.12192\n",
      "[344]\tvalidation_0-rmse:18.58175\tvalidation_1-rmse:29.81997\n",
      "Fold: 5/5 score = 886.02363\n"
     ]
    },
    {
     "name": "stderr",
     "output_type": "stream",
     "text": [
      "[I 2023-08-17 18:12:32,607] Trial 21 finished with value: 951.7714630689889 and parameters: {'booster': 'dart', 'lambda': 0.0003813359914475584, 'alpha': 0.0040198844687749915, 'subsample': 0.8077258291772774, 'colsample_bytree': 0.5052689768238193, 'n_estimators': 400, 'max_depth': 7, 'min_child_weight': 8, 'eta': 0.032352419449280634, 'gamma': 9.7409040368301e-05, 'grow_policy': 'depthwise', 'sample_type': 'uniform', 'normalize_type': 'tree', 'rate_drop': 1.2100059663303176e-08, 'skip_drop': 9.747266725154733e-06}. Best is trial 16 with value: 947.4410144296698.\n"
     ]
    },
    {
     "name": "stdout",
     "output_type": "stream",
     "text": [
      "[0]\tvalidation_0-rmse:47.85326\tvalidation_1-rmse:49.26390\n",
      "[121]\tvalidation_0-rmse:17.90075\tvalidation_1-rmse:32.28005\n",
      "Fold: 1/5 score = 1041.30048\n",
      "[0]\tvalidation_0-rmse:47.40622\tvalidation_1-rmse:51.12486\n",
      "[115]\tvalidation_0-rmse:18.46656\tvalidation_1-rmse:32.41849\n",
      "Fold: 2/5 score = 1039.55397\n",
      "[0]\tvalidation_0-rmse:48.24085\tvalidation_1-rmse:47.01305\n",
      "[151]\tvalidation_0-rmse:17.09919\tvalidation_1-rmse:30.51544\n",
      "Fold: 3/5 score = 916.34057\n",
      "[0]\tvalidation_0-rmse:48.12198\tvalidation_1-rmse:47.61284\n",
      "[110]\tvalidation_0-rmse:19.11979\tvalidation_1-rmse:29.99485\n",
      "Fold: 4/5 score = 890.90948\n"
     ]
    },
    {
     "name": "stderr",
     "output_type": "stream",
     "text": [
      "[I 2023-08-17 18:13:19,800] Trial 22 pruned. \n"
     ]
    },
    {
     "name": "stdout",
     "output_type": "stream",
     "text": [
      "[0]\tvalidation_0-rmse:50.74508\tvalidation_1-rmse:51.79513\n",
      "[199]\tvalidation_0-rmse:28.22347\tvalidation_1-rmse:33.14699\n",
      "Fold: 1/5 score = 1098.72317\n",
      "[0]\tvalidation_0-rmse:50.23546\tvalidation_1-rmse:53.74579\n",
      "[199]\tvalidation_0-rmse:28.26071\tvalidation_1-rmse:33.41377\n",
      "Fold: 2/5 score = 1116.48024\n"
     ]
    },
    {
     "name": "stderr",
     "output_type": "stream",
     "text": [
      "[I 2023-08-17 18:14:17,693] Trial 23 pruned. \n"
     ]
    },
    {
     "name": "stdout",
     "output_type": "stream",
     "text": [
      "[0]\tvalidation_0-rmse:47.61760\tvalidation_1-rmse:49.16429\n",
      "[112]\tvalidation_0-rmse:16.35808\tvalidation_1-rmse:32.92934\n",
      "Fold: 1/5 score = 1054.90769\n",
      "[0]\tvalidation_0-rmse:47.19452\tvalidation_1-rmse:50.84929\n",
      "[108]\tvalidation_0-rmse:16.58038\tvalidation_1-rmse:32.54017\n",
      "Fold: 2/5 score = 1038.42797\n",
      "[0]\tvalidation_0-rmse:48.13140\tvalidation_1-rmse:47.03303\n",
      "[95]\tvalidation_0-rmse:17.79185\tvalidation_1-rmse:30.80310\n",
      "Fold: 3/5 score = 936.09592\n",
      "[0]\tvalidation_0-rmse:47.98121\tvalidation_1-rmse:47.50865\n",
      "[141]\tvalidation_0-rmse:15.23629\tvalidation_1-rmse:30.46770\n",
      "Fold: 4/5 score = 913.35032\n"
     ]
    },
    {
     "name": "stderr",
     "output_type": "stream",
     "text": [
      "[I 2023-08-17 18:14:58,268] Trial 24 pruned. \n"
     ]
    },
    {
     "name": "stdout",
     "output_type": "stream",
     "text": [
      "[0]\tvalidation_0-rmse:50.45147\tvalidation_1-rmse:51.54029\n",
      "[199]\tvalidation_0-rmse:25.11114\tvalidation_1-rmse:32.49438\n",
      "Fold: 1/5 score = 1055.88442\n",
      "[0]\tvalidation_0-rmse:49.95034\tvalidation_1-rmse:53.48420\n",
      "[199]\tvalidation_0-rmse:25.53010\tvalidation_1-rmse:32.53008\n",
      "Fold: 2/5 score = 1058.01622\n",
      "[0]\tvalidation_0-rmse:50.91537\tvalidation_1-rmse:49.58603\n",
      "[199]\tvalidation_0-rmse:25.65017\tvalidation_1-rmse:30.09658\n",
      "Fold: 3/5 score = 905.52653\n",
      "[0]\tvalidation_0-rmse:50.77648\tvalidation_1-rmse:50.21299\n",
      "[199]\tvalidation_0-rmse:25.86511\tvalidation_1-rmse:30.01540\n",
      "Fold: 4/5 score = 900.10787\n"
     ]
    },
    {
     "name": "stderr",
     "output_type": "stream",
     "text": [
      "[I 2023-08-17 18:16:53,442] Trial 25 pruned. \n"
     ]
    },
    {
     "name": "stdout",
     "output_type": "stream",
     "text": [
      "[0]\tvalidation_0-rmse:30.02418\tvalidation_1-rmse:35.41652\n",
      "[50]\tvalidation_0-rmse:16.45162\tvalidation_1-rmse:43.64049\n",
      "Fold: 1/5 score = 1254.32996\n",
      "[0]\tvalidation_0-rmse:30.35448\tvalidation_1-rmse:35.15429\n",
      "[51]\tvalidation_0-rmse:15.75518\tvalidation_1-rmse:44.67826\n"
     ]
    },
    {
     "name": "stderr",
     "output_type": "stream",
     "text": [
      "[I 2023-08-17 18:16:54,977] Trial 26 pruned. \n"
     ]
    },
    {
     "name": "stdout",
     "output_type": "stream",
     "text": [
      "Fold: 2/5 score = 1231.87436\n",
      "[0]\tvalidation_0-rmse:51.07114\tvalidation_1-rmse:52.09535\n",
      "[499]\tvalidation_0-rmse:36.07740\tvalidation_1-rmse:38.74968\n",
      "Fold: 1/5 score = 1501.53796\n",
      "[0]\tvalidation_0-rmse:50.55841\tvalidation_1-rmse:54.06152\n",
      "[499]\tvalidation_0-rmse:35.94621\tvalidation_1-rmse:40.03128\n",
      "Fold: 2/5 score = 1602.50296\n",
      "[0]\tvalidation_0-rmse:51.54317\tvalidation_1-rmse:50.19864\n",
      "[499]\tvalidation_0-rmse:36.53548\tvalidation_1-rmse:36.12490\n",
      "Fold: 3/5 score = 1305.00817\n",
      "[0]\tvalidation_0-rmse:51.39051\tvalidation_1-rmse:50.82183\n",
      "[499]\tvalidation_0-rmse:36.57070\tvalidation_1-rmse:36.64516\n",
      "Fold: 4/5 score = 1342.86772\n"
     ]
    },
    {
     "name": "stderr",
     "output_type": "stream",
     "text": [
      "[I 2023-08-17 18:28:14,620] Trial 27 pruned. \n"
     ]
    },
    {
     "name": "stdout",
     "output_type": "stream",
     "text": [
      "[0]\tvalidation_0-rmse:50.80932\tvalidation_1-rmse:51.85585\n",
      "[587]\tvalidation_0-rmse:20.53526\tvalidation_1-rmse:32.46213\n",
      "Fold: 1/5 score = 1053.08775\n",
      "[0]\tvalidation_0-rmse:50.29588\tvalidation_1-rmse:53.79978\n",
      "[584]\tvalidation_0-rmse:20.67315\tvalidation_1-rmse:32.21436\n",
      "Fold: 2/5 score = 1037.53530\n",
      "[0]\tvalidation_0-rmse:51.27191\tvalidation_1-rmse:49.93864\n",
      "[477]\tvalidation_0-rmse:22.06866\tvalidation_1-rmse:29.95296\n",
      "Fold: 3/5 score = 895.40396\n",
      "[0]\tvalidation_0-rmse:51.13364\tvalidation_1-rmse:50.57159\n",
      "[699]\tvalidation_0-rmse:20.01283\tvalidation_1-rmse:29.53726\n",
      "Fold: 4/5 score = 872.30239\n",
      "[0]\tvalidation_0-rmse:51.53908\tvalidation_1-rmse:48.82761\n",
      "[699]\tvalidation_0-rmse:19.89956\tvalidation_1-rmse:29.95007\n",
      "Fold: 5/5 score = 896.28561\n"
     ]
    },
    {
     "name": "stderr",
     "output_type": "stream",
     "text": [
      "[I 2023-08-17 18:50:26,435] Trial 28 finished with value: 950.9230014857078 and parameters: {'booster': 'dart', 'lambda': 4.2374480987417556e-05, 'alpha': 0.0019138160466205738, 'subsample': 0.6001724763521068, 'colsample_bytree': 0.28375747413678976, 'n_estimators': 700, 'max_depth': 8, 'min_child_weight': 5, 'eta': 0.010611765900639858, 'gamma': 0.0005092596102992262, 'grow_policy': 'depthwise', 'sample_type': 'uniform', 'normalize_type': 'tree', 'rate_drop': 4.7527153040389626e-07, 'skip_drop': 8.327262295808454e-06}. Best is trial 16 with value: 947.4410144296698.\n"
     ]
    },
    {
     "name": "stdout",
     "output_type": "stream",
     "text": [
      "[0]\tvalidation_0-rmse:50.95694\tvalidation_1-rmse:51.99926\n",
      "[699]\tvalidation_0-rmse:22.48258\tvalidation_1-rmse:32.48985\n",
      "Fold: 1/5 score = 1055.59011\n",
      "[0]\tvalidation_0-rmse:50.44497\tvalidation_1-rmse:53.95393\n",
      "[699]\tvalidation_0-rmse:22.60075\tvalidation_1-rmse:32.45177\n",
      "Fold: 2/5 score = 1053.11763\n",
      "[0]\tvalidation_0-rmse:51.43099\tvalidation_1-rmse:50.09052\n",
      "[699]\tvalidation_0-rmse:22.91607\tvalidation_1-rmse:30.04365\n",
      "Fold: 3/5 score = 902.62121\n",
      "[0]\tvalidation_0-rmse:51.28421\tvalidation_1-rmse:50.71923\n",
      "[699]\tvalidation_0-rmse:23.05660\tvalidation_1-rmse:29.80452\n",
      "Fold: 4/5 score = 888.30947\n"
     ]
    },
    {
     "name": "stderr",
     "output_type": "stream",
     "text": [
      "[I 2023-08-17 19:12:54,369] Trial 29 pruned. \n"
     ]
    },
    {
     "name": "stdout",
     "output_type": "stream",
     "text": [
      "[0]\tvalidation_0-rmse:47.51234\tvalidation_1-rmse:48.95493\n",
      "[89]\tvalidation_0-rmse:13.24845\tvalidation_1-rmse:33.48006\n",
      "Fold: 1/5 score = 1108.78415\n",
      "[0]\tvalidation_0-rmse:47.15887\tvalidation_1-rmse:50.81682\n",
      "[85]\tvalidation_0-rmse:13.70404\tvalidation_1-rmse:32.86171\n",
      "Fold: 2/5 score = 1051.72034\n",
      "[0]\tvalidation_0-rmse:47.88988\tvalidation_1-rmse:46.66760\n",
      "[96]\tvalidation_0-rmse:13.12564\tvalidation_1-rmse:30.84691\n",
      "Fold: 3/5 score = 932.17642\n",
      "[0]\tvalidation_0-rmse:47.84996\tvalidation_1-rmse:47.59441\n",
      "[126]\tvalidation_0-rmse:11.25813\tvalidation_1-rmse:30.79337\n",
      "Fold: 4/5 score = 928.71304\n"
     ]
    },
    {
     "name": "stderr",
     "output_type": "stream",
     "text": [
      "[I 2023-08-17 19:13:25,712] Trial 30 pruned. \n"
     ]
    },
    {
     "name": "stdout",
     "output_type": "stream",
     "text": [
      "[0]\tvalidation_0-rmse:50.64125\tvalidation_1-rmse:51.69552\n",
      "[399]\tvalidation_0-rmse:19.35904\tvalidation_1-rmse:32.39648\n",
      "Fold: 1/5 score = 1049.40505\n",
      "[0]\tvalidation_0-rmse:50.13332\tvalidation_1-rmse:53.67898\n",
      "[399]\tvalidation_0-rmse:19.33419\tvalidation_1-rmse:32.23945\n",
      "Fold: 2/5 score = 1039.06874\n",
      "[0]\tvalidation_0-rmse:51.10579\tvalidation_1-rmse:49.79208\n",
      "[399]\tvalidation_0-rmse:19.74659\tvalidation_1-rmse:30.03456\n",
      "Fold: 3/5 score = 901.57970\n",
      "[0]\tvalidation_0-rmse:50.95359\tvalidation_1-rmse:50.40441\n",
      "[399]\tvalidation_0-rmse:19.85316\tvalidation_1-rmse:29.51216\n",
      "Fold: 4/5 score = 870.96737\n",
      "[0]\tvalidation_0-rmse:51.37996\tvalidation_1-rmse:48.69025\n",
      "[399]\tvalidation_0-rmse:19.59337\tvalidation_1-rmse:30.02939\n",
      "Fold: 5/5 score = 900.22196\n"
     ]
    },
    {
     "name": "stderr",
     "output_type": "stream",
     "text": [
      "[I 2023-08-17 19:22:56,308] Trial 31 finished with value: 952.2485634209963 and parameters: {'booster': 'dart', 'lambda': 0.00037330154124299024, 'alpha': 0.016698062631054382, 'subsample': 0.7795002808277884, 'colsample_bytree': 0.4036629629468833, 'n_estimators': 400, 'max_depth': 8, 'min_child_weight': 5, 'eta': 0.014056880687838409, 'gamma': 0.00028434072740068494, 'grow_policy': 'depthwise', 'sample_type': 'uniform', 'normalize_type': 'tree', 'rate_drop': 3.938738422124027e-08, 'skip_drop': 1.2807447230150285e-06}. Best is trial 16 with value: 947.4410144296698.\n"
     ]
    },
    {
     "name": "stdout",
     "output_type": "stream",
     "text": [
      "[0]\tvalidation_0-rmse:50.98847\tvalidation_1-rmse:52.02240\n",
      "[799]\tvalidation_0-rmse:22.80290\tvalidation_1-rmse:32.51685\n",
      "Fold: 1/5 score = 1057.34521\n",
      "[0]\tvalidation_0-rmse:50.47733\tvalidation_1-rmse:53.98544\n",
      "[799]\tvalidation_0-rmse:22.98278\tvalidation_1-rmse:32.59527\n",
      "Fold: 2/5 score = 1062.45142\n",
      "[0]\tvalidation_0-rmse:51.45849\tvalidation_1-rmse:50.12610\n",
      "[799]\tvalidation_0-rmse:23.24942\tvalidation_1-rmse:30.13108\n",
      "Fold: 3/5 score = 907.76307\n",
      "[0]\tvalidation_0-rmse:51.30498\tvalidation_1-rmse:50.73935\n",
      "[799]\tvalidation_0-rmse:23.45702\tvalidation_1-rmse:29.85543\n",
      "Fold: 4/5 score = 891.34655\n"
     ]
    },
    {
     "name": "stderr",
     "output_type": "stream",
     "text": [
      "[I 2023-08-17 19:52:39,212] Trial 32 pruned. \n"
     ]
    },
    {
     "name": "stdout",
     "output_type": "stream",
     "text": [
      "[0]\tvalidation_0-rmse:51.10507\tvalidation_1-rmse:52.12880\n",
      "[599]\tvalidation_0-rmse:43.37386\tvalidation_1-rmse:45.52293\n",
      "Fold: 1/5 score = 2072.33695\n",
      "[0]\tvalidation_0-rmse:50.59181\tvalidation_1-rmse:54.09467\n",
      "[599]\tvalidation_0-rmse:43.03705\tvalidation_1-rmse:47.27852\n",
      "Fold: 2/5 score = 2235.25802\n",
      "[0]\tvalidation_0-rmse:51.57735\tvalidation_1-rmse:50.23420\n",
      "[599]\tvalidation_0-rmse:43.82652\tvalidation_1-rmse:43.25021\n",
      "Fold: 3/5 score = 1870.58095\n",
      "[0]\tvalidation_0-rmse:51.42452\tvalidation_1-rmse:50.85714\n",
      "[599]\tvalidation_0-rmse:43.76523\tvalidation_1-rmse:43.88069\n",
      "Fold: 4/5 score = 1925.51540\n"
     ]
    },
    {
     "name": "stderr",
     "output_type": "stream",
     "text": [
      "[I 2023-08-17 20:09:24,741] Trial 33 pruned. \n"
     ]
    },
    {
     "name": "stdout",
     "output_type": "stream",
     "text": [
      "[0]\tvalidation_0-rmse:50.80194\tvalidation_1-rmse:51.85581\n",
      "[299]\tvalidation_0-rmse:23.96278\tvalidation_1-rmse:32.61290\n",
      "Fold: 1/5 score = 1063.60124\n",
      "[0]\tvalidation_0-rmse:50.28809\tvalidation_1-rmse:53.80068\n",
      "[299]\tvalidation_0-rmse:24.24985\tvalidation_1-rmse:32.82022\n",
      "Fold: 2/5 score = 1077.16668\n"
     ]
    },
    {
     "name": "stderr",
     "output_type": "stream",
     "text": [
      "[I 2023-08-17 20:11:35,315] Trial 34 pruned. \n"
     ]
    },
    {
     "name": "stdout",
     "output_type": "stream",
     "text": [
      "[0]\tvalidation_0-rmse:51.10366\tvalidation_1-rmse:52.12671\n",
      "[499]\tvalidation_0-rmse:44.26965\tvalidation_1-rmse:46.09460\n",
      "Fold: 1/5 score = 2124.71171\n",
      "[0]\tvalidation_0-rmse:50.59001\tvalidation_1-rmse:54.09274\n",
      "[499]\tvalidation_0-rmse:43.92724\tvalidation_1-rmse:47.87317\n",
      "Fold: 2/5 score = 2291.84045\n",
      "[0]\tvalidation_0-rmse:51.57534\tvalidation_1-rmse:50.23151\n",
      "[499]\tvalidation_0-rmse:44.73093\tvalidation_1-rmse:43.85829\n",
      "Fold: 3/5 score = 1923.54929\n",
      "[0]\tvalidation_0-rmse:51.42246\tvalidation_1-rmse:50.85477\n",
      "[499]\tvalidation_0-rmse:44.66229\tvalidation_1-rmse:44.45130\n",
      "Fold: 4/5 score = 1975.91800\n"
     ]
    },
    {
     "name": "stderr",
     "output_type": "stream",
     "text": [
      "[I 2023-08-17 20:23:09,632] Trial 35 pruned. \n"
     ]
    },
    {
     "name": "stdout",
     "output_type": "stream",
     "text": [
      "[0]\tvalidation_0-rmse:49.70684\tvalidation_1-rmse:50.88716\n",
      "[99]\tvalidation_0-rmse:21.27967\tvalidation_1-rmse:32.80883\n",
      "Fold: 1/5 score = 1075.78040\n",
      "[0]\tvalidation_0-rmse:49.26015\tvalidation_1-rmse:52.89511\n",
      "[99]\tvalidation_0-rmse:21.62867\tvalidation_1-rmse:32.71634\n",
      "Fold: 2/5 score = 1070.35871\n",
      "[0]\tvalidation_0-rmse:50.19040\tvalidation_1-rmse:48.98752\n",
      "[99]\tvalidation_0-rmse:21.71397\tvalidation_1-rmse:30.10397\n",
      "Fold: 3/5 score = 906.24916\n",
      "[0]\tvalidation_0-rmse:50.07885\tvalidation_1-rmse:49.55884\n",
      "[99]\tvalidation_0-rmse:21.81627\tvalidation_1-rmse:29.69201\n",
      "Fold: 4/5 score = 881.61537\n",
      "[0]\tvalidation_0-rmse:50.46008\tvalidation_1-rmse:47.83502\n",
      "[99]\tvalidation_0-rmse:21.68045\tvalidation_1-rmse:30.18589\n"
     ]
    },
    {
     "name": "stderr",
     "output_type": "stream",
     "text": [
      "[I 2023-08-17 20:23:15,728] Trial 36 finished with value: 968.8045342306498 and parameters: {'booster': 'gbtree', 'lambda': 0.00033778117280789825, 'alpha': 0.07644270111605689, 'subsample': 0.7691277679107542, 'colsample_bytree': 0.4095221157480178, 'n_estimators': 100, 'max_depth': 8, 'min_child_weight': 5, 'eta': 0.040318470093741995, 'gamma': 0.00011616114506692131, 'grow_policy': 'depthwise'}. Best is trial 16 with value: 947.4410144296698.\n"
     ]
    },
    {
     "name": "stdout",
     "output_type": "stream",
     "text": [
      "Fold: 5/5 score = 910.01905\n",
      "[0]\tvalidation_0-rmse:43.95835\tvalidation_1-rmse:45.67269\n",
      "[63]\tvalidation_0-rmse:17.86546\tvalidation_1-rmse:34.49599\n",
      "Fold: 1/5 score = 1117.76164\n",
      "[0]\tvalidation_0-rmse:43.53638\tvalidation_1-rmse:47.05864\n",
      "[81]\tvalidation_0-rmse:15.95825\tvalidation_1-rmse:34.23936\n",
      "Fold: 2/5 score = 1103.26244\n",
      "[0]\tvalidation_0-rmse:44.27937\tvalidation_1-rmse:43.40231\n",
      "[67]\tvalidation_0-rmse:17.67325\tvalidation_1-rmse:32.08069\n",
      "Fold: 3/5 score = 963.94795\n",
      "[0]\tvalidation_0-rmse:44.24787\tvalidation_1-rmse:43.84189\n",
      "[63]\tvalidation_0-rmse:18.14785\tvalidation_1-rmse:31.97965\n"
     ]
    },
    {
     "name": "stderr",
     "output_type": "stream",
     "text": [
      "[I 2023-08-17 20:23:32,580] Trial 37 pruned. \n"
     ]
    },
    {
     "name": "stdout",
     "output_type": "stream",
     "text": [
      "Fold: 4/5 score = 959.73038\n",
      "[0]\tvalidation_0-rmse:51.05438\tvalidation_1-rmse:52.08166\n",
      "[399]\tvalidation_0-rmse:35.06005\tvalidation_1-rmse:38.38234\n",
      "Fold: 1/5 score = 1473.20371\n",
      "[0]\tvalidation_0-rmse:50.54160\tvalidation_1-rmse:54.04880\n",
      "[399]\tvalidation_0-rmse:34.93351\tvalidation_1-rmse:39.67723\n",
      "Fold: 2/5 score = 1574.28264\n"
     ]
    },
    {
     "name": "stderr",
     "output_type": "stream",
     "text": [
      "[I 2023-08-17 20:27:14,884] Trial 38 pruned. \n"
     ]
    },
    {
     "name": "stdout",
     "output_type": "stream",
     "text": [
      "[0]\tvalidation_0-rmse:50.87243\tvalidation_1-rmse:51.93144\n",
      "[199]\tvalidation_0-rmse:27.32671\tvalidation_1-rmse:34.74747\n",
      "Fold: 1/5 score = 1207.38677\n",
      "[0]\tvalidation_0-rmse:50.37286\tvalidation_1-rmse:53.90138\n",
      "[199]\tvalidation_0-rmse:27.40058\tvalidation_1-rmse:35.46355\n"
     ]
    },
    {
     "name": "stderr",
     "output_type": "stream",
     "text": [
      "[I 2023-08-17 20:27:20,802] Trial 39 pruned. \n"
     ]
    },
    {
     "name": "stdout",
     "output_type": "stream",
     "text": [
      "Fold: 2/5 score = 1257.66368\n",
      "[0]\tvalidation_0-rmse:51.11367\tvalidation_1-rmse:52.13555\n",
      "[799]\tvalidation_0-rmse:46.53745\tvalidation_1-rmse:48.02961\n",
      "Fold: 1/5 score = 2306.84344\n",
      "[0]\tvalidation_0-rmse:50.59975\tvalidation_1-rmse:54.10197\n",
      "[799]\tvalidation_0-rmse:46.13252\tvalidation_1-rmse:49.88761\n",
      "Fold: 2/5 score = 2488.77323\n"
     ]
    },
    {
     "name": "stderr",
     "output_type": "stream",
     "text": [
      "[I 2023-08-17 20:42:21,418] Trial 40 pruned. \n"
     ]
    },
    {
     "name": "stdout",
     "output_type": "stream",
     "text": [
      "[0]\tvalidation_0-rmse:50.37955\tvalidation_1-rmse:51.47682\n",
      "[326]\tvalidation_0-rmse:19.68610\tvalidation_1-rmse:32.48791\n",
      "Fold: 1/5 score = 1054.28977\n",
      "[0]\tvalidation_0-rmse:49.89549\tvalidation_1-rmse:53.43868\n",
      "[296]\tvalidation_0-rmse:20.29596\tvalidation_1-rmse:32.50818\n",
      "Fold: 2/5 score = 1052.24635\n",
      "[0]\tvalidation_0-rmse:50.84681\tvalidation_1-rmse:49.54934\n",
      "[399]\tvalidation_0-rmse:18.96634\tvalidation_1-rmse:30.06178\n",
      "Fold: 3/5 score = 901.35622\n",
      "[0]\tvalidation_0-rmse:50.68773\tvalidation_1-rmse:50.15058\n",
      "[399]\tvalidation_0-rmse:19.00413\tvalidation_1-rmse:29.53585\n",
      "Fold: 4/5 score = 872.33543\n",
      "[0]\tvalidation_0-rmse:51.11569\tvalidation_1-rmse:48.44590\n",
      "[399]\tvalidation_0-rmse:18.90555\tvalidation_1-rmse:29.79098\n",
      "Fold: 5/5 score = 887.50249\n"
     ]
    },
    {
     "name": "stderr",
     "output_type": "stream",
     "text": [
      "[I 2023-08-17 20:50:26,895] Trial 41 finished with value: 953.5460504494174 and parameters: {'booster': 'dart', 'lambda': 0.0006874291350879524, 'alpha': 0.011394364349615872, 'subsample': 0.8308097667605042, 'colsample_bytree': 0.5037861494385782, 'n_estimators': 400, 'max_depth': 7, 'min_child_weight': 6, 'eta': 0.02172780758875981, 'gamma': 4.706921769373187e-05, 'grow_policy': 'depthwise', 'sample_type': 'uniform', 'normalize_type': 'forest', 'rate_drop': 5.627756934254859e-08, 'skip_drop': 4.58030415611546e-06}. Best is trial 16 with value: 947.4410144296698.\n"
     ]
    },
    {
     "name": "stdout",
     "output_type": "stream",
     "text": [
      "[0]\tvalidation_0-rmse:48.70871\tvalidation_1-rmse:49.96074\n",
      "[157]\tvalidation_0-rmse:17.30302\tvalidation_1-rmse:32.33876\n",
      "Fold: 1/5 score = 1038.82002\n",
      "[0]\tvalidation_0-rmse:48.24301\tvalidation_1-rmse:51.87169\n",
      "[119]\tvalidation_0-rmse:18.90983\tvalidation_1-rmse:32.66401\n",
      "Fold: 2/5 score = 1051.80193\n",
      "[0]\tvalidation_0-rmse:49.16164\tvalidation_1-rmse:47.89112\n",
      "[170]\tvalidation_0-rmse:17.17993\tvalidation_1-rmse:30.32533\n",
      "Fold: 3/5 score = 910.12847\n",
      "[0]\tvalidation_0-rmse:49.00760\tvalidation_1-rmse:48.53113\n",
      "[149]\tvalidation_0-rmse:18.05807\tvalidation_1-rmse:30.00657\n",
      "Fold: 4/5 score = 894.43554\n"
     ]
    },
    {
     "name": "stderr",
     "output_type": "stream",
     "text": [
      "[I 2023-08-17 20:51:37,039] Trial 42 pruned. \n"
     ]
    },
    {
     "name": "stdout",
     "output_type": "stream",
     "text": [
      "[0]\tvalidation_0-rmse:50.65674\tvalidation_1-rmse:51.72713\n",
      "[464]\tvalidation_0-rmse:19.71957\tvalidation_1-rmse:32.46281\n",
      "Fold: 1/5 score = 1052.35486\n",
      "[0]\tvalidation_0-rmse:50.15679\tvalidation_1-rmse:53.69382\n",
      "[499]\tvalidation_0-rmse:19.27245\tvalidation_1-rmse:32.25584\n",
      "Fold: 2/5 score = 1039.88094\n",
      "[0]\tvalidation_0-rmse:51.12043\tvalidation_1-rmse:49.81185\n",
      "[499]\tvalidation_0-rmse:19.71606\tvalidation_1-rmse:29.89341\n",
      "Fold: 3/5 score = 892.83088\n",
      "[0]\tvalidation_0-rmse:50.96931\tvalidation_1-rmse:50.40415\n",
      "[493]\tvalidation_0-rmse:19.94639\tvalidation_1-rmse:29.57165\n",
      "Fold: 4/5 score = 872.39376\n",
      "[0]\tvalidation_0-rmse:51.39657\tvalidation_1-rmse:48.68334\n",
      "[434]\tvalidation_0-rmse:20.44357\tvalidation_1-rmse:30.08923\n",
      "Fold: 5/5 score = 905.13271\n"
     ]
    },
    {
     "name": "stderr",
     "output_type": "stream",
     "text": [
      "[I 2023-08-17 21:05:33,377] Trial 43 finished with value: 952.5186308439852 and parameters: {'booster': 'dart', 'lambda': 2.7700676831652762e-05, 'alpha': 0.01347987762984499, 'subsample': 0.7296725581957426, 'colsample_bytree': 0.41526988330957776, 'n_estimators': 500, 'max_depth': 7, 'min_child_weight': 4, 'eta': 0.013807442639845255, 'gamma': 1.7671338063927384e-05, 'grow_policy': 'depthwise', 'sample_type': 'uniform', 'normalize_type': 'tree', 'rate_drop': 5.389909253374526e-08, 'skip_drop': 1.0358284571927676e-05}. Best is trial 16 with value: 947.4410144296698.\n"
     ]
    },
    {
     "name": "stdout",
     "output_type": "stream",
     "text": [
      "[0]\tvalidation_0-rmse:44.56008\tvalidation_1-rmse:46.50971\n",
      "[68]\tvalidation_0-rmse:13.00644\tvalidation_1-rmse:33.98297\n",
      "Fold: 1/5 score = 1118.75803\n",
      "[0]\tvalidation_0-rmse:44.20391\tvalidation_1-rmse:48.28710\n",
      "[70]\tvalidation_0-rmse:12.62217\tvalidation_1-rmse:33.78130\n"
     ]
    },
    {
     "name": "stderr",
     "output_type": "stream",
     "text": [
      "[I 2023-08-17 21:05:41,551] Trial 44 pruned. \n"
     ]
    },
    {
     "name": "stdout",
     "output_type": "stream",
     "text": [
      "Fold: 2/5 score = 1124.68687\n",
      "[0]\tvalidation_0-rmse:50.62778\tvalidation_1-rmse:51.70802\n",
      "[440]\tvalidation_0-rmse:21.46591\tvalidation_1-rmse:32.36657\n",
      "Fold: 1/5 score = 1046.27655\n",
      "[0]\tvalidation_0-rmse:50.12841\tvalidation_1-rmse:53.66859\n",
      "[596]\tvalidation_0-rmse:19.73766\tvalidation_1-rmse:32.24821\n",
      "Fold: 2/5 score = 1039.68604\n",
      "[0]\tvalidation_0-rmse:51.10905\tvalidation_1-rmse:49.78357\n",
      "[374]\tvalidation_0-rmse:22.78693\tvalidation_1-rmse:29.97561\n",
      "Fold: 3/5 score = 897.85326\n",
      "[0]\tvalidation_0-rmse:50.96049\tvalidation_1-rmse:50.40536\n",
      "[599]\tvalidation_0-rmse:20.20770\tvalidation_1-rmse:29.54381\n",
      "Fold: 4/5 score = 872.34696\n",
      "[0]\tvalidation_0-rmse:51.36553\tvalidation_1-rmse:48.65676\n",
      "[457]\tvalidation_0-rmse:21.65147\tvalidation_1-rmse:29.99758\n"
     ]
    },
    {
     "name": "stderr",
     "output_type": "stream",
     "text": [
      "[I 2023-08-17 21:05:57,248] Trial 45 finished with value: 951.0566047181021 and parameters: {'booster': 'gbtree', 'lambda': 2.5050131851215793e-05, 'alpha': 0.001238559706856446, 'subsample': 0.7514657397072927, 'colsample_bytree': 0.4155902277850585, 'n_estimators': 600, 'max_depth': 6, 'min_child_weight': 4, 'eta': 0.014587032991457837, 'gamma': 2.155225789453742e-06, 'grow_policy': 'depthwise'}. Best is trial 16 with value: 947.4410144296698.\n"
     ]
    },
    {
     "name": "stdout",
     "output_type": "stream",
     "text": [
      "Fold: 5/5 score = 899.12021\n",
      "[0]\tvalidation_0-rmse:51.02674\tvalidation_1-rmse:52.05752\n",
      "[699]\tvalidation_0-rmse:28.13872\tvalidation_1-rmse:33.57607\n",
      "Fold: 1/5 score = 1127.35264\n",
      "[0]\tvalidation_0-rmse:50.51604\tvalidation_1-rmse:54.02329\n",
      "[699]\tvalidation_0-rmse:28.24210\tvalidation_1-rmse:34.06269\n"
     ]
    },
    {
     "name": "stderr",
     "output_type": "stream",
     "text": [
      "[I 2023-08-17 21:06:05,874] Trial 46 pruned. \n"
     ]
    },
    {
     "name": "stdout",
     "output_type": "stream",
     "text": [
      "Fold: 2/5 score = 1160.26706\n",
      "[0]\tvalidation_0-rmse:49.88544\tvalidation_1-rmse:51.05830\n",
      "[240]\tvalidation_0-rmse:20.05844\tvalidation_1-rmse:32.52451\n",
      "Fold: 1/5 score = 1056.37741\n",
      "[0]\tvalidation_0-rmse:49.41856\tvalidation_1-rmse:52.99470\n",
      "[264]\tvalidation_0-rmse:19.64413\tvalidation_1-rmse:32.42958\n",
      "Fold: 2/5 score = 1046.46301\n",
      "[0]\tvalidation_0-rmse:50.36484\tvalidation_1-rmse:49.08502\n",
      "[315]\tvalidation_0-rmse:18.80087\tvalidation_1-rmse:30.10792\n",
      "Fold: 3/5 score = 904.75465\n",
      "[0]\tvalidation_0-rmse:50.23872\tvalidation_1-rmse:49.67571\n",
      "[287]\tvalidation_0-rmse:19.44665\tvalidation_1-rmse:29.71425\n",
      "Fold: 4/5 score = 878.76486\n",
      "[0]\tvalidation_0-rmse:50.61172\tvalidation_1-rmse:47.98532\n",
      "[248]\tvalidation_0-rmse:20.29064\tvalidation_1-rmse:30.28660\n"
     ]
    },
    {
     "name": "stderr",
     "output_type": "stream",
     "text": [
      "[I 2023-08-17 21:06:14,973] Trial 47 finished with value: 960.2256212298513 and parameters: {'booster': 'gbtree', 'lambda': 5.73039466952108e-06, 'alpha': 0.00024135303395375534, 'subsample': 0.7815102875916778, 'colsample_bytree': 0.42908295358327775, 'n_estimators': 600, 'max_depth': 6, 'min_child_weight': 5, 'eta': 0.036663213953714316, 'gamma': 4.0145282859067406e-07, 'grow_policy': 'depthwise'}. Best is trial 16 with value: 947.4410144296698.\n"
     ]
    },
    {
     "name": "stdout",
     "output_type": "stream",
     "text": [
      "Fold: 5/5 score = 914.76818\n",
      "[0]\tvalidation_0-rmse:41.15376\tvalidation_1-rmse:43.10084\n",
      "[64]\tvalidation_0-rmse:21.90579\tvalidation_1-rmse:35.14709\n",
      "Fold: 1/5 score = 1140.34345\n",
      "[0]\tvalidation_0-rmse:41.12612\tvalidation_1-rmse:44.46396\n",
      "[70]\tvalidation_0-rmse:21.26787\tvalidation_1-rmse:34.56780\n",
      "Fold: 2/5 score = 1115.31824\n",
      "[0]\tvalidation_0-rmse:41.98112\tvalidation_1-rmse:40.73810\n",
      "[56]\tvalidation_0-rmse:23.04595\tvalidation_1-rmse:32.81384\n",
      "Fold: 3/5 score = 969.69637\n",
      "[0]\tvalidation_0-rmse:41.85019\tvalidation_1-rmse:41.37635\n",
      "[71]\tvalidation_0-rmse:22.03325\tvalidation_1-rmse:31.35366\n"
     ]
    },
    {
     "name": "stderr",
     "output_type": "stream",
     "text": [
      "[I 2023-08-17 21:06:17,375] Trial 48 pruned. \n"
     ]
    },
    {
     "name": "stdout",
     "output_type": "stream",
     "text": [
      "Fold: 4/5 score = 947.47347\n",
      "[0]\tvalidation_0-rmse:50.89116\tvalidation_1-rmse:51.92728\n",
      "[799]\tvalidation_0-rmse:24.53200\tvalidation_1-rmse:32.48503\n",
      "Fold: 1/5 score = 1055.15426\n",
      "[0]\tvalidation_0-rmse:50.38042\tvalidation_1-rmse:53.88363\n",
      "[799]\tvalidation_0-rmse:24.64456\tvalidation_1-rmse:32.32980\n",
      "Fold: 2/5 score = 1045.21577\n",
      "[0]\tvalidation_0-rmse:51.36870\tvalidation_1-rmse:50.02199\n",
      "[799]\tvalidation_0-rmse:25.10043\tvalidation_1-rmse:30.02015\n",
      "Fold: 3/5 score = 900.81980\n",
      "[0]\tvalidation_0-rmse:51.21311\tvalidation_1-rmse:50.64521\n",
      "[799]\tvalidation_0-rmse:25.18371\tvalidation_1-rmse:29.76094\n"
     ]
    },
    {
     "name": "stderr",
     "output_type": "stream",
     "text": [
      "[I 2023-08-17 21:06:32,731] Trial 49 pruned. \n"
     ]
    },
    {
     "name": "stdout",
     "output_type": "stream",
     "text": [
      "Fold: 4/5 score = 885.71339\n",
      "[0]\tvalidation_0-rmse:49.75859\tvalidation_1-rmse:50.97921\n",
      "[249]\tvalidation_0-rmse:17.30174\tvalidation_1-rmse:32.42638\n",
      "Fold: 1/5 score = 1046.44539\n",
      "[0]\tvalidation_0-rmse:49.29738\tvalidation_1-rmse:52.91127\n",
      "[179]\tvalidation_0-rmse:19.47873\tvalidation_1-rmse:32.49548\n",
      "Fold: 2/5 score = 1054.59463\n",
      "[0]\tvalidation_0-rmse:50.27371\tvalidation_1-rmse:48.96810\n",
      "[246]\tvalidation_0-rmse:17.72789\tvalidation_1-rmse:30.15269\n",
      "Fold: 3/5 score = 907.28471\n",
      "[0]\tvalidation_0-rmse:50.08422\tvalidation_1-rmse:49.59158\n",
      "[343]\tvalidation_0-rmse:15.26146\tvalidation_1-rmse:29.74935\n",
      "Fold: 4/5 score = 880.42154\n",
      "[0]\tvalidation_0-rmse:50.48477\tvalidation_1-rmse:47.85782\n",
      "[342]\tvalidation_0-rmse:15.34089\tvalidation_1-rmse:30.02720\n"
     ]
    },
    {
     "name": "stderr",
     "output_type": "stream",
     "text": [
      "[I 2023-08-17 21:06:43,767] Trial 50 finished with value: 958.0152223420768 and parameters: {'booster': 'gbtree', 'lambda': 9.302757240304105e-05, 'alpha': 2.3443311663573007e-05, 'subsample': 0.6688087125242551, 'colsample_bytree': 0.47675009749552033, 'n_estimators': 500, 'max_depth': 7, 'min_child_weight': 4, 'eta': 0.039837176986935376, 'gamma': 0.0006878893624629303, 'grow_policy': 'depthwise'}. Best is trial 16 with value: 947.4410144296698.\n"
     ]
    },
    {
     "name": "stdout",
     "output_type": "stream",
     "text": [
      "Fold: 5/5 score = 901.32984\n",
      "[0]\tvalidation_0-rmse:50.66251\tvalidation_1-rmse:51.74519\n",
      "[499]\tvalidation_0-rmse:19.26094\tvalidation_1-rmse:32.52646\n",
      "Fold: 1/5 score = 1057.97097\n",
      "[0]\tvalidation_0-rmse:50.15584\tvalidation_1-rmse:53.69622\n",
      "[499]\tvalidation_0-rmse:19.29365\tvalidation_1-rmse:32.29154\n",
      "Fold: 2/5 score = 1042.07921\n",
      "[0]\tvalidation_0-rmse:51.12850\tvalidation_1-rmse:49.81200\n",
      "[499]\tvalidation_0-rmse:19.67354\tvalidation_1-rmse:30.01686\n",
      "Fold: 3/5 score = 899.91114\n",
      "[0]\tvalidation_0-rmse:50.97265\tvalidation_1-rmse:50.40997\n",
      "[492]\tvalidation_0-rmse:19.87747\tvalidation_1-rmse:29.59090\n",
      "Fold: 4/5 score = 873.79949\n",
      "[0]\tvalidation_0-rmse:51.39961\tvalidation_1-rmse:48.69966\n",
      "[499]\tvalidation_0-rmse:19.62344\tvalidation_1-rmse:30.02361\n",
      "Fold: 5/5 score = 901.41706\n"
     ]
    },
    {
     "name": "stderr",
     "output_type": "stream",
     "text": [
      "[I 2023-08-17 21:21:52,549] Trial 51 finished with value: 955.0355741354597 and parameters: {'booster': 'dart', 'lambda': 2.7194331866105588e-05, 'alpha': 0.029883280114996302, 'subsample': 0.7458521000817595, 'colsample_bytree': 0.4204395532994891, 'n_estimators': 500, 'max_depth': 7, 'min_child_weight': 4, 'eta': 0.013666344498974095, 'gamma': 1.7634208993932648e-05, 'grow_policy': 'depthwise', 'sample_type': 'uniform', 'normalize_type': 'tree', 'rate_drop': 1.4811142472576407e-06, 'skip_drop': 3.127729109257622e-05}. Best is trial 16 with value: 947.4410144296698.\n"
     ]
    },
    {
     "name": "stdout",
     "output_type": "stream",
     "text": [
      "[0]\tvalidation_0-rmse:49.01736\tvalidation_1-rmse:50.23488\n",
      "[146]\tvalidation_0-rmse:19.68406\tvalidation_1-rmse:32.69643\n",
      "Fold: 1/5 score = 1064.55886\n",
      "[0]\tvalidation_0-rmse:48.54901\tvalidation_1-rmse:52.15212\n",
      "[219]\tvalidation_0-rmse:17.04782\tvalidation_1-rmse:32.84209\n",
      "Fold: 2/5 score = 1070.09892\n"
     ]
    },
    {
     "name": "stderr",
     "output_type": "stream",
     "text": [
      "[I 2023-08-17 21:22:45,176] Trial 52 pruned. \n"
     ]
    },
    {
     "name": "stdout",
     "output_type": "stream",
     "text": [
      "[0]\tvalidation_0-rmse:50.70817\tvalidation_1-rmse:51.76813\n",
      "[482]\tvalidation_0-rmse:19.05570\tvalidation_1-rmse:32.44764\n",
      "Fold: 1/5 score = 1052.27074\n",
      "[0]\tvalidation_0-rmse:50.20837\tvalidation_1-rmse:53.73578\n",
      "[595]\tvalidation_0-rmse:17.85732\tvalidation_1-rmse:32.16088\n",
      "Fold: 2/5 score = 1032.87884\n",
      "[0]\tvalidation_0-rmse:51.18020\tvalidation_1-rmse:49.86197\n",
      "[539]\tvalidation_0-rmse:18.85476\tvalidation_1-rmse:30.10223\n",
      "Fold: 3/5 score = 903.26985\n",
      "[0]\tvalidation_0-rmse:51.02687\tvalidation_1-rmse:50.48896\n",
      "[699]\tvalidation_0-rmse:17.25571\tvalidation_1-rmse:29.40501\n",
      "Fold: 4/5 score = 863.74692\n",
      "[0]\tvalidation_0-rmse:51.44503\tvalidation_1-rmse:48.75385\n",
      "[554]\tvalidation_0-rmse:18.58402\tvalidation_1-rmse:29.97643\n",
      "Fold: 5/5 score = 898.45681\n"
     ]
    },
    {
     "name": "stderr",
     "output_type": "stream",
     "text": [
      "[I 2023-08-17 21:43:06,507] Trial 53 finished with value: 950.1246320376194 and parameters: {'booster': 'dart', 'lambda': 4.031940855018147e-05, 'alpha': 0.0028985545770741574, 'subsample': 0.7625923437512482, 'colsample_bytree': 0.45393114413407576, 'n_estimators': 700, 'max_depth': 8, 'min_child_weight': 5, 'eta': 0.011943673017162551, 'gamma': 3.876909313060697e-05, 'grow_policy': 'depthwise', 'sample_type': 'uniform', 'normalize_type': 'tree', 'rate_drop': 4.059466080575368e-06, 'skip_drop': 0.00013616042017399163}. Best is trial 16 with value: 947.4410144296698.\n"
     ]
    },
    {
     "name": "stdout",
     "output_type": "stream",
     "text": [
      "[0]\tvalidation_0-rmse:51.07097\tvalidation_1-rmse:52.09951\n",
      "[699]\tvalidation_0-rmse:31.50747\tvalidation_1-rmse:36.77885\n",
      "Fold: 1/5 score = 1352.68351\n",
      "[0]\tvalidation_0-rmse:50.55970\tvalidation_1-rmse:54.06738\n",
      "[699]\tvalidation_0-rmse:31.46861\tvalidation_1-rmse:37.83622\n"
     ]
    },
    {
     "name": "stderr",
     "output_type": "stream",
     "text": [
      "[I 2023-08-17 21:43:24,219] Trial 54 pruned. \n"
     ]
    },
    {
     "name": "stdout",
     "output_type": "stream",
     "text": [
      "Fold: 2/5 score = 1431.57969\n",
      "[0]\tvalidation_0-rmse:51.03480\tvalidation_1-rmse:52.06617\n",
      "[899]\tvalidation_0-rmse:24.67004\tvalidation_1-rmse:32.93825\n",
      "Fold: 1/5 score = 1084.92854\n",
      "[0]\tvalidation_0-rmse:50.52236\tvalidation_1-rmse:54.03288\n",
      "[899]\tvalidation_0-rmse:24.85784\tvalidation_1-rmse:33.11823\n",
      "Fold: 2/5 score = 1096.81721\n"
     ]
    },
    {
     "name": "stderr",
     "output_type": "stream",
     "text": [
      "[I 2023-08-17 22:02:04,209] Trial 55 pruned. \n"
     ]
    },
    {
     "name": "stdout",
     "output_type": "stream",
     "text": [
      "[0]\tvalidation_0-rmse:50.84469\tvalidation_1-rmse:51.90707\n",
      "[599]\tvalidation_0-rmse:18.31843\tvalidation_1-rmse:32.40664\n",
      "Fold: 1/5 score = 1050.08987\n",
      "[0]\tvalidation_0-rmse:50.33765\tvalidation_1-rmse:53.86080\n",
      "[599]\tvalidation_0-rmse:18.38034\tvalidation_1-rmse:32.26429\n",
      "Fold: 2/5 score = 1040.70173\n",
      "[0]\tvalidation_0-rmse:51.31457\tvalidation_1-rmse:49.98595\n",
      "[599]\tvalidation_0-rmse:18.61623\tvalidation_1-rmse:30.06432\n",
      "Fold: 3/5 score = 903.86328\n",
      "[0]\tvalidation_0-rmse:51.16207\tvalidation_1-rmse:50.61114\n",
      "[599]\tvalidation_0-rmse:18.84307\tvalidation_1-rmse:29.55842\n",
      "Fold: 4/5 score = 873.51176\n",
      "[0]\tvalidation_0-rmse:51.58287\tvalidation_1-rmse:48.87536\n",
      "[599]\tvalidation_0-rmse:18.64163\tvalidation_1-rmse:29.92036\n",
      "Fold: 5/5 score = 895.05602\n"
     ]
    },
    {
     "name": "stderr",
     "output_type": "stream",
     "text": [
      "[I 2023-08-17 22:23:39,850] Trial 56 finished with value: 952.6445324185388 and parameters: {'booster': 'dart', 'lambda': 0.00011114251059193413, 'alpha': 0.0033153663177297827, 'subsample': 0.8232131625395543, 'colsample_bytree': 0.5125179084252922, 'n_estimators': 600, 'max_depth': 9, 'min_child_weight': 5, 'eta': 0.007821286570439717, 'gamma': 5.3320266191611537e-05, 'grow_policy': 'depthwise', 'sample_type': 'uniform', 'normalize_type': 'tree', 'rate_drop': 5.476547768889087e-06, 'skip_drop': 0.00021668258015741275}. Best is trial 16 with value: 947.4410144296698.\n"
     ]
    },
    {
     "name": "stdout",
     "output_type": "stream",
     "text": [
      "[0]\tvalidation_0-rmse:50.32405\tvalidation_1-rmse:51.44943\n",
      "[288]\tvalidation_0-rmse:18.09544\tvalidation_1-rmse:32.51074\n",
      "Fold: 1/5 score = 1054.52971\n",
      "[0]\tvalidation_0-rmse:49.83433\tvalidation_1-rmse:53.39611\n",
      "[411]\tvalidation_0-rmse:15.81705\tvalidation_1-rmse:32.29187\n",
      "Fold: 2/5 score = 1038.90112\n",
      "[0]\tvalidation_0-rmse:50.79050\tvalidation_1-rmse:49.48776\n",
      "[313]\tvalidation_0-rmse:18.03162\tvalidation_1-rmse:30.04720\n",
      "Fold: 3/5 score = 901.37806\n",
      "[0]\tvalidation_0-rmse:50.64028\tvalidation_1-rmse:50.09973\n",
      "[397]\tvalidation_0-rmse:16.53969\tvalidation_1-rmse:29.69499\n",
      "Fold: 4/5 score = 878.59052\n"
     ]
    },
    {
     "name": "stderr",
     "output_type": "stream",
     "text": [
      "[I 2023-08-17 22:30:06,452] Trial 57 pruned. \n"
     ]
    },
    {
     "name": "stdout",
     "output_type": "stream",
     "text": [
      "[0]\tvalidation_0-rmse:45.39222\tvalidation_1-rmse:46.97588\n",
      "[88]\tvalidation_0-rmse:17.42235\tvalidation_1-rmse:33.30301\n",
      "Fold: 1/5 score = 1081.94860\n",
      "[0]\tvalidation_0-rmse:45.09280\tvalidation_1-rmse:48.95608\n",
      "[84]\tvalidation_0-rmse:17.92329\tvalidation_1-rmse:33.40275\n",
      "Fold: 2/5 score = 1078.03964\n",
      "[0]\tvalidation_0-rmse:45.95357\tvalidation_1-rmse:44.82061\n",
      "[77]\tvalidation_0-rmse:18.80574\tvalidation_1-rmse:30.59718\n",
      "Fold: 3/5 score = 927.40891\n",
      "[0]\tvalidation_0-rmse:45.73381\tvalidation_1-rmse:45.32053\n",
      "[68]\tvalidation_0-rmse:19.82167\tvalidation_1-rmse:30.67518\n"
     ]
    },
    {
     "name": "stderr",
     "output_type": "stream",
     "text": [
      "[I 2023-08-17 22:30:09,428] Trial 58 pruned. \n"
     ]
    },
    {
     "name": "stdout",
     "output_type": "stream",
     "text": [
      "Fold: 4/5 score = 929.41051\n",
      "[0]\tvalidation_0-rmse:50.98639\tvalidation_1-rmse:52.02112\n",
      "[599]\tvalidation_0-rmse:25.56030\tvalidation_1-rmse:32.78034\n",
      "Fold: 1/5 score = 1074.55089\n",
      "[0]\tvalidation_0-rmse:50.47697\tvalidation_1-rmse:53.98401\n",
      "[599]\tvalidation_0-rmse:25.71192\tvalidation_1-rmse:32.92905\n",
      "Fold: 2/5 score = 1084.32262\n",
      "[0]\tvalidation_0-rmse:51.45739\tvalidation_1-rmse:50.12252\n",
      "[599]\tvalidation_0-rmse:26.05694\tvalidation_1-rmse:30.32355\n",
      "Fold: 3/5 score = 919.51741\n",
      "[0]\tvalidation_0-rmse:51.30464\tvalidation_1-rmse:50.73620\n",
      "[599]\tvalidation_0-rmse:26.26969\tvalidation_1-rmse:30.25233\n",
      "Fold: 4/5 score = 915.20368\n"
     ]
    },
    {
     "name": "stderr",
     "output_type": "stream",
     "text": [
      "[I 2023-08-17 22:48:02,735] Trial 59 pruned. \n"
     ]
    },
    {
     "name": "stdout",
     "output_type": "stream",
     "text": [
      "[0]\tvalidation_0-rmse:48.87500\tvalidation_1-rmse:50.15069\n",
      "[128]\tvalidation_0-rmse:20.39755\tvalidation_1-rmse:32.57414\n",
      "Fold: 1/5 score = 1047.43992\n",
      "[0]\tvalidation_0-rmse:48.41494\tvalidation_1-rmse:52.06535\n",
      "[146]\tvalidation_0-rmse:19.78144\tvalidation_1-rmse:32.77773\n",
      "Fold: 2/5 score = 1068.97467"
     ]
    },
    {
     "name": "stderr",
     "output_type": "stream",
     "text": [
      "[I 2023-08-17 22:48:32,470] Trial 60 pruned. \n"
     ]
    },
    {
     "name": "stdout",
     "output_type": "stream",
     "text": [
      "\n",
      "[0]\tvalidation_0-rmse:50.58063\tvalidation_1-rmse:51.65871\n",
      "[499]\tvalidation_0-rmse:18.21945\tvalidation_1-rmse:32.45996\n",
      "Fold: 1/5 score = 1052.91623\n",
      "[0]\tvalidation_0-rmse:50.07650\tvalidation_1-rmse:53.62467\n",
      "[499]\tvalidation_0-rmse:18.19240\tvalidation_1-rmse:32.28871\n",
      "Fold: 2/5 score = 1042.28502\n",
      "[0]\tvalidation_0-rmse:51.05111\tvalidation_1-rmse:49.73987\n",
      "[490]\tvalidation_0-rmse:18.76751\tvalidation_1-rmse:30.01822\n",
      "Fold: 3/5 score = 900.78385\n",
      "[0]\tvalidation_0-rmse:50.89693\tvalidation_1-rmse:50.35355\n",
      "[499]\tvalidation_0-rmse:18.72472\tvalidation_1-rmse:29.35101\n",
      "Fold: 4/5 score = 861.48190\n",
      "[0]\tvalidation_0-rmse:51.32163\tvalidation_1-rmse:48.63403\n",
      "[499]\tvalidation_0-rmse:18.59693\tvalidation_1-rmse:29.89168\n",
      "Fold: 5/5 score = 893.51263\n"
     ]
    },
    {
     "name": "stderr",
     "output_type": "stream",
     "text": [
      "[I 2023-08-17 23:03:44,624] Trial 61 finished with value: 950.1959253003145 and parameters: {'booster': 'dart', 'lambda': 2.7118965274480078e-05, 'alpha': 0.00782386869751991, 'subsample': 0.7674591832547386, 'colsample_bytree': 0.41406482026707436, 'n_estimators': 500, 'max_depth': 7, 'min_child_weight': 4, 'eta': 0.015905227971621434, 'gamma': 6.726217070499154e-06, 'grow_policy': 'depthwise', 'sample_type': 'uniform', 'normalize_type': 'tree', 'rate_drop': 7.842801684865965e-08, 'skip_drop': 8.833124580996837e-06}. Best is trial 16 with value: 947.4410144296698.\n"
     ]
    },
    {
     "name": "stdout",
     "output_type": "stream",
     "text": [
      "[0]\tvalidation_0-rmse:50.64136\tvalidation_1-rmse:51.70907\n",
      "[399]\tvalidation_0-rmse:21.90492\tvalidation_1-rmse:32.48911\n",
      "Fold: 1/5 score = 1055.27006\n",
      "[0]\tvalidation_0-rmse:50.13170\tvalidation_1-rmse:53.66790\n",
      "[399]\tvalidation_0-rmse:22.00319\tvalidation_1-rmse:32.44265\n",
      "Fold: 2/5 score = 1052.43162\n"
     ]
    },
    {
     "name": "stderr",
     "output_type": "stream",
     "text": [
      "[I 2023-08-17 23:07:35,922] Trial 62 pruned. \n"
     ]
    },
    {
     "name": "stdout",
     "output_type": "stream",
     "text": [
      "[0]\tvalidation_0-rmse:50.26302\tvalidation_1-rmse:51.35700\n",
      "[362]\tvalidation_0-rmse:17.85198\tvalidation_1-rmse:32.55686\n",
      "Fold: 1/5 score = 1057.88042\n",
      "[0]\tvalidation_0-rmse:49.77415\tvalidation_1-rmse:53.33021\n",
      "[317]\tvalidation_0-rmse:18.94612\tvalidation_1-rmse:32.43413\n",
      "Fold: 2/5 score = 1046.98674\n",
      "[0]\tvalidation_0-rmse:50.73255\tvalidation_1-rmse:49.42323\n",
      "[263]\tvalidation_0-rmse:20.30688\tvalidation_1-rmse:29.96150\n",
      "Fold: 3/5 score = 896.21227\n",
      "[0]\tvalidation_0-rmse:50.58374\tvalidation_1-rmse:50.04754\n",
      "[371]\tvalidation_0-rmse:18.25545\tvalidation_1-rmse:29.70882\n",
      "Fold: 4/5 score = 879.83619\n",
      "[0]\tvalidation_0-rmse:50.99486\tvalidation_1-rmse:48.34957\n",
      "[213]\tvalidation_0-rmse:21.44051\tvalidation_1-rmse:30.15468\n",
      "Fold: 5/5 score = 905.00945\n"
     ]
    },
    {
     "name": "stderr",
     "output_type": "stream",
     "text": [
      "[I 2023-08-17 23:13:38,969] Trial 63 finished with value: 957.1850163642299 and parameters: {'booster': 'dart', 'lambda': 1.6425522330542513e-05, 'alpha': 0.02729130724583522, 'subsample': 0.7674737933637672, 'colsample_bytree': 0.4666400514546592, 'n_estimators': 700, 'max_depth': 7, 'min_child_weight': 5, 'eta': 0.025208882559018805, 'gamma': 2.1627339100848825e-06, 'grow_policy': 'depthwise', 'sample_type': 'uniform', 'normalize_type': 'tree', 'rate_drop': 2.395480553993831e-08, 'skip_drop': 7.541005251949523e-06}. Best is trial 16 with value: 947.4410144296698.\n"
     ]
    },
    {
     "name": "stdout",
     "output_type": "stream",
     "text": [
      "[0]\tvalidation_0-rmse:47.34362\tvalidation_1-rmse:48.84700\n",
      "[88]\tvalidation_0-rmse:17.87983\tvalidation_1-rmse:33.07822\n",
      "Fold: 1/5 score = 1078.74242\n",
      "[0]\tvalidation_0-rmse:46.98223\tvalidation_1-rmse:50.70755\n",
      "[97]\tvalidation_0-rmse:17.21916\tvalidation_1-rmse:33.08941\n",
      "Fold: 2/5 score = 1080.91606\n",
      "[0]\tvalidation_0-rmse:47.76059\tvalidation_1-rmse:46.66980\n",
      "[94]\tvalidation_0-rmse:17.58684\tvalidation_1-rmse:30.48908\n",
      "Fold: 3/5 score = 926.77400\n",
      "[0]\tvalidation_0-rmse:47.62461\tvalidation_1-rmse:47.20278\n",
      "[99]\tvalidation_0-rmse:17.35348\tvalidation_1-rmse:30.17261\n",
      "Fold: 4/5 score = 906.90977\n"
     ]
    },
    {
     "name": "stderr",
     "output_type": "stream",
     "text": [
      "[I 2023-08-17 23:14:08,750] Trial 64 pruned. \n"
     ]
    },
    {
     "name": "stdout",
     "output_type": "stream",
     "text": [
      "[0]\tvalidation_0-rmse:50.81785\tvalidation_1-rmse:51.86836\n",
      "[599]\tvalidation_0-rmse:21.83811\tvalidation_1-rmse:32.39494\n",
      "Fold: 1/5 score = 1049.17053\n",
      "[0]\tvalidation_0-rmse:50.30834\tvalidation_1-rmse:53.83068\n",
      "[599]\tvalidation_0-rmse:21.83761\tvalidation_1-rmse:32.24122\n",
      "Fold: 2/5 score = 1039.25353\n",
      "[0]\tvalidation_0-rmse:51.28553\tvalidation_1-rmse:49.95182\n",
      "[599]\tvalidation_0-rmse:22.20259\tvalidation_1-rmse:29.93777\n",
      "Fold: 3/5 score = 895.91250\n",
      "[0]\tvalidation_0-rmse:51.13672\tvalidation_1-rmse:50.57913\n",
      "[599]\tvalidation_0-rmse:22.31057\tvalidation_1-rmse:29.62802\n",
      "Fold: 4/5 score = 877.81957\n"
     ]
    },
    {
     "name": "stderr",
     "output_type": "stream",
     "text": [
      "[I 2023-08-17 23:31:18,785] Trial 65 pruned. \n"
     ]
    },
    {
     "name": "stdout",
     "output_type": "stream",
     "text": [
      "[0]\tvalidation_0-rmse:50.98389\tvalidation_1-rmse:52.01652\n",
      "[299]\tvalidation_0-rmse:31.12021\tvalidation_1-rmse:35.01221\n",
      "Fold: 1/5 score = 1225.85472\n",
      "[0]\tvalidation_0-rmse:50.47237\tvalidation_1-rmse:53.97896\n",
      "[299]\tvalidation_0-rmse:31.13940\tvalidation_1-rmse:35.85646\n",
      "Fold: 2/5 score = 1285.68566\n"
     ]
    },
    {
     "name": "stderr",
     "output_type": "stream",
     "text": [
      "[I 2023-08-17 23:33:31,961] Trial 66 pruned. \n"
     ]
    },
    {
     "name": "stdout",
     "output_type": "stream",
     "text": [
      "[0]\tvalidation_0-rmse:49.59838\tvalidation_1-rmse:50.82842\n",
      "[199]\tvalidation_0-rmse:15.31617\tvalidation_1-rmse:32.62445\n",
      "Fold: 1/5 score = 1062.94311\n",
      "[0]\tvalidation_0-rmse:49.11790\tvalidation_1-rmse:52.80488\n",
      "[224]\tvalidation_0-rmse:14.35110\tvalidation_1-rmse:32.55197\n",
      "Fold: 2/5 score = 1054.69159\n",
      "[0]\tvalidation_0-rmse:50.04411\tvalidation_1-rmse:48.80522\n",
      "[186]\tvalidation_0-rmse:16.03314\tvalidation_1-rmse:30.13167\n",
      "Fold: 3/5 score = 903.54719\n",
      "[0]\tvalidation_0-rmse:49.91087\tvalidation_1-rmse:49.46244\n",
      "[207]\tvalidation_0-rmse:15.31067\tvalidation_1-rmse:29.93758\n",
      "Fold: 4/5 score = 892.81767\n"
     ]
    },
    {
     "name": "stderr",
     "output_type": "stream",
     "text": [
      "[I 2023-08-17 23:35:40,644] Trial 67 pruned. \n"
     ]
    },
    {
     "name": "stdout",
     "output_type": "stream",
     "text": [
      "[0]\tvalidation_0-rmse:35.15061\tvalidation_1-rmse:39.00364\n",
      "[53]\tvalidation_0-rmse:12.41176\tvalidation_1-rmse:38.99381\n",
      "Fold: 1/5 score = 1213.60505\n",
      "[0]\tvalidation_0-rmse:35.14380\tvalidation_1-rmse:39.86236\n",
      "[53]\tvalidation_0-rmse:12.13209\tvalidation_1-rmse:38.16272\n"
     ]
    },
    {
     "name": "stderr",
     "output_type": "stream",
     "text": [
      "[I 2023-08-17 23:35:46,241] Trial 68 pruned. \n"
     ]
    },
    {
     "name": "stdout",
     "output_type": "stream",
     "text": [
      "Fold: 2/5 score = 1202.97844\n",
      "[0]\tvalidation_0-rmse:51.08323\tvalidation_1-rmse:52.10731\n",
      "[499]\tvalidation_0-rmse:38.25622\tvalidation_1-rmse:40.90155\n",
      "Fold: 1/5 score = 1672.93642\n",
      "[0]\tvalidation_0-rmse:50.57032\tvalidation_1-rmse:54.07369\n",
      "[499]\tvalidation_0-rmse:38.08615\tvalidation_1-rmse:42.41315\n",
      "Fold: 2/5 score = 1798.87555\n",
      "[0]\tvalidation_0-rmse:51.55539\tvalidation_1-rmse:50.21239\n",
      "[499]\tvalidation_0-rmse:38.72824\tvalidation_1-rmse:38.36008\n",
      "Fold: 3/5 score = 1471.49580\n",
      "[0]\tvalidation_0-rmse:51.40256\tvalidation_1-rmse:50.83504\n",
      "[499]\tvalidation_0-rmse:38.73973\tvalidation_1-rmse:38.89516\n",
      "Fold: 4/5 score = 1512.83331\n"
     ]
    },
    {
     "name": "stderr",
     "output_type": "stream",
     "text": [
      "[I 2023-08-17 23:47:39,174] Trial 69 pruned. \n"
     ]
    },
    {
     "name": "stdout",
     "output_type": "stream",
     "text": [
      "[0]\tvalidation_0-rmse:50.54776\tvalidation_1-rmse:51.62124\n",
      "[483]\tvalidation_0-rmse:20.21176\tvalidation_1-rmse:32.29226\n",
      "Fold: 1/5 score = 1040.59167\n",
      "[0]\tvalidation_0-rmse:50.04588\tvalidation_1-rmse:53.58088\n",
      "[456]\tvalidation_0-rmse:20.50384\tvalidation_1-rmse:32.30245\n",
      "Fold: 2/5 score = 1040.71241\n",
      "[0]\tvalidation_0-rmse:51.01572\tvalidation_1-rmse:49.70055\n",
      "[471]\tvalidation_0-rmse:20.92056\tvalidation_1-rmse:30.03816\n",
      "Fold: 3/5 score = 899.73956\n",
      "[0]\tvalidation_0-rmse:50.87493\tvalidation_1-rmse:50.32797\n",
      "[538]\tvalidation_0-rmse:20.17457\tvalidation_1-rmse:29.70608\n",
      "Fold: 4/5 score = 882.36822\n",
      "[0]\tvalidation_0-rmse:51.27920\tvalidation_1-rmse:48.57857\n",
      "[558]\tvalidation_0-rmse:19.97366\tvalidation_1-rmse:29.90298\n"
     ]
    },
    {
     "name": "stderr",
     "output_type": "stream",
     "text": [
      "[I 2023-08-17 23:48:07,386] Trial 70 finished with value: 951.295669865009 and parameters: {'booster': 'gbtree', 'lambda': 0.00020982915131300415, 'alpha': 0.10293145327097528, 'subsample': 0.9395304151658577, 'colsample_bytree': 0.3708438720744933, 'n_estimators': 600, 'max_depth': 7, 'min_child_weight': 9, 'eta': 0.01682766253737487, 'gamma': 0.00020369235322881965, 'grow_policy': 'lossguide'}. Best is trial 16 with value: 947.4410144296698.\n"
     ]
    },
    {
     "name": "stdout",
     "output_type": "stream",
     "text": [
      "Fold: 5/5 score = 893.06648\n",
      "[0]\tvalidation_0-rmse:50.51178\tvalidation_1-rmse:51.59341\n",
      "[494]\tvalidation_0-rmse:19.78615\tvalidation_1-rmse:32.37094\n",
      "Fold: 1/5 score = 1045.52125\n",
      "[0]\tvalidation_0-rmse:50.00949\tvalidation_1-rmse:53.55468\n",
      "[483]\tvalidation_0-rmse:19.94089\tvalidation_1-rmse:32.23032\n",
      "Fold: 2/5 score = 1037.78216\n",
      "[0]\tvalidation_0-rmse:50.98047\tvalidation_1-rmse:49.66111\n",
      "[380]\tvalidation_0-rmse:21.62741\tvalidation_1-rmse:29.84743\n",
      "Fold: 3/5 score = 889.58319\n",
      "[0]\tvalidation_0-rmse:50.83492\tvalidation_1-rmse:50.29540\n",
      "[520]\tvalidation_0-rmse:20.05942\tvalidation_1-rmse:29.77468\n"
     ]
    },
    {
     "name": "stderr",
     "output_type": "stream",
     "text": [
      "[I 2023-08-17 23:48:28,750] Trial 71 pruned. \n"
     ]
    },
    {
     "name": "stdout",
     "output_type": "stream",
     "text": [
      "Fold: 4/5 score = 885.54924\n",
      "[0]\tvalidation_0-rmse:50.81119\tvalidation_1-rmse:51.85735\n",
      "[699]\tvalidation_0-rmse:21.50672\tvalidation_1-rmse:32.32862\n",
      "Fold: 1/5 score = 1044.75137\n",
      "[0]\tvalidation_0-rmse:50.30835\tvalidation_1-rmse:53.82850\n",
      "[699]\tvalidation_0-rmse:21.56652\tvalidation_1-rmse:32.18572\n",
      "Fold: 2/5 score = 1035.72670\n",
      "[0]\tvalidation_0-rmse:51.29076\tvalidation_1-rmse:49.96383\n",
      "[699]\tvalidation_0-rmse:22.08856\tvalidation_1-rmse:30.07244\n",
      "Fold: 3/5 score = 903.42375\n",
      "[0]\tvalidation_0-rmse:51.13265\tvalidation_1-rmse:50.56913\n",
      "[699]\tvalidation_0-rmse:22.14569\tvalidation_1-rmse:29.67772\n"
     ]
    },
    {
     "name": "stderr",
     "output_type": "stream",
     "text": [
      "[I 2023-08-17 23:49:01,565] Trial 72 pruned. \n"
     ]
    },
    {
     "name": "stdout",
     "output_type": "stream",
     "text": [
      "Fold: 4/5 score = 880.64980\n",
      "[0]\tvalidation_0-rmse:49.98007\tvalidation_1-rmse:51.12185\n",
      "[245]\tvalidation_0-rmse:18.46617\tvalidation_1-rmse:32.52470\n",
      "Fold: 1/5 score = 1055.47486\n",
      "[0]\tvalidation_0-rmse:49.47579\tvalidation_1-rmse:53.05586\n",
      "[321]\tvalidation_0-rmse:16.78692\tvalidation_1-rmse:32.40954\n",
      "Fold: 2/5 score = 1047.38610\n",
      "[0]\tvalidation_0-rmse:50.43673\tvalidation_1-rmse:49.19874\n",
      "[167]\tvalidation_0-rmse:21.02111\tvalidation_1-rmse:30.38316\n",
      "Fold: 3/5 score = 919.84298\n",
      "[0]\tvalidation_0-rmse:50.30987\tvalidation_1-rmse:49.83335\n",
      "[364]\tvalidation_0-rmse:16.81520\tvalidation_1-rmse:29.56661\n",
      "Fold: 4/5 score = 872.94774\n",
      "[0]\tvalidation_0-rmse:50.70021\tvalidation_1-rmse:48.06006\n",
      "[389]\tvalidation_0-rmse:16.29078\tvalidation_1-rmse:29.91471\n"
     ]
    },
    {
     "name": "stderr",
     "output_type": "stream",
     "text": [
      "[I 2023-08-17 23:49:22,306] Trial 73 finished with value: 958.0210271874123 and parameters: {'booster': 'gbtree', 'lambda': 0.00019777685398497335, 'alpha': 0.010779992506846315, 'subsample': 0.9456598039325208, 'colsample_bytree': 0.33198293721648336, 'n_estimators': 600, 'max_depth': 8, 'min_child_weight': 8, 'eta': 0.03297295535284852, 'gamma': 0.0003262117872230261, 'grow_policy': 'lossguide'}. Best is trial 16 with value: 947.4410144296698.\n"
     ]
    },
    {
     "name": "stdout",
     "output_type": "stream",
     "text": [
      "Fold: 5/5 score = 894.45346\n",
      "[0]\tvalidation_0-rmse:51.01364\tvalidation_1-rmse:52.04341\n",
      "[699]\tvalidation_0-rmse:26.54787\tvalidation_1-rmse:33.05363\n",
      "Fold: 1/5 score = 1092.54253\n",
      "[0]\tvalidation_0-rmse:50.50365\tvalidation_1-rmse:54.01280\n",
      "[699]\tvalidation_0-rmse:26.67756\tvalidation_1-rmse:33.38223\n",
      "Fold: 2/5 score = 1114.37308\n",
      "[0]\tvalidation_0-rmse:51.48665\tvalidation_1-rmse:50.14766\n",
      "[699]\tvalidation_0-rmse:27.03910\tvalidation_1-rmse:30.54882\n",
      "Fold: 3/5 score = 933.23039\n",
      "[0]\tvalidation_0-rmse:51.33363\tvalidation_1-rmse:50.76906\n",
      "[699]\tvalidation_0-rmse:27.22242\tvalidation_1-rmse:30.55491\n"
     ]
    },
    {
     "name": "stderr",
     "output_type": "stream",
     "text": [
      "[I 2023-08-17 23:50:02,187] Trial 74 pruned. \n"
     ]
    },
    {
     "name": "stdout",
     "output_type": "stream",
     "text": [
      "Fold: 4/5 score = 933.60231\n",
      "[0]\tvalidation_0-rmse:47.88980\tvalidation_1-rmse:49.29365\n",
      "[131]\tvalidation_0-rmse:16.79249\tvalidation_1-rmse:32.58509\n",
      "Fold: 1/5 score = 1050.18697\n",
      "[0]\tvalidation_0-rmse:47.45599\tvalidation_1-rmse:51.19499\n",
      "[97]\tvalidation_0-rmse:18.71128\tvalidation_1-rmse:32.51182\n",
      "Fold: 2/5 score = 1041.42491\n",
      "[0]\tvalidation_0-rmse:48.40530\tvalidation_1-rmse:47.30003\n",
      "[180]\tvalidation_0-rmse:15.00684\tvalidation_1-rmse:30.40349\n",
      "Fold: 3/5 score = 912.23756\n",
      "[0]\tvalidation_0-rmse:48.27673\tvalidation_1-rmse:47.77439\n",
      "[131]\tvalidation_0-rmse:17.20395\tvalidation_1-rmse:30.45772\n"
     ]
    },
    {
     "name": "stderr",
     "output_type": "stream",
     "text": [
      "[I 2023-08-17 23:50:09,918] Trial 75 pruned. \n"
     ]
    },
    {
     "name": "stdout",
     "output_type": "stream",
     "text": [
      "Fold: 4/5 score = 916.54385\n",
      "[0]\tvalidation_0-rmse:50.69522\tvalidation_1-rmse:51.76462\n",
      "[399]\tvalidation_0-rmse:21.02733\tvalidation_1-rmse:32.45859\n",
      "Fold: 1/5 score = 1053.06865\n",
      "[0]\tvalidation_0-rmse:50.18733\tvalidation_1-rmse:53.71675\n",
      "[399]\tvalidation_0-rmse:21.11877\tvalidation_1-rmse:32.40492\n",
      "Fold: 2/5 score = 1049.98176\n",
      "[0]\tvalidation_0-rmse:51.16922\tvalidation_1-rmse:49.85048\n",
      "[390]\tvalidation_0-rmse:21.51775\tvalidation_1-rmse:30.11184\n",
      "Fold: 3/5 score = 905.49929\n",
      "[0]\tvalidation_0-rmse:51.02357\tvalidation_1-rmse:50.46859\n",
      "[399]\tvalidation_0-rmse:21.60358\tvalidation_1-rmse:29.63258\n",
      "Fold: 4/5 score = 878.09010\n",
      "[0]\tvalidation_0-rmse:51.43737\tvalidation_1-rmse:48.73949\n",
      "[399]\tvalidation_0-rmse:21.36811\tvalidation_1-rmse:30.13838\n",
      "Fold: 5/5 score = 907.76452\n"
     ]
    },
    {
     "name": "stderr",
     "output_type": "stream",
     "text": [
      "[I 2023-08-17 23:59:55,389] Trial 76 finished with value: 958.8808625934507 and parameters: {'booster': 'dart', 'lambda': 0.0028330354242659585, 'alpha': 0.034235410158769075, 'subsample': 0.7407428543270225, 'colsample_bytree': 0.2998845182389164, 'n_estimators': 400, 'max_depth': 7, 'min_child_weight': 4, 'eta': 0.013838094232002876, 'gamma': 0.00015595965113156352, 'grow_policy': 'depthwise', 'sample_type': 'uniform', 'normalize_type': 'tree', 'rate_drop': 2.4720866240139623e-07, 'skip_drop': 4.552412196341331e-07}. Best is trial 16 with value: 947.4410144296698.\n"
     ]
    },
    {
     "name": "stdout",
     "output_type": "stream",
     "text": [
      "[0]\tvalidation_0-rmse:50.93657\tvalidation_1-rmse:51.97378\n",
      "[499]\tvalidation_0-rmse:26.76764\tvalidation_1-rmse:32.76241\n",
      "Fold: 1/5 score = 1073.37528\n",
      "[0]\tvalidation_0-rmse:50.42623\tvalidation_1-rmse:53.93444\n",
      "[499]\tvalidation_0-rmse:26.94360\tvalidation_1-rmse:32.84308\n",
      "Fold: 2/5 score = 1078.66823\n"
     ]
    },
    {
     "name": "stderr",
     "output_type": "stream",
     "text": [
      "[I 2023-08-18 00:05:55,049] Trial 77 pruned. \n"
     ]
    },
    {
     "name": "stdout",
     "output_type": "stream",
     "text": [
      "[0]\tvalidation_0-rmse:49.26716\tvalidation_1-rmse:50.48945\n",
      "[122]\tvalidation_0-rmse:21.00743\tvalidation_1-rmse:32.71824\n",
      "Fold: 1/5 score = 1062.33034\n",
      "[0]\tvalidation_0-rmse:48.77652\tvalidation_1-rmse:52.37254\n",
      "[285]\tvalidation_0-rmse:15.90711\tvalidation_1-rmse:32.61739\n"
     ]
    },
    {
     "name": "stderr",
     "output_type": "stream",
     "text": [
      "[I 2023-08-18 00:06:00,223] Trial 78 pruned. \n"
     ]
    },
    {
     "name": "stdout",
     "output_type": "stream",
     "text": [
      "Fold: 2/5 score = 1056.81744\n",
      "[0]\tvalidation_0-rmse:50.31469\tvalidation_1-rmse:51.42341\n",
      "[299]\tvalidation_0-rmse:18.04349\tvalidation_1-rmse:32.41759\n",
      "Fold: 1/5 score = 1049.17356\n",
      "[0]\tvalidation_0-rmse:49.82694\tvalidation_1-rmse:53.40035\n",
      "[299]\tvalidation_0-rmse:18.31472\tvalidation_1-rmse:32.31215\n",
      "Fold: 2/5 score = 1040.46922\n",
      "[0]\tvalidation_0-rmse:50.79064\tvalidation_1-rmse:49.50228\n",
      "[265]\tvalidation_0-rmse:19.22868\tvalidation_1-rmse:30.03876\n",
      "Fold: 3/5 score = 902.11379\n",
      "[0]\tvalidation_0-rmse:50.62107\tvalidation_1-rmse:50.09664\n",
      "[299]\tvalidation_0-rmse:18.68470\tvalidation_1-rmse:29.70961\n",
      "Fold: 4/5 score = 882.66082\n"
     ]
    },
    {
     "name": "stderr",
     "output_type": "stream",
     "text": [
      "[I 2023-08-18 00:10:11,891] Trial 79 pruned. \n"
     ]
    },
    {
     "name": "stdout",
     "output_type": "stream",
     "text": [
      "[0]\tvalidation_0-rmse:51.05842\tvalidation_1-rmse:52.08525\n",
      "[399]\tvalidation_0-rmse:35.29468\tvalidation_1-rmse:38.71257\n",
      "Fold: 1/5 score = 1498.66276\n",
      "[0]\tvalidation_0-rmse:50.54606\tvalidation_1-rmse:54.05227\n",
      "[399]\tvalidation_0-rmse:35.17166\tvalidation_1-rmse:40.06286\n",
      "Fold: 2/5 score = 1605.03271\n"
     ]
    },
    {
     "name": "stderr",
     "output_type": "stream",
     "text": [
      "[I 2023-08-18 00:13:58,716] Trial 80 pruned. \n"
     ]
    },
    {
     "name": "stdout",
     "output_type": "stream",
     "text": [
      "[0]\tvalidation_0-rmse:50.72367\tvalidation_1-rmse:51.78367\n",
      "[475]\tvalidation_0-rmse:20.53173\tvalidation_1-rmse:32.43507\n",
      "Fold: 1/5 score = 1050.43749\n",
      "[0]\tvalidation_0-rmse:50.22223\tvalidation_1-rmse:53.75423\n",
      "[499]\tvalidation_0-rmse:20.23620\tvalidation_1-rmse:32.39643\n",
      "Fold: 2/5 score = 1048.91248\n"
     ]
    },
    {
     "name": "stderr",
     "output_type": "stream",
     "text": [
      "[I 2023-08-18 00:19:33,045] Trial 81 pruned. \n"
     ]
    },
    {
     "name": "stdout",
     "output_type": "stream",
     "text": [
      "[0]\tvalidation_0-rmse:50.52485\tvalidation_1-rmse:51.59380\n",
      "[418]\tvalidation_0-rmse:18.86025\tvalidation_1-rmse:32.50539\n",
      "Fold: 1/5 score = 1054.32087\n",
      "[0]\tvalidation_0-rmse:50.02503\tvalidation_1-rmse:53.56024\n",
      "[499]\tvalidation_0-rmse:17.66810\tvalidation_1-rmse:32.28912\n",
      "Fold: 2/5 score = 1041.43296\n",
      "[0]\tvalidation_0-rmse:50.99029\tvalidation_1-rmse:49.67378\n",
      "[399]\tvalidation_0-rmse:19.49482\tvalidation_1-rmse:30.07756\n",
      "Fold: 3/5 score = 903.43069\n",
      "[0]\tvalidation_0-rmse:50.83573\tvalidation_1-rmse:50.27630\n",
      "[391]\tvalidation_0-rmse:19.74201\tvalidation_1-rmse:29.62744\n",
      "Fold: 4/5 score = 876.53248\n",
      "[0]\tvalidation_0-rmse:51.26187\tvalidation_1-rmse:48.57580\n",
      "[499]\tvalidation_0-rmse:18.01411\tvalidation_1-rmse:29.87009\n",
      "Fold: 5/5 score = 891.90382\n"
     ]
    },
    {
     "name": "stderr",
     "output_type": "stream",
     "text": [
      "[I 2023-08-18 00:31:22,778] Trial 82 finished with value: 953.5241635167968 and parameters: {'booster': 'dart', 'lambda': 1.1006557729756018e-05, 'alpha': 0.010871048800595341, 'subsample': 0.7590700297202716, 'colsample_bytree': 0.3827145794972109, 'n_estimators': 500, 'max_depth': 7, 'min_child_weight': 4, 'eta': 0.017729893791072905, 'gamma': 4.983389391739573e-05, 'grow_policy': 'depthwise', 'sample_type': 'uniform', 'normalize_type': 'tree', 'rate_drop': 3.2268093073522964e-08, 'skip_drop': 1.8068336418629195e-05}. Best is trial 16 with value: 947.4410144296698.\n"
     ]
    },
    {
     "name": "stdout",
     "output_type": "stream",
     "text": [
      "[0]\tvalidation_0-rmse:50.15438\tvalidation_1-rmse:51.27880\n",
      "[268]\tvalidation_0-rmse:19.37217\tvalidation_1-rmse:32.63507\n",
      "Fold: 1/5 score = 1062.09083\n",
      "[0]\tvalidation_0-rmse:49.67466\tvalidation_1-rmse:53.22875\n",
      "[278]\tvalidation_0-rmse:19.23182\tvalidation_1-rmse:32.28223\n",
      "Fold: 2/5 score = 1040.35557\n",
      "[0]\tvalidation_0-rmse:50.61870\tvalidation_1-rmse:49.34287\n",
      "[318]\tvalidation_0-rmse:18.60020\tvalidation_1-rmse:29.95442\n",
      "Fold: 3/5 score = 895.76179\n",
      "[0]\tvalidation_0-rmse:50.47532\tvalidation_1-rmse:49.92956\n",
      "[341]\tvalidation_0-rmse:18.36334\tvalidation_1-rmse:29.55876\n",
      "Fold: 4/5 score = 873.59893\n",
      "[0]\tvalidation_0-rmse:50.89603\tvalidation_1-rmse:48.22795\n",
      "[236]\tvalidation_0-rmse:20.41302\tvalidation_1-rmse:30.08983\n",
      "Fold: 5/5 score = 902.27137\n"
     ]
    },
    {
     "name": "stderr",
     "output_type": "stream",
     "text": [
      "[I 2023-08-18 00:36:38,015] Trial 83 finished with value: 954.8156995606774 and parameters: {'booster': 'dart', 'lambda': 3.206719265009518e-05, 'alpha': 0.005696635981743244, 'subsample': 0.7329396160708562, 'colsample_bytree': 0.42688987207909007, 'n_estimators': 800, 'max_depth': 7, 'min_child_weight': 5, 'eta': 0.028708885826117032, 'gamma': 1.4016592448869463e-05, 'grow_policy': 'depthwise', 'sample_type': 'uniform', 'normalize_type': 'tree', 'rate_drop': 1.57970215483971e-07, 'skip_drop': 5.412568658137012e-06}. Best is trial 16 with value: 947.4410144296698.\n"
     ]
    },
    {
     "name": "stdout",
     "output_type": "stream",
     "text": [
      "[0]\tvalidation_0-rmse:50.94399\tvalidation_1-rmse:51.98701\n",
      "[599]\tvalidation_0-rmse:22.19200\tvalidation_1-rmse:32.62643\n",
      "Fold: 1/5 score = 1064.48374\n",
      "[0]\tvalidation_0-rmse:50.43466\tvalidation_1-rmse:53.95343\n",
      "[599]\tvalidation_0-rmse:22.28707\tvalidation_1-rmse:32.62679\n",
      "Fold: 2/5 score = 1064.50749\n"
     ]
    },
    {
     "name": "stderr",
     "output_type": "stream",
     "text": [
      "[I 2023-08-18 00:45:14,452] Trial 84 pruned. \n"
     ]
    },
    {
     "name": "stdout",
     "output_type": "stream",
     "text": [
      "[0]\tvalidation_0-rmse:49.51955\tvalidation_1-rmse:50.75490\n",
      "[199]\tvalidation_0-rmse:16.62887\tvalidation_1-rmse:32.71593\n",
      "Fold: 1/5 score = 1066.03528\n",
      "[0]\tvalidation_0-rmse:49.03912\tvalidation_1-rmse:52.56726\n",
      "[239]\tvalidation_0-rmse:15.13741\tvalidation_1-rmse:32.76030\n",
      "Fold: 2/5 score = 1063.87176\n"
     ]
    },
    {
     "name": "stderr",
     "output_type": "stream",
     "text": [
      "[I 2023-08-18 00:46:26,561] Trial 85 pruned. \n"
     ]
    },
    {
     "name": "stdout",
     "output_type": "stream",
     "text": [
      "[0]\tvalidation_0-rmse:50.76151\tvalidation_1-rmse:51.81508\n",
      "[499]\tvalidation_0-rmse:22.54883\tvalidation_1-rmse:32.50322\n",
      "Fold: 1/5 score = 1056.13175\n",
      "[0]\tvalidation_0-rmse:50.25544\tvalidation_1-rmse:53.77651\n",
      "[499]\tvalidation_0-rmse:22.59051\tvalidation_1-rmse:32.29468\n",
      "Fold: 2/5 score = 1042.94019\n",
      "[0]\tvalidation_0-rmse:51.22948\tvalidation_1-rmse:49.89596\n",
      "[499]\tvalidation_0-rmse:23.01973\tvalidation_1-rmse:30.06173\n",
      "Fold: 3/5 score = 903.70789\n",
      "[0]\tvalidation_0-rmse:51.07920\tvalidation_1-rmse:50.51675\n",
      "[499]\tvalidation_0-rmse:23.09273\tvalidation_1-rmse:29.67006\n",
      "Fold: 4/5 score = 880.12514\n"
     ]
    },
    {
     "name": "stderr",
     "output_type": "stream",
     "text": [
      "[I 2023-08-18 00:58:24,334] Trial 86 pruned. \n"
     ]
    },
    {
     "name": "stdout",
     "output_type": "stream",
     "text": [
      "[0]\tvalidation_0-rmse:48.00468\tvalidation_1-rmse:49.51059\n",
      "[109]\tvalidation_0-rmse:15.87460\tvalidation_1-rmse:32.80176\n",
      "Fold: 1/5 score = 1068.64201\n",
      "[0]\tvalidation_0-rmse:47.57761\tvalidation_1-rmse:51.39468\n",
      "[120]\tvalidation_0-rmse:15.26507\tvalidation_1-rmse:33.05822\n",
      "Fold: 2/5 score = 1080.08574\n",
      "[0]\tvalidation_0-rmse:48.52142\tvalidation_1-rmse:47.38003\n",
      "[141]\tvalidation_0-rmse:14.29978\tvalidation_1-rmse:30.57082\n",
      "Fold: 3/5 score = 917.27624\n",
      "[0]\tvalidation_0-rmse:48.35888\tvalidation_1-rmse:48.02931\n",
      "[107]\tvalidation_0-rmse:16.40467\tvalidation_1-rmse:30.39257\n"
     ]
    },
    {
     "name": "stderr",
     "output_type": "stream",
     "text": [
      "[I 2023-08-18 00:58:29,613] Trial 87 pruned. \n"
     ]
    },
    {
     "name": "stdout",
     "output_type": "stream",
     "text": [
      "Fold: 4/5 score = 916.31907\n",
      "[0]\tvalidation_0-rmse:51.00355\tvalidation_1-rmse:52.03500\n",
      "[699]\tvalidation_0-rmse:23.39394\tvalidation_1-rmse:32.87342\n",
      "Fold: 1/5 score = 1080.66206\n",
      "[0]\tvalidation_0-rmse:50.49313\tvalidation_1-rmse:54.00331\n",
      "[699]\tvalidation_0-rmse:23.54112\tvalidation_1-rmse:33.10943\n",
      "Fold: 2/5 score = 1096.23437\n"
     ]
    },
    {
     "name": "stderr",
     "output_type": "stream",
     "text": [
      "[I 2023-08-18 01:10:13,707] Trial 88 pruned. \n"
     ]
    },
    {
     "name": "stdout",
     "output_type": "stream",
     "text": [
      "[0]\tvalidation_0-rmse:50.91337\tvalidation_1-rmse:51.95341\n",
      "[599]\tvalidation_0-rmse:24.01375\tvalidation_1-rmse:32.50376\n",
      "Fold: 1/5 score = 1056.42917\n",
      "[0]\tvalidation_0-rmse:50.40097\tvalidation_1-rmse:53.90182\n",
      "[599]\tvalidation_0-rmse:24.13048\tvalidation_1-rmse:32.40819\n",
      "Fold: 2/5 score = 1050.29079\n",
      "[0]\tvalidation_0-rmse:51.38054\tvalidation_1-rmse:50.04687\n",
      "[599]\tvalidation_0-rmse:24.42370\tvalidation_1-rmse:30.10278\n",
      "Fold: 3/5 score = 906.16586\n",
      "[0]\tvalidation_0-rmse:51.22994\tvalidation_1-rmse:50.66564\n",
      "[599]\tvalidation_0-rmse:24.61365\tvalidation_1-rmse:29.78079\n",
      "Fold: 4/5 score = 886.89520\n"
     ]
    },
    {
     "name": "stderr",
     "output_type": "stream",
     "text": [
      "[I 2023-08-18 01:27:06,470] Trial 89 pruned. \n"
     ]
    },
    {
     "name": "stdout",
     "output_type": "stream",
     "text": [
      "[0]\tvalidation_0-rmse:45.57066\tvalidation_1-rmse:47.43210\n",
      "[77]\tvalidation_0-rmse:13.46316\tvalidation_1-rmse:33.40913\n",
      "Fold: 1/5 score = 1085.43571\n",
      "[0]\tvalidation_0-rmse:45.17465\tvalidation_1-rmse:49.04280\n",
      "[77]\tvalidation_0-rmse:13.63954\tvalidation_1-rmse:33.26250\n"
     ]
    },
    {
     "name": "stderr",
     "output_type": "stream",
     "text": [
      "[I 2023-08-18 01:27:09,419] Trial 90 pruned. \n"
     ]
    },
    {
     "name": "stdout",
     "output_type": "stream",
     "text": [
      "Fold: 2/5 score = 1066.88117\n",
      "[0]\tvalidation_0-rmse:50.52553\tvalidation_1-rmse:51.63546\n",
      "[419]\tvalidation_0-rmse:15.65136\tvalidation_1-rmse:32.60099\n",
      "Fold: 1/5 score = 1060.12902\n",
      "[0]\tvalidation_0-rmse:50.02478\tvalidation_1-rmse:53.56505\n",
      "[448]\tvalidation_0-rmse:15.30757\tvalidation_1-rmse:32.10139\n",
      "Fold: 2/5 score = 1028.49104\n",
      "[0]\tvalidation_0-rmse:50.98548\tvalidation_1-rmse:49.68452\n",
      "[428]\tvalidation_0-rmse:15.86555\tvalidation_1-rmse:30.01097\n",
      "Fold: 3/5 score = 899.34007\n",
      "[0]\tvalidation_0-rmse:50.82946\tvalidation_1-rmse:50.31054\n",
      "[412]\tvalidation_0-rmse:16.20291\tvalidation_1-rmse:29.44321\n",
      "Fold: 4/5 score = 866.33899\n",
      "[0]\tvalidation_0-rmse:51.25359\tvalidation_1-rmse:48.59698\n",
      "[404]\tvalidation_0-rmse:16.21632\tvalidation_1-rmse:29.94829\n",
      "Fold: 5/5 score = 895.16165\n"
     ]
    },
    {
     "name": "stderr",
     "output_type": "stream",
     "text": [
      "[I 2023-08-18 01:38:10,838] Trial 91 finished with value: 949.8921540111833 and parameters: {'booster': 'dart', 'lambda': 9.77594520716381e-05, 'alpha': 0.0031235797092174877, 'subsample': 0.8252547176639033, 'colsample_bytree': 0.5137084952079435, 'n_estimators': 600, 'max_depth': 9, 'min_child_weight': 5, 'eta': 0.016976779709375302, 'gamma': 6.135932837934258e-05, 'grow_policy': 'depthwise', 'sample_type': 'uniform', 'normalize_type': 'tree', 'rate_drop': 2.8059065742449636e-06, 'skip_drop': 0.00020413619979058102}. Best is trial 16 with value: 947.4410144296698.\n"
     ]
    },
    {
     "name": "stdout",
     "output_type": "stream",
     "text": [
      "[0]\tvalidation_0-rmse:50.54103\tvalidation_1-rmse:51.62662\n",
      "[363]\tvalidation_0-rmse:17.11526\tvalidation_1-rmse:32.52318\n",
      "Fold: 1/5 score = 1054.95187\n",
      "[0]\tvalidation_0-rmse:50.03960\tvalidation_1-rmse:53.60461\n",
      "[326]\tvalidation_0-rmse:17.86474\tvalidation_1-rmse:32.21820\n",
      "Fold: 2/5 score = 1036.88823\n",
      "[0]\tvalidation_0-rmse:50.99783\tvalidation_1-rmse:49.69479\n",
      "[276]\tvalidation_0-rmse:19.25796\tvalidation_1-rmse:30.03909\n",
      "Fold: 3/5 score = 900.78526\n",
      "[0]\tvalidation_0-rmse:50.85353\tvalidation_1-rmse:50.32863\n",
      "[546]\tvalidation_0-rmse:14.74882\tvalidation_1-rmse:29.51026\n",
      "Fold: 4/5 score = 869.37881\n",
      "[0]\tvalidation_0-rmse:51.27196\tvalidation_1-rmse:48.61703\n",
      "[373]\tvalidation_0-rmse:17.17154\tvalidation_1-rmse:30.00508\n",
      "Fold: 5/5 score = 898.99992\n"
     ]
    },
    {
     "name": "stderr",
     "output_type": "stream",
     "text": [
      "[I 2023-08-18 01:47:34,562] Trial 92 finished with value: 952.2008192034879 and parameters: {'booster': 'dart', 'lambda': 0.00021211102154453364, 'alpha': 0.01329018769196279, 'subsample': 0.7771389945471829, 'colsample_bytree': 0.48940249666767077, 'n_estimators': 600, 'max_depth': 9, 'min_child_weight': 5, 'eta': 0.016544333959842453, 'gamma': 6.508459899636895e-05, 'grow_policy': 'depthwise', 'sample_type': 'uniform', 'normalize_type': 'tree', 'rate_drop': 8.058678055851717e-07, 'skip_drop': 3.33996452818443e-05}. Best is trial 16 with value: 947.4410144296698.\n"
     ]
    },
    {
     "name": "stdout",
     "output_type": "stream",
     "text": [
      "[0]\tvalidation_0-rmse:49.90805\tvalidation_1-rmse:51.11451\n",
      "[253]\tvalidation_0-rmse:15.29794\tvalidation_1-rmse:32.54949\n",
      "Fold: 1/5 score = 1050.02488\n",
      "[0]\tvalidation_0-rmse:49.43864\tvalidation_1-rmse:53.05772\n",
      "[297]\tvalidation_0-rmse:14.26299\tvalidation_1-rmse:32.44692\n",
      "Fold: 2/5 score = 1047.93699\n"
     ]
    },
    {
     "name": "stderr",
     "output_type": "stream",
     "text": [
      "[I 2023-08-18 01:49:31,375] Trial 93 pruned. \n"
     ]
    },
    {
     "name": "stdout",
     "output_type": "stream",
     "text": [
      "[0]\tvalidation_0-rmse:50.44505\tvalidation_1-rmse:51.54500\n",
      "[349]\tvalidation_0-rmse:16.24768\tvalidation_1-rmse:32.50834\n",
      "Fold: 1/5 score = 1053.68243\n",
      "[0]\tvalidation_0-rmse:49.94800\tvalidation_1-rmse:53.51918\n",
      "[327]\tvalidation_0-rmse:16.81974\tvalidation_1-rmse:32.11252\n",
      "Fold: 2/5 score = 1029.98460\n",
      "[0]\tvalidation_0-rmse:50.90485\tvalidation_1-rmse:49.60690\n",
      "[292]\tvalidation_0-rmse:17.93924\tvalidation_1-rmse:30.05539\n",
      "Fold: 3/5 score = 901.35276\n",
      "[0]\tvalidation_0-rmse:50.75956\tvalidation_1-rmse:50.23438\n",
      "[493]\tvalidation_0-rmse:14.46945\tvalidation_1-rmse:29.56912\n",
      "Fold: 4/5 score = 871.33051\n",
      "[0]\tvalidation_0-rmse:51.17266\tvalidation_1-rmse:48.52911\n",
      "[414]\tvalidation_0-rmse:15.56944\tvalidation_1-rmse:29.92366\n",
      "Fold: 5/5 score = 894.70637\n"
     ]
    },
    {
     "name": "stderr",
     "output_type": "stream",
     "text": [
      "[I 2023-08-18 01:58:41,768] Trial 94 finished with value: 950.2113338012357 and parameters: {'booster': 'dart', 'lambda': 0.0004261198888375688, 'alpha': 0.0024900788004808922, 'subsample': 0.7807941378104154, 'colsample_bytree': 0.5286603619265878, 'n_estimators': 700, 'max_depth': 9, 'min_child_weight': 5, 'eta': 0.01920041338977136, 'gamma': 4.870680176365884e-05, 'grow_policy': 'depthwise', 'sample_type': 'uniform', 'normalize_type': 'tree', 'rate_drop': 6.918804895725221e-07, 'skip_drop': 2.987535375423225e-05}. Best is trial 16 with value: 947.4410144296698.\n"
     ]
    },
    {
     "name": "stdout",
     "output_type": "stream",
     "text": [
      "[0]\tvalidation_0-rmse:50.29477\tvalidation_1-rmse:51.44250\n",
      "[264]\tvalidation_0-rmse:16.32618\tvalidation_1-rmse:32.44055\n",
      "Fold: 1/5 score = 1052.09684\n",
      "[0]\tvalidation_0-rmse:49.79522\tvalidation_1-rmse:53.37176\n",
      "[330]\tvalidation_0-rmse:14.90420\tvalidation_1-rmse:32.37409\n",
      "Fold: 2/5 score = 1047.77068\n"
     ]
    },
    {
     "name": "stderr",
     "output_type": "stream",
     "text": [
      "[I 2023-08-18 02:00:57,121] Trial 95 pruned. \n"
     ]
    },
    {
     "name": "stdout",
     "output_type": "stream",
     "text": [
      "[0]\tvalidation_0-rmse:49.35302\tvalidation_1-rmse:50.62148\n",
      "[157]\tvalidation_0-rmse:16.13291\tvalidation_1-rmse:32.82240\n",
      "Fold: 1/5 score = 1074.07869\n",
      "[0]\tvalidation_0-rmse:48.92337\tvalidation_1-rmse:52.57523\n",
      "[149]\tvalidation_0-rmse:16.59022\tvalidation_1-rmse:32.34756\n",
      "Fold: 2/5 score = 1039.22548\n",
      "[0]\tvalidation_0-rmse:49.83525\tvalidation_1-rmse:48.62186\n",
      "[172]\tvalidation_0-rmse:16.15936\tvalidation_1-rmse:30.07890\n",
      "Fold: 3/5 score = 899.21218\n",
      "[0]\tvalidation_0-rmse:49.68624\tvalidation_1-rmse:49.21817\n",
      "[235]\tvalidation_0-rmse:13.76915\tvalidation_1-rmse:30.05341\n",
      "Fold: 4/5 score = 892.76508\n"
     ]
    },
    {
     "name": "stderr",
     "output_type": "stream",
     "text": [
      "[I 2023-08-18 02:02:38,913] Trial 96 pruned. \n"
     ]
    },
    {
     "name": "stdout",
     "output_type": "stream",
     "text": [
      "[0]\tvalidation_0-rmse:50.44172\tvalidation_1-rmse:51.56161\n",
      "[388]\tvalidation_0-rmse:15.20235\tvalidation_1-rmse:32.45373\n",
      "Fold: 1/5 score = 1051.40210\n",
      "[0]\tvalidation_0-rmse:49.93907\tvalidation_1-rmse:53.51622\n",
      "[358]\tvalidation_0-rmse:15.78770\tvalidation_1-rmse:32.25509\n",
      "Fold: 2/5 score = 1038.09038\n",
      "[0]\tvalidation_0-rmse:50.90389\tvalidation_1-rmse:49.60885\n",
      "[405]\tvalidation_0-rmse:15.22814\tvalidation_1-rmse:29.99211\n",
      "Fold: 3/5 score = 899.15359\n",
      "[0]\tvalidation_0-rmse:50.75695\tvalidation_1-rmse:50.22743\n",
      "[534]\tvalidation_0-rmse:13.26054\tvalidation_1-rmse:29.61181\n",
      "Fold: 4/5 score = 875.00489\n",
      "[0]\tvalidation_0-rmse:51.18236\tvalidation_1-rmse:48.53978\n",
      "[392]\tvalidation_0-rmse:15.42374\tvalidation_1-rmse:30.05418\n",
      "Fold: 5/5 score = 900.61945\n"
     ]
    },
    {
     "name": "stderr",
     "output_type": "stream",
     "text": [
      "[I 2023-08-18 02:13:28,616] Trial 97 finished with value: 952.8540828751684 and parameters: {'booster': 'dart', 'lambda': 0.00023381270462447313, 'alpha': 0.0012680628258265715, 'subsample': 0.8636447666282404, 'colsample_bytree': 0.487310741083678, 'n_estimators': 700, 'max_depth': 9, 'min_child_weight': 5, 'eta': 0.019104008674728407, 'gamma': 6.637946881342364e-05, 'grow_policy': 'depthwise', 'sample_type': 'uniform', 'normalize_type': 'tree', 'rate_drop': 1.1940317466932248e-06, 'skip_drop': 0.00011318418946036839}. Best is trial 16 with value: 947.4410144296698.\n"
     ]
    },
    {
     "name": "stdout",
     "output_type": "stream",
     "text": [
      "[0]\tvalidation_0-rmse:50.85758\tvalidation_1-rmse:51.91014\n",
      "[599]\tvalidation_0-rmse:21.16502\tvalidation_1-rmse:32.25451\n",
      "Fold: 1/5 score = 1040.14388\n",
      "[0]\tvalidation_0-rmse:50.34962\tvalidation_1-rmse:53.87061\n",
      "[599]\tvalidation_0-rmse:21.21266\tvalidation_1-rmse:32.13416\n",
      "Fold: 2/5 score = 1032.54946\n",
      "[0]\tvalidation_0-rmse:51.32120\tvalidation_1-rmse:49.99932\n",
      "[599]\tvalidation_0-rmse:21.57123\tvalidation_1-rmse:29.90469\n",
      "Fold: 3/5 score = 894.29035\n",
      "[0]\tvalidation_0-rmse:51.17282\tvalidation_1-rmse:50.60489\n",
      "[599]\tvalidation_0-rmse:21.72069\tvalidation_1-rmse:29.70532\n",
      "Fold: 4/5 score = 882.26066\n"
     ]
    },
    {
     "name": "stderr",
     "output_type": "stream",
     "text": [
      "[I 2023-08-18 02:30:50,097] Trial 98 pruned. \n"
     ]
    },
    {
     "name": "stdout",
     "output_type": "stream",
     "text": [
      "[0]\tvalidation_0-rmse:48.24958\tvalidation_1-rmse:49.60832\n",
      "[91]\tvalidation_0-rmse:16.38360\tvalidation_1-rmse:33.10494\n",
      "Fold: 1/5 score = 1081.26265\n",
      "[0]\tvalidation_0-rmse:47.81361\tvalidation_1-rmse:51.54670\n",
      "[100]\tvalidation_0-rmse:15.78423\tvalidation_1-rmse:33.11345\n",
      "Fold: 2/5 score = 1079.25447\n",
      "[0]\tvalidation_0-rmse:48.66142\tvalidation_1-rmse:47.63958\n",
      "[96]\tvalidation_0-rmse:16.27432\tvalidation_1-rmse:30.75936\n",
      "Fold: 3/5 score = 928.72679\n",
      "[0]\tvalidation_0-rmse:48.53980\tvalidation_1-rmse:48.10601\n",
      "[102]\tvalidation_0-rmse:15.97012\tvalidation_1-rmse:29.65480\n",
      "Fold: 4/5 score = 871.62538\n",
      "[0]\tvalidation_0-rmse:48.95550\tvalidation_1-rmse:46.58581\n",
      "[137]\tvalidation_0-rmse:13.66005\tvalidation_1-rmse:30.55939\n",
      "Fold: 5/5 score = 928.71056"
     ]
    },
    {
     "name": "stderr",
     "output_type": "stream",
     "text": [
      "[I 2023-08-18 02:31:35,954] Trial 99 finished with value: 977.9159713376946 and parameters: {'booster': 'dart', 'lambda': 5.692784640484324e-05, 'alpha': 0.0033173846724742816, 'subsample': 0.7437612134805827, 'colsample_bytree': 0.459525537349439, 'n_estimators': 700, 'max_depth': 9, 'min_child_weight': 5, 'eta': 0.08340681537461535, 'gamma': 0.00012901094624464385, 'grow_policy': 'depthwise', 'sample_type': 'uniform', 'normalize_type': 'tree', 'rate_drop': 9.282859980166626e-07, 'skip_drop': 0.00017141964300690493}. Best is trial 16 with value: 947.4410144296698.\n"
     ]
    },
    {
     "name": "stdout",
     "output_type": "stream",
     "text": [
      "\n"
     ]
    }
   ],
   "source": [
    "study = optuna.create_study(\n",
    "    sampler=TPESampler(seed=RANDOM_SEED),\n",
    "    direction='minimize',\n",
    "    study_name='xgb_tuning',\n",
    "    pruner=HyperbandPruner(\n",
    "        min_resource=1, max_resource=8, reduction_factor=3\n",
    "    ),\n",
    ")\n",
    "\n",
    "study.optimize(objective_xgb, n_trials=100)"
   ]
  },
  {
   "cell_type": "code",
   "execution_count": 13,
   "metadata": {},
   "outputs": [],
   "source": [
    "trial = study.best_trial"
   ]
  },
  {
   "cell_type": "code",
   "execution_count": 14,
   "metadata": {},
   "outputs": [
    {
     "name": "stdout",
     "output_type": "stream",
     "text": [
      "{'booster': 'dart', 'lambda': 0.0026377247595962727, 'alpha': 7.483780511102761e-05, 'subsample': 0.8280537243135858, 'colsample_bytree': 0.37588574594589486, 'n_estimators': 400, 'max_depth': 7, 'min_child_weight': 8, 'eta': 0.05393761227911353, 'gamma': 4.291867724531988e-05, 'grow_policy': 'depthwise', 'sample_type': 'weighted', 'normalize_type': 'tree', 'rate_drop': 5.145690154427874e-07, 'skip_drop': 1.3546656519467045e-06}\n"
     ]
    }
   ],
   "source": [
    "print(trial.params)"
   ]
  },
  {
   "cell_type": "code",
   "execution_count": 16,
   "metadata": {},
   "outputs": [
    {
     "name": "stdout",
     "output_type": "stream",
     "text": [
      "[0]\tvalidation_0-rmse:49.32643\tvalidation_1-rmse:50.54414\n",
      "[167]\tvalidation_0-rmse:19.66857\tvalidation_1-rmse:32.25208\n",
      "Fold: 1/5 score = 1037.66947\n",
      "[0]\tvalidation_0-rmse:48.86619\tvalidation_1-rmse:52.45612\n",
      "[183]\tvalidation_0-rmse:19.16252\tvalidation_1-rmse:32.42064\n",
      "Fold: 2/5 score = 1045.10372\n",
      "[0]\tvalidation_0-rmse:49.76686\tvalidation_1-rmse:48.50828\n",
      "[222]\tvalidation_0-rmse:18.64541\tvalidation_1-rmse:30.01686\n",
      "Fold: 3/5 score = 894.87590\n",
      "[0]\tvalidation_0-rmse:49.61942\tvalidation_1-rmse:49.15592\n",
      "[241]\tvalidation_0-rmse:18.04355\tvalidation_1-rmse:29.67055\n",
      "Fold: 4/5 score = 876.60151\n",
      "[0]\tvalidation_0-rmse:50.05397\tvalidation_1-rmse:47.47320\n",
      "[248]\tvalidation_0-rmse:18.02924\tvalidation_1-rmse:29.77147\n",
      "Fold: 5/5 score = 882.95447\n"
     ]
    }
   ],
   "source": [
    "best_param = {\n",
    "  'booster': 'dart',\n",
    "  'lambda': 0.0026377247595962727,\n",
    "  'alpha': 7.483780511102761e-05,\n",
    "  'subsample': 0.8280537243135858,\n",
    "  'colsample_bytree': 0.37588574594589486,\n",
    "  'n_estimators': 400,\n",
    "  'max_depth': 7,\n",
    "  'min_child_weight': 8,\n",
    "  'eta': 0.05393761227911353,\n",
    "  'gamma': 4.291867724531988e-05,\n",
    "  'grow_policy': 'depthwise',\n",
    "  'sample_type': 'weighted',\n",
    "  'normalize_type': 'tree',\n",
    "  'rate_drop': 5.145690154427874e-07,\n",
    "  'skip_drop': 1.3546656519467045e-06}\n",
    "\n",
    "val_scores, y_tests, models = train_model(best_param, train_x, train_y, test_x)"
   ]
  },
  {
   "cell_type": "code",
   "execution_count": 23,
   "metadata": {},
   "outputs": [
    {
     "data": {
      "image/png": "[encoded data removed]",
      "text/plain": [
       "<Figure size 1000x1200 with 1 Axes>"
      ]
     },
     "metadata": {},
     "output_type": "display_data"
    }
   ],
   "source": [
    "importance = models[-1].get_booster().get_score(importance_type=\"weight\")\n",
    "tuples = [(k, importance[k]) for k in importance]\n",
    "tuples.sort(key=lambda x: x[1])\n",
    "\n",
    "label, values = zip(*tuples)\n",
    "\n",
    "plt.rcParams[\"font.family\"] = \"MalGun Gothic\"\n",
    "plt.figure(figsize=(10, 12))\n",
    "plt.barh(label[:100], values[:100])\n",
    "plt.show()"
   ]
  },
  {
   "cell_type": "code",
   "execution_count": 24,
   "metadata": {},
   "outputs": [],
   "source": [
    "submit = pd.read_csv(\"./data/sample_submission.csv\")\n",
    "submit[\"MLM\"] = y_tests[-1]\n",
    "submit.to_csv(\"xgboost_optuna.csv\", index=False)"
   ]
  },
  {
   "cell_type": "code",
   "execution_count": null,
   "metadata": {},
   "outputs": [],
   "source": []
  }
 ],
 "metadata": {
  "kernelspec": {
   "display_name": "신약개발-mImSxWNo",
   "language": "python",
   "name": "python3"
  },
  "language_info": {
   "codemirror_mode": {
    "name": "ipython",
    "version": 3
   },
   "file_extension": ".py",
   "mimetype": "text/x-python",
   "name": "python",
   "nbconvert_exporter": "python",
   "pygments_lexer": "ipython3",
   "version": "3.10.11"
  },
  "orig_nbformat": 4
 },
 "nbformat": 4,
 "nbformat_minor": 2
}
