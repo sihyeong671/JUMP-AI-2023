{
 "cells": [
  {
   "cell_type": "code",
   "execution_count": 1,
   "metadata": {},
   "outputs": [
    {
     "name": "stderr",
     "output_type": "stream",
     "text": [
      "c:\\Users\\BSH\\.virtualenvs\\신약개발-mImSxWNo\\lib\\site-packages\\tqdm\\auto.py:21: TqdmWarning: IProgress not found. Please update jupyter and ipywidgets. See https://ipywidgets.readthedocs.io/en/stable/user_install.html\n",
      "  from .autonotebook import tqdm as notebook_tqdm\n"
     ]
    }
   ],
   "source": [
    "import pandas as pd\n",
    "import numpy as np\n",
    "import random\n",
    "\n",
    "import optuna\n",
    "from optuna.samplers import TPESampler\n",
    "from optuna.pruners import HyperbandPruner\n",
    "\n",
    "import rdkit\n",
    "from rdkit.Chem import AllChem, rdFingerprintGenerator, MACCSkeys\n",
    "from rdkit import Chem, DataStructs\n",
    "\n",
    "from sklearn.model_selection import train_test_split, StratifiedKFold, KFold\n",
    "from sklearn.metrics import mean_absolute_error, mean_squared_error\n",
    "from sklearn.preprocessing import StandardScaler, MinMaxScaler, LabelEncoder\n",
    "\n",
    "import matplotlib.pyplot as plt\n",
    "\n",
    "import xgboost as xgb"
   ]
  },
  {
   "cell_type": "code",
   "execution_count": 2,
   "metadata": {},
   "outputs": [],
   "source": [
    "RANDOM_SEED = 999"
   ]
  },
  {
   "cell_type": "code",
   "execution_count": 3,
   "metadata": {},
   "outputs": [],
   "source": [
    "def feature_engineer():\n",
    "  train_df = pd.read_csv(\"../data/train.csv\")\n",
    "  test_df = pd.read_csv(\"../data/test.csv\")\n",
    "  # 결측치 수정\n",
    "  train_df = train_df.dropna()\n",
    "  test_df[\"AlogP\"] = np.where(pd.isna(test_df[\"AlogP\"]), test_df[\"LogD\"], test_df[\"AlogP\"])\n",
    "  \n",
    "  train_df[\"mol\"] = train_df[\"SMILES\"].apply(lambda x: Chem.MolFromSmiles(x))\n",
    "  test_df[\"mol\"] = test_df[\"SMILES\"].apply(lambda x: Chem.MolFromSmiles(x))\n",
    "  \n",
    "  train_df['mol'] = train_df['mol'].apply(lambda x: Chem.AddHs(x))\n",
    "  train_df['num_of_atoms'] = train_df['mol'].apply(lambda x: x.GetNumAtoms())\n",
    "  train_df['num_of_heavy_atoms'] = train_df['mol'].apply(lambda x: x.GetNumHeavyAtoms())\n",
    "  \n",
    "  test_df['mol'] = test_df['mol'].apply(lambda x: Chem.AddHs(x))\n",
    "  test_df['num_of_atoms'] = test_df['mol'].apply(lambda x: x.GetNumAtoms())\n",
    "  test_df['num_of_heavy_atoms'] = test_df['mol'].apply(lambda x: x.GetNumHeavyAtoms())\n",
    "  \n",
    "  # 중복제거\n",
    "  def canonize(mol):\n",
    "    return Chem.MolToSmiles(Chem.MolFromSmiles(mol), isomericSmiles=True, canonical=True)\n",
    "\n",
    "  canon_smile = []\n",
    "  for molecule in train_df['SMILES']:\n",
    "      canon_smile.append(canonize(molecule))\n",
    "  \n",
    "  train_df['canon_smiles'] = canon_smile\n",
    "  \n",
    "  ind = train_df.index[train_df['canon_smiles'].duplicated()]\n",
    "  train_df = train_df.drop(ind)\n",
    "  \n",
    "  # MLM, HLM 100 이상 제거 코드 추가 예정\n",
    "  \n",
    "  train_df.drop(columns=[\"id\", \"SMILES\"], inplace=True)\n",
    "  test_df.drop(columns=[\"id\", \"SMILES\"], inplace=True)\n",
    "  \n",
    "  \n",
    "  fmgen = rdFingerprintGenerator.GetMorganGenerator()\n",
    "  \n",
    "  train_fps = train_df[\"mol\"].apply(lambda x: fmgen.GetFingerprintAsNumPy(x))\n",
    "  train_fps = np.stack(train_fps)\n",
    "  \n",
    "  train_maccs = train_df[\"mol\"].apply(lambda x: list(MACCSkeys.GenMACCSKeys(x).ToBitString()))\n",
    "  train_maccs = np.stack(train_maccs, dtype=object)\n",
    "  \n",
    "  test_fps = test_df[\"mol\"].apply(lambda x: fmgen.GetFingerprintAsNumPy(x))\n",
    "  test_fps = np.stack(test_fps)\n",
    "  \n",
    "  test_maccs = test_df[\"mol\"].apply(lambda x: list(MACCSkeys.GenMACCSKeys(x).ToBitString()))\n",
    "  test_maccs = np.stack(test_maccs, dtype=object)\n",
    "  \n",
    "  origin_train_features = train_df[[\"AlogP\", \"Molecular_Weight\", \"Num_H_Acceptors\", \"Num_H_Donors\", \"Num_RotatableBonds\", \"LogD\", \"Molecular_PolarSurfaceArea\", \"num_of_atoms\", \"num_of_heavy_atoms\"]].values\n",
    "  origin_test_features = test_df[[\"AlogP\", \"Molecular_Weight\", \"Num_H_Acceptors\", \"Num_H_Donors\", \"Num_RotatableBonds\", \"LogD\", \"Molecular_PolarSurfaceArea\", \"num_of_atoms\", \"num_of_heavy_atoms\"]].values\n",
    "  \n",
    "  train_features = np.append(np.append(origin_train_features, train_fps, axis=1), train_maccs, axis=1)\n",
    "  test_features = np.append(np.append(origin_test_features, test_fps, axis=1), test_maccs, axis=1)\n",
    "  target = train_df[\"MLM\"].values\n",
    "  \n",
    "  return train_features, target, test_features\n",
    "  "
   ]
  },
  {
   "cell_type": "code",
   "execution_count": 4,
   "metadata": {},
   "outputs": [],
   "source": [
    "train_x, train_y, test_x = feature_engineer()"
   ]
  },
  {
   "cell_type": "code",
   "execution_count": 5,
   "metadata": {},
   "outputs": [],
   "source": [
    "def create_model(param):\n",
    "  return xgb.XGBRegressor(\n",
    "    random_state=RANDOM_SEED,\n",
    "    tree_method=\"gpu_hist\",\n",
    "    eval_metric=\"rmse\",\n",
    "    early_stopping_rounds=50,\n",
    "    **param\n",
    "  )"
   ]
  },
  {
   "cell_type": "code",
   "execution_count": 6,
   "metadata": {},
   "outputs": [],
   "source": [
    "def train_model(param, X, y, X_test, trial=None):\n",
    "    skf = KFold(n_splits=5, shuffle=True, random_state=RANDOM_SEED)\n",
    "\n",
    "    val_scores = []\n",
    "    y_tests = []\n",
    "    models = []\n",
    "\n",
    "    for idx, (train_idx, val_idx) in enumerate(skf.split(X, y)):\n",
    "\n",
    "        X_train, y_train = X[train_idx], y[train_idx]\n",
    "        X_val, y_val = X[val_idx], y[val_idx]\n",
    "\n",
    "        model = create_model(param)\n",
    "        model.fit(X_train, y_train, eval_set=[(X_train, y_train), (X_val, y_val)], verbose=1000)\n",
    "\n",
    "        y_hat_val = model.predict(X_val)\n",
    "        score = mean_squared_error(y_val, y_hat_val, squared=True)\n",
    "        val_scores.append(score)\n",
    "        print(f'Fold: {idx+1}/5 score = {score:.5f}')\n",
    "\n",
    "        y_tests.append(model.predict(X_test))\n",
    "        models.append(model)\n",
    "\n",
    "        if trial:\n",
    "            trial.report(score, idx)\n",
    "\n",
    "            if trial.should_prune():\n",
    "                raise optuna.TrialPruned()\n",
    "\n",
    "    return val_scores, y_tests, models"
   ]
  },
  {
   "cell_type": "code",
   "execution_count": 7,
   "metadata": {},
   "outputs": [],
   "source": [
    "def objective_xgb(trial):\n",
    "    param = {\n",
    "        \"booster\": trial.suggest_categorical(\"booster\", [\"gbtree\", \"dart\"]),\n",
    "        \"lambda\": trial.suggest_float(\"lambda\", 1e-8, 1.0, log=True),\n",
    "        \"alpha\": trial.suggest_float(\"alpha\", 1e-8, 1.0, log=True),\n",
    "        \"subsample\": trial.suggest_float(\"subsample\", 0.1, 1.0),\n",
    "        \"colsample_bytree\": trial.suggest_float(\"colsample_bytree\", 0.1, 1.0),\n",
    "        \"n_estimators\": trial.suggest_int(\"n_estimators\", 100, 1000, step=100),\n",
    "        \"max_depth\": trial.suggest_int(\"max_depth\", 3, 9),\n",
    "        \"min_child_weight\": trial.suggest_int(\"min_child_weight\", 2, 10),\n",
    "        \"eta\": trial.suggest_float(\"eta\", 1e-8, 1.0, log=True),\n",
    "        \"gamma\": trial.suggest_float(\"gamma\", 1e-8, 1.0, log=True),\n",
    "        \"grow_policy\": trial.suggest_categorical(\"grow_policy\", [\"depthwise\", \"lossguide\"])\n",
    "    }\n",
    "\n",
    "    if param[\"booster\"] == \"dart\":\n",
    "        param['sample_type'] = trial.suggest_categorical('sample_type', ['uniform', 'weighted'])\n",
    "        param['normalize_type'] = trial.suggest_categorical('normalize_type', ['tree', 'forest'])\n",
    "        param['rate_drop'] = trial.suggest_float('rate_drop', 1e-8, 1.0, log=True)\n",
    "        param['skip_drop'] = trial.suggest_float('skip_drop', 1e-8, 1.0, log=True)\n",
    "\n",
    "    val_scores, y_tests, models = train_model(param, train_x, train_y, test_x, trial)\n",
    "\n",
    "    return sum(val_scores) / len(val_scores)"
   ]
  },
  {
   "cell_type": "code",
   "execution_count": 8,
   "metadata": {},
   "outputs": [
    {
     "name": "stderr",
     "output_type": "stream",
     "text": [
      "[I 2023-09-01 17:11:57,798] A new study created in memory with name: xgb_tuning\n"
     ]
    },
    {
     "name": "stdout",
     "output_type": "stream",
     "text": [
      "[0]\tvalidation_0-rmse:51.39494\tvalidation_1-rmse:50.44044\n",
      "[499]\tvalidation_0-rmse:29.66932\tvalidation_1-rmse:32.09180\n",
      "Fold: 1/5 score = 1029.88362\n",
      "[0]\tvalidation_0-rmse:51.53237\tvalidation_1-rmse:49.88245\n",
      "[499]\tvalidation_0-rmse:29.95179\tvalidation_1-rmse:31.06475\n",
      "Fold: 2/5 score = 965.01877\n",
      "[0]\tvalidation_0-rmse:51.01084\tvalidation_1-rmse:52.00832\n",
      "[499]\tvalidation_0-rmse:29.61252\tvalidation_1-rmse:32.78851\n",
      "Fold: 3/5 score = 1075.08659\n",
      "[0]\tvalidation_0-rmse:50.81924\tvalidation_1-rmse:52.73813\n",
      "[499]\tvalidation_0-rmse:29.72587\tvalidation_1-rmse:32.47614\n",
      "Fold: 4/5 score = 1054.69991\n",
      "[0]\tvalidation_0-rmse:51.28069\tvalidation_1-rmse:50.93952\n",
      "[499]\tvalidation_0-rmse:29.97911\tvalidation_1-rmse:31.13011\n"
     ]
    },
    {
     "name": "stderr",
     "output_type": "stream",
     "text": [
      "[I 2023-09-01 17:12:23,618] Trial 0 finished with value: 1018.754560793884 and parameters: {'booster': 'gbtree', 'lambda': 8.972050723983975e-08, 'alpha': 0.0013105438415021338, 'subsample': 0.18183273649667198, 'colsample_bytree': 0.39900311271371103, 'n_estimators': 500, 'max_depth': 6, 'min_child_weight': 7, 'eta': 0.0037944038609466855, 'gamma': 0.02087360741176864, 'grow_policy': 'lossguide'}. Best is trial 0 with value: 1018.754560793884.\n"
     ]
    },
    {
     "name": "stdout",
     "output_type": "stream",
     "text": [
      "Fold: 5/5 score = 969.08392\n",
      "[0]\tvalidation_0-rmse:51.52324\tvalidation_1-rmse:50.55915\n",
      "[499]\tvalidation_0-rmse:51.52226\tvalidation_1-rmse:50.55823\n",
      "Fold: 1/5 score = 2556.13496\n",
      "[0]\tvalidation_0-rmse:51.65957\tvalidation_1-rmse:49.99981\n",
      "[499]\tvalidation_0-rmse:51.65859\tvalidation_1-rmse:49.99889\n",
      "Fold: 2/5 score = 2499.88932\n",
      "[0]\tvalidation_0-rmse:51.13149\tvalidation_1-rmse:52.12513\n",
      "[499]\tvalidation_0-rmse:51.13052\tvalidation_1-rmse:52.12419\n",
      "Fold: 3/5 score = 2716.93116\n",
      "[0]\tvalidation_0-rmse:50.94226\tvalidation_1-rmse:52.86080\n",
      "[499]\tvalidation_0-rmse:50.94130\tvalidation_1-rmse:52.85985\n",
      "Fold: 4/5 score = 2794.16347\n",
      "[0]\tvalidation_0-rmse:51.39918\tvalidation_1-rmse:51.06110\n",
      "[499]\tvalidation_0-rmse:51.39821\tvalidation_1-rmse:51.06013\n",
      "Fold: 5/5 score = 2607.13708\n"
     ]
    },
    {
     "name": "stderr",
     "output_type": "stream",
     "text": [
      "[I 2023-09-01 17:27:48,539] Trial 1 finished with value: 2634.8511992595486 and parameters: {'booster': 'dart', 'lambda': 1.8500953639202822e-08, 'alpha': 0.18793183264405056, 'subsample': 0.46464459839419614, 'colsample_bytree': 0.7843919233053798, 'n_estimators': 500, 'max_depth': 5, 'min_child_weight': 8, 'eta': 5.98025286065864e-08, 'gamma': 1.990042294039164e-05, 'grow_policy': 'lossguide', 'sample_type': 'uniform', 'normalize_type': 'tree', 'rate_drop': 4.545948976815658e-06, 'skip_drop': 0.6111537885501571}. Best is trial 0 with value: 1018.754560793884.\n"
     ]
    },
    {
     "name": "stdout",
     "output_type": "stream",
     "text": [
      "[0]\tvalidation_0-rmse:37.38148\tvalidation_1-rmse:38.14005\n",
      "[57]\tvalidation_0-rmse:13.79008\tvalidation_1-rmse:38.37858\n",
      "Fold: 1/5 score = 1210.84707\n",
      "[0]\tvalidation_0-rmse:37.29881\tvalidation_1-rmse:37.37773\n",
      "[56]\tvalidation_0-rmse:13.59627\tvalidation_1-rmse:35.29761\n",
      "Fold: 2/5 score = 1109.39534\n",
      "[0]\tvalidation_0-rmse:36.77713\tvalidation_1-rmse:39.63333\n",
      "[56]\tvalidation_0-rmse:14.13347\tvalidation_1-rmse:37.75237\n",
      "Fold: 3/5 score = 1231.90088\n",
      "[0]\tvalidation_0-rmse:37.14406\tvalidation_1-rmse:39.90225\n",
      "[57]\tvalidation_0-rmse:13.63040\tvalidation_1-rmse:37.12953\n",
      "Fold: 4/5 score = 1156.36800\n",
      "[0]\tvalidation_0-rmse:37.14644\tvalidation_1-rmse:38.30142\n",
      "[57]\tvalidation_0-rmse:13.86125\tvalidation_1-rmse:37.36663\n"
     ]
    },
    {
     "name": "stderr",
     "output_type": "stream",
     "text": [
      "[I 2023-09-01 17:28:10,359] Trial 2 finished with value: 1176.22732248781 and parameters: {'booster': 'dart', 'lambda': 1.5261804552001799e-07, 'alpha': 3.7279654462632545e-07, 'subsample': 0.8567380096621107, 'colsample_bytree': 0.10337788287272787, 'n_estimators': 800, 'max_depth': 8, 'min_child_weight': 10, 'eta': 0.6036890604298032, 'gamma': 0.045981627141615085, 'grow_policy': 'lossguide', 'sample_type': 'weighted', 'normalize_type': 'tree', 'rate_drop': 3.164681095485503e-07, 'skip_drop': 0.003840475114570203}. Best is trial 0 with value: 1018.754560793884.\n"
     ]
    },
    {
     "name": "stdout",
     "output_type": "stream",
     "text": [
      "Fold: 5/5 score = 1172.62533\n",
      "[0]\tvalidation_0-rmse:44.63090\tvalidation_1-rmse:44.36358\n",
      "[69]\tvalidation_0-rmse:17.58874\tvalidation_1-rmse:32.00444\n",
      "Fold: 1/5 score = 1012.31393\n",
      "[0]\tvalidation_0-rmse:44.67636\tvalidation_1-rmse:43.85684\n",
      "[77]\tvalidation_0-rmse:17.11912\tvalidation_1-rmse:31.06799\n",
      "Fold: 2/5 score = 977.36434\n"
     ]
    },
    {
     "name": "stderr",
     "output_type": "stream",
     "text": [
      "[I 2023-09-01 17:28:21,070] Trial 3 pruned. \n"
     ]
    },
    {
     "name": "stdout",
     "output_type": "stream",
     "text": [
      "[0]\tvalidation_0-rmse:51.52206\tvalidation_1-rmse:50.55806\n",
      "[599]\tvalidation_0-rmse:50.82111\tvalidation_1-rmse:49.91245\n",
      "Fold: 1/5 score = 2491.25286\n",
      "[0]\tvalidation_0-rmse:51.65838\tvalidation_1-rmse:49.99868\n",
      "[599]\tvalidation_0-rmse:50.95783\tvalidation_1-rmse:49.35042\n",
      "Fold: 2/5 score = 2435.46371\n",
      "[0]\tvalidation_0-rmse:51.13032\tvalidation_1-rmse:52.12400\n",
      "[599]\tvalidation_0-rmse:50.43769\tvalidation_1-rmse:51.46328\n",
      "Fold: 3/5 score = 2648.46907\n",
      "[0]\tvalidation_0-rmse:50.94110\tvalidation_1-rmse:52.85966\n",
      "[599]\tvalidation_0-rmse:50.25546\tvalidation_1-rmse:52.17825\n"
     ]
    },
    {
     "name": "stderr",
     "output_type": "stream",
     "text": [
      "[I 2023-09-01 17:28:39,971] Trial 4 pruned. \n"
     ]
    },
    {
     "name": "stdout",
     "output_type": "stream",
     "text": [
      "Fold: 4/5 score = 2722.56934\n",
      "[0]\tvalidation_0-rmse:51.49852\tvalidation_1-rmse:50.53745\n",
      "[199]\tvalidation_0-rmse:51.18376\tvalidation_1-rmse:50.25079\n",
      "Fold: 1/5 score = 2525.14177\n",
      "[0]\tvalidation_0-rmse:51.63492\tvalidation_1-rmse:49.97760\n",
      "[199]\tvalidation_0-rmse:51.32074\tvalidation_1-rmse:49.69184\n",
      "Fold: 2/5 score = 2469.27887\n"
     ]
    },
    {
     "name": "stderr",
     "output_type": "stream",
     "text": [
      "[I 2023-09-01 17:29:32,535] Trial 5 pruned. \n"
     ]
    },
    {
     "name": "stdout",
     "output_type": "stream",
     "text": [
      "[0]\tvalidation_0-rmse:38.68624\tvalidation_1-rmse:39.53729\n",
      "[53]\tvalidation_0-rmse:22.92715\tvalidation_1-rmse:40.81586\n",
      "Fold: 1/5 score = 1148.12219\n",
      "[0]\tvalidation_0-rmse:38.99717\tvalidation_1-rmse:38.91325\n",
      "[52]\tvalidation_0-rmse:23.83133\tvalidation_1-rmse:40.93237\n"
     ]
    },
    {
     "name": "stderr",
     "output_type": "stream",
     "text": [
      "[I 2023-09-01 17:29:36,144] Trial 6 pruned. \n"
     ]
    },
    {
     "name": "stdout",
     "output_type": "stream",
     "text": [
      "Fold: 2/5 score = 1078.72935\n",
      "[0]\tvalidation_0-rmse:51.51777\tvalidation_1-rmse:50.55415\n",
      "[199]\tvalidation_0-rmse:50.43929\tvalidation_1-rmse:49.60819\n",
      "Fold: 1/5 score = 2460.97273\n",
      "[0]\tvalidation_0-rmse:51.65400\tvalidation_1-rmse:49.99488\n",
      "[199]\tvalidation_0-rmse:50.56783\tvalidation_1-rmse:49.04279\n",
      "Fold: 2/5 score = 2405.19538\n"
     ]
    },
    {
     "name": "stderr",
     "output_type": "stream",
     "text": [
      "[I 2023-09-01 17:30:46,541] Trial 7 pruned. \n"
     ]
    },
    {
     "name": "stdout",
     "output_type": "stream",
     "text": [
      "[0]\tvalidation_0-rmse:51.52013\tvalidation_1-rmse:50.55627\n",
      "[299]\tvalidation_0-rmse:50.62250\tvalidation_1-rmse:49.71517\n",
      "Fold: 1/5 score = 2471.59841\n",
      "[0]\tvalidation_0-rmse:51.65650\tvalidation_1-rmse:49.99681\n",
      "[299]\tvalidation_0-rmse:50.76048\tvalidation_1-rmse:49.14993\n",
      "Fold: 2/5 score = 2415.71526\n",
      "[0]\tvalidation_0-rmse:51.12845\tvalidation_1-rmse:52.12215\n",
      "[299]\tvalidation_0-rmse:50.24129\tvalidation_1-rmse:51.25783\n",
      "Fold: 3/5 score = 2627.36549\n",
      "[0]\tvalidation_0-rmse:50.93927\tvalidation_1-rmse:52.85778\n",
      "[299]\tvalidation_0-rmse:50.06350\tvalidation_1-rmse:51.97161\n"
     ]
    },
    {
     "name": "stderr",
     "output_type": "stream",
     "text": [
      "[I 2023-09-01 17:30:56,654] Trial 8 pruned. \n"
     ]
    },
    {
     "name": "stdout",
     "output_type": "stream",
     "text": [
      "Fold: 4/5 score = 2701.04818\n",
      "[0]\tvalidation_0-rmse:35.46077\tvalidation_1-rmse:35.85733\n",
      "[52]\tvalidation_0-rmse:26.07404\tvalidation_1-rmse:40.57097\n",
      "Fold: 1/5 score = 1100.33106\n",
      "[0]\tvalidation_0-rmse:35.41903\tvalidation_1-rmse:35.25723\n",
      "[51]\tvalidation_0-rmse:25.89041\tvalidation_1-rmse:39.96691\n"
     ]
    },
    {
     "name": "stderr",
     "output_type": "stream",
     "text": [
      "[I 2023-09-01 17:31:03,463] Trial 9 pruned. \n"
     ]
    },
    {
     "name": "stdout",
     "output_type": "stream",
     "text": [
      "Fold: 2/5 score = 1060.88919\n",
      "[0]\tvalidation_0-rmse:51.31003\tvalidation_1-rmse:50.35939\n",
      "[950]\tvalidation_0-rmse:28.62426\tvalidation_1-rmse:31.58808\n",
      "Fold: 1/5 score = 996.91001\n",
      "[0]\tvalidation_0-rmse:51.42662\tvalidation_1-rmse:49.77785\n",
      "[999]\tvalidation_0-rmse:28.76533\tvalidation_1-rmse:30.24494\n",
      "Fold: 2/5 score = 914.72052\n",
      "[0]\tvalidation_0-rmse:50.91994\tvalidation_1-rmse:51.91017\n",
      "[971]\tvalidation_0-rmse:28.46379\tvalidation_1-rmse:31.96242\n",
      "Fold: 3/5 score = 1020.41260\n",
      "[0]\tvalidation_0-rmse:50.71256\tvalidation_1-rmse:52.63220\n",
      "[977]\tvalidation_0-rmse:28.58008\tvalidation_1-rmse:31.46126\n",
      "Fold: 4/5 score = 989.11976\n",
      "[0]\tvalidation_0-rmse:51.18308\tvalidation_1-rmse:50.83359\n",
      "[999]\tvalidation_0-rmse:28.72854\tvalidation_1-rmse:30.24987\n"
     ]
    },
    {
     "name": "stderr",
     "output_type": "stream",
     "text": [
      "[I 2023-09-01 17:31:23,591] Trial 10 finished with value: 967.1845672768768 and parameters: {'booster': 'gbtree', 'lambda': 3.484041890674206e-07, 'alpha': 0.5399831090778422, 'subsample': 0.10095733388415357, 'colsample_bytree': 0.2519174173317316, 'n_estimators': 1000, 'max_depth': 3, 'min_child_weight': 3, 'eta': 0.0074158770386708855, 'gamma': 0.9551593223462576, 'grow_policy': 'lossguide'}. Best is trial 10 with value: 967.1845672768768.\n"
     ]
    },
    {
     "name": "stdout",
     "output_type": "stream",
     "text": [
      "Fold: 5/5 score = 914.75995\n",
      "[0]\tvalidation_0-rmse:51.31949\tvalidation_1-rmse:50.36810\n",
      "[946]\tvalidation_0-rmse:28.74965\tvalidation_1-rmse:31.65339\n",
      "Fold: 1/5 score = 1001.21607\n",
      "[0]\tvalidation_0-rmse:51.43839\tvalidation_1-rmse:49.78887\n",
      "[999]\tvalidation_0-rmse:28.93311\tvalidation_1-rmse:30.23303\n",
      "Fold: 2/5 score = 914.01420\n",
      "[0]\tvalidation_0-rmse:50.93126\tvalidation_1-rmse:51.92176\n",
      "[999]\tvalidation_0-rmse:28.53972\tvalidation_1-rmse:31.99261\n",
      "Fold: 3/5 score = 1023.13690\n",
      "[0]\tvalidation_0-rmse:50.72401\tvalidation_1-rmse:52.64369\n",
      "[999]\tvalidation_0-rmse:28.67747\tvalidation_1-rmse:31.41426\n",
      "Fold: 4/5 score = 985.92578\n",
      "[0]\tvalidation_0-rmse:51.19163\tvalidation_1-rmse:50.84347\n",
      "[999]\tvalidation_0-rmse:28.86656\tvalidation_1-rmse:30.29950\n"
     ]
    },
    {
     "name": "stderr",
     "output_type": "stream",
     "text": [
      "[I 2023-09-01 17:31:43,834] Trial 11 finished with value: 968.4705512126093 and parameters: {'booster': 'gbtree', 'lambda': 4.4658624276473475e-07, 'alpha': 0.4106870355028482, 'subsample': 0.10470649461697379, 'colsample_bytree': 0.23961434577671128, 'n_estimators': 1000, 'max_depth': 3, 'min_child_weight': 3, 'eta': 0.007012793583167042, 'gamma': 0.6039141532926904, 'grow_policy': 'lossguide'}. Best is trial 10 with value: 967.1845672768768.\n"
     ]
    },
    {
     "name": "stdout",
     "output_type": "stream",
     "text": [
      "Fold: 5/5 score = 918.05981\n",
      "[0]\tvalidation_0-rmse:51.22437\tvalidation_1-rmse:50.28357\n",
      "[638]\tvalidation_0-rmse:29.06967\tvalidation_1-rmse:31.71677\n",
      "Fold: 1/5 score = 1005.23211\n",
      "[0]\tvalidation_0-rmse:51.33294\tvalidation_1-rmse:49.68868\n",
      "[899]\tvalidation_0-rmse:28.37391\tvalidation_1-rmse:30.00884\n",
      "Fold: 2/5 score = 900.01816\n",
      "[0]\tvalidation_0-rmse:50.83519\tvalidation_1-rmse:51.82237\n",
      "[804]\tvalidation_0-rmse:28.33216\tvalidation_1-rmse:32.11802\n",
      "Fold: 3/5 score = 1030.11707\n",
      "[0]\tvalidation_0-rmse:50.63640\tvalidation_1-rmse:52.55540\n",
      "[899]\tvalidation_0-rmse:28.15910\tvalidation_1-rmse:31.23677\n",
      "Fold: 4/5 score = 974.71653\n",
      "[0]\tvalidation_0-rmse:51.09397\tvalidation_1-rmse:50.74124\n",
      "[837]\tvalidation_0-rmse:28.56516\tvalidation_1-rmse:30.27002\n"
     ]
    },
    {
     "name": "stderr",
     "output_type": "stream",
     "text": [
      "[I 2023-09-01 17:32:01,201] Trial 12 finished with value: 965.0006782400866 and parameters: {'booster': 'gbtree', 'lambda': 1.3473849466817322e-06, 'alpha': 0.8989555159971068, 'subsample': 0.10442349375385905, 'colsample_bytree': 0.18125655412472697, 'n_estimators': 900, 'max_depth': 3, 'min_child_weight': 3, 'eta': 0.010293771144654303, 'gamma': 0.3985426432288153, 'grow_policy': 'lossguide'}. Best is trial 12 with value: 965.0006782400866.\n"
     ]
    },
    {
     "name": "stdout",
     "output_type": "stream",
     "text": [
      "Fold: 5/5 score = 914.91953\n",
      "[0]\tvalidation_0-rmse:50.86812\tvalidation_1-rmse:49.94100\n",
      "[500]\tvalidation_0-rmse:27.64644\tvalidation_1-rmse:31.67629\n",
      "Fold: 1/5 score = 1002.04302\n",
      "[0]\tvalidation_0-rmse:50.93702\tvalidation_1-rmse:49.31634\n",
      "[495]\tvalidation_0-rmse:28.11180\tvalidation_1-rmse:30.64920\n",
      "Fold: 2/5 score = 931.65838\n",
      "[0]\tvalidation_0-rmse:50.48145\tvalidation_1-rmse:51.46415\n",
      "[425]\tvalidation_0-rmse:28.24974\tvalidation_1-rmse:32.41052\n",
      "Fold: 3/5 score = 1046.12653\n",
      "[0]\tvalidation_0-rmse:50.23910\tvalidation_1-rmse:52.16032\n",
      "[380]\tvalidation_0-rmse:28.55892\tvalidation_1-rmse:31.75844\n"
     ]
    },
    {
     "name": "stderr",
     "output_type": "stream",
     "text": [
      "[I 2023-09-01 17:32:11,316] Trial 13 pruned. \n"
     ]
    },
    {
     "name": "stdout",
     "output_type": "stream",
     "text": [
      "Fold: 4/5 score = 1005.37523\n",
      "[0]\tvalidation_0-rmse:50.54245\tvalidation_1-rmse:49.64153\n",
      "[305]\tvalidation_0-rmse:27.11489\tvalidation_1-rmse:31.69439\n",
      "Fold: 1/5 score = 996.84297\n",
      "[0]\tvalidation_0-rmse:50.70317\tvalidation_1-rmse:49.08289\n",
      "[387]\tvalidation_0-rmse:26.72576\tvalidation_1-rmse:30.28111\n",
      "Fold: 2/5 score = 916.33935\n",
      "[0]\tvalidation_0-rmse:50.20947\tvalidation_1-rmse:51.20405\n",
      "[371]\tvalidation_0-rmse:26.43276\tvalidation_1-rmse:31.77616\n",
      "Fold: 3/5 score = 1007.36729\n",
      "[0]\tvalidation_0-rmse:50.00523\tvalidation_1-rmse:51.90360\n",
      "[336]\tvalidation_0-rmse:26.82200\tvalidation_1-rmse:31.35505\n"
     ]
    },
    {
     "name": "stderr",
     "output_type": "stream",
     "text": [
      "[I 2023-09-01 17:32:20,247] Trial 14 pruned. \n"
     ]
    },
    {
     "name": "stdout",
     "output_type": "stream",
     "text": [
      "Fold: 4/5 score = 979.71273\n",
      "[0]\tvalidation_0-rmse:51.48311\tvalidation_1-rmse:50.52152\n",
      "[799]\tvalidation_0-rmse:34.82939\tvalidation_1-rmse:35.55334\n",
      "Fold: 1/5 score = 1264.04014\n",
      "[0]\tvalidation_0-rmse:51.62000\tvalidation_1-rmse:49.96263\n",
      "[799]\tvalidation_0-rmse:35.03906\tvalidation_1-rmse:34.72296\n",
      "Fold: 2/5 score = 1205.68431\n",
      "[0]\tvalidation_0-rmse:51.09347\tvalidation_1-rmse:52.08705\n",
      "[799]\tvalidation_0-rmse:34.64699\tvalidation_1-rmse:36.62079\n",
      "Fold: 3/5 score = 1341.08248\n",
      "[0]\tvalidation_0-rmse:50.90322\tvalidation_1-rmse:52.82086\n",
      "[799]\tvalidation_0-rmse:34.70947\tvalidation_1-rmse:36.69335\n"
     ]
    },
    {
     "name": "stderr",
     "output_type": "stream",
     "text": [
      "[I 2023-09-01 17:32:39,570] Trial 15 pruned. \n"
     ]
    },
    {
     "name": "stdout",
     "output_type": "stream",
     "text": [
      "Fold: 4/5 score = 1346.40169\n",
      "[0]\tvalidation_0-rmse:50.09049\tvalidation_1-rmse:49.23957\n",
      "[200]\tvalidation_0-rmse:25.40861\tvalidation_1-rmse:31.59151\n",
      "Fold: 1/5 score = 991.57188\n",
      "[0]\tvalidation_0-rmse:50.19075\tvalidation_1-rmse:48.60918\n",
      "[217]\tvalidation_0-rmse:25.31110\tvalidation_1-rmse:30.36084\n",
      "Fold: 2/5 score = 915.01722\n",
      "[0]\tvalidation_0-rmse:49.81820\tvalidation_1-rmse:50.83521\n",
      "[237]\tvalidation_0-rmse:24.87821\tvalidation_1-rmse:31.66297\n",
      "Fold: 3/5 score = 997.88443\n",
      "[0]\tvalidation_0-rmse:49.52447\tvalidation_1-rmse:51.43686\n",
      "[190]\tvalidation_0-rmse:25.68594\tvalidation_1-rmse:31.39835\n",
      "Fold: 4/5 score = 981.15307\n",
      "[0]\tvalidation_0-rmse:50.09889\tvalidation_1-rmse:49.72547\n",
      "[213]\tvalidation_0-rmse:25.46683\tvalidation_1-rmse:30.15478\n"
     ]
    },
    {
     "name": "stderr",
     "output_type": "stream",
     "text": [
      "[I 2023-09-01 17:32:50,945] Trial 16 finished with value: 954.8777884401813 and parameters: {'booster': 'gbtree', 'lambda': 1.0739404113164723e-05, 'alpha': 0.926139011921825, 'subsample': 0.1912921030113442, 'colsample_bytree': 0.3125748740503433, 'n_estimators': 900, 'max_depth': 5, 'min_child_weight': 5, 'eta': 0.04381601471514982, 'gamma': 0.0056657343898655205, 'grow_policy': 'lossguide'}. Best is trial 16 with value: 954.8777884401813.\n"
     ]
    },
    {
     "name": "stdout",
     "output_type": "stream",
     "text": [
      "Fold: 5/5 score = 888.76234\n",
      "[0]\tvalidation_0-rmse:49.34050\tvalidation_1-rmse:48.51893\n",
      "[158]\tvalidation_0-rmse:24.52128\tvalidation_1-rmse:31.54119\n",
      "Fold: 1/5 score = 983.66384\n",
      "[0]\tvalidation_0-rmse:49.51856\tvalidation_1-rmse:47.96046\n",
      "[139]\tvalidation_0-rmse:25.18956\tvalidation_1-rmse:30.65439\n",
      "Fold: 2/5 score = 923.53683\n",
      "[0]\tvalidation_0-rmse:49.15787\tvalidation_1-rmse:50.16662\n",
      "[168]\tvalidation_0-rmse:24.28803\tvalidation_1-rmse:31.85385\n",
      "Fold: 3/5 score = 1000.16707\n",
      "[0]\tvalidation_0-rmse:48.81098\tvalidation_1-rmse:50.75467\n",
      "[130]\tvalidation_0-rmse:25.40181\tvalidation_1-rmse:31.79046\n"
     ]
    },
    {
     "name": "stderr",
     "output_type": "stream",
     "text": [
      "[I 2023-09-01 17:32:58,834] Trial 17 pruned. \n"
     ]
    },
    {
     "name": "stdout",
     "output_type": "stream",
     "text": [
      "Fold: 4/5 score = 1001.93439\n",
      "[0]\tvalidation_0-rmse:47.16378\tvalidation_1-rmse:46.78417\n",
      "[79]\tvalidation_0-rmse:23.08640\tvalidation_1-rmse:33.37648\n",
      "Fold: 1/5 score = 1062.83581\n",
      "[0]\tvalidation_0-rmse:47.51899\tvalidation_1-rmse:46.10133\n",
      "[72]\tvalidation_0-rmse:23.64424\tvalidation_1-rmse:31.75735\n",
      "Fold: 2/5 score = 975.42309\n",
      "[0]\tvalidation_0-rmse:47.03040\tvalidation_1-rmse:48.14906\n",
      "[72]\tvalidation_0-rmse:23.74034\tvalidation_1-rmse:32.46651\n",
      "Fold: 3/5 score = 1044.60571\n",
      "[0]\tvalidation_0-rmse:46.84774\tvalidation_1-rmse:48.74991\n",
      "[80]\tvalidation_0-rmse:23.03281\tvalidation_1-rmse:32.77368\n"
     ]
    },
    {
     "name": "stderr",
     "output_type": "stream",
     "text": [
      "[I 2023-09-01 17:33:05,273] Trial 18 pruned. \n"
     ]
    },
    {
     "name": "stdout",
     "output_type": "stream",
     "text": [
      "Fold: 4/5 score = 1049.75924\n",
      "[0]\tvalidation_0-rmse:50.32526\tvalidation_1-rmse:49.40859\n",
      "[190]\tvalidation_0-rmse:26.07715\tvalidation_1-rmse:31.76618\n",
      "Fold: 1/5 score = 1008.50480\n",
      "[0]\tvalidation_0-rmse:50.48053\tvalidation_1-rmse:48.87637\n",
      "[160]\tvalidation_0-rmse:26.93968\tvalidation_1-rmse:30.58180\n"
     ]
    },
    {
     "name": "stderr",
     "output_type": "stream",
     "text": [
      "[I 2023-09-01 17:33:09,331] Trial 19 pruned. \n"
     ]
    },
    {
     "name": "stdout",
     "output_type": "stream",
     "text": [
      "Fold: 2/5 score = 928.81289\n",
      "[0]\tvalidation_0-rmse:51.52288\tvalidation_1-rmse:50.55881\n",
      "[699]\tvalidation_0-rmse:51.29188\tvalidation_1-rmse:50.34316\n",
      "Fold: 1/5 score = 2534.43353\n",
      "[0]\tvalidation_0-rmse:51.65923\tvalidation_1-rmse:49.99949\n",
      "[699]\tvalidation_0-rmse:51.42887\tvalidation_1-rmse:49.78230\n",
      "Fold: 2/5 score = 2478.27751\n",
      "[0]\tvalidation_0-rmse:51.13117\tvalidation_1-rmse:52.12480\n",
      "[699]\tvalidation_0-rmse:50.90227\tvalidation_1-rmse:51.90418\n",
      "Fold: 3/5 score = 2694.04387\n",
      "[0]\tvalidation_0-rmse:50.94192\tvalidation_1-rmse:52.86046\n",
      "[699]\tvalidation_0-rmse:50.71654\tvalidation_1-rmse:52.63541\n"
     ]
    },
    {
     "name": "stderr",
     "output_type": "stream",
     "text": [
      "[I 2023-09-01 17:33:33,857] Trial 20 pruned. \n"
     ]
    },
    {
     "name": "stdout",
     "output_type": "stream",
     "text": [
      "Fold: 4/5 score = 2770.48605\n",
      "[0]\tvalidation_0-rmse:51.29661\tvalidation_1-rmse:50.34987\n",
      "[899]\tvalidation_0-rmse:28.67193\tvalidation_1-rmse:31.49420\n",
      "Fold: 1/5 score = 991.62347\n",
      "[0]\tvalidation_0-rmse:51.43761\tvalidation_1-rmse:49.78682\n",
      "[899]\tvalidation_0-rmse:28.99415\tvalidation_1-rmse:30.19768\n",
      "Fold: 2/5 score = 911.56399\n",
      "[0]\tvalidation_0-rmse:50.92253\tvalidation_1-rmse:51.91547\n",
      "[899]\tvalidation_0-rmse:28.59829\tvalidation_1-rmse:32.04764\n",
      "Fold: 3/5 score = 1027.05135\n",
      "[0]\tvalidation_0-rmse:50.71816\tvalidation_1-rmse:52.63428\n",
      "[899]\tvalidation_0-rmse:28.71802\tvalidation_1-rmse:31.64057\n"
     ]
    },
    {
     "name": "stderr",
     "output_type": "stream",
     "text": [
      "[I 2023-09-01 17:33:49,038] Trial 21 pruned. \n"
     ]
    },
    {
     "name": "stdout",
     "output_type": "stream",
     "text": [
      "Fold: 4/5 score = 1000.72406\n",
      "[0]\tvalidation_0-rmse:51.13354\tvalidation_1-rmse:50.19615\n",
      "[608]\tvalidation_0-rmse:27.04297\tvalidation_1-rmse:31.61437\n",
      "Fold: 1/5 score = 995.67201\n",
      "[0]\tvalidation_0-rmse:51.24796\tvalidation_1-rmse:49.60751\n",
      "[640]\tvalidation_0-rmse:27.25424\tvalidation_1-rmse:30.18682\n",
      "Fold: 2/5 score = 908.67962\n",
      "[0]\tvalidation_0-rmse:50.74883\tvalidation_1-rmse:51.75597\n",
      "[414]\tvalidation_0-rmse:28.21600\tvalidation_1-rmse:32.17233\n",
      "Fold: 3/5 score = 1034.24342\n",
      "[0]\tvalidation_0-rmse:50.54254\tvalidation_1-rmse:52.45742\n",
      "[579]\tvalidation_0-rmse:27.34478\tvalidation_1-rmse:31.49685\n"
     ]
    },
    {
     "name": "stderr",
     "output_type": "stream",
     "text": [
      "[I 2023-09-01 17:34:02,432] Trial 22 pruned. \n"
     ]
    },
    {
     "name": "stdout",
     "output_type": "stream",
     "text": [
      "Fold: 4/5 score = 988.27028\n",
      "[0]\tvalidation_0-rmse:48.38603\tvalidation_1-rmse:47.59162\n",
      "[202]\tvalidation_0-rmse:26.04882\tvalidation_1-rmse:32.41477\n",
      "Fold: 1/5 score = 1021.79636\n",
      "[0]\tvalidation_0-rmse:48.61735\tvalidation_1-rmse:47.03963\n",
      "[163]\tvalidation_0-rmse:26.75966\tvalidation_1-rmse:31.18384\n"
     ]
    },
    {
     "name": "stderr",
     "output_type": "stream",
     "text": [
      "[I 2023-09-01 17:34:06,095] Trial 23 pruned. \n"
     ]
    },
    {
     "name": "stdout",
     "output_type": "stream",
     "text": [
      "Fold: 2/5 score = 964.09107\n",
      "[0]\tvalidation_0-rmse:51.42950\tvalidation_1-rmse:50.47740\n",
      "[899]\tvalidation_0-rmse:27.53324\tvalidation_1-rmse:31.61657\n",
      "Fold: 1/5 score = 999.60749\n",
      "[0]\tvalidation_0-rmse:51.57265\tvalidation_1-rmse:49.91509\n",
      "[899]\tvalidation_0-rmse:27.75030\tvalidation_1-rmse:30.63341\n"
     ]
    },
    {
     "name": "stderr",
     "output_type": "stream",
     "text": [
      "[I 2023-09-01 17:34:29,039] Trial 24 pruned. \n"
     ]
    },
    {
     "name": "stdout",
     "output_type": "stream",
     "text": [
      "Fold: 2/5 score = 938.40586\n",
      "[0]\tvalidation_0-rmse:51.49230\tvalidation_1-rmse:50.52970\n",
      "[999]\tvalidation_0-rmse:35.49735\tvalidation_1-rmse:35.99981\n",
      "Fold: 1/5 score = 1295.98633\n",
      "[0]\tvalidation_0-rmse:51.62955\tvalidation_1-rmse:49.97152\n",
      "[999]\tvalidation_0-rmse:35.69289\tvalidation_1-rmse:35.18317\n"
     ]
    },
    {
     "name": "stderr",
     "output_type": "stream",
     "text": [
      "[I 2023-09-01 17:34:40,052] Trial 25 pruned. \n"
     ]
    },
    {
     "name": "stdout",
     "output_type": "stream",
     "text": [
      "Fold: 2/5 score = 1237.85529\n",
      "[0]\tvalidation_0-rmse:51.05845\tvalidation_1-rmse:50.10418\n",
      "[570]\tvalidation_0-rmse:28.64344\tvalidation_1-rmse:31.49001\n",
      "Fold: 1/5 score = 988.14973\n",
      "[0]\tvalidation_0-rmse:51.14068\tvalidation_1-rmse:49.50428\n",
      "[699]\tvalidation_0-rmse:28.58246\tvalidation_1-rmse:30.07230\n",
      "Fold: 2/5 score = 903.63616\n",
      "[0]\tvalidation_0-rmse:50.66141\tvalidation_1-rmse:51.67353\n",
      "[558]\tvalidation_0-rmse:28.65389\tvalidation_1-rmse:31.99406\n",
      "Fold: 3/5 score = 1023.06383\n",
      "[0]\tvalidation_0-rmse:50.47057\tvalidation_1-rmse:52.38300\n",
      "[594]\tvalidation_0-rmse:28.54971\tvalidation_1-rmse:31.40628\n"
     ]
    },
    {
     "name": "stderr",
     "output_type": "stream",
     "text": [
      "[I 2023-09-01 17:34:51,040] Trial 26 pruned. \n"
     ]
    },
    {
     "name": "stdout",
     "output_type": "stream",
     "text": [
      "Fold: 4/5 score = 983.99471\n",
      "[0]\tvalidation_0-rmse:33.75997\tvalidation_1-rmse:35.59294\n",
      "[50]\tvalidation_0-rmse:99.53806\tvalidation_1-rmse:131.72943\n",
      "Fold: 1/5 score = 1266.85723\n",
      "[0]\tvalidation_0-rmse:34.83079\tvalidation_1-rmse:34.80956\n",
      "[49]\tvalidation_0-rmse:102.13182\tvalidation_1-rmse:127.91873\n",
      "Fold: 2/5 score = 1211.70520\n",
      "[0]\tvalidation_0-rmse:34.66859\tvalidation_1-rmse:35.90638\n",
      "[49]\tvalidation_0-rmse:102.72649\tvalidation_1-rmse:123.31739\n",
      "Fold: 3/5 score = 1289.26804\n",
      "[0]\tvalidation_0-rmse:34.43716\tvalidation_1-rmse:36.38208\n",
      "[50]\tvalidation_0-rmse:97.93558\tvalidation_1-rmse:122.67123\n"
     ]
    },
    {
     "name": "stderr",
     "output_type": "stream",
     "text": [
      "[I 2023-09-01 17:34:57,186] Trial 27 pruned. \n"
     ]
    },
    {
     "name": "stdout",
     "output_type": "stream",
     "text": [
      "Fold: 4/5 score = 1323.65575\n",
      "[0]\tvalidation_0-rmse:48.41267\tvalidation_1-rmse:47.73572\n",
      "[111]\tvalidation_0-rmse:23.72795\tvalidation_1-rmse:32.37254\n",
      "Fold: 1/5 score = 1017.23959\n",
      "[0]\tvalidation_0-rmse:48.59059\tvalidation_1-rmse:47.13798\n",
      "[98]\tvalidation_0-rmse:24.26495\tvalidation_1-rmse:31.13121\n"
     ]
    },
    {
     "name": "stderr",
     "output_type": "stream",
     "text": [
      "[I 2023-09-01 17:35:00,979] Trial 28 pruned. \n"
     ]
    },
    {
     "name": "stdout",
     "output_type": "stream",
     "text": [
      "Fold: 2/5 score = 950.70796\n",
      "[0]\tvalidation_0-rmse:51.43381\tvalidation_1-rmse:50.47401\n",
      "[999]\tvalidation_0-rmse:29.54737\tvalidation_1-rmse:31.74382\n",
      "Fold: 1/5 score = 1007.66621\n",
      "[0]\tvalidation_0-rmse:51.57203\tvalidation_1-rmse:49.91499\n",
      "[999]\tvalidation_0-rmse:29.76658\tvalidation_1-rmse:30.50799\n"
     ]
    },
    {
     "name": "stderr",
     "output_type": "stream",
     "text": [
      "[I 2023-09-01 17:35:11,817] Trial 29 pruned. \n"
     ]
    },
    {
     "name": "stdout",
     "output_type": "stream",
     "text": [
      "Fold: 2/5 score = 930.73744\n",
      "[0]\tvalidation_0-rmse:51.36044\tvalidation_1-rmse:50.41040\n",
      "[699]\tvalidation_0-rmse:27.24173\tvalidation_1-rmse:31.38871\n",
      "Fold: 1/5 score = 985.15882\n",
      "[0]\tvalidation_0-rmse:51.49911\tvalidation_1-rmse:49.84527\n",
      "[699]\tvalidation_0-rmse:27.53651\tvalidation_1-rmse:30.31645\n",
      "Fold: 2/5 score = 918.86940\n",
      "[0]\tvalidation_0-rmse:50.98187\tvalidation_1-rmse:51.98032\n",
      "[699]\tvalidation_0-rmse:27.13872\tvalidation_1-rmse:32.06819\n",
      "Fold: 3/5 score = 1028.36868\n",
      "[0]\tvalidation_0-rmse:50.78107\tvalidation_1-rmse:52.70387\n",
      "[699]\tvalidation_0-rmse:27.23764\tvalidation_1-rmse:31.56848\n",
      "Fold: 4/5 score = 996.56877\n",
      "[0]\tvalidation_0-rmse:51.25628\tvalidation_1-rmse:50.91647\n",
      "[699]\tvalidation_0-rmse:27.52830\tvalidation_1-rmse:30.33018\n"
     ]
    },
    {
     "name": "stderr",
     "output_type": "stream",
     "text": [
      "[I 2023-09-01 17:35:43,409] Trial 30 finished with value: 969.7572566211873 and parameters: {'booster': 'gbtree', 'lambda': 7.259007518737497e-08, 'alpha': 0.0031999890586358643, 'subsample': 0.1585721148127573, 'colsample_bytree': 0.3538648519102906, 'n_estimators': 700, 'max_depth': 6, 'min_child_weight': 3, 'eta': 0.00480092842333623, 'gamma': 0.059052553673237564, 'grow_policy': 'lossguide'}. Best is trial 16 with value: 954.8777884401813.\n"
     ]
    },
    {
     "name": "stdout",
     "output_type": "stream",
     "text": [
      "Fold: 5/5 score = 919.82061\n",
      "[0]\tvalidation_0-rmse:51.22992\tvalidation_1-rmse:50.28456\n",
      "[647]\tvalidation_0-rmse:28.86154\tvalidation_1-rmse:31.63274\n",
      "Fold: 1/5 score = 999.60554\n",
      "[0]\tvalidation_0-rmse:51.34821\tvalidation_1-rmse:49.70152\n",
      "[999]\tvalidation_0-rmse:28.00274\tvalidation_1-rmse:30.25346\n",
      "Fold: 2/5 score = 914.93199\n",
      "[0]\tvalidation_0-rmse:50.84399\tvalidation_1-rmse:51.83038\n",
      "[662]\tvalidation_0-rmse:28.69370\tvalidation_1-rmse:32.09497\n",
      "Fold: 3/5 score = 1029.59967\n",
      "[0]\tvalidation_0-rmse:50.63544\tvalidation_1-rmse:52.55553\n",
      "[730]\tvalidation_0-rmse:28.55372\tvalidation_1-rmse:31.53123\n"
     ]
    },
    {
     "name": "stderr",
     "output_type": "stream",
     "text": [
      "[I 2023-09-01 17:35:56,781] Trial 31 pruned. \n"
     ]
    },
    {
     "name": "stdout",
     "output_type": "stream",
     "text": [
      "Fold: 4/5 score = 992.28916\n",
      "[0]\tvalidation_0-rmse:50.30237\tvalidation_1-rmse:49.40247\n",
      "[240]\tvalidation_0-rmse:27.24681\tvalidation_1-rmse:31.62275\n",
      "Fold: 1/5 score = 994.42794\n",
      "[0]\tvalidation_0-rmse:50.44263\tvalidation_1-rmse:48.82470\n",
      "[367]\tvalidation_0-rmse:25.94584\tvalidation_1-rmse:30.39842\n",
      "Fold: 2/5 score = 916.33940\n",
      "[0]\tvalidation_0-rmse:49.99971\tvalidation_1-rmse:50.99673\n",
      "[303]\tvalidation_0-rmse:26.48581\tvalidation_1-rmse:32.13463\n",
      "Fold: 3/5 score = 1025.72109\n",
      "[0]\tvalidation_0-rmse:49.73680\tvalidation_1-rmse:51.63682\n",
      "[280]\tvalidation_0-rmse:26.88460\tvalidation_1-rmse:31.55654\n",
      "Fold: 4/5 score = 984.50565\n",
      "[0]\tvalidation_0-rmse:50.30540\tvalidation_1-rmse:49.94361\n",
      "[181]\tvalidation_0-rmse:28.49878\tvalidation_1-rmse:30.54110\n"
     ]
    },
    {
     "name": "stderr",
     "output_type": "stream",
     "text": [
      "[I 2023-09-01 17:36:06,986] Trial 32 finished with value: 969.9917823791335 and parameters: {'booster': 'gbtree', 'lambda': 8.016736720389995e-07, 'alpha': 0.17119118994253446, 'subsample': 0.23077190703061293, 'colsample_bytree': 0.23601405235080652, 'n_estimators': 900, 'max_depth': 3, 'min_child_weight': 2, 'eta': 0.03834537639986221, 'gamma': 0.06516356539010046, 'grow_policy': 'lossguide'}. Best is trial 16 with value: 954.8777884401813.\n"
     ]
    },
    {
     "name": "stdout",
     "output_type": "stream",
     "text": [
      "Fold: 5/5 score = 928.96483\n",
      "[0]\tvalidation_0-rmse:51.27508\tvalidation_1-rmse:50.32858\n",
      "[999]\tvalidation_0-rmse:28.53109\tvalidation_1-rmse:31.37821\n",
      "Fold: 1/5 score = 984.43822\n",
      "[0]\tvalidation_0-rmse:51.41308\tvalidation_1-rmse:49.75723\n",
      "[999]\tvalidation_0-rmse:28.84083\tvalidation_1-rmse:30.19646\n",
      "Fold: 2/5 score = 911.82640\n",
      "[0]\tvalidation_0-rmse:50.90119\tvalidation_1-rmse:51.89333\n",
      "[999]\tvalidation_0-rmse:28.50728\tvalidation_1-rmse:32.12318\n",
      "Fold: 3/5 score = 1031.66278\n",
      "[0]\tvalidation_0-rmse:50.69454\tvalidation_1-rmse:52.61195\n",
      "[999]\tvalidation_0-rmse:28.60942\tvalidation_1-rmse:31.43072\n",
      "Fold: 4/5 score = 987.43416\n",
      "[0]\tvalidation_0-rmse:51.16663\tvalidation_1-rmse:50.82052\n",
      "[999]\tvalidation_0-rmse:28.80842\tvalidation_1-rmse:30.43599\n"
     ]
    },
    {
     "name": "stderr",
     "output_type": "stream",
     "text": [
      "[I 2023-09-01 17:36:26,106] Trial 33 finished with value: 968.3422240683652 and parameters: {'booster': 'gbtree', 'lambda': 3.286572557745712e-07, 'alpha': 0.9812396986592993, 'subsample': 0.14539487717946725, 'colsample_bytree': 0.13844367384651907, 'n_estimators': 1000, 'max_depth': 3, 'min_child_weight': 4, 'eta': 0.0078073743791737165, 'gamma': 0.01826351839496712, 'grow_policy': 'lossguide'}. Best is trial 16 with value: 954.8777884401813.\n"
     ]
    },
    {
     "name": "stdout",
     "output_type": "stream",
     "text": [
      "Fold: 5/5 score = 926.34956\n",
      "[0]\tvalidation_0-rmse:46.95428\tvalidation_1-rmse:46.11256\n",
      "[80]\tvalidation_0-rmse:26.49721\tvalidation_1-rmse:33.20898\n",
      "Fold: 1/5 score = 1074.39481\n",
      "[0]\tvalidation_0-rmse:46.88091\tvalidation_1-rmse:45.31114\n",
      "[98]\tvalidation_0-rmse:26.09558\tvalidation_1-rmse:31.96986\n",
      "Fold: 2/5 score = 976.33813\n"
     ]
    },
    {
     "name": "stderr",
     "output_type": "stream",
     "text": [
      "[I 2023-09-01 17:36:41,568] Trial 34 pruned. \n"
     ]
    },
    {
     "name": "stdout",
     "output_type": "stream",
     "text": [
      "[0]\tvalidation_0-rmse:51.44744\tvalidation_1-rmse:50.48895\n",
      "[899]\tvalidation_0-rmse:30.64778\tvalidation_1-rmse:32.51875\n",
      "Fold: 1/5 score = 1057.46940\n",
      "[0]\tvalidation_0-rmse:51.58406\tvalidation_1-rmse:49.92460\n",
      "[899]\tvalidation_0-rmse:30.91233\tvalidation_1-rmse:31.38215\n",
      "Fold: 2/5 score = 984.83904\n",
      "[0]\tvalidation_0-rmse:51.06206\tvalidation_1-rmse:52.05603\n",
      "[899]\tvalidation_0-rmse:30.54530\tvalidation_1-rmse:33.26418\n",
      "Fold: 3/5 score = 1106.50546\n",
      "[0]\tvalidation_0-rmse:50.86631\tvalidation_1-rmse:52.78552\n",
      "[899]\tvalidation_0-rmse:30.65016\tvalidation_1-rmse:32.88682\n"
     ]
    },
    {
     "name": "stderr",
     "output_type": "stream",
     "text": [
      "[I 2023-09-01 17:37:04,445] Trial 35 pruned. \n"
     ]
    },
    {
     "name": "stdout",
     "output_type": "stream",
     "text": [
      "Fold: 4/5 score = 1081.54284\n",
      "[0]\tvalidation_0-rmse:44.40417\tvalidation_1-rmse:43.68303\n",
      "[61]\tvalidation_0-rmse:19.41554\tvalidation_1-rmse:36.64971\n",
      "Fold: 1/5 score = 1145.32425\n",
      "[0]\tvalidation_0-rmse:44.26561\tvalidation_1-rmse:43.15106\n",
      "[61]\tvalidation_0-rmse:20.32778\tvalidation_1-rmse:36.55954\n",
      "Fold: 2/5 score = 1104.69013\n",
      "[0]\tvalidation_0-rmse:43.44519\tvalidation_1-rmse:44.84115\n",
      "[61]\tvalidation_0-rmse:20.40037\tvalidation_1-rmse:36.44488\n",
      "Fold: 3/5 score = 1161.75301\n",
      "[0]\tvalidation_0-rmse:43.68444\tvalidation_1-rmse:46.00183\n",
      "[57]\tvalidation_0-rmse:21.65945\tvalidation_1-rmse:36.48591\n"
     ]
    },
    {
     "name": "stderr",
     "output_type": "stream",
     "text": [
      "[I 2023-09-01 17:37:21,356] Trial 36 pruned. \n"
     ]
    },
    {
     "name": "stdout",
     "output_type": "stream",
     "text": [
      "Fold: 4/5 score = 1174.89702\n",
      "[0]\tvalidation_0-rmse:51.51153\tvalidation_1-rmse:50.54805\n",
      "[99]\tvalidation_0-rmse:50.46358\tvalidation_1-rmse:49.54865\n",
      "Fold: 1/5 score = 2455.06916\n",
      "[0]\tvalidation_0-rmse:51.64825\tvalidation_1-rmse:49.98881\n",
      "[99]\tvalidation_0-rmse:50.60061\tvalidation_1-rmse:48.97733\n",
      "Fold: 2/5 score = 2398.77924\n",
      "[0]\tvalidation_0-rmse:51.12079\tvalidation_1-rmse:52.11460\n",
      "[99]\tvalidation_0-rmse:50.08094\tvalidation_1-rmse:51.08812\n",
      "Fold: 3/5 score = 2609.99555\n",
      "[0]\tvalidation_0-rmse:50.93119\tvalidation_1-rmse:52.84951\n",
      "[99]\tvalidation_0-rmse:49.90587\tvalidation_1-rmse:51.80351\n"
     ]
    },
    {
     "name": "stderr",
     "output_type": "stream",
     "text": [
      "[I 2023-09-01 17:37:28,053] Trial 37 pruned. \n"
     ]
    },
    {
     "name": "stdout",
     "output_type": "stream",
     "text": [
      "Fold: 4/5 score = 2683.60416\n",
      "[0]\tvalidation_0-rmse:51.15366\tvalidation_1-rmse:50.20430\n",
      "[499]\tvalidation_0-rmse:27.16737\tvalidation_1-rmse:31.27444\n",
      "Fold: 1/5 score = 977.83706\n",
      "[0]\tvalidation_0-rmse:51.27272\tvalidation_1-rmse:49.61882\n",
      "[499]\tvalidation_0-rmse:27.47007\tvalidation_1-rmse:30.11676\n",
      "Fold: 2/5 score = 906.87702\n",
      "[0]\tvalidation_0-rmse:50.77820\tvalidation_1-rmse:51.77524\n",
      "[499]\tvalidation_0-rmse:27.09748\tvalidation_1-rmse:31.91889\n",
      "Fold: 3/5 score = 1018.81525\n",
      "[0]\tvalidation_0-rmse:50.60586\tvalidation_1-rmse:52.51979\n",
      "[499]\tvalidation_0-rmse:27.25881\tvalidation_1-rmse:31.21444\n",
      "Fold: 4/5 score = 974.34149\n",
      "[0]\tvalidation_0-rmse:51.05317\tvalidation_1-rmse:50.71611\n",
      "[499]\tvalidation_0-rmse:27.35306\tvalidation_1-rmse:30.11619\n",
      "Fold: 5/5 score = 906.98473\n"
     ]
    },
    {
     "name": "stderr",
     "output_type": "stream",
     "text": [
      "[I 2023-09-01 17:53:17,684] Trial 38 finished with value: 956.9711116011744 and parameters: {'booster': 'dart', 'lambda': 4.930852723855929e-06, 'alpha': 0.020395435530007843, 'subsample': 0.21283675116593537, 'colsample_bytree': 0.1351639318515227, 'n_estimators': 500, 'max_depth': 5, 'min_child_weight': 7, 'eta': 0.013108451420776837, 'gamma': 0.2972890989361122, 'grow_policy': 'depthwise', 'sample_type': 'weighted', 'normalize_type': 'forest', 'rate_drop': 1.0856538147795742e-08, 'skip_drop': 1.7581681102370095e-08}. Best is trial 16 with value: 954.8777884401813.\n"
     ]
    },
    {
     "name": "stdout",
     "output_type": "stream",
     "text": [
      "[0]\tvalidation_0-rmse:43.00475\tvalidation_1-rmse:42.54373\n",
      "[56]\tvalidation_0-rmse:26.76333\tvalidation_1-rmse:37.04531\n",
      "Fold: 1/5 score = 1122.04501\n",
      "[0]\tvalidation_0-rmse:42.85917\tvalidation_1-rmse:41.49163\n",
      "[67]\tvalidation_0-rmse:26.61533\tvalidation_1-rmse:34.70258\n",
      "Fold: 2/5 score = 1010.11849\n"
     ]
    },
    {
     "name": "stderr",
     "output_type": "stream",
     "text": [
      "[I 2023-09-01 17:53:26,286] Trial 39 pruned. \n"
     ]
    },
    {
     "name": "stdout",
     "output_type": "stream",
     "text": [
      "[0]\tvalidation_0-rmse:49.15713\tvalidation_1-rmse:48.37916\n",
      "[120]\tvalidation_0-rmse:22.39452\tvalidation_1-rmse:31.45486\n",
      "Fold: 1/5 score = 975.17849\n",
      "[0]\tvalidation_0-rmse:49.30091\tvalidation_1-rmse:47.89117\n",
      "[125]\tvalidation_0-rmse:22.59490\tvalidation_1-rmse:30.15788\n",
      "Fold: 2/5 score = 896.25256\n",
      "[0]\tvalidation_0-rmse:48.72671\tvalidation_1-rmse:49.91570\n",
      "[147]\tvalidation_0-rmse:21.69675\tvalidation_1-rmse:31.72671\n",
      "Fold: 3/5 score = 996.60337\n",
      "[0]\tvalidation_0-rmse:48.62973\tvalidation_1-rmse:50.56662\n",
      "[113]\tvalidation_0-rmse:22.97403\tvalidation_1-rmse:31.43425\n",
      "Fold: 4/5 score = 981.36431"
     ]
    },
    {
     "name": "stderr",
     "output_type": "stream",
     "text": [
      "[I 2023-09-01 17:54:20,058] Trial 40 pruned. \n"
     ]
    },
    {
     "name": "stdout",
     "output_type": "stream",
     "text": [
      "\n",
      "[0]\tvalidation_0-rmse:51.15518\tvalidation_1-rmse:50.20552\n",
      "[399]\tvalidation_0-rmse:28.07097\tvalidation_1-rmse:31.31036\n",
      "Fold: 1/5 score = 980.33889\n",
      "[0]\tvalidation_0-rmse:51.28580\tvalidation_1-rmse:49.62862\n",
      "[399]\tvalidation_0-rmse:28.38794\tvalidation_1-rmse:30.37627\n",
      "Fold: 2/5 score = 922.67816\n"
     ]
    },
    {
     "name": "stderr",
     "output_type": "stream",
     "text": [
      "[I 2023-09-01 17:58:21,964] Trial 41 pruned. \n"
     ]
    },
    {
     "name": "stdout",
     "output_type": "stream",
     "text": [
      "[0]\tvalidation_0-rmse:51.39300\tvalidation_1-rmse:50.43170\n",
      "[599]\tvalidation_0-rmse:30.65162\tvalidation_1-rmse:32.28993\n",
      "Fold: 1/5 score = 1042.63935\n",
      "[0]\tvalidation_0-rmse:51.52620\tvalidation_1-rmse:49.86791\n",
      "[599]\tvalidation_0-rmse:30.91225\tvalidation_1-rmse:31.30181\n",
      "Fold: 2/5 score = 979.80324\n"
     ]
    },
    {
     "name": "stderr",
     "output_type": "stream",
     "text": [
      "[I 2023-09-01 18:07:16,348] Trial 42 pruned. \n"
     ]
    },
    {
     "name": "stdout",
     "output_type": "stream",
     "text": [
      "[0]\tvalidation_0-rmse:50.37483\tvalidation_1-rmse:49.42208\n",
      "[181]\tvalidation_0-rmse:25.42492\tvalidation_1-rmse:31.95746\n",
      "Fold: 1/5 score = 1015.28494\n",
      "[0]\tvalidation_0-rmse:50.55820\tvalidation_1-rmse:48.90490\n",
      "[181]\tvalidation_0-rmse:25.75791\tvalidation_1-rmse:30.33592\n",
      "Fold: 2/5 score = 911.73343\n",
      "[0]\tvalidation_0-rmse:49.93486\tvalidation_1-rmse:50.97198\n",
      "[228]\tvalidation_0-rmse:24.56063\tvalidation_1-rmse:32.05743\n",
      "Fold: 3/5 score = 1018.31738\n",
      "[0]\tvalidation_0-rmse:49.80412\tvalidation_1-rmse:51.70754\n",
      "[233]\tvalidation_0-rmse:24.41974\tvalidation_1-rmse:31.67971\n",
      "Fold: 4/5 score = 993.64716\n",
      "[0]\tvalidation_0-rmse:50.29186\tvalidation_1-rmse:49.96267\n",
      "[175]\tvalidation_0-rmse:25.72696\tvalidation_1-rmse:30.47219\n",
      "Fold: 5/5 score = 919.44468\n"
     ]
    },
    {
     "name": "stderr",
     "output_type": "stream",
     "text": [
      "[I 2023-09-01 18:09:56,923] Trial 43 finished with value: 971.6855184181657 and parameters: {'booster': 'dart', 'lambda': 1.401075218990242e-06, 'alpha': 0.005582851240835728, 'subsample': 0.13559305298988394, 'colsample_bytree': 0.15790110242204733, 'n_estimators': 400, 'max_depth': 8, 'min_child_weight': 6, 'eta': 0.041898521432848335, 'gamma': 0.03129935709322513, 'grow_policy': 'depthwise', 'sample_type': 'uniform', 'normalize_type': 'tree', 'rate_drop': 1.9410464689646648e-05, 'skip_drop': 0.00011021197665461008}. Best is trial 16 with value: 954.8777884401813.\n"
     ]
    },
    {
     "name": "stdout",
     "output_type": "stream",
     "text": [
      "[0]\tvalidation_0-rmse:51.01722\tvalidation_1-rmse:50.08495\n",
      "[280]\tvalidation_0-rmse:24.72369\tvalidation_1-rmse:31.53838\n",
      "Fold: 1/5 score = 993.16574\n",
      "[0]\tvalidation_0-rmse:51.13593\tvalidation_1-rmse:49.49683\n",
      "[517]\tvalidation_0-rmse:21.95758\tvalidation_1-rmse:30.00778\n",
      "Fold: 2/5 score = 897.68793\n",
      "[0]\tvalidation_0-rmse:50.65300\tvalidation_1-rmse:51.67307\n",
      "[493]\tvalidation_0-rmse:22.10352\tvalidation_1-rmse:31.49439\n",
      "Fold: 3/5 score = 989.70217\n",
      "[0]\tvalidation_0-rmse:50.49699\tvalidation_1-rmse:52.42106\n",
      "[452]\tvalidation_0-rmse:22.58595\tvalidation_1-rmse:31.05424\n",
      "Fold: 4/5 score = 962.17328\n",
      "[0]\tvalidation_0-rmse:50.92460\tvalidation_1-rmse:50.60835\n",
      "[252]\tvalidation_0-rmse:25.48359\tvalidation_1-rmse:30.38745\n",
      "Fold: 5/5 score = 920.51918\n"
     ]
    },
    {
     "name": "stderr",
     "output_type": "stream",
     "text": [
      "[I 2023-09-01 18:20:42,729] Trial 44 finished with value: 952.6496583892367 and parameters: {'booster': 'dart', 'lambda': 4.6548889838636116e-07, 'alpha': 0.3927188596482285, 'subsample': 0.2040723775945114, 'colsample_bytree': 0.27051602450540235, 'n_estimators': 600, 'max_depth': 7, 'min_child_weight': 3, 'eta': 0.016652713207245765, 'gamma': 0.5316494406634141, 'grow_policy': 'lossguide', 'sample_type': 'weighted', 'normalize_type': 'forest', 'rate_drop': 2.9463114243344915e-07, 'skip_drop': 2.371157713001785e-08}. Best is trial 44 with value: 952.6496583892367.\n"
     ]
    },
    {
     "name": "stdout",
     "output_type": "stream",
     "text": [
      "[0]\tvalidation_0-rmse:50.99549\tvalidation_1-rmse:50.07570\n",
      "[299]\tvalidation_0-rmse:24.03291\tvalidation_1-rmse:31.53227\n",
      "Fold: 1/5 score = 991.09783\n",
      "[0]\tvalidation_0-rmse:51.09284\tvalidation_1-rmse:49.45066\n",
      "[348]\tvalidation_0-rmse:23.42462\tvalidation_1-rmse:30.39788\n",
      "Fold: 2/5 score = 921.66470\n"
     ]
    },
    {
     "name": "stderr",
     "output_type": "stream",
     "text": [
      "[I 2023-09-01 18:23:20,848] Trial 45 pruned. \n"
     ]
    },
    {
     "name": "stdout",
     "output_type": "stream",
     "text": [
      "[0]\tvalidation_0-rmse:41.68913\tvalidation_1-rmse:41.34930\n",
      "[57]\tvalidation_0-rmse:21.45637\tvalidation_1-rmse:43.13383\n",
      "Fold: 1/5 score = 1243.03391\n",
      "[0]\tvalidation_0-rmse:40.87313\tvalidation_1-rmse:39.76145\n",
      "[57]\tvalidation_0-rmse:22.09844\tvalidation_1-rmse:43.39281\n"
     ]
    },
    {
     "name": "stderr",
     "output_type": "stream",
     "text": [
      "[I 2023-09-01 18:23:29,427] Trial 46 pruned. \n"
     ]
    },
    {
     "name": "stdout",
     "output_type": "stream",
     "text": [
      "Fold: 2/5 score = 1121.05396\n",
      "[0]\tvalidation_0-rmse:51.46243\tvalidation_1-rmse:50.50217\n",
      "[799]\tvalidation_0-rmse:31.59591\tvalidation_1-rmse:33.09915\n",
      "Fold: 1/5 score = 1095.55363\n",
      "[0]\tvalidation_0-rmse:51.60154\tvalidation_1-rmse:49.94632\n",
      "[799]\tvalidation_0-rmse:31.86350\tvalidation_1-rmse:32.10249\n",
      "Fold: 2/5 score = 1030.57003\n",
      "[0]\tvalidation_0-rmse:51.07015\tvalidation_1-rmse:52.06558\n",
      "[799]\tvalidation_0-rmse:31.50692\tvalidation_1-rmse:33.90896\n",
      "Fold: 3/5 score = 1149.81730\n",
      "[0]\tvalidation_0-rmse:50.88803\tvalidation_1-rmse:52.80440\n",
      "[799]\tvalidation_0-rmse:31.62100\tvalidation_1-rmse:33.75998\n",
      "Fold: 4/5 score = 1139.73594\n"
     ]
    },
    {
     "name": "stderr",
     "output_type": "stream",
     "text": [
      "[I 2023-09-01 18:54:32,848] Trial 47 pruned. \n"
     ]
    },
    {
     "name": "stdout",
     "output_type": "stream",
     "text": [
      "[0]\tvalidation_0-rmse:51.50654\tvalidation_1-rmse:50.54347\n",
      "[499]\tvalidation_0-rmse:44.27469\tvalidation_1-rmse:43.86089\n",
      "Fold: 1/5 score = 1923.77743\n",
      "[0]\tvalidation_0-rmse:51.64224\tvalidation_1-rmse:49.98278\n",
      "[499]\tvalidation_0-rmse:44.43410\tvalidation_1-rmse:43.24173\n",
      "Fold: 2/5 score = 1869.84721\n",
      "[0]\tvalidation_0-rmse:51.11548\tvalidation_1-rmse:52.10927\n",
      "[499]\tvalidation_0-rmse:43.96485\tvalidation_1-rmse:45.26254\n",
      "Fold: 3/5 score = 2048.69752\n",
      "[0]\tvalidation_0-rmse:50.92696\tvalidation_1-rmse:52.84544\n",
      "[499]\tvalidation_0-rmse:43.89083\tvalidation_1-rmse:45.81125\n",
      "Fold: 4/5 score = 2098.67049\n"
     ]
    },
    {
     "name": "stderr",
     "output_type": "stream",
     "text": [
      "[I 2023-09-01 19:06:50,077] Trial 48 pruned. \n"
     ]
    },
    {
     "name": "stdout",
     "output_type": "stream",
     "text": [
      "[0]\tvalidation_0-rmse:50.15519\tvalidation_1-rmse:49.32043\n",
      "[148]\tvalidation_0-rmse:21.05474\tvalidation_1-rmse:31.77731\n",
      "Fold: 1/5 score = 999.51062\n",
      "[0]\tvalidation_0-rmse:50.29542\tvalidation_1-rmse:48.67654\n",
      "[158]\tvalidation_0-rmse:20.89888\tvalidation_1-rmse:30.42526\n",
      "Fold: 2/5 score = 916.07569\n",
      "[0]\tvalidation_0-rmse:49.75365\tvalidation_1-rmse:50.81706\n",
      "[189]\tvalidation_0-rmse:19.49810\tvalidation_1-rmse:31.85865\n",
      "Fold: 3/5 score = 1009.35899\n",
      "[0]\tvalidation_0-rmse:49.63113\tvalidation_1-rmse:51.56435\n",
      "[190]\tvalidation_0-rmse:19.78644\tvalidation_1-rmse:31.12125\n",
      "Fold: 4/5 score = 954.11182\n",
      "[0]\tvalidation_0-rmse:49.98014\tvalidation_1-rmse:49.69188\n",
      "[195]\tvalidation_0-rmse:19.26719\tvalidation_1-rmse:30.16845\n",
      "Fold: 5/5 score = 903.86636\n"
     ]
    },
    {
     "name": "stderr",
     "output_type": "stream",
     "text": [
      "[I 2023-09-01 19:09:03,162] Trial 49 finished with value: 956.5846985631385 and parameters: {'booster': 'dart', 'lambda': 1.1066876043312925e-05, 'alpha': 0.08190414095569344, 'subsample': 0.3312245572805259, 'colsample_bytree': 0.21638793395487765, 'n_estimators': 300, 'max_depth': 7, 'min_child_weight': 2, 'eta': 0.04722139414680881, 'gamma': 0.5059932709743477, 'grow_policy': 'lossguide', 'sample_type': 'weighted', 'normalize_type': 'forest', 'rate_drop': 8.864623486089987e-08, 'skip_drop': 3.8516793410616946e-08}. Best is trial 44 with value: 952.6496583892367.\n"
     ]
    },
    {
     "name": "stdout",
     "output_type": "stream",
     "text": [
      "[0]\tvalidation_0-rmse:47.48166\tvalidation_1-rmse:46.72648\n",
      "[70]\tvalidation_0-rmse:19.93706\tvalidation_1-rmse:33.85951\n",
      "Fold: 1/5 score = 1059.33305\n",
      "[0]\tvalidation_0-rmse:47.52448\tvalidation_1-rmse:46.32483\n",
      "[81]\tvalidation_0-rmse:19.14437\tvalidation_1-rmse:32.31101\n",
      "Fold: 2/5 score = 1017.01482\n",
      "[0]\tvalidation_0-rmse:46.81061\tvalidation_1-rmse:48.17878\n",
      "[80]\tvalidation_0-rmse:19.16270\tvalidation_1-rmse:33.82590\n",
      "Fold: 3/5 score = 1100.16626\n",
      "[0]\tvalidation_0-rmse:46.95365\tvalidation_1-rmse:48.92869\n",
      "[79]\tvalidation_0-rmse:19.34278\tvalidation_1-rmse:33.03783\n",
      "Fold: 4/5 score = 1037.89309\n"
     ]
    },
    {
     "name": "stderr",
     "output_type": "stream",
     "text": [
      "[I 2023-09-01 19:09:30,144] Trial 50 pruned. \n"
     ]
    },
    {
     "name": "stdout",
     "output_type": "stream",
     "text": [
      "[0]\tvalidation_0-rmse:50.69761\tvalidation_1-rmse:49.80894\n",
      "[296]\tvalidation_0-rmse:22.19120\tvalidation_1-rmse:31.51072\n",
      "Fold: 1/5 score = 988.62218\n",
      "[0]\tvalidation_0-rmse:50.80483\tvalidation_1-rmse:49.20502\n",
      "[235]\tvalidation_0-rmse:23.51830\tvalidation_1-rmse:30.37986\n",
      "Fold: 2/5 score = 916.50044\n"
     ]
    },
    {
     "name": "stderr",
     "output_type": "stream",
     "text": [
      "[I 2023-09-01 19:11:24,591] Trial 51 pruned. \n"
     ]
    },
    {
     "name": "stdout",
     "output_type": "stream",
     "text": [
      "[0]\tvalidation_0-rmse:50.04995\tvalidation_1-rmse:49.18418\n",
      "[99]\tvalidation_0-rmse:22.68639\tvalidation_1-rmse:31.64108\n",
      "Fold: 1/5 score = 1000.42740\n",
      "[0]\tvalidation_0-rmse:50.09432\tvalidation_1-rmse:48.55007\n",
      "[99]\tvalidation_0-rmse:23.07259\tvalidation_1-rmse:30.64438\n",
      "Fold: 2/5 score = 935.12463\n"
     ]
    },
    {
     "name": "stderr",
     "output_type": "stream",
     "text": [
      "[I 2023-09-01 19:11:43,337] Trial 52 pruned. \n"
     ]
    },
    {
     "name": "stdout",
     "output_type": "stream",
     "text": [
      "[0]\tvalidation_0-rmse:50.90718\tvalidation_1-rmse:49.97504\n",
      "[278]\tvalidation_0-rmse:25.43541\tvalidation_1-rmse:31.18834\n",
      "Fold: 1/5 score = 965.83926\n",
      "[0]\tvalidation_0-rmse:51.00964\tvalidation_1-rmse:49.35059\n",
      "[399]\tvalidation_0-rmse:24.27300\tvalidation_1-rmse:29.81229\n",
      "Fold: 2/5 score = 884.72143\n",
      "[0]\tvalidation_0-rmse:50.44061\tvalidation_1-rmse:51.48124\n",
      "[399]\tvalidation_0-rmse:24.10797\tvalidation_1-rmse:31.36252\n",
      "Fold: 3/5 score = 982.46458\n",
      "[0]\tvalidation_0-rmse:50.36367\tvalidation_1-rmse:52.27229\n",
      "[262]\tvalidation_0-rmse:25.84214\tvalidation_1-rmse:31.08504\n",
      "Fold: 4/5 score = 965.62764\n",
      "[0]\tvalidation_0-rmse:50.80941\tvalidation_1-rmse:50.47823\n",
      "[328]\tvalidation_0-rmse:25.05802\tvalidation_1-rmse:29.44559\n",
      "Fold: 5/5 score = 864.15922\n"
     ]
    },
    {
     "name": "stderr",
     "output_type": "stream",
     "text": [
      "[I 2023-09-01 19:19:01,150] Trial 53 finished with value: 932.5624282972807 and parameters: {'booster': 'dart', 'lambda': 0.00012459332112023906, 'alpha': 0.05437515103387558, 'subsample': 0.13684646751180607, 'colsample_bytree': 0.2604519761681786, 'n_estimators': 400, 'max_depth': 9, 'min_child_weight': 8, 'eta': 0.020763935624156658, 'gamma': 0.20850443147467174, 'grow_policy': 'lossguide', 'sample_type': 'weighted', 'normalize_type': 'forest', 'rate_drop': 7.6609842834772e-08, 'skip_drop': 7.282881489073419e-08}. Best is trial 53 with value: 932.5624282972807.\n"
     ]
    },
    {
     "name": "stdout",
     "output_type": "stream",
     "text": [
      "[0]\tvalidation_0-rmse:50.88563\tvalidation_1-rmse:49.96166\n",
      "[399]\tvalidation_0-rmse:24.53931\tvalidation_1-rmse:30.87904\n",
      "Fold: 1/5 score = 952.58797\n",
      "[0]\tvalidation_0-rmse:51.03052\tvalidation_1-rmse:49.41005\n",
      "[321]\tvalidation_0-rmse:25.80700\tvalidation_1-rmse:29.93039\n",
      "Fold: 2/5 score = 887.70101\n",
      "[0]\tvalidation_0-rmse:50.45631\tvalidation_1-rmse:51.45870\n",
      "[393]\tvalidation_0-rmse:24.75585\tvalidation_1-rmse:31.39640\n",
      "Fold: 3/5 score = 983.31729\n",
      "[0]\tvalidation_0-rmse:50.36549\tvalidation_1-rmse:52.26232\n",
      "[389]\tvalidation_0-rmse:24.87214\tvalidation_1-rmse:31.07694\n",
      "Fold: 4/5 score = 963.57296\n",
      "[0]\tvalidation_0-rmse:50.83215\tvalidation_1-rmse:50.49070\n",
      "[386]\tvalidation_0-rmse:25.04504\tvalidation_1-rmse:29.69287\n",
      "Fold: 5/5 score = 876.33184\n"
     ]
    },
    {
     "name": "stderr",
     "output_type": "stream",
     "text": [
      "[I 2023-09-01 19:28:06,285] Trial 54 finished with value: 932.7022160071062 and parameters: {'booster': 'dart', 'lambda': 0.0001200947917989869, 'alpha': 0.037178262101484866, 'subsample': 0.1379894860224479, 'colsample_bytree': 0.3257278060185568, 'n_estimators': 400, 'max_depth': 8, 'min_child_weight': 8, 'eta': 0.018983498892100787, 'gamma': 0.1621249556232222, 'grow_policy': 'lossguide', 'sample_type': 'weighted', 'normalize_type': 'forest', 'rate_drop': 5.47092509859136e-08, 'skip_drop': 5.352097879827272e-08}. Best is trial 53 with value: 932.5624282972807.\n"
     ]
    },
    {
     "name": "stdout",
     "output_type": "stream",
     "text": [
      "[0]\tvalidation_0-rmse:49.44320\tvalidation_1-rmse:48.69023\n",
      "[116]\tvalidation_0-rmse:21.95601\tvalidation_1-rmse:31.19346\n",
      "Fold: 1/5 score = 949.80159\n",
      "[0]\tvalidation_0-rmse:49.54897\tvalidation_1-rmse:48.07482\n",
      "[109]\tvalidation_0-rmse:22.47552\tvalidation_1-rmse:30.31749\n",
      "Fold: 2/5 score = 904.02006\n",
      "[0]\tvalidation_0-rmse:49.02313\tvalidation_1-rmse:50.07882\n",
      "[188]\tvalidation_0-rmse:19.01513\tvalidation_1-rmse:31.32645\n",
      "Fold: 3/5 score = 974.31070\n",
      "[0]\tvalidation_0-rmse:49.01093\tvalidation_1-rmse:50.90403\n",
      "[113]\tvalidation_0-rmse:22.49397\tvalidation_1-rmse:31.33904\n",
      "Fold: 4/5 score = 967.32955\n",
      "[0]\tvalidation_0-rmse:49.35046\tvalidation_1-rmse:48.96780\n",
      "[105]\tvalidation_0-rmse:22.45081\tvalidation_1-rmse:30.85898\n",
      "Fold: 5/5 score = 939.82972\n"
     ]
    },
    {
     "name": "stderr",
     "output_type": "stream",
     "text": [
      "[I 2023-09-01 19:29:18,899] Trial 55 finished with value: 947.0583228090102 and parameters: {'booster': 'dart', 'lambda': 0.00013070337465423315, 'alpha': 0.038583699963440625, 'subsample': 0.284062167250398, 'colsample_bytree': 0.38770591221063844, 'n_estimators': 400, 'max_depth': 9, 'min_child_weight': 8, 'eta': 0.06238190693376634, 'gamma': 0.19176437840697821, 'grow_policy': 'lossguide', 'sample_type': 'weighted', 'normalize_type': 'forest', 'rate_drop': 6.692571150354086e-08, 'skip_drop': 4.288967647931654e-08}. Best is trial 53 with value: 932.5624282972807.\n"
     ]
    },
    {
     "name": "stdout",
     "output_type": "stream",
     "text": [
      "[0]\tvalidation_0-rmse:36.23718\tvalidation_1-rmse:37.42928\n",
      "[51]\tvalidation_0-rmse:27.69108\tvalidation_1-rmse:50.65987\n",
      "Fold: 1/5 score = 1176.04237\n",
      "[0]\tvalidation_0-rmse:36.58940\tvalidation_1-rmse:36.80668\n",
      "[50]\tvalidation_0-rmse:28.89763\tvalidation_1-rmse:51.29854\n",
      "Fold: 2/5 score = 1149.23793\n",
      "[0]\tvalidation_0-rmse:35.82234\tvalidation_1-rmse:37.55813\n",
      "[52]\tvalidation_0-rmse:27.27483\tvalidation_1-rmse:50.11736\n",
      "Fold: 3/5 score = 1235.25358\n",
      "[0]\tvalidation_0-rmse:36.70983\tvalidation_1-rmse:38.87229\n",
      "[52]\tvalidation_0-rmse:27.50560\tvalidation_1-rmse:47.88044\n"
     ]
    },
    {
     "name": "stderr",
     "output_type": "stream",
     "text": [
      "[I 2023-09-01 19:29:33,839] Trial 56 pruned. \n"
     ]
    },
    {
     "name": "stdout",
     "output_type": "stream",
     "text": [
      "Fold: 4/5 score = 1214.07044\n",
      "[0]\tvalidation_0-rmse:49.48912\tvalidation_1-rmse:48.73645\n",
      "[107]\tvalidation_0-rmse:22.63266\tvalidation_1-rmse:31.61363\n",
      "Fold: 1/5 score = 971.61736\n",
      "[0]\tvalidation_0-rmse:49.58965\tvalidation_1-rmse:48.14650\n",
      "[159]\tvalidation_0-rmse:20.82350\tvalidation_1-rmse:30.30086\n",
      "Fold: 2/5 score = 892.37421\n",
      "[0]\tvalidation_0-rmse:49.03486\tvalidation_1-rmse:50.11481\n",
      "[199]\tvalidation_0-rmse:19.29936\tvalidation_1-rmse:31.76107\n",
      "Fold: 3/5 score = 1001.07883\n",
      "[0]\tvalidation_0-rmse:48.99287\tvalidation_1-rmse:50.84093\n",
      "[144]\tvalidation_0-rmse:21.22634\tvalidation_1-rmse:31.13370\n",
      "Fold: 4/5 score = 964.53702\n",
      "[0]\tvalidation_0-rmse:49.34262\tvalidation_1-rmse:48.98768\n",
      "[99]\tvalidation_0-rmse:23.20305\tvalidation_1-rmse:30.23198\n",
      "Fold: 5/5 score = 911.55449\n"
     ]
    },
    {
     "name": "stderr",
     "output_type": "stream",
     "text": [
      "[I 2023-09-01 19:31:03,691] Trial 57 finished with value: 948.2323819718634 and parameters: {'booster': 'dart', 'lambda': 0.00015460701252510372, 'alpha': 0.006824324817740434, 'subsample': 0.33422447084332496, 'colsample_bytree': 0.33054492588834655, 'n_estimators': 200, 'max_depth': 9, 'min_child_weight': 10, 'eta': 0.06227280345422028, 'gamma': 0.14072546473928163, 'grow_policy': 'lossguide', 'sample_type': 'weighted', 'normalize_type': 'forest', 'rate_drop': 4.4841480483552615e-07, 'skip_drop': 2.498645134776098e-07}. Best is trial 53 with value: 932.5624282972807.\n"
     ]
    },
    {
     "name": "stdout",
     "output_type": "stream",
     "text": [
      "[0]\tvalidation_0-rmse:48.60133\tvalidation_1-rmse:47.92376\n",
      "[92]\tvalidation_0-rmse:21.13618\tvalidation_1-rmse:31.92678\n",
      "Fold: 1/5 score = 994.06338\n",
      "[0]\tvalidation_0-rmse:48.71120\tvalidation_1-rmse:47.37143\n",
      "[87]\tvalidation_0-rmse:21.78957\tvalidation_1-rmse:31.01386\n",
      "Fold: 2/5 score = 943.36796\n",
      "[0]\tvalidation_0-rmse:48.18899\tvalidation_1-rmse:49.38373\n",
      "[148]\tvalidation_0-rmse:18.86422\tvalidation_1-rmse:32.09491\n",
      "Fold: 3/5 score = 1013.32248\n",
      "[0]\tvalidation_0-rmse:48.15298\tvalidation_1-rmse:50.14253\n",
      "[113]\tvalidation_0-rmse:20.57487\tvalidation_1-rmse:31.26735\n",
      "Fold: 4/5 score = 963.38285\n",
      "[0]\tvalidation_0-rmse:48.47505\tvalidation_1-rmse:48.16039\n",
      "[88]\tvalidation_0-rmse:21.37839\tvalidation_1-rmse:30.26435\n",
      "Fold: 5/5 score = 899.30905\n"
     ]
    },
    {
     "name": "stderr",
     "output_type": "stream",
     "text": [
      "[I 2023-09-01 19:31:57,276] Trial 58 finished with value: 962.6891447669088 and parameters: {'booster': 'dart', 'lambda': 0.00016423824816009036, 'alpha': 0.000876264047180804, 'subsample': 0.3820009865630331, 'colsample_bytree': 0.33099595479257454, 'n_estimators': 400, 'max_depth': 9, 'min_child_weight': 10, 'eta': 0.08799208013729995, 'gamma': 0.1684909666701224, 'grow_policy': 'lossguide', 'sample_type': 'weighted', 'normalize_type': 'forest', 'rate_drop': 4.0100385479166236e-07, 'skip_drop': 2.3649022934923847e-07}. Best is trial 53 with value: 932.5624282972807.\n"
     ]
    },
    {
     "name": "stdout",
     "output_type": "stream",
     "text": [
      "[0]\tvalidation_0-rmse:45.11028\tvalidation_1-rmse:44.74409\n",
      "[60]\tvalidation_0-rmse:22.19340\tvalidation_1-rmse:34.27153\n",
      "Fold: 1/5 score = 1086.15148\n",
      "[0]\tvalidation_0-rmse:45.22841\tvalidation_1-rmse:44.05495\n",
      "[69]\tvalidation_0-rmse:22.24411\tvalidation_1-rmse:33.63368\n",
      "Fold: 2/5 score = 1014.35239\n",
      "[0]\tvalidation_0-rmse:44.99387\tvalidation_1-rmse:45.98967\n",
      "[61]\tvalidation_0-rmse:23.58682\tvalidation_1-rmse:34.28178\n",
      "Fold: 3/5 score = 1086.09115\n",
      "[0]\tvalidation_0-rmse:45.27807\tvalidation_1-rmse:47.06044\n",
      "[72]\tvalidation_0-rmse:21.62273\tvalidation_1-rmse:34.41590\n",
      "Fold: 4/5 score = 1035.64219\n"
     ]
    },
    {
     "name": "stderr",
     "output_type": "stream",
     "text": [
      "[I 2023-09-01 19:32:16,881] Trial 59 pruned. \n"
     ]
    },
    {
     "name": "stdout",
     "output_type": "stream",
     "text": [
      "[0]\tvalidation_0-rmse:49.03012\tvalidation_1-rmse:48.22918\n",
      "[90]\tvalidation_0-rmse:25.99901\tvalidation_1-rmse:32.66728\n",
      "Fold: 1/5 score = 1018.73441\n",
      "[0]\tvalidation_0-rmse:49.27375\tvalidation_1-rmse:47.81909\n",
      "[110]\tvalidation_0-rmse:25.41325\tvalidation_1-rmse:31.19545\n",
      "Fold: 2/5 score = 947.31085"
     ]
    },
    {
     "name": "stderr",
     "output_type": "stream",
     "text": [
      "[I 2023-09-01 19:32:36,002] Trial 60 pruned. \n"
     ]
    },
    {
     "name": "stdout",
     "output_type": "stream",
     "text": [
      "\n",
      "[0]\tvalidation_0-rmse:50.68347\tvalidation_1-rmse:49.80664\n",
      "[299]\tvalidation_0-rmse:22.64265\tvalidation_1-rmse:31.10293\n",
      "Fold: 1/5 score = 966.79656\n",
      "[0]\tvalidation_0-rmse:50.83812\tvalidation_1-rmse:49.27711\n",
      "[265]\tvalidation_0-rmse:23.57562\tvalidation_1-rmse:30.08163\n",
      "Fold: 2/5 score = 903.39333\n",
      "[0]\tvalidation_0-rmse:50.28567\tvalidation_1-rmse:51.32161\n",
      "[299]\tvalidation_0-rmse:22.80756\tvalidation_1-rmse:31.56373\n",
      "Fold: 3/5 score = 992.08895\n",
      "[0]\tvalidation_0-rmse:50.17017\tvalidation_1-rmse:52.05886\n",
      "[299]\tvalidation_0-rmse:22.95107\tvalidation_1-rmse:30.71743\n",
      "Fold: 4/5 score = 941.07007\n",
      "[0]\tvalidation_0-rmse:50.56496\tvalidation_1-rmse:50.23153\n",
      "[299]\tvalidation_0-rmse:22.96845\tvalidation_1-rmse:30.02965\n",
      "Fold: 5/5 score = 895.17384\n"
     ]
    },
    {
     "name": "stderr",
     "output_type": "stream",
     "text": [
      "[I 2023-09-01 19:38:10,166] Trial 61 finished with value: 939.7045508002082 and parameters: {'booster': 'dart', 'lambda': 0.00030226321187356225, 'alpha': 0.04938966141787931, 'subsample': 0.3129133387805189, 'colsample_bytree': 0.3458529660490392, 'n_estimators': 300, 'max_depth': 8, 'min_child_weight': 10, 'eta': 0.024949360366670545, 'gamma': 0.18630722325223845, 'grow_policy': 'lossguide', 'sample_type': 'weighted', 'normalize_type': 'forest', 'rate_drop': 1.357757802277384e-07, 'skip_drop': 5.251288770308694e-08}. Best is trial 53 with value: 932.5624282972807.\n"
     ]
    },
    {
     "name": "stdout",
     "output_type": "stream",
     "text": [
      "[0]\tvalidation_0-rmse:50.73878\tvalidation_1-rmse:49.84505\n",
      "[199]\tvalidation_0-rmse:24.05600\tvalidation_1-rmse:30.91977\n",
      "Fold: 1/5 score = 954.51991\n",
      "[0]\tvalidation_0-rmse:50.85574\tvalidation_1-rmse:49.25512\n",
      "[199]\tvalidation_0-rmse:24.42284\tvalidation_1-rmse:29.95711\n",
      "Fold: 2/5 score = 894.57224\n",
      "[0]\tvalidation_0-rmse:50.33613\tvalidation_1-rmse:51.38330\n",
      "[199]\tvalidation_0-rmse:24.24234\tvalidation_1-rmse:31.30459\n",
      "Fold: 3/5 score = 979.97707\n",
      "[0]\tvalidation_0-rmse:50.21966\tvalidation_1-rmse:52.11376\n",
      "[199]\tvalidation_0-rmse:24.50754\tvalidation_1-rmse:30.78007\n",
      "Fold: 4/5 score = 947.41283\n",
      "[0]\tvalidation_0-rmse:50.63289\tvalidation_1-rmse:50.28138\n",
      "[199]\tvalidation_0-rmse:24.43851\tvalidation_1-rmse:29.88956\n",
      "Fold: 5/5 score = 891.48013\n"
     ]
    },
    {
     "name": "stderr",
     "output_type": "stream",
     "text": [
      "[I 2023-09-01 19:40:47,908] Trial 62 finished with value: 933.5924354239611 and parameters: {'booster': 'dart', 'lambda': 0.00030012922345699336, 'alpha': 0.03993086485293996, 'subsample': 0.2912190102214378, 'colsample_bytree': 0.34726165231094563, 'n_estimators': 200, 'max_depth': 9, 'min_child_weight': 10, 'eta': 0.023308435095406935, 'gamma': 0.03301009003748867, 'grow_policy': 'lossguide', 'sample_type': 'weighted', 'normalize_type': 'forest', 'rate_drop': 1.5094186888797595e-07, 'skip_drop': 6.276708279425762e-08}. Best is trial 53 with value: 932.5624282972807.\n"
     ]
    },
    {
     "name": "stdout",
     "output_type": "stream",
     "text": [
      "[0]\tvalidation_0-rmse:50.84243\tvalidation_1-rmse:49.94372\n",
      "[199]\tvalidation_0-rmse:24.52360\tvalidation_1-rmse:30.95608\n",
      "Fold: 1/5 score = 958.05179\n",
      "[0]\tvalidation_0-rmse:50.97307\tvalidation_1-rmse:49.36720\n",
      "[199]\tvalidation_0-rmse:24.91258\tvalidation_1-rmse:30.14916\n",
      "Fold: 2/5 score = 908.97213\n",
      "[0]\tvalidation_0-rmse:50.42809\tvalidation_1-rmse:51.45730\n",
      "[199]\tvalidation_0-rmse:24.57425\tvalidation_1-rmse:31.49243\n",
      "Fold: 3/5 score = 991.77295\n",
      "[0]\tvalidation_0-rmse:50.30992\tvalidation_1-rmse:52.21413\n",
      "[199]\tvalidation_0-rmse:24.72690\tvalidation_1-rmse:30.81122\n",
      "Fold: 4/5 score = 949.32085\n",
      "[0]\tvalidation_0-rmse:50.73267\tvalidation_1-rmse:50.38884\n",
      "[199]\tvalidation_0-rmse:24.87592\tvalidation_1-rmse:29.89211\n",
      "Fold: 5/5 score = 893.10422\n"
     ]
    },
    {
     "name": "stderr",
     "output_type": "stream",
     "text": [
      "[I 2023-09-01 19:43:25,447] Trial 63 finished with value: 940.2443872793023 and parameters: {'booster': 'dart', 'lambda': 0.00039450081501132513, 'alpha': 0.03263111539930736, 'subsample': 0.3062620912275917, 'colsample_bytree': 0.3502896845790352, 'n_estimators': 200, 'max_depth': 9, 'min_child_weight': 10, 'eta': 0.020234880689351416, 'gamma': 0.19082655700768864, 'grow_policy': 'lossguide', 'sample_type': 'weighted', 'normalize_type': 'forest', 'rate_drop': 1.7975221514183076e-07, 'skip_drop': 6.54188532499583e-08}. Best is trial 53 with value: 932.5624282972807.\n"
     ]
    },
    {
     "name": "stdout",
     "output_type": "stream",
     "text": [
      "[0]\tvalidation_0-rmse:50.79764\tvalidation_1-rmse:49.91466\n",
      "[199]\tvalidation_0-rmse:23.32362\tvalidation_1-rmse:30.81432\n",
      "Fold: 1/5 score = 948.27462\n",
      "[0]\tvalidation_0-rmse:50.91978\tvalidation_1-rmse:49.33115\n",
      "[199]\tvalidation_0-rmse:23.65537\tvalidation_1-rmse:29.86857\n",
      "Fold: 2/5 score = 891.40939\n",
      "[0]\tvalidation_0-rmse:50.37914\tvalidation_1-rmse:51.41416\n",
      "[199]\tvalidation_0-rmse:23.48560\tvalidation_1-rmse:31.31197\n",
      "Fold: 3/5 score = 980.43931\n",
      "[0]\tvalidation_0-rmse:50.23408\tvalidation_1-rmse:52.16038\n",
      "[199]\tvalidation_0-rmse:23.80000\tvalidation_1-rmse:30.89929\n",
      "Fold: 4/5 score = 954.76593\n",
      "[0]\tvalidation_0-rmse:50.66237\tvalidation_1-rmse:50.31642\n",
      "[199]\tvalidation_0-rmse:23.76674\tvalidation_1-rmse:29.86289\n",
      "Fold: 5/5 score = 890.13769\n"
     ]
    },
    {
     "name": "stderr",
     "output_type": "stream",
     "text": [
      "[I 2023-09-01 19:46:04,765] Trial 64 finished with value: 933.0053859727865 and parameters: {'booster': 'dart', 'lambda': 0.00032052654667972, 'alpha': 0.008531870655681537, 'subsample': 0.39310401705760334, 'colsample_bytree': 0.34508404724428876, 'n_estimators': 200, 'max_depth': 9, 'min_child_weight': 10, 'eta': 0.02179045432187715, 'gamma': 0.02921988095371702, 'grow_policy': 'lossguide', 'sample_type': 'weighted', 'normalize_type': 'forest', 'rate_drop': 1.6167611992362498e-07, 'skip_drop': 1.4600903320016702e-07}. Best is trial 53 with value: 932.5624282972807.\n"
     ]
    },
    {
     "name": "stdout",
     "output_type": "stream",
     "text": [
      "[0]\tvalidation_0-rmse:50.76016\tvalidation_1-rmse:49.85787\n",
      "[99]\tvalidation_0-rmse:26.40957\tvalidation_1-rmse:31.54915\n",
      "Fold: 1/5 score = 995.34869\n",
      "[0]\tvalidation_0-rmse:50.89349\tvalidation_1-rmse:49.29986\n",
      "[99]\tvalidation_0-rmse:26.27611\tvalidation_1-rmse:30.28902\n",
      "Fold: 2/5 score = 917.42444\n"
     ]
    },
    {
     "name": "stderr",
     "output_type": "stream",
     "text": [
      "[I 2023-09-01 19:46:23,535] Trial 65 pruned. \n"
     ]
    },
    {
     "name": "stdout",
     "output_type": "stream",
     "text": [
      "[0]\tvalidation_0-rmse:51.35760\tvalidation_1-rmse:50.41126\n",
      "[299]\tvalidation_0-rmse:29.40800\tvalidation_1-rmse:32.51175\n",
      "Fold: 1/5 score = 1057.01392\n",
      "[0]\tvalidation_0-rmse:51.49310\tvalidation_1-rmse:49.84981\n",
      "[299]\tvalidation_0-rmse:29.55426\tvalidation_1-rmse:31.63369\n",
      "Fold: 2/5 score = 1000.69023\n"
     ]
    },
    {
     "name": "stderr",
     "output_type": "stream",
     "text": [
      "[I 2023-09-01 19:48:43,068] Trial 66 pruned. \n"
     ]
    },
    {
     "name": "stdout",
     "output_type": "stream",
     "text": [
      "[0]\tvalidation_0-rmse:50.80345\tvalidation_1-rmse:49.89501\n",
      "[199]\tvalidation_0-rmse:24.54542\tvalidation_1-rmse:31.23368\n",
      "Fold: 1/5 score = 974.32653\n",
      "[0]\tvalidation_0-rmse:50.92753\tvalidation_1-rmse:49.33364\n",
      "[199]\tvalidation_0-rmse:24.79659\tvalidation_1-rmse:29.90697\n",
      "Fold: 2/5 score = 891.44785\n",
      "[0]\tvalidation_0-rmse:50.40565\tvalidation_1-rmse:51.41711\n",
      "[199]\tvalidation_0-rmse:24.61350\tvalidation_1-rmse:31.57522\n",
      "Fold: 3/5 score = 992.71131\n",
      "[0]\tvalidation_0-rmse:50.27824\tvalidation_1-rmse:52.19545\n",
      "[199]\tvalidation_0-rmse:24.86691\tvalidation_1-rmse:31.11345\n",
      "Fold: 4/5 score = 965.60431\n",
      "[0]\tvalidation_0-rmse:50.69645\tvalidation_1-rmse:50.34235\n",
      "[199]\tvalidation_0-rmse:24.90601\tvalidation_1-rmse:29.86065\n",
      "Fold: 5/5 score = 890.94765\n"
     ]
    },
    {
     "name": "stderr",
     "output_type": "stream",
     "text": [
      "[I 2023-09-01 19:51:21,077] Trial 67 finished with value: 943.0075296352248 and parameters: {'booster': 'dart', 'lambda': 8.876167697166366e-05, 'alpha': 0.010918631901145294, 'subsample': 0.28580978940874346, 'colsample_bytree': 0.4126153062993224, 'n_estimators': 200, 'max_depth': 8, 'min_child_weight': 8, 'eta': 0.02135490110348352, 'gamma': 0.02051570766101738, 'grow_policy': 'lossguide', 'sample_type': 'weighted', 'normalize_type': 'tree', 'rate_drop': 1.933903894385884e-07, 'skip_drop': 2.1534471095745042e-07}. Best is trial 53 with value: 932.5624282972807.\n"
     ]
    },
    {
     "name": "stdout",
     "output_type": "stream",
     "text": [
      "[0]\tvalidation_0-rmse:50.76359\tvalidation_1-rmse:49.87560\n",
      "[199]\tvalidation_0-rmse:23.66975\tvalidation_1-rmse:30.99997\n",
      "Fold: 1/5 score = 959.72548\n",
      "[0]\tvalidation_0-rmse:50.89747\tvalidation_1-rmse:49.28133\n",
      "[199]\tvalidation_0-rmse:23.98643\tvalidation_1-rmse:30.17966\n",
      "Fold: 2/5 score = 907.15382\n",
      "[0]\tvalidation_0-rmse:50.35438\tvalidation_1-rmse:51.39628\n",
      "[199]\tvalidation_0-rmse:23.66697\tvalidation_1-rmse:31.37793\n",
      "Fold: 3/5 score = 984.57460\n",
      "[0]\tvalidation_0-rmse:50.21025\tvalidation_1-rmse:52.13245\n",
      "[199]\tvalidation_0-rmse:24.03986\tvalidation_1-rmse:31.00086\n",
      "Fold: 4/5 score = 960.77848\n",
      "[0]\tvalidation_0-rmse:50.64093\tvalidation_1-rmse:50.30424\n",
      "[199]\tvalidation_0-rmse:23.86062\tvalidation_1-rmse:30.04101\n",
      "Fold: 5/5 score = 902.37195\n"
     ]
    },
    {
     "name": "stderr",
     "output_type": "stream",
     "text": [
      "[I 2023-09-01 19:53:57,418] Trial 68 finished with value: 942.9208648103702 and parameters: {'booster': 'dart', 'lambda': 7.142211969919852e-05, 'alpha': 0.023332230789493546, 'subsample': 0.3836801010841466, 'colsample_bytree': 0.4218367153448997, 'n_estimators': 200, 'max_depth': 8, 'min_child_weight': 9, 'eta': 0.022705393733880003, 'gamma': 0.002377217351601665, 'grow_policy': 'lossguide', 'sample_type': 'weighted', 'normalize_type': 'tree', 'rate_drop': 2.2749354239166517e-07, 'skip_drop': 1.969222501517831e-07}. Best is trial 53 with value: 932.5624282972807.\n"
     ]
    },
    {
     "name": "stdout",
     "output_type": "stream",
     "text": [
      "[0]\tvalidation_0-rmse:51.24975\tvalidation_1-rmse:50.31617\n",
      "[199]\tvalidation_0-rmse:28.82054\tvalidation_1-rmse:32.30233\n",
      "Fold: 1/5 score = 1043.44065\n",
      "[0]\tvalidation_0-rmse:51.38098\tvalidation_1-rmse:49.74806\n",
      "[199]\tvalidation_0-rmse:28.99477\tvalidation_1-rmse:31.28883\n",
      "Fold: 2/5 score = 978.99063\n",
      "[0]\tvalidation_0-rmse:50.84928\tvalidation_1-rmse:51.85502\n",
      "[199]\tvalidation_0-rmse:28.64290\tvalidation_1-rmse:32.85938\n",
      "Fold: 3/5 score = 1079.73917\n",
      "[0]\tvalidation_0-rmse:50.67627\tvalidation_1-rmse:52.59254\n",
      "[199]\tvalidation_0-rmse:28.90930\tvalidation_1-rmse:32.87998\n",
      "Fold: 4/5 score = 1081.09313\n"
     ]
    },
    {
     "name": "stderr",
     "output_type": "stream",
     "text": [
      "[I 2023-09-01 19:56:04,942] Trial 69 pruned. \n"
     ]
    },
    {
     "name": "stdout",
     "output_type": "stream",
     "text": [
      "[0]\tvalidation_0-rmse:51.41575\tvalidation_1-rmse:50.46169\n",
      "[99]\tvalidation_0-rmse:42.29323\tvalidation_1-rmse:42.48465\n",
      "Fold: 1/5 score = 1804.94551\n",
      "[0]\tvalidation_0-rmse:51.55119\tvalidation_1-rmse:49.90145\n",
      "[99]\tvalidation_0-rmse:42.44135\tvalidation_1-rmse:41.81726\n",
      "Fold: 2/5 score = 1748.68299\n",
      "[0]\tvalidation_0-rmse:51.02198\tvalidation_1-rmse:52.02940\n",
      "[99]\tvalidation_0-rmse:41.97412\tvalidation_1-rmse:43.77189\n",
      "Fold: 3/5 score = 1915.97874\n",
      "[0]\tvalidation_0-rmse:50.83515\tvalidation_1-rmse:52.75506\n",
      "[99]\tvalidation_0-rmse:41.96143\tvalidation_1-rmse:44.29692\n",
      "Fold: 4/5 score = 1962.21713\n"
     ]
    },
    {
     "name": "stderr",
     "output_type": "stream",
     "text": [
      "[I 2023-09-01 19:56:45,398] Trial 70 pruned. \n"
     ]
    },
    {
     "name": "stdout",
     "output_type": "stream",
     "text": [
      "[0]\tvalidation_0-rmse:50.68790\tvalidation_1-rmse:49.78227\n",
      "[199]\tvalidation_0-rmse:23.94204\tvalidation_1-rmse:30.92121\n",
      "Fold: 1/5 score = 953.52451\n",
      "[0]\tvalidation_0-rmse:50.78808\tvalidation_1-rmse:49.19380\n",
      "[199]\tvalidation_0-rmse:24.30113\tvalidation_1-rmse:30.01034\n",
      "Fold: 2/5 score = 896.62541\n",
      "[0]\tvalidation_0-rmse:50.26981\tvalidation_1-rmse:51.31812\n",
      "[199]\tvalidation_0-rmse:24.09578\tvalidation_1-rmse:31.35411\n",
      "Fold: 3/5 score = 978.62063\n",
      "[0]\tvalidation_0-rmse:50.16807\tvalidation_1-rmse:52.07248\n",
      "[199]\tvalidation_0-rmse:24.27879\tvalidation_1-rmse:30.83645\n",
      "Fold: 4/5 score = 950.30297\n",
      "[0]\tvalidation_0-rmse:50.57601\tvalidation_1-rmse:50.24225\n",
      "[198]\tvalidation_0-rmse:24.41387\tvalidation_1-rmse:30.08684\n",
      "Fold: 5/5 score = 897.06084\n"
     ]
    },
    {
     "name": "stderr",
     "output_type": "stream",
     "text": [
      "[I 2023-09-01 19:59:21,742] Trial 71 finished with value: 935.226873711297 and parameters: {'booster': 'dart', 'lambda': 0.0023773007106130837, 'alpha': 0.014132566450981012, 'subsample': 0.30190903141170566, 'colsample_bytree': 0.4281045031787815, 'n_estimators': 200, 'max_depth': 8, 'min_child_weight': 9, 'eta': 0.024996910398292792, 'gamma': 0.021714387155414346, 'grow_policy': 'lossguide', 'sample_type': 'weighted', 'normalize_type': 'tree', 'rate_drop': 1.7465038687436534e-07, 'skip_drop': 2.267269223612925e-07}. Best is trial 53 with value: 932.5624282972807.\n"
     ]
    },
    {
     "name": "stdout",
     "output_type": "stream",
     "text": [
      "[0]\tvalidation_0-rmse:50.57712\tvalidation_1-rmse:49.70315\n",
      "[241]\tvalidation_0-rmse:22.36122\tvalidation_1-rmse:31.04005\n",
      "Fold: 1/5 score = 958.34545\n",
      "[0]\tvalidation_0-rmse:50.71239\tvalidation_1-rmse:49.14581\n",
      "[203]\tvalidation_0-rmse:23.27778\tvalidation_1-rmse:29.96237\n",
      "Fold: 2/5 score = 895.15886\n",
      "[0]\tvalidation_0-rmse:50.16551\tvalidation_1-rmse:51.21024\n",
      "[299]\tvalidation_0-rmse:21.18134\tvalidation_1-rmse:31.24597\n",
      "Fold: 3/5 score = 975.72511\n",
      "[0]\tvalidation_0-rmse:50.01455\tvalidation_1-rmse:51.95693\n",
      "[281]\tvalidation_0-rmse:21.85281\tvalidation_1-rmse:31.02308\n",
      "Fold: 4/5 score = 958.95445\n",
      "[0]\tvalidation_0-rmse:50.46385\tvalidation_1-rmse:50.11557\n",
      "[199]\tvalidation_0-rmse:23.45402\tvalidation_1-rmse:29.92374\n",
      "Fold: 5/5 score = 892.31536\n"
     ]
    },
    {
     "name": "stderr",
     "output_type": "stream",
     "text": [
      "[I 2023-09-01 20:03:20,630] Trial 72 finished with value: 936.0998448672608 and parameters: {'booster': 'dart', 'lambda': 0.0018344635857667543, 'alpha': 0.017474333011361833, 'subsample': 0.37614582612120084, 'colsample_bytree': 0.4341511173448112, 'n_estimators': 300, 'max_depth': 8, 'min_child_weight': 10, 'eta': 0.028183983174821518, 'gamma': 0.030209814361319774, 'grow_policy': 'lossguide', 'sample_type': 'weighted', 'normalize_type': 'tree', 'rate_drop': 1.5615798665970427e-07, 'skip_drop': 2.6672435713530333e-08}. Best is trial 53 with value: 932.5624282972807.\n"
     ]
    },
    {
     "name": "stdout",
     "output_type": "stream",
     "text": [
      "[0]\tvalidation_0-rmse:47.41106\tvalidation_1-rmse:46.87579\n",
      "[84]\tvalidation_0-rmse:21.38948\tvalidation_1-rmse:31.88653\n",
      "Fold: 1/5 score = 974.55921\n",
      "[0]\tvalidation_0-rmse:47.63756\tvalidation_1-rmse:46.47525\n",
      "[81]\tvalidation_0-rmse:21.84658\tvalidation_1-rmse:31.30576\n",
      "Fold: 2/5 score = 924.19676\n",
      "[0]\tvalidation_0-rmse:47.04255\tvalidation_1-rmse:48.20267\n",
      "[86]\tvalidation_0-rmse:21.49114\tvalidation_1-rmse:32.72099\n",
      "Fold: 3/5 score = 1034.81950\n",
      "[0]\tvalidation_0-rmse:47.09343\tvalidation_1-rmse:48.98261\n",
      "[115]\tvalidation_0-rmse:19.43011\tvalidation_1-rmse:32.07607\n",
      "Fold: 4/5 score = 993.60184\n",
      "[0]\tvalidation_0-rmse:47.35658\tvalidation_1-rmse:47.09080\n",
      "[79]\tvalidation_0-rmse:21.78360\tvalidation_1-rmse:31.92312\n",
      "Fold: 5/5 score = 959.79825\n"
     ]
    },
    {
     "name": "stderr",
     "output_type": "stream",
     "text": [
      "[I 2023-09-01 20:03:59,465] Trial 73 finished with value: 977.3951100608203 and parameters: {'booster': 'dart', 'lambda': 0.005831869673549032, 'alpha': 0.003966616542706113, 'subsample': 0.31181670449614984, 'colsample_bytree': 0.3796148610442549, 'n_estimators': 300, 'max_depth': 9, 'min_child_weight': 10, 'eta': 0.12435403025072862, 'gamma': 0.03299093314863121, 'grow_policy': 'lossguide', 'sample_type': 'weighted', 'normalize_type': 'tree', 'rate_drop': 1.3112757828833858e-07, 'skip_drop': 2.7308494128124074e-08}. Best is trial 53 with value: 932.5624282972807.\n"
     ]
    },
    {
     "name": "stdout",
     "output_type": "stream",
     "text": [
      "[0]\tvalidation_0-rmse:51.21166\tvalidation_1-rmse:50.28263\n",
      "[299]\tvalidation_0-rmse:25.82346\tvalidation_1-rmse:31.24291\n",
      "Fold: 1/5 score = 976.11968\n",
      "[0]\tvalidation_0-rmse:51.35057\tvalidation_1-rmse:49.72342\n",
      "[299]\tvalidation_0-rmse:26.09242\tvalidation_1-rmse:30.13079\n",
      "Fold: 2/5 score = 907.86474\n",
      "[0]\tvalidation_0-rmse:50.81141\tvalidation_1-rmse:51.82563\n",
      "[299]\tvalidation_0-rmse:25.85071\tvalidation_1-rmse:31.51999\n",
      "Fold: 3/5 score = 993.50971\n",
      "[0]\tvalidation_0-rmse:50.64039\tvalidation_1-rmse:52.55901\n",
      "[299]\tvalidation_0-rmse:26.05465\tvalidation_1-rmse:31.31515\n",
      "Fold: 4/5 score = 980.63837\n",
      "[0]\tvalidation_0-rmse:51.09437\tvalidation_1-rmse:50.75308\n",
      "[299]\tvalidation_0-rmse:26.08758\tvalidation_1-rmse:30.02076\n",
      "Fold: 5/5 score = 901.24584\n"
     ]
    },
    {
     "name": "stderr",
     "output_type": "stream",
     "text": [
      "[I 2023-09-01 20:09:37,069] Trial 74 finished with value: 951.8756691243425 and parameters: {'booster': 'dart', 'lambda': 0.002485913688522076, 'alpha': 0.06597233286876882, 'subsample': 0.352248956913497, 'colsample_bytree': 0.5154424329022442, 'n_estimators': 300, 'max_depth': 8, 'min_child_weight': 10, 'eta': 0.009222999728927497, 'gamma': 0.07198908684706085, 'grow_policy': 'lossguide', 'sample_type': 'weighted', 'normalize_type': 'tree', 'rate_drop': 2.4913589550117097e-08, 'skip_drop': 2.7515559193588167e-08}. Best is trial 53 with value: 932.5624282972807.\n"
     ]
    },
    {
     "name": "stdout",
     "output_type": "stream",
     "text": [
      "[0]\tvalidation_0-rmse:51.32542\tvalidation_1-rmse:50.37891\n",
      "[199]\tvalidation_0-rmse:30.90041\tvalidation_1-rmse:33.92248\n",
      "Fold: 1/5 score = 1150.73459\n",
      "[0]\tvalidation_0-rmse:51.46249\tvalidation_1-rmse:49.82491\n",
      "[199]\tvalidation_0-rmse:31.12993\tvalidation_1-rmse:32.93548\n",
      "Fold: 2/5 score = 1084.74588\n"
     ]
    },
    {
     "name": "stderr",
     "output_type": "stream",
     "text": [
      "[I 2023-09-01 20:10:41,329] Trial 75 pruned. \n"
     ]
    },
    {
     "name": "stdout",
     "output_type": "stream",
     "text": [
      "[0]\tvalidation_0-rmse:50.59199\tvalidation_1-rmse:49.71267\n",
      "[99]\tvalidation_0-rmse:24.98028\tvalidation_1-rmse:31.28260\n",
      "Fold: 1/5 score = 978.28688\n",
      "[0]\tvalidation_0-rmse:50.71941\tvalidation_1-rmse:49.19451\n",
      "[99]\tvalidation_0-rmse:24.97926\tvalidation_1-rmse:30.28105\n",
      "Fold: 2/5 score = 916.94221\n",
      "[0]\tvalidation_0-rmse:50.19814\tvalidation_1-rmse:51.28039\n",
      "[99]\tvalidation_0-rmse:24.87316\tvalidation_1-rmse:31.71773\n",
      "Fold: 3/5 score = 1006.01428\n",
      "[0]\tvalidation_0-rmse:50.03922\tvalidation_1-rmse:51.98444\n",
      "[99]\tvalidation_0-rmse:25.15917\tvalidation_1-rmse:31.53902\n",
      "Fold: 4/5 score = 994.70992\n"
     ]
    },
    {
     "name": "stderr",
     "output_type": "stream",
     "text": [
      "[I 2023-09-01 20:11:18,604] Trial 76 pruned. \n"
     ]
    },
    {
     "name": "stdout",
     "output_type": "stream",
     "text": [
      "[0]\tvalidation_0-rmse:44.65005\tvalidation_1-rmse:44.18682\n",
      "[62]\tvalidation_0-rmse:22.18026\tvalidation_1-rmse:35.38679\n",
      "Fold: 1/5 score = 1083.03090\n",
      "[0]\tvalidation_0-rmse:44.56991\tvalidation_1-rmse:43.06611\n",
      "[57]\tvalidation_0-rmse:23.17837\tvalidation_1-rmse:34.65421\n"
     ]
    },
    {
     "name": "stderr",
     "output_type": "stream",
     "text": [
      "[I 2023-09-01 20:11:27,547] Trial 77 pruned. \n"
     ]
    },
    {
     "name": "stdout",
     "output_type": "stream",
     "text": [
      "Fold: 2/5 score = 1049.83703\n",
      "[0]\tvalidation_0-rmse:51.12823\tvalidation_1-rmse:50.19887\n",
      "[199]\tvalidation_0-rmse:26.98672\tvalidation_1-rmse:31.33746\n",
      "Fold: 1/5 score = 981.69995\n",
      "[0]\tvalidation_0-rmse:51.25697\tvalidation_1-rmse:49.64026\n",
      "[199]\tvalidation_0-rmse:27.26821\tvalidation_1-rmse:30.47147\n",
      "Fold: 2/5 score = 928.51079\n"
     ]
    },
    {
     "name": "stderr",
     "output_type": "stream",
     "text": [
      "[I 2023-09-01 20:12:32,101] Trial 78 pruned. \n"
     ]
    },
    {
     "name": "stdout",
     "output_type": "stream",
     "text": [
      "[0]\tvalidation_0-rmse:47.67700\tvalidation_1-rmse:47.01970\n",
      "[77]\tvalidation_0-rmse:21.06074\tvalidation_1-rmse:32.45909\n",
      "Fold: 1/5 score = 1028.02904\n",
      "[0]\tvalidation_0-rmse:47.69722\tvalidation_1-rmse:46.43664\n",
      "[77]\tvalidation_0-rmse:21.33631\tvalidation_1-rmse:30.96728\n",
      "Fold: 2/5 score = 937.56169\n"
     ]
    },
    {
     "name": "stderr",
     "output_type": "stream",
     "text": [
      "[I 2023-09-01 20:12:44,105] Trial 79 pruned. \n"
     ]
    },
    {
     "name": "stdout",
     "output_type": "stream",
     "text": [
      "[0]\tvalidation_0-rmse:50.51510\tvalidation_1-rmse:49.62810\n",
      "[193]\tvalidation_0-rmse:23.45977\tvalidation_1-rmse:31.35211\n",
      "Fold: 1/5 score = 978.12851\n",
      "[0]\tvalidation_0-rmse:50.62981\tvalidation_1-rmse:49.05645\n",
      "[172]\tvalidation_0-rmse:24.27049\tvalidation_1-rmse:30.13019\n",
      "Fold: 2/5 score = 907.37707\n",
      "[0]\tvalidation_0-rmse:50.07688\tvalidation_1-rmse:51.13616\n",
      "[235]\tvalidation_0-rmse:22.64326\tvalidation_1-rmse:31.41539\n",
      "Fold: 3/5 score = 984.55853\n",
      "[0]\tvalidation_0-rmse:49.99141\tvalidation_1-rmse:51.87190\n",
      "[292]\tvalidation_0-rmse:21.73029\tvalidation_1-rmse:30.73117\n",
      "Fold: 4/5 score = 940.41084\n",
      "[0]\tvalidation_0-rmse:50.39545\tvalidation_1-rmse:50.06565\n",
      "[197]\tvalidation_0-rmse:23.70446\tvalidation_1-rmse:30.09587\n",
      "Fold: 5/5 score = 899.92704\n"
     ]
    },
    {
     "name": "stderr",
     "output_type": "stream",
     "text": [
      "[I 2023-09-01 20:15:58,392] Trial 80 finished with value: 942.0803970888182 and parameters: {'booster': 'dart', 'lambda': 0.0012525497833470744, 'alpha': 0.032229523511966625, 'subsample': 0.3002676094605711, 'colsample_bytree': 0.37243086546608567, 'n_estimators': 400, 'max_depth': 8, 'min_child_weight': 9, 'eta': 0.03062292834583469, 'gamma': 0.047770830220214965, 'grow_policy': 'lossguide', 'sample_type': 'weighted', 'normalize_type': 'forest', 'rate_drop': 1.879189175144061e-06, 'skip_drop': 9.6070715856132e-08}. Best is trial 53 with value: 932.5624282972807.\n"
     ]
    },
    {
     "name": "stdout",
     "output_type": "stream",
     "text": [
      "[0]\tvalidation_0-rmse:50.43610\tvalidation_1-rmse:49.55301\n",
      "[185]\tvalidation_0-rmse:23.48851\tvalidation_1-rmse:30.95505\n",
      "Fold: 1/5 score = 956.01481\n",
      "[0]\tvalidation_0-rmse:50.55268\tvalidation_1-rmse:48.98832\n",
      "[223]\tvalidation_0-rmse:22.88869\tvalidation_1-rmse:30.04988\n",
      "Fold: 2/5 score = 895.65340\n",
      "[0]\tvalidation_0-rmse:49.99949\tvalidation_1-rmse:51.06372\n",
      "[246]\tvalidation_0-rmse:22.23398\tvalidation_1-rmse:31.58312\n",
      "Fold: 3/5 score = 995.15195\n",
      "[0]\tvalidation_0-rmse:49.92195\tvalidation_1-rmse:51.82454\n",
      "[387]\tvalidation_0-rmse:19.81504\tvalidation_1-rmse:31.06457\n",
      "Fold: 4/5 score = 955.56381\n",
      "[0]\tvalidation_0-rmse:50.31496\tvalidation_1-rmse:49.99043\n",
      "[193]\tvalidation_0-rmse:23.28464\tvalidation_1-rmse:29.89630\n",
      "Fold: 5/5 score = 882.77131\n"
     ]
    },
    {
     "name": "stderr",
     "output_type": "stream",
     "text": [
      "[I 2023-09-01 20:20:18,519] Trial 81 finished with value: 937.0310582455595 and parameters: {'booster': 'dart', 'lambda': 0.0015263824847708174, 'alpha': 0.030120030511384156, 'subsample': 0.30253508329642637, 'colsample_bytree': 0.38119934636779024, 'n_estimators': 400, 'max_depth': 8, 'min_child_weight': 9, 'eta': 0.03288976973540381, 'gamma': 0.012360658054097091, 'grow_policy': 'lossguide', 'sample_type': 'weighted', 'normalize_type': 'forest', 'rate_drop': 1.7575713618196446e-07, 'skip_drop': 9.675506109933554e-08}. Best is trial 53 with value: 932.5624282972807.\n"
     ]
    },
    {
     "name": "stdout",
     "output_type": "stream",
     "text": [
      "[0]\tvalidation_0-rmse:51.05470\tvalidation_1-rmse:50.12567\n",
      "[299]\tvalidation_0-rmse:24.21751\tvalidation_1-rmse:31.02823\n",
      "Fold: 1/5 score = 961.97171\n",
      "[0]\tvalidation_0-rmse:51.18128\tvalidation_1-rmse:49.55720\n",
      "[299]\tvalidation_0-rmse:24.61635\tvalidation_1-rmse:29.92194\n",
      "Fold: 2/5 score = 892.79589\n",
      "[0]\tvalidation_0-rmse:50.66070\tvalidation_1-rmse:51.68343\n",
      "[299]\tvalidation_0-rmse:24.16976\tvalidation_1-rmse:31.34209\n",
      "Fold: 3/5 score = 982.26019\n",
      "[0]\tvalidation_0-rmse:50.47688\tvalidation_1-rmse:52.39218\n",
      "[299]\tvalidation_0-rmse:24.38906\tvalidation_1-rmse:30.86971\n",
      "Fold: 4/5 score = 951.85714\n",
      "[0]\tvalidation_0-rmse:50.91328\tvalidation_1-rmse:50.59974\n",
      "[299]\tvalidation_0-rmse:24.40469\tvalidation_1-rmse:29.86359\n",
      "Fold: 5/5 score = 891.83394\n"
     ]
    },
    {
     "name": "stderr",
     "output_type": "stream",
     "text": [
      "[I 2023-09-01 20:25:57,772] Trial 82 finished with value: 936.1437749104416 and parameters: {'booster': 'dart', 'lambda': 0.00023319744159290315, 'alpha': 0.014375237654326977, 'subsample': 0.3716191074869337, 'colsample_bytree': 0.3095101822124472, 'n_estimators': 300, 'max_depth': 8, 'min_child_weight': 10, 'eta': 0.015082280853954608, 'gamma': 0.011529157977977786, 'grow_policy': 'lossguide', 'sample_type': 'weighted', 'normalize_type': 'forest', 'rate_drop': 1.54085228067407e-07, 'skip_drop': 2.1816844723947247e-08}. Best is trial 53 with value: 932.5624282972807.\n"
     ]
    },
    {
     "name": "stdout",
     "output_type": "stream",
     "text": [
      "[0]\tvalidation_0-rmse:50.29887\tvalidation_1-rmse:49.40038\n",
      "[246]\tvalidation_0-rmse:20.16739\tvalidation_1-rmse:31.21956\n",
      "Fold: 1/5 score = 964.19637\n",
      "[0]\tvalidation_0-rmse:50.45503\tvalidation_1-rmse:48.84698\n",
      "[164]\tvalidation_0-rmse:22.67064\tvalidation_1-rmse:30.24997\n",
      "Fold: 2/5 score = 904.43604\n",
      "[0]\tvalidation_0-rmse:49.90261\tvalidation_1-rmse:50.98587\n",
      "[207]\tvalidation_0-rmse:21.40872\tvalidation_1-rmse:31.27574\n",
      "Fold: 3/5 score = 972.81573\n",
      "[0]\tvalidation_0-rmse:49.69954\tvalidation_1-rmse:51.69516\n",
      "[189]\tvalidation_0-rmse:22.14566\tvalidation_1-rmse:31.26085\n",
      "Fold: 4/5 score = 962.98895\n",
      "[0]\tvalidation_0-rmse:50.17320\tvalidation_1-rmse:49.86654\n",
      "[163]\tvalidation_0-rmse:22.72677\tvalidation_1-rmse:29.57397\n",
      "Fold: 5/5 score = 872.95878\n"
     ]
    },
    {
     "name": "stderr",
     "output_type": "stream",
     "text": [
      "[I 2023-09-01 20:28:26,860] Trial 83 finished with value: 935.479175035752 and parameters: {'booster': 'dart', 'lambda': 0.0007349368847491996, 'alpha': 0.013930746781147066, 'subsample': 0.3608512379699995, 'colsample_bytree': 0.2981309813715226, 'n_estimators': 400, 'max_depth': 8, 'min_child_weight': 8, 'eta': 0.03960252590981709, 'gamma': 0.011998229199817686, 'grow_policy': 'lossguide', 'sample_type': 'weighted', 'normalize_type': 'forest', 'rate_drop': 7.196543668886236e-07, 'skip_drop': 2.01087724952507e-08}. Best is trial 53 with value: 932.5624282972807.\n"
     ]
    },
    {
     "name": "stdout",
     "output_type": "stream",
     "text": [
      "[0]\tvalidation_0-rmse:51.10918\tvalidation_1-rmse:50.19818\n",
      "[399]\tvalidation_0-rmse:22.95904\tvalidation_1-rmse:30.95651\n",
      "Fold: 1/5 score = 957.73749\n",
      "[0]\tvalidation_0-rmse:51.24514\tvalidation_1-rmse:49.60587\n",
      "[399]\tvalidation_0-rmse:23.37186\tvalidation_1-rmse:30.02405\n",
      "Fold: 2/5 score = 899.79320\n",
      "[0]\tvalidation_0-rmse:50.69798\tvalidation_1-rmse:51.72222\n",
      "[399]\tvalidation_0-rmse:23.04961\tvalidation_1-rmse:31.31426\n",
      "Fold: 3/5 score = 980.16525\n",
      "[0]\tvalidation_0-rmse:50.52549\tvalidation_1-rmse:52.45018\n",
      "[399]\tvalidation_0-rmse:23.02823\tvalidation_1-rmse:30.80688\n",
      "Fold: 4/5 score = 949.02446\n",
      "[0]\tvalidation_0-rmse:50.96767\tvalidation_1-rmse:50.64382\n",
      "[399]\tvalidation_0-rmse:23.27336\tvalidation_1-rmse:29.76400\n",
      "Fold: 5/5 score = 885.67965\n"
     ]
    },
    {
     "name": "stderr",
     "output_type": "stream",
     "text": [
      "[I 2023-09-01 20:38:20,615] Trial 84 finished with value: 934.4800110068563 and parameters: {'booster': 'dart', 'lambda': 0.0043622587704669645, 'alpha': 0.013570258642993629, 'subsample': 0.371160938780538, 'colsample_bytree': 0.2957717531508905, 'n_estimators': 400, 'max_depth': 8, 'min_child_weight': 8, 'eta': 0.013584006936003439, 'gamma': 0.010799367767467245, 'grow_policy': 'lossguide', 'sample_type': 'weighted', 'normalize_type': 'forest', 'rate_drop': 6.762366934599711e-07, 'skip_drop': 1.8001157054929138e-08}. Best is trial 53 with value: 932.5624282972807.\n"
     ]
    },
    {
     "name": "stdout",
     "output_type": "stream",
     "text": [
      "[0]\tvalidation_0-rmse:51.40272\tvalidation_1-rmse:50.44682\n",
      "[399]\tvalidation_0-rmse:29.32222\tvalidation_1-rmse:32.55886\n",
      "Fold: 1/5 score = 1060.07954\n",
      "[0]\tvalidation_0-rmse:51.53520\tvalidation_1-rmse:49.87958\n",
      "[399]\tvalidation_0-rmse:29.53961\tvalidation_1-rmse:31.62355\n",
      "Fold: 2/5 score = 1000.04874\n"
     ]
    },
    {
     "name": "stderr",
     "output_type": "stream",
     "text": [
      "[I 2023-09-01 20:42:16,471] Trial 85 pruned. \n"
     ]
    },
    {
     "name": "stdout",
     "output_type": "stream",
     "text": [
      "[0]\tvalidation_0-rmse:51.12235\tvalidation_1-rmse:50.20207\n",
      "[499]\tvalidation_0-rmse:21.54396\tvalidation_1-rmse:30.82287\n",
      "Fold: 1/5 score = 948.25135\n",
      "[0]\tvalidation_0-rmse:51.25663\tvalidation_1-rmse:49.60928\n",
      "[499]\tvalidation_0-rmse:21.99393\tvalidation_1-rmse:29.84328\n",
      "Fold: 2/5 score = 890.59358\n",
      "[0]\tvalidation_0-rmse:50.72389\tvalidation_1-rmse:51.74804\n",
      "[499]\tvalidation_0-rmse:21.79935\tvalidation_1-rmse:31.23677\n",
      "Fold: 3/5 score = 974.59757\n",
      "[0]\tvalidation_0-rmse:50.54321\tvalidation_1-rmse:52.47943\n",
      "[499]\tvalidation_0-rmse:21.93978\tvalidation_1-rmse:30.73111\n",
      "Fold: 4/5 score = 943.88348\n",
      "[0]\tvalidation_0-rmse:50.99650\tvalidation_1-rmse:50.67068\n",
      "[449]\tvalidation_0-rmse:22.42883\tvalidation_1-rmse:29.86283\n",
      "Fold: 5/5 score = 890.43725\n"
     ]
    },
    {
     "name": "stderr",
     "output_type": "stream",
     "text": [
      "[I 2023-09-01 20:57:06,638] Trial 86 finished with value: 929.552645697805 and parameters: {'booster': 'dart', 'lambda': 0.0005703799016250783, 'alpha': 0.00367023034708573, 'subsample': 0.4193233983885576, 'colsample_bytree': 0.2981574974790069, 'n_estimators': 500, 'max_depth': 8, 'min_child_weight': 8, 'eta': 0.012975774043582015, 'gamma': 0.005556218492117751, 'grow_policy': 'lossguide', 'sample_type': 'uniform', 'normalize_type': 'forest', 'rate_drop': 3.359580225438515e-07, 'skip_drop': 1.0398506127991463e-08}. Best is trial 86 with value: 929.552645697805.\n"
     ]
    },
    {
     "name": "stdout",
     "output_type": "stream",
     "text": [
      "[0]\tvalidation_0-rmse:51.32086\tvalidation_1-rmse:50.37739\n",
      "[499]\tvalidation_0-rmse:24.91002\tvalidation_1-rmse:31.14096\n",
      "Fold: 1/5 score = 969.75585\n",
      "[0]\tvalidation_0-rmse:51.45654\tvalidation_1-rmse:49.80143\n",
      "[499]\tvalidation_0-rmse:25.19732\tvalidation_1-rmse:30.06530\n",
      "Fold: 2/5 score = 903.92225\n",
      "[0]\tvalidation_0-rmse:50.92185\tvalidation_1-rmse:51.93769\n",
      "[499]\tvalidation_0-rmse:24.93098\tvalidation_1-rmse:31.52487\n",
      "Fold: 3/5 score = 993.81752\n",
      "[0]\tvalidation_0-rmse:50.73692\tvalidation_1-rmse:52.66359\n",
      "[499]\tvalidation_0-rmse:25.09283\tvalidation_1-rmse:31.34409\n",
      "Fold: 4/5 score = 982.45204\n",
      "[0]\tvalidation_0-rmse:51.19121\tvalidation_1-rmse:50.85800\n",
      "[499]\tvalidation_0-rmse:25.22429\tvalidation_1-rmse:29.91343\n",
      "Fold: 5/5 score = 894.81326\n"
     ]
    },
    {
     "name": "stderr",
     "output_type": "stream",
     "text": [
      "[I 2023-09-01 21:12:26,167] Trial 87 finished with value: 948.9521848110164 and parameters: {'booster': 'dart', 'lambda': 0.0008664976394028239, 'alpha': 0.004581980944267167, 'subsample': 0.3987369822385681, 'colsample_bytree': 0.2848737631532638, 'n_estimators': 500, 'max_depth': 8, 'min_child_weight': 8, 'eta': 0.006536696421956776, 'gamma': 0.006101685068199601, 'grow_policy': 'lossguide', 'sample_type': 'uniform', 'normalize_type': 'tree', 'rate_drop': 3.8445473125867776e-07, 'skip_drop': 1.7374468657196103e-08}. Best is trial 86 with value: 929.552645697805.\n"
     ]
    },
    {
     "name": "stdout",
     "output_type": "stream",
     "text": [
      "[0]\tvalidation_0-rmse:51.16631\tvalidation_1-rmse:50.23155\n",
      "[499]\tvalidation_0-rmse:21.19757\tvalidation_1-rmse:30.72501\n",
      "Fold: 1/5 score = 943.32837\n",
      "[0]\tvalidation_0-rmse:51.29847\tvalidation_1-rmse:49.65554\n",
      "[492]\tvalidation_0-rmse:21.71125\tvalidation_1-rmse:29.84232\n",
      "Fold: 2/5 score = 889.73879\n",
      "[0]\tvalidation_0-rmse:50.76505\tvalidation_1-rmse:51.79209\n",
      "[499]\tvalidation_0-rmse:21.43852\tvalidation_1-rmse:31.32160\n",
      "Fold: 3/5 score = 980.41899\n",
      "[0]\tvalidation_0-rmse:50.58629\tvalidation_1-rmse:52.52558\n",
      "[499]\tvalidation_0-rmse:21.51832\tvalidation_1-rmse:30.90290\n",
      "Fold: 4/5 score = 954.44539\n",
      "[0]\tvalidation_0-rmse:51.02980\tvalidation_1-rmse:50.71486\n",
      "[450]\tvalidation_0-rmse:22.14556\tvalidation_1-rmse:29.86123\n",
      "Fold: 5/5 score = 889.93512\n"
     ]
    },
    {
     "name": "stderr",
     "output_type": "stream",
     "text": [
      "[I 2023-09-01 21:26:44,880] Trial 88 finished with value: 931.5733361980294 and parameters: {'booster': 'dart', 'lambda': 0.0027302786652353183, 'alpha': 0.0024986587771243293, 'subsample': 0.4108960314779341, 'colsample_bytree': 0.2992547547544783, 'n_estimators': 500, 'max_depth': 9, 'min_child_weight': 8, 'eta': 0.011504915408983678, 'gamma': 0.004669965113269084, 'grow_policy': 'lossguide', 'sample_type': 'uniform', 'normalize_type': 'forest', 'rate_drop': 2.2678655221226444e-06, 'skip_drop': 1.0609327905782781e-08}. Best is trial 86 with value: 929.552645697805.\n"
     ]
    },
    {
     "name": "stdout",
     "output_type": "stream",
     "text": [
      "[0]\tvalidation_0-rmse:51.11499\tvalidation_1-rmse:50.19239\n",
      "[499]\tvalidation_0-rmse:20.43742\tvalidation_1-rmse:30.89415\n",
      "Fold: 1/5 score = 954.24995\n",
      "[0]\tvalidation_0-rmse:51.25005\tvalidation_1-rmse:49.60986\n",
      "[499]\tvalidation_0-rmse:20.88465\tvalidation_1-rmse:29.82458\n",
      "Fold: 2/5 score = 887.92398\n",
      "[0]\tvalidation_0-rmse:50.71224\tvalidation_1-rmse:51.76454\n",
      "[499]\tvalidation_0-rmse:20.73043\tvalidation_1-rmse:31.23626\n",
      "Fold: 3/5 score = 974.86314\n",
      "[0]\tvalidation_0-rmse:50.52012\tvalidation_1-rmse:52.44720\n",
      "[456]\tvalidation_0-rmse:21.27538\tvalidation_1-rmse:30.84589\n",
      "Fold: 4/5 score = 949.92292\n",
      "[0]\tvalidation_0-rmse:50.97633\tvalidation_1-rmse:50.65638\n",
      "[441]\tvalidation_0-rmse:21.40280\tvalidation_1-rmse:29.87974\n",
      "Fold: 5/5 score = 890.16569\n"
     ]
    },
    {
     "name": "stderr",
     "output_type": "stream",
     "text": [
      "[I 2023-09-01 21:40:21,273] Trial 89 finished with value: 931.4251361193271 and parameters: {'booster': 'dart', 'lambda': 0.009539554384080011, 'alpha': 0.0024721437767552625, 'subsample': 0.42795871380349065, 'colsample_bytree': 0.2518535624066594, 'n_estimators': 500, 'max_depth': 9, 'min_child_weight': 8, 'eta': 0.013635937578473537, 'gamma': 0.005406747229177928, 'grow_policy': 'lossguide', 'sample_type': 'uniform', 'normalize_type': 'forest', 'rate_drop': 1.9550373837194106e-06, 'skip_drop': 1.2112756836079573e-08}. Best is trial 86 with value: 929.552645697805.\n"
     ]
    },
    {
     "name": "stdout",
     "output_type": "stream",
     "text": [
      "[0]\tvalidation_0-rmse:51.23109\tvalidation_1-rmse:50.30026\n",
      "[499]\tvalidation_0-rmse:21.85868\tvalidation_1-rmse:30.95195\n",
      "Fold: 1/5 score = 958.01907\n",
      "[0]\tvalidation_0-rmse:51.35728\tvalidation_1-rmse:49.71604\n",
      "[499]\tvalidation_0-rmse:22.29706\tvalidation_1-rmse:29.69389\n",
      "Fold: 2/5 score = 881.64350\n",
      "[0]\tvalidation_0-rmse:50.83383\tvalidation_1-rmse:51.85923\n",
      "[499]\tvalidation_0-rmse:21.98204\tvalidation_1-rmse:31.32590\n",
      "Fold: 3/5 score = 980.60562\n",
      "[0]\tvalidation_0-rmse:50.64599\tvalidation_1-rmse:52.59252\n",
      "[499]\tvalidation_0-rmse:22.14739\tvalidation_1-rmse:30.87037\n",
      "Fold: 4/5 score = 952.72353\n",
      "[0]\tvalidation_0-rmse:51.09974\tvalidation_1-rmse:50.78243\n",
      "[499]\tvalidation_0-rmse:22.20282\tvalidation_1-rmse:29.72284\n",
      "Fold: 5/5 score = 883.44721\n"
     ]
    },
    {
     "name": "stderr",
     "output_type": "stream",
     "text": [
      "[I 2023-09-01 21:55:21,581] Trial 90 finished with value: 931.2877859437701 and parameters: {'booster': 'dart', 'lambda': 0.007943620248825669, 'alpha': 0.002473655905468042, 'subsample': 0.4216112536511683, 'colsample_bytree': 0.2704021666692326, 'n_estimators': 500, 'max_depth': 9, 'min_child_weight': 7, 'eta': 0.009350578844990236, 'gamma': 0.004179020854025855, 'grow_policy': 'lossguide', 'sample_type': 'uniform', 'normalize_type': 'forest', 'rate_drop': 7.92150259653032e-06, 'skip_drop': 1.204199139703017e-08}. Best is trial 86 with value: 929.552645697805.\n"
     ]
    },
    {
     "name": "stdout",
     "output_type": "stream",
     "text": [
      "[0]\tvalidation_0-rmse:51.20196\tvalidation_1-rmse:50.26907\n",
      "[482]\tvalidation_0-rmse:21.97809\tvalidation_1-rmse:30.96137\n",
      "Fold: 1/5 score = 957.46601\n",
      "[0]\tvalidation_0-rmse:51.33233\tvalidation_1-rmse:49.68219\n",
      "[499]\tvalidation_0-rmse:22.16847\tvalidation_1-rmse:29.93994\n",
      "Fold: 2/5 score = 894.70893\n",
      "[0]\tvalidation_0-rmse:50.80348\tvalidation_1-rmse:51.83604\n",
      "[499]\tvalidation_0-rmse:21.87435\tvalidation_1-rmse:31.34952\n",
      "Fold: 3/5 score = 981.89911\n",
      "[0]\tvalidation_0-rmse:50.60950\tvalidation_1-rmse:52.53887\n",
      "[499]\tvalidation_0-rmse:22.18787\tvalidation_1-rmse:30.87723\n",
      "Fold: 4/5 score = 952.81702\n",
      "[0]\tvalidation_0-rmse:51.06547\tvalidation_1-rmse:50.74060\n",
      "[463]\tvalidation_0-rmse:22.40047\tvalidation_1-rmse:29.66551\n",
      "Fold: 5/5 score = 879.69226\n"
     ]
    },
    {
     "name": "stderr",
     "output_type": "stream",
     "text": [
      "[I 2023-09-01 22:09:50,654] Trial 91 finished with value: 933.316667533684 and parameters: {'booster': 'dart', 'lambda': 0.009694878774638444, 'alpha': 0.002126290476209637, 'subsample': 0.42436186167789663, 'colsample_bytree': 0.245071343018877, 'n_estimators': 500, 'max_depth': 9, 'min_child_weight': 8, 'eta': 0.010739188165481662, 'gamma': 0.003944719433091942, 'grow_policy': 'lossguide', 'sample_type': 'uniform', 'normalize_type': 'forest', 'rate_drop': 7.881282104912074e-06, 'skip_drop': 1.1316403146253046e-08}. Best is trial 86 with value: 929.552645697805.\n"
     ]
    },
    {
     "name": "stdout",
     "output_type": "stream",
     "text": [
      "[0]\tvalidation_0-rmse:51.21549\tvalidation_1-rmse:50.28534\n",
      "[499]\tvalidation_0-rmse:21.48000\tvalidation_1-rmse:30.93334\n",
      "Fold: 1/5 score = 956.32274\n",
      "[0]\tvalidation_0-rmse:51.34193\tvalidation_1-rmse:49.69479\n",
      "[499]\tvalidation_0-rmse:21.92678\tvalidation_1-rmse:29.85720\n",
      "Fold: 2/5 score = 891.14800\n",
      "[0]\tvalidation_0-rmse:50.81198\tvalidation_1-rmse:51.84179\n",
      "[499]\tvalidation_0-rmse:21.58060\tvalidation_1-rmse:31.45060\n",
      "Fold: 3/5 score = 988.75383\n",
      "[0]\tvalidation_0-rmse:50.61963\tvalidation_1-rmse:52.54898\n",
      "[499]\tvalidation_0-rmse:21.72912\tvalidation_1-rmse:30.98990\n",
      "Fold: 4/5 score = 960.37371\n"
     ]
    },
    {
     "name": "stderr",
     "output_type": "stream",
     "text": [
      "[I 2023-09-01 22:21:52,823] Trial 92 pruned. \n"
     ]
    },
    {
     "name": "stdout",
     "output_type": "stream",
     "text": [
      "[0]\tvalidation_0-rmse:51.46730\tvalidation_1-rmse:50.51067\n",
      "[499]\tvalidation_0-rmse:33.57271\tvalidation_1-rmse:35.78844\n",
      "Fold: 1/5 score = 1280.81214\n",
      "[0]\tvalidation_0-rmse:51.60307\tvalidation_1-rmse:49.94700\n",
      "[499]\tvalidation_0-rmse:33.77106\tvalidation_1-rmse:34.98751\n",
      "Fold: 2/5 score = 1224.12611\n"
     ]
    },
    {
     "name": "stderr",
     "output_type": "stream",
     "text": [
      "[I 2023-09-01 22:27:46,308] Trial 93 pruned. \n"
     ]
    },
    {
     "name": "stdout",
     "output_type": "stream",
     "text": [
      "[0]\tvalidation_0-rmse:51.40272\tvalidation_1-rmse:50.45326\n",
      "[599]\tvalidation_0-rmse:25.63787\tvalidation_1-rmse:31.49433\n",
      "Fold: 1/5 score = 991.89309\n",
      "[0]\tvalidation_0-rmse:51.53932\tvalidation_1-rmse:49.88530\n",
      "[599]\tvalidation_0-rmse:25.88425\tvalidation_1-rmse:30.44455\n",
      "Fold: 2/5 score = 926.87062\n",
      "[0]\tvalidation_0-rmse:51.01124\tvalidation_1-rmse:52.01374\n",
      "[599]\tvalidation_0-rmse:25.57603\tvalidation_1-rmse:32.10044\n",
      "Fold: 3/5 score = 1030.43813\n",
      "[0]\tvalidation_0-rmse:50.82491\tvalidation_1-rmse:52.74745\n",
      "[599]\tvalidation_0-rmse:25.77533\tvalidation_1-rmse:31.87186\n",
      "Fold: 4/5 score = 1015.81519\n"
     ]
    },
    {
     "name": "stderr",
     "output_type": "stream",
     "text": [
      "[I 2023-09-01 22:44:53,503] Trial 94 pruned. \n"
     ]
    },
    {
     "name": "stdout",
     "output_type": "stream",
     "text": [
      "[0]\tvalidation_0-rmse:51.31487\tvalidation_1-rmse:50.36971\n",
      "[499]\tvalidation_0-rmse:24.10029\tvalidation_1-rmse:31.10134\n",
      "Fold: 1/5 score = 967.28404\n",
      "[0]\tvalidation_0-rmse:51.44752\tvalidation_1-rmse:49.80112\n",
      "[499]\tvalidation_0-rmse:24.43966\tvalidation_1-rmse:29.95137\n",
      "Fold: 2/5 score = 897.08469\n",
      "[0]\tvalidation_0-rmse:50.91241\tvalidation_1-rmse:51.92889\n",
      "[499]\tvalidation_0-rmse:24.17358\tvalidation_1-rmse:31.45651\n",
      "Fold: 3/5 score = 989.40033\n",
      "[0]\tvalidation_0-rmse:50.72328\tvalidation_1-rmse:52.65447\n",
      "[499]\tvalidation_0-rmse:24.26476\tvalidation_1-rmse:31.16179\n",
      "Fold: 4/5 score = 971.05708\n"
     ]
    },
    {
     "name": "stderr",
     "output_type": "stream",
     "text": [
      "[I 2023-09-01 22:57:17,876] Trial 95 pruned. \n"
     ]
    },
    {
     "name": "stdout",
     "output_type": "stream",
     "text": [
      "[0]\tvalidation_0-rmse:51.16495\tvalidation_1-rmse:50.23977\n",
      "[589]\tvalidation_0-rmse:19.63302\tvalidation_1-rmse:30.76511\n",
      "Fold: 1/5 score = 946.15208\n",
      "[0]\tvalidation_0-rmse:51.29853\tvalidation_1-rmse:49.64609\n",
      "[483]\tvalidation_0-rmse:21.22225\tvalidation_1-rmse:29.81431\n",
      "Fold: 2/5 score = 887.64146\n",
      "[0]\tvalidation_0-rmse:50.76328\tvalidation_1-rmse:51.79304\n",
      "[599]\tvalidation_0-rmse:19.78346\tvalidation_1-rmse:31.23859\n",
      "Fold: 3/5 score = 975.16514\n",
      "[0]\tvalidation_0-rmse:50.56505\tvalidation_1-rmse:52.50067\n",
      "[599]\tvalidation_0-rmse:19.99406\tvalidation_1-rmse:30.97211\n",
      "Fold: 4/5 score = 959.19849\n"
     ]
    },
    {
     "name": "stderr",
     "output_type": "stream",
     "text": [
      "[I 2023-09-01 23:13:11,320] Trial 96 pruned. \n"
     ]
    },
    {
     "name": "stdout",
     "output_type": "stream",
     "text": [
      "[0]\tvalidation_0-rmse:51.11232\tvalidation_1-rmse:50.19268\n",
      "[499]\tvalidation_0-rmse:20.42479\tvalidation_1-rmse:31.03081\n",
      "Fold: 1/5 score = 962.79334\n",
      "[0]\tvalidation_0-rmse:51.24441\tvalidation_1-rmse:49.62778\n",
      "[474]\tvalidation_0-rmse:21.18636\tvalidation_1-rmse:29.84970\n",
      "Fold: 2/5 score = 889.55386\n",
      "[0]\tvalidation_0-rmse:50.70027\tvalidation_1-rmse:51.72804\n",
      "[499]\tvalidation_0-rmse:20.66872\tvalidation_1-rmse:31.14058\n",
      "Fold: 3/5 score = 969.36995\n",
      "[0]\tvalidation_0-rmse:50.53177\tvalidation_1-rmse:52.46067\n",
      "[483]\tvalidation_0-rmse:20.95691\tvalidation_1-rmse:30.98408\n",
      "Fold: 4/5 score = 959.62030\n",
      "[0]\tvalidation_0-rmse:50.98828\tvalidation_1-rmse:50.65458\n",
      "[422]\tvalidation_0-rmse:21.62137\tvalidation_1-rmse:29.91763\n",
      "Fold: 5/5 score = 894.20311\n"
     ]
    },
    {
     "name": "stderr",
     "output_type": "stream",
     "text": [
      "[I 2023-09-01 23:27:18,818] Trial 97 finished with value: 935.1081109060211 and parameters: {'booster': 'dart', 'lambda': 0.02896794878081653, 'alpha': 0.004613714323477511, 'subsample': 0.4553784752738193, 'colsample_bytree': 0.1950943560986113, 'n_estimators': 500, 'max_depth': 9, 'min_child_weight': 8, 'eta': 0.014170960576870506, 'gamma': 0.002857982570483273, 'grow_policy': 'lossguide', 'sample_type': 'uniform', 'normalize_type': 'forest', 'rate_drop': 1.2754511727182471e-06, 'skip_drop': 4.326482981586113e-08}. Best is trial 86 with value: 929.552645697805.\n"
     ]
    },
    {
     "name": "stdout",
     "output_type": "stream",
     "text": [
      "[0]\tvalidation_0-rmse:50.04810\tvalidation_1-rmse:49.25305\n",
      "[144]\tvalidation_0-rmse:21.09577\tvalidation_1-rmse:31.47470\n",
      "Fold: 1/5 score = 984.13185\n",
      "[0]\tvalidation_0-rmse:50.13497\tvalidation_1-rmse:48.55625\n",
      "[138]\tvalidation_0-rmse:21.53565\tvalidation_1-rmse:30.22681\n",
      "Fold: 2/5 score = 904.51881\n"
     ]
    },
    {
     "name": "stderr",
     "output_type": "stream",
     "text": [
      "[I 2023-09-01 23:27:55,211] Trial 98 pruned. \n"
     ]
    },
    {
     "name": "stdout",
     "output_type": "stream",
     "text": [
      "[0]\tvalidation_0-rmse:51.34379\tvalidation_1-rmse:50.40135\n",
      "[499]\tvalidation_0-rmse:24.08906\tvalidation_1-rmse:31.22919\n",
      "Fold: 1/5 score = 975.26256\n",
      "[0]\tvalidation_0-rmse:51.48185\tvalidation_1-rmse:49.82744\n",
      "[499]\tvalidation_0-rmse:24.32269\tvalidation_1-rmse:30.06740\n",
      "Fold: 2/5 score = 904.04879\n",
      "[0]\tvalidation_0-rmse:50.95251\tvalidation_1-rmse:51.95908\n",
      "[499]\tvalidation_0-rmse:23.97406\tvalidation_1-rmse:31.66314\n",
      "Fold: 3/5 score = 1002.55442\n",
      "[0]\tvalidation_0-rmse:50.76468\tvalidation_1-rmse:52.69312\n",
      "[499]\tvalidation_0-rmse:24.25814\tvalidation_1-rmse:31.42225\n",
      "Fold: 4/5 score = 987.35776\n"
     ]
    },
    {
     "name": "stderr",
     "output_type": "stream",
     "text": [
      "[I 2023-09-01 23:40:31,045] Trial 99 pruned. \n"
     ]
    }
   ],
   "source": [
    "study = optuna.create_study(\n",
    "    sampler=TPESampler(seed=RANDOM_SEED),\n",
    "    direction='minimize',\n",
    "    study_name='xgb_tuning',\n",
    "    pruner=HyperbandPruner(\n",
    "        min_resource=1, max_resource=8, reduction_factor=3\n",
    "    ),\n",
    ")\n",
    "\n",
    "study.optimize(objective_xgb, n_trials=100)"
   ]
  },
  {
   "cell_type": "code",
   "execution_count": 9,
   "metadata": {},
   "outputs": [],
   "source": [
    "trial = study.best_trial"
   ]
  },
  {
   "cell_type": "code",
   "execution_count": 10,
   "metadata": {},
   "outputs": [
    {
     "name": "stdout",
     "output_type": "stream",
     "text": [
      "{'booster': 'dart', 'lambda': 0.0005703799016250783, 'alpha': 0.00367023034708573, 'subsample': 0.4193233983885576, 'colsample_bytree': 0.2981574974790069, 'n_estimators': 500, 'max_depth': 8, 'min_child_weight': 8, 'eta': 0.012975774043582015, 'gamma': 0.005556218492117751, 'grow_policy': 'lossguide', 'sample_type': 'uniform', 'normalize_type': 'forest', 'rate_drop': 3.359580225438515e-07, 'skip_drop': 1.0398506127991463e-08}\n"
     ]
    }
   ],
   "source": [
    "print(trial.params)"
   ]
  },
  {
   "cell_type": "code",
   "execution_count": 11,
   "metadata": {},
   "outputs": [
    {
     "name": "stdout",
     "output_type": "stream",
     "text": [
      "[0]\tvalidation_0-rmse:51.12235\tvalidation_1-rmse:50.20207\n",
      "[499]\tvalidation_0-rmse:21.54396\tvalidation_1-rmse:30.82287\n",
      "Fold: 1/5 score = 948.25135\n",
      "[0]\tvalidation_0-rmse:51.25663\tvalidation_1-rmse:49.60928\n",
      "[499]\tvalidation_0-rmse:21.99393\tvalidation_1-rmse:29.84328\n",
      "Fold: 2/5 score = 890.59358\n",
      "[0]\tvalidation_0-rmse:50.72389\tvalidation_1-rmse:51.74804\n",
      "[499]\tvalidation_0-rmse:21.79935\tvalidation_1-rmse:31.23677\n",
      "Fold: 3/5 score = 974.59757\n",
      "[0]\tvalidation_0-rmse:50.54321\tvalidation_1-rmse:52.47943\n",
      "[499]\tvalidation_0-rmse:21.93978\tvalidation_1-rmse:30.73111\n",
      "Fold: 4/5 score = 943.88348\n",
      "[0]\tvalidation_0-rmse:50.99650\tvalidation_1-rmse:50.67068\n",
      "[449]\tvalidation_0-rmse:22.42883\tvalidation_1-rmse:29.86283\n",
      "Fold: 5/5 score = 890.43725\n"
     ]
    }
   ],
   "source": [
    "best_param = {\n",
    "  'booster': 'dart',\n",
    "  'lambda': 0.0005703799016250783,\n",
    "  'alpha': 0.00367023034708573,\n",
    "  'subsample': 0.4193233983885576,\n",
    "  'colsample_bytree': 0.2981574974790069,\n",
    "  'n_estimators': 500,\n",
    "  'max_depth': 8,\n",
    "  'min_child_weight': 8,\n",
    "  'eta': 0.012975774043582015,\n",
    "  'gamma': 0.005556218492117751,\n",
    "  'grow_policy': 'lossguide',\n",
    "  'sample_type': 'uniform',\n",
    "  'normalize_type': 'forest',\n",
    "  'rate_drop': 3.359580225438515e-07,\n",
    "  'skip_drop': 1.0398506127991463e-08\n",
    "}\n",
    "\n",
    "val_scores, y_tests, models = train_model(best_param, train_x, train_y, test_x)"
   ]
  },
  {
   "cell_type": "code",
   "execution_count": 12,
   "metadata": {},
   "outputs": [],
   "source": [
    "for idx, model in enumerate(models):\n",
    "  model.save_model(f\"./model/xgboost_MLM_fold_{idx}.model\")"
   ]
  },
  {
   "cell_type": "code",
   "execution_count": null,
   "metadata": {},
   "outputs": [],
   "source": [
    "# importance = models[-1].get_booster().get_score(importance_type=\"weight\")\n",
    "# tuples = [(k, importance[k]) for k in importance]\n",
    "# tuples.sort(key=lambda x: x[1])\n",
    "\n",
    "# label, values = zip(*tuples)\n",
    "\n",
    "# plt.rcParams[\"font.family\"] = \"MalGun Gothic\"\n",
    "# plt.figure(figsize=(10, 12))\n",
    "# plt.barh(label[:100], values[:100])\n",
    "# plt.show()"
   ]
  },
  {
   "cell_type": "code",
   "execution_count": 13,
   "metadata": {},
   "outputs": [],
   "source": [
    "submit = pd.read_csv(\"./xgboost_optuna_v1.csv\")\n",
    "submit[\"MLM\"] = np.mean(y_tests, axis=0)\n",
    "submit.to_csv(\"xgboost_optuna_v1.csv\", index=False)"
   ]
  },
  {
   "cell_type": "code",
   "execution_count": null,
   "metadata": {},
   "outputs": [],
   "source": []
  }
 ],
 "metadata": {
  "kernelspec": {
   "display_name": "신약개발-mImSxWNo",
   "language": "python",
   "name": "python3"
  },
  "language_info": {
   "codemirror_mode": {
    "name": "ipython",
    "version": 3
   },
   "file_extension": ".py",
   "mimetype": "text/x-python",
   "name": "python",
   "nbconvert_exporter": "python",
   "pygments_lexer": "ipython3",
   "version": "3.10.11"
  },
  "orig_nbformat": 4
 },
 "nbformat": 4,
 "nbformat_minor": 2
}
